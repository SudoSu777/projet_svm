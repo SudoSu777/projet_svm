{
 "cells": [
  {
   "cell_type": "markdown",
   "metadata": {},
   "source": [
    "# Requierement "
   ]
  },
  {
   "cell_type": "code",
   "execution_count": 31,
   "metadata": {},
   "outputs": [
    {
     "name": "stdout",
     "output_type": "stream",
     "text": [
      "Requirement already satisfied: pandas in /home/sudosu777/anaconda3/lib/python3.7/site-packages (1.0.1)\n",
      "Requirement already satisfied: numpy>=1.13.3 in /home/sudosu777/anaconda3/lib/python3.7/site-packages (from pandas) (1.18.1)\n",
      "Requirement already satisfied: python-dateutil>=2.6.1 in /home/sudosu777/anaconda3/lib/python3.7/site-packages (from pandas) (2.8.1)\n",
      "Requirement already satisfied: pytz>=2017.2 in /home/sudosu777/anaconda3/lib/python3.7/site-packages (from pandas) (2019.3)\n",
      "Requirement already satisfied: six>=1.5 in /home/sudosu777/anaconda3/lib/python3.7/site-packages (from python-dateutil>=2.6.1->pandas) (1.14.0)\n",
      "Requirement already satisfied: seaborn in /home/sudosu777/anaconda3/lib/python3.7/site-packages (0.10.0)\n",
      "Requirement already satisfied: pandas>=0.22.0 in /home/sudosu777/anaconda3/lib/python3.7/site-packages (from seaborn) (1.0.1)\n",
      "Requirement already satisfied: matplotlib>=2.1.2 in /home/sudosu777/anaconda3/lib/python3.7/site-packages (from seaborn) (3.1.3)\n",
      "Requirement already satisfied: scipy>=1.0.1 in /home/sudosu777/anaconda3/lib/python3.7/site-packages (from seaborn) (1.4.1)\n",
      "Requirement already satisfied: numpy>=1.13.3 in /home/sudosu777/anaconda3/lib/python3.7/site-packages (from seaborn) (1.18.1)\n",
      "Requirement already satisfied: pytz>=2017.2 in /home/sudosu777/anaconda3/lib/python3.7/site-packages (from pandas>=0.22.0->seaborn) (2019.3)\n",
      "Requirement already satisfied: python-dateutil>=2.6.1 in /home/sudosu777/anaconda3/lib/python3.7/site-packages (from pandas>=0.22.0->seaborn) (2.8.1)\n",
      "Requirement already satisfied: cycler>=0.10 in /home/sudosu777/anaconda3/lib/python3.7/site-packages (from matplotlib>=2.1.2->seaborn) (0.10.0)\n",
      "Requirement already satisfied: pyparsing!=2.0.4,!=2.1.2,!=2.1.6,>=2.0.1 in /home/sudosu777/anaconda3/lib/python3.7/site-packages (from matplotlib>=2.1.2->seaborn) (2.4.6)\n",
      "Requirement already satisfied: kiwisolver>=1.0.1 in /home/sudosu777/anaconda3/lib/python3.7/site-packages (from matplotlib>=2.1.2->seaborn) (1.1.0)\n",
      "Requirement already satisfied: six>=1.5 in /home/sudosu777/anaconda3/lib/python3.7/site-packages (from python-dateutil>=2.6.1->pandas>=0.22.0->seaborn) (1.14.0)\n",
      "Requirement already satisfied: setuptools in /home/sudosu777/anaconda3/lib/python3.7/site-packages (from kiwisolver>=1.0.1->matplotlib>=2.1.2->seaborn) (45.2.0.post20200210)\n",
      "Requirement already satisfied: plotly_express in /home/sudosu777/anaconda3/lib/python3.7/site-packages (0.4.1)\n",
      "Requirement already satisfied: plotly>=4.1.0 in /home/sudosu777/anaconda3/lib/python3.7/site-packages (from plotly_express) (5.2.1)\n",
      "Requirement already satisfied: numpy>=1.11 in /home/sudosu777/anaconda3/lib/python3.7/site-packages (from plotly_express) (1.18.1)\n",
      "Requirement already satisfied: pandas>=0.20.0 in /home/sudosu777/anaconda3/lib/python3.7/site-packages (from plotly_express) (1.0.1)\n",
      "Requirement already satisfied: patsy>=0.5 in /home/sudosu777/anaconda3/lib/python3.7/site-packages (from plotly_express) (0.5.1)\n",
      "Requirement already satisfied: scipy>=0.18 in /home/sudosu777/anaconda3/lib/python3.7/site-packages (from plotly_express) (1.4.1)\n",
      "Requirement already satisfied: statsmodels>=0.9.0 in /home/sudosu777/anaconda3/lib/python3.7/site-packages (from plotly_express) (0.11.0)\n",
      "Requirement already satisfied: tenacity>=6.2.0 in /home/sudosu777/anaconda3/lib/python3.7/site-packages (from plotly>=4.1.0->plotly_express) (8.0.1)\n",
      "Requirement already satisfied: six in /home/sudosu777/anaconda3/lib/python3.7/site-packages (from plotly>=4.1.0->plotly_express) (1.14.0)\n",
      "Requirement already satisfied: python-dateutil>=2.6.1 in /home/sudosu777/anaconda3/lib/python3.7/site-packages (from pandas>=0.20.0->plotly_express) (2.8.1)\n",
      "Requirement already satisfied: pytz>=2017.2 in /home/sudosu777/anaconda3/lib/python3.7/site-packages (from pandas>=0.20.0->plotly_express) (2019.3)\n"
     ]
    }
   ],
   "source": [
    "!pip install pandas\n",
    "!pip install seaborn\n",
    "!pip install plotly_express"
   ]
  },
  {
   "cell_type": "markdown",
   "metadata": {},
   "source": [
    "# Library"
   ]
  },
  {
   "cell_type": "code",
   "execution_count": 32,
   "metadata": {},
   "outputs": [],
   "source": [
    "import pandas as PD\n",
    "import seaborn as SB\n",
    "import plotly_express as PX"
   ]
  },
  {
   "cell_type": "markdown",
   "metadata": {},
   "source": [
    "Importation des données"
   ]
  },
  {
   "cell_type": "code",
   "execution_count": 33,
   "metadata": {},
   "outputs": [],
   "source": [
    "german = PD.read_csv(\"/home/sudosu777/Téléchargements/Notebooks/german_credit_data.csv\")"
   ]
  },
  {
   "cell_type": "markdown",
   "metadata": {},
   "source": [
    "Dimenssions du jeux de données"
   ]
  },
  {
   "cell_type": "code",
   "execution_count": 12,
   "metadata": {},
   "outputs": [
    {
     "data": {
      "text/plain": [
       "(1000, 10)"
      ]
     },
     "execution_count": 12,
     "metadata": {},
     "output_type": "execute_result"
    }
   ],
   "source": [
    "german.shape"
   ]
  },
  {
   "cell_type": "markdown",
   "metadata": {},
   "source": [
    "Nom des colonnes du jeu de données"
   ]
  },
  {
   "cell_type": "code",
   "execution_count": 13,
   "metadata": {},
   "outputs": [
    {
     "data": {
      "text/plain": [
       "Index(['Unnamed: 0', 'Age', 'Sex', 'Job', 'Housing', 'Saving accounts',\n",
       "       'Checking account', 'Credit amount', 'Duration', 'Purpose'],\n",
       "      dtype='object')"
      ]
     },
     "execution_count": 13,
     "metadata": {},
     "output_type": "execute_result"
    }
   ],
   "source": [
    "german.columns"
   ]
  },
  {
   "cell_type": "markdown",
   "metadata": {},
   "source": [
    "Type des différentes colonnes"
   ]
  },
  {
   "cell_type": "code",
   "execution_count": 14,
   "metadata": {},
   "outputs": [
    {
     "data": {
      "text/plain": [
       "Unnamed: 0           int64\n",
       "Age                  int64\n",
       "Sex                 object\n",
       "Job                  int64\n",
       "Housing             object\n",
       "Saving accounts     object\n",
       "Checking account    object\n",
       "Credit amount        int64\n",
       "Duration             int64\n",
       "Purpose             object\n",
       "dtype: object"
      ]
     },
     "execution_count": 14,
     "metadata": {},
     "output_type": "execute_result"
    }
   ],
   "source": [
    "german.dtypes"
   ]
  },
  {
   "cell_type": "code",
   "execution_count": 15,
   "metadata": {},
   "outputs": [
    {
     "name": "stdout",
     "output_type": "stream",
     "text": [
      "<class 'pandas.core.frame.DataFrame'>\n",
      "RangeIndex: 1000 entries, 0 to 999\n",
      "Data columns (total 10 columns):\n",
      " #   Column            Non-Null Count  Dtype \n",
      "---  ------            --------------  ----- \n",
      " 0   Unnamed: 0        1000 non-null   int64 \n",
      " 1   Age               1000 non-null   int64 \n",
      " 2   Sex               1000 non-null   object\n",
      " 3   Job               1000 non-null   int64 \n",
      " 4   Housing           1000 non-null   object\n",
      " 5   Saving accounts   817 non-null    object\n",
      " 6   Checking account  606 non-null    object\n",
      " 7   Credit amount     1000 non-null   int64 \n",
      " 8   Duration          1000 non-null   int64 \n",
      " 9   Purpose           1000 non-null   object\n",
      "dtypes: int64(5), object(5)\n",
      "memory usage: 78.2+ KB\n"
     ]
    }
   ],
   "source": [
    "german.info()"
   ]
  },
  {
   "cell_type": "code",
   "execution_count": 16,
   "metadata": {},
   "outputs": [
    {
     "data": {
      "text/html": [
       "<div>\n",
       "<style scoped>\n",
       "    .dataframe tbody tr th:only-of-type {\n",
       "        vertical-align: middle;\n",
       "    }\n",
       "\n",
       "    .dataframe tbody tr th {\n",
       "        vertical-align: top;\n",
       "    }\n",
       "\n",
       "    .dataframe thead th {\n",
       "        text-align: right;\n",
       "    }\n",
       "</style>\n",
       "<table border=\"1\" class=\"dataframe\">\n",
       "  <thead>\n",
       "    <tr style=\"text-align: right;\">\n",
       "      <th></th>\n",
       "      <th>Unnamed: 0</th>\n",
       "      <th>Age</th>\n",
       "      <th>Sex</th>\n",
       "      <th>Job</th>\n",
       "      <th>Housing</th>\n",
       "      <th>Saving accounts</th>\n",
       "      <th>Checking account</th>\n",
       "      <th>Credit amount</th>\n",
       "      <th>Duration</th>\n",
       "      <th>Purpose</th>\n",
       "    </tr>\n",
       "  </thead>\n",
       "  <tbody>\n",
       "    <tr>\n",
       "      <th>0</th>\n",
       "      <td>0</td>\n",
       "      <td>67</td>\n",
       "      <td>male</td>\n",
       "      <td>2</td>\n",
       "      <td>own</td>\n",
       "      <td>NaN</td>\n",
       "      <td>little</td>\n",
       "      <td>1169</td>\n",
       "      <td>6</td>\n",
       "      <td>radio/TV</td>\n",
       "    </tr>\n",
       "    <tr>\n",
       "      <th>1</th>\n",
       "      <td>1</td>\n",
       "      <td>22</td>\n",
       "      <td>female</td>\n",
       "      <td>2</td>\n",
       "      <td>own</td>\n",
       "      <td>little</td>\n",
       "      <td>moderate</td>\n",
       "      <td>5951</td>\n",
       "      <td>48</td>\n",
       "      <td>radio/TV</td>\n",
       "    </tr>\n",
       "    <tr>\n",
       "      <th>2</th>\n",
       "      <td>2</td>\n",
       "      <td>49</td>\n",
       "      <td>male</td>\n",
       "      <td>1</td>\n",
       "      <td>own</td>\n",
       "      <td>little</td>\n",
       "      <td>NaN</td>\n",
       "      <td>2096</td>\n",
       "      <td>12</td>\n",
       "      <td>education</td>\n",
       "    </tr>\n",
       "    <tr>\n",
       "      <th>3</th>\n",
       "      <td>3</td>\n",
       "      <td>45</td>\n",
       "      <td>male</td>\n",
       "      <td>2</td>\n",
       "      <td>free</td>\n",
       "      <td>little</td>\n",
       "      <td>little</td>\n",
       "      <td>7882</td>\n",
       "      <td>42</td>\n",
       "      <td>furniture/equipment</td>\n",
       "    </tr>\n",
       "    <tr>\n",
       "      <th>4</th>\n",
       "      <td>4</td>\n",
       "      <td>53</td>\n",
       "      <td>male</td>\n",
       "      <td>2</td>\n",
       "      <td>free</td>\n",
       "      <td>little</td>\n",
       "      <td>little</td>\n",
       "      <td>4870</td>\n",
       "      <td>24</td>\n",
       "      <td>car</td>\n",
       "    </tr>\n",
       "  </tbody>\n",
       "</table>\n",
       "</div>"
      ],
      "text/plain": [
       "   Unnamed: 0  Age     Sex  Job Housing Saving accounts Checking account  \\\n",
       "0           0   67    male    2     own             NaN           little   \n",
       "1           1   22  female    2     own          little         moderate   \n",
       "2           2   49    male    1     own          little              NaN   \n",
       "3           3   45    male    2    free          little           little   \n",
       "4           4   53    male    2    free          little           little   \n",
       "\n",
       "   Credit amount  Duration              Purpose  \n",
       "0           1169         6             radio/TV  \n",
       "1           5951        48             radio/TV  \n",
       "2           2096        12            education  \n",
       "3           7882        42  furniture/equipment  \n",
       "4           4870        24                  car  "
      ]
     },
     "execution_count": 16,
     "metadata": {},
     "output_type": "execute_result"
    }
   ],
   "source": [
    "german.head()"
   ]
  },
  {
   "cell_type": "code",
   "execution_count": 22,
   "metadata": {},
   "outputs": [],
   "source": [
    "german = german.rename(columns={'Credit amount': 'CreditAmount','Saving accounts': 'SavingAccounts','Checking account': 'CheckingAccount'})"
   ]
  },
  {
   "cell_type": "code",
   "execution_count": 23,
   "metadata": {},
   "outputs": [
    {
     "data": {
      "text/html": [
       "<div>\n",
       "<style scoped>\n",
       "    .dataframe tbody tr th:only-of-type {\n",
       "        vertical-align: middle;\n",
       "    }\n",
       "\n",
       "    .dataframe tbody tr th {\n",
       "        vertical-align: top;\n",
       "    }\n",
       "\n",
       "    .dataframe thead th {\n",
       "        text-align: right;\n",
       "    }\n",
       "</style>\n",
       "<table border=\"1\" class=\"dataframe\">\n",
       "  <thead>\n",
       "    <tr style=\"text-align: right;\">\n",
       "      <th></th>\n",
       "      <th>Unnamed: 0</th>\n",
       "      <th>Age</th>\n",
       "      <th>Job</th>\n",
       "      <th>CreditAmount</th>\n",
       "      <th>Duration</th>\n",
       "    </tr>\n",
       "  </thead>\n",
       "  <tbody>\n",
       "    <tr>\n",
       "      <th>count</th>\n",
       "      <td>1000.000000</td>\n",
       "      <td>1000.000000</td>\n",
       "      <td>1000.000000</td>\n",
       "      <td>1000.000000</td>\n",
       "      <td>1000.000000</td>\n",
       "    </tr>\n",
       "    <tr>\n",
       "      <th>mean</th>\n",
       "      <td>499.500000</td>\n",
       "      <td>35.546000</td>\n",
       "      <td>1.904000</td>\n",
       "      <td>3271.258000</td>\n",
       "      <td>20.903000</td>\n",
       "    </tr>\n",
       "    <tr>\n",
       "      <th>std</th>\n",
       "      <td>288.819436</td>\n",
       "      <td>11.375469</td>\n",
       "      <td>0.653614</td>\n",
       "      <td>2822.736876</td>\n",
       "      <td>12.058814</td>\n",
       "    </tr>\n",
       "    <tr>\n",
       "      <th>min</th>\n",
       "      <td>0.000000</td>\n",
       "      <td>19.000000</td>\n",
       "      <td>0.000000</td>\n",
       "      <td>250.000000</td>\n",
       "      <td>4.000000</td>\n",
       "    </tr>\n",
       "    <tr>\n",
       "      <th>25%</th>\n",
       "      <td>249.750000</td>\n",
       "      <td>27.000000</td>\n",
       "      <td>2.000000</td>\n",
       "      <td>1365.500000</td>\n",
       "      <td>12.000000</td>\n",
       "    </tr>\n",
       "    <tr>\n",
       "      <th>50%</th>\n",
       "      <td>499.500000</td>\n",
       "      <td>33.000000</td>\n",
       "      <td>2.000000</td>\n",
       "      <td>2319.500000</td>\n",
       "      <td>18.000000</td>\n",
       "    </tr>\n",
       "    <tr>\n",
       "      <th>75%</th>\n",
       "      <td>749.250000</td>\n",
       "      <td>42.000000</td>\n",
       "      <td>2.000000</td>\n",
       "      <td>3972.250000</td>\n",
       "      <td>24.000000</td>\n",
       "    </tr>\n",
       "    <tr>\n",
       "      <th>max</th>\n",
       "      <td>999.000000</td>\n",
       "      <td>75.000000</td>\n",
       "      <td>3.000000</td>\n",
       "      <td>18424.000000</td>\n",
       "      <td>72.000000</td>\n",
       "    </tr>\n",
       "  </tbody>\n",
       "</table>\n",
       "</div>"
      ],
      "text/plain": [
       "        Unnamed: 0          Age          Job  CreditAmount     Duration\n",
       "count  1000.000000  1000.000000  1000.000000   1000.000000  1000.000000\n",
       "mean    499.500000    35.546000     1.904000   3271.258000    20.903000\n",
       "std     288.819436    11.375469     0.653614   2822.736876    12.058814\n",
       "min       0.000000    19.000000     0.000000    250.000000     4.000000\n",
       "25%     249.750000    27.000000     2.000000   1365.500000    12.000000\n",
       "50%     499.500000    33.000000     2.000000   2319.500000    18.000000\n",
       "75%     749.250000    42.000000     2.000000   3972.250000    24.000000\n",
       "max     999.000000    75.000000     3.000000  18424.000000    72.000000"
      ]
     },
     "execution_count": 23,
     "metadata": {},
     "output_type": "execute_result"
    }
   ],
   "source": [
    "german.describe()"
   ]
  },
  {
   "cell_type": "code",
   "execution_count": 24,
   "metadata": {},
   "outputs": [
    {
     "data": {
      "text/plain": [
       "count    1000.000000\n",
       "mean       20.903000\n",
       "std        12.058814\n",
       "min         4.000000\n",
       "25%        12.000000\n",
       "50%        18.000000\n",
       "75%        24.000000\n",
       "max        72.000000\n",
       "Name: Duration, dtype: float64"
      ]
     },
     "execution_count": 24,
     "metadata": {},
     "output_type": "execute_result"
    }
   ],
   "source": [
    "german.Duration.describe()"
   ]
  },
  {
   "cell_type": "code",
   "execution_count": 25,
   "metadata": {},
   "outputs": [
    {
     "data": {
      "text/plain": [
       "count     1000.000000\n",
       "mean      3271.258000\n",
       "std       2822.736876\n",
       "min        250.000000\n",
       "25%       1365.500000\n",
       "50%       2319.500000\n",
       "75%       3972.250000\n",
       "max      18424.000000\n",
       "Name: CreditAmount, dtype: float64"
      ]
     },
     "execution_count": 25,
     "metadata": {},
     "output_type": "execute_result"
    }
   ],
   "source": [
    "german.CreditAmount.describe()"
   ]
  },
  {
   "cell_type": "code",
   "execution_count": 26,
   "metadata": {},
   "outputs": [
    {
     "data": {
      "text/plain": [
       "count    1000.000000\n",
       "mean       35.546000\n",
       "std        11.375469\n",
       "min        19.000000\n",
       "25%        27.000000\n",
       "50%        33.000000\n",
       "75%        42.000000\n",
       "max        75.000000\n",
       "Name: Age, dtype: float64"
      ]
     },
     "execution_count": 26,
     "metadata": {},
     "output_type": "execute_result"
    }
   ],
   "source": [
    "german.Age.describe()"
   ]
  },
  {
   "cell_type": "markdown",
   "metadata": {},
   "source": [
    "Proportion de Class"
   ]
  },
  {
   "cell_type": "code",
   "execution_count": 28,
   "metadata": {},
   "outputs": [],
   "source": [
    "#PX.pie(german, \"Class\", title = \"Proportion des clients bénéficiaires et non bénéfiaires de crédit\")"
   ]
  },
  {
   "cell_type": "code",
   "execution_count": 34,
   "metadata": {},
   "outputs": [
    {
     "data": {
      "application/vnd.plotly.v1+json": {
       "config": {
        "plotlyServerURL": "https://plot.ly"
       },
       "data": [
        {
         "domain": {
          "x": [
           0,
           1
          ],
          "y": [
           0,
           1
          ]
         },
         "hovertemplate": "Age=%{label}<extra></extra>",
         "labels": [
          67,
          22,
          49,
          45,
          53,
          35,
          53,
          35,
          61,
          28,
          25,
          24,
          22,
          60,
          28,
          32,
          53,
          25,
          44,
          31,
          48,
          44,
          48,
          44,
          26,
          36,
          39,
          42,
          34,
          63,
          36,
          27,
          30,
          57,
          33,
          25,
          31,
          37,
          37,
          24,
          30,
          26,
          44,
          24,
          58,
          35,
          39,
          23,
          39,
          28,
          29,
          30,
          25,
          31,
          57,
          26,
          52,
          31,
          23,
          23,
          27,
          50,
          61,
          25,
          26,
          48,
          29,
          22,
          37,
          25,
          30,
          46,
          51,
          41,
          40,
          66,
          34,
          51,
          39,
          22,
          44,
          47,
          24,
          58,
          52,
          29,
          27,
          47,
          30,
          28,
          56,
          54,
          33,
          20,
          54,
          58,
          61,
          34,
          36,
          36,
          41,
          24,
          24,
          35,
          26,
          39,
          39,
          32,
          30,
          35,
          31,
          23,
          28,
          25,
          35,
          47,
          30,
          27,
          23,
          36,
          25,
          41,
          24,
          63,
          27,
          30,
          40,
          30,
          34,
          29,
          24,
          29,
          27,
          47,
          21,
          38,
          27,
          66,
          35,
          44,
          27,
          30,
          27,
          22,
          23,
          30,
          39,
          51,
          28,
          46,
          42,
          38,
          24,
          29,
          36,
          20,
          48,
          45,
          38,
          34,
          36,
          30,
          36,
          70,
          36,
          32,
          33,
          20,
          25,
          31,
          33,
          26,
          34,
          33,
          26,
          53,
          42,
          52,
          31,
          65,
          28,
          30,
          40,
          50,
          36,
          31,
          74,
          68,
          20,
          33,
          54,
          34,
          36,
          29,
          21,
          34,
          28,
          27,
          36,
          40,
          52,
          27,
          26,
          21,
          38,
          38,
          43,
          26,
          21,
          55,
          33,
          45,
          50,
          66,
          51,
          39,
          31,
          23,
          24,
          64,
          26,
          23,
          30,
          32,
          30,
          27,
          27,
          53,
          22,
          22,
          26,
          51,
          35,
          25,
          42,
          30,
          23,
          61,
          35,
          39,
          29,
          51,
          24,
          27,
          35,
          25,
          52,
          35,
          26,
          22,
          39,
          46,
          24,
          35,
          24,
          27,
          35,
          29,
          23,
          57,
          27,
          55,
          36,
          57,
          32,
          37,
          36,
          38,
          45,
          25,
          32,
          37,
          36,
          28,
          34,
          32,
          26,
          49,
          32,
          29,
          23,
          50,
          49,
          63,
          37,
          35,
          26,
          31,
          49,
          48,
          26,
          28,
          44,
          56,
          46,
          26,
          20,
          45,
          43,
          32,
          54,
          42,
          37,
          49,
          44,
          33,
          24,
          33,
          24,
          22,
          40,
          25,
          26,
          25,
          29,
          31,
          38,
          48,
          32,
          27,
          28,
          32,
          34,
          28,
          36,
          39,
          49,
          34,
          31,
          28,
          75,
          30,
          24,
          24,
          23,
          44,
          23,
          24,
          28,
          31,
          24,
          26,
          25,
          33,
          37,
          43,
          23,
          23,
          34,
          32,
          23,
          29,
          38,
          28,
          46,
          23,
          49,
          26,
          28,
          23,
          61,
          37,
          36,
          21,
          25,
          36,
          27,
          22,
          42,
          40,
          36,
          33,
          23,
          63,
          60,
          37,
          34,
          36,
          57,
          52,
          39,
          38,
          25,
          26,
          26,
          25,
          21,
          40,
          27,
          27,
          30,
          19,
          39,
          31,
          31,
          32,
          55,
          46,
          46,
          43,
          39,
          28,
          27,
          27,
          43,
          22,
          43,
          27,
          26,
          28,
          20,
          35,
          42,
          40,
          35,
          35,
          33,
          23,
          31,
          33,
          20,
          30,
          47,
          34,
          25,
          21,
          29,
          46,
          20,
          55,
          74,
          29,
          36,
          33,
          25,
          25,
          23,
          37,
          65,
          26,
          39,
          30,
          29,
          41,
          30,
          41,
          34,
          35,
          55,
          61,
          30,
          29,
          34,
          35,
          31,
          29,
          36,
          35,
          27,
          32,
          37,
          36,
          34,
          38,
          34,
          63,
          29,
          32,
          26,
          35,
          22,
          23,
          28,
          36,
          33,
          26,
          24,
          25,
          39,
          44,
          23,
          26,
          57,
          30,
          44,
          47,
          52,
          62,
          35,
          26,
          26,
          42,
          27,
          38,
          39,
          20,
          29,
          40,
          32,
          28,
          27,
          42,
          49,
          38,
          24,
          27,
          36,
          34,
          28,
          45,
          26,
          32,
          26,
          20,
          54,
          37,
          40,
          23,
          43,
          36,
          44,
          24,
          53,
          23,
          26,
          30,
          31,
          42,
          31,
          41,
          32,
          28,
          41,
          26,
          25,
          33,
          75,
          37,
          42,
          45,
          23,
          60,
          31,
          34,
          61,
          43,
          37,
          32,
          24,
          35,
          23,
          45,
          34,
          27,
          67,
          22,
          28,
          29,
          27,
          31,
          49,
          24,
          29,
          37,
          37,
          23,
          36,
          34,
          41,
          31,
          23,
          38,
          26,
          22,
          27,
          24,
          27,
          33,
          27,
          27,
          30,
          49,
          26,
          33,
          52,
          20,
          36,
          21,
          47,
          60,
          58,
          42,
          36,
          20,
          40,
          32,
          23,
          36,
          31,
          32,
          45,
          30,
          34,
          28,
          23,
          22,
          74,
          50,
          33,
          45,
          22,
          48,
          29,
          22,
          22,
          48,
          27,
          37,
          21,
          49,
          27,
          32,
          38,
          22,
          65,
          35,
          41,
          29,
          36,
          64,
          28,
          44,
          23,
          19,
          25,
          47,
          28,
          21,
          34,
          26,
          27,
          38,
          40,
          33,
          32,
          27,
          32,
          26,
          38,
          40,
          50,
          37,
          45,
          42,
          35,
          22,
          41,
          37,
          28,
          41,
          23,
          23,
          50,
          35,
          50,
          27,
          34,
          27,
          43,
          47,
          27,
          31,
          42,
          24,
          41,
          26,
          33,
          24,
          64,
          26,
          56,
          37,
          33,
          47,
          31,
          34,
          27,
          30,
          35,
          31,
          25,
          25,
          29,
          44,
          28,
          50,
          29,
          38,
          24,
          40,
          29,
          46,
          47,
          41,
          32,
          35,
          24,
          25,
          25,
          37,
          32,
          35,
          46,
          25,
          27,
          63,
          40,
          32,
          31,
          31,
          34,
          24,
          24,
          66,
          21,
          41,
          47,
          25,
          59,
          36,
          33,
          21,
          44,
          28,
          37,
          29,
          23,
          35,
          45,
          26,
          32,
          23,
          41,
          22,
          30,
          28,
          23,
          37,
          26,
          33,
          49,
          23,
          23,
          25,
          55,
          32,
          74,
          39,
          31,
          35,
          59,
          24,
          24,
          30,
          27,
          40,
          31,
          31,
          28,
          63,
          26,
          25,
          36,
          52,
          66,
          25,
          37,
          25,
          38,
          67,
          25,
          60,
          31,
          23,
          60,
          35,
          40,
          38,
          50,
          27,
          39,
          41,
          27,
          51,
          32,
          22,
          51,
          22,
          54,
          35,
          54,
          48,
          24,
          35,
          24,
          24,
          26,
          65,
          55,
          26,
          26,
          28,
          24,
          54,
          46,
          54,
          62,
          24,
          43,
          26,
          27,
          24,
          41,
          47,
          35,
          30,
          33,
          36,
          47,
          38,
          44,
          23,
          29,
          42,
          25,
          48,
          21,
          23,
          63,
          46,
          29,
          28,
          23,
          50,
          47,
          35,
          68,
          28,
          59,
          57,
          33,
          43,
          35,
          32,
          45,
          33,
          40,
          28,
          29,
          26,
          27,
          28,
          35,
          32,
          25,
          20,
          27,
          42,
          37,
          24,
          40,
          46,
          26,
          24,
          29,
          40,
          36,
          28,
          27,
          36,
          38,
          48,
          36,
          65,
          43,
          53,
          34,
          23,
          34,
          40,
          43,
          46,
          38,
          34,
          29,
          31,
          28,
          35,
          33,
          42,
          43,
          44,
          42,
          40,
          36,
          20,
          24,
          27,
          46,
          33,
          34,
          25,
          25,
          28,
          31,
          32,
          32,
          68,
          33,
          39,
          28,
          37,
          22,
          30,
          55,
          46,
          21,
          39,
          58,
          43,
          24,
          22,
          30,
          42,
          23,
          30,
          28,
          30,
          42,
          46,
          45,
          31,
          31,
          42,
          46,
          30,
          30,
          38,
          43,
          31,
          40,
          24,
          28,
          26,
          29,
          57,
          49,
          37,
          45,
          30,
          30,
          47,
          29,
          35,
          22,
          26,
          23,
          54,
          29,
          40,
          22,
          43,
          29,
          36,
          33,
          57,
          64,
          42,
          47,
          25,
          49,
          33,
          28,
          26,
          30,
          25,
          33,
          64,
          29,
          48,
          37,
          34,
          23,
          30,
          50,
          31,
          40,
          38,
          23,
          27
         ],
         "legendgroup": "",
         "name": "",
         "showlegend": true,
         "type": "pie"
        }
       ],
       "layout": {
        "legend": {
         "tracegroupgap": 0
        },
        "template": {
         "data": {
          "bar": [
           {
            "error_x": {
             "color": "#2a3f5f"
            },
            "error_y": {
             "color": "#2a3f5f"
            },
            "marker": {
             "line": {
              "color": "#E5ECF6",
              "width": 0.5
             },
             "pattern": {
              "fillmode": "overlay",
              "size": 10,
              "solidity": 0.2
             }
            },
            "type": "bar"
           }
          ],
          "barpolar": [
           {
            "marker": {
             "line": {
              "color": "#E5ECF6",
              "width": 0.5
             },
             "pattern": {
              "fillmode": "overlay",
              "size": 10,
              "solidity": 0.2
             }
            },
            "type": "barpolar"
           }
          ],
          "carpet": [
           {
            "aaxis": {
             "endlinecolor": "#2a3f5f",
             "gridcolor": "white",
             "linecolor": "white",
             "minorgridcolor": "white",
             "startlinecolor": "#2a3f5f"
            },
            "baxis": {
             "endlinecolor": "#2a3f5f",
             "gridcolor": "white",
             "linecolor": "white",
             "minorgridcolor": "white",
             "startlinecolor": "#2a3f5f"
            },
            "type": "carpet"
           }
          ],
          "choropleth": [
           {
            "colorbar": {
             "outlinewidth": 0,
             "ticks": ""
            },
            "type": "choropleth"
           }
          ],
          "contour": [
           {
            "colorbar": {
             "outlinewidth": 0,
             "ticks": ""
            },
            "colorscale": [
             [
              0,
              "#0d0887"
             ],
             [
              0.1111111111111111,
              "#46039f"
             ],
             [
              0.2222222222222222,
              "#7201a8"
             ],
             [
              0.3333333333333333,
              "#9c179e"
             ],
             [
              0.4444444444444444,
              "#bd3786"
             ],
             [
              0.5555555555555556,
              "#d8576b"
             ],
             [
              0.6666666666666666,
              "#ed7953"
             ],
             [
              0.7777777777777778,
              "#fb9f3a"
             ],
             [
              0.8888888888888888,
              "#fdca26"
             ],
             [
              1,
              "#f0f921"
             ]
            ],
            "type": "contour"
           }
          ],
          "contourcarpet": [
           {
            "colorbar": {
             "outlinewidth": 0,
             "ticks": ""
            },
            "type": "contourcarpet"
           }
          ],
          "heatmap": [
           {
            "colorbar": {
             "outlinewidth": 0,
             "ticks": ""
            },
            "colorscale": [
             [
              0,
              "#0d0887"
             ],
             [
              0.1111111111111111,
              "#46039f"
             ],
             [
              0.2222222222222222,
              "#7201a8"
             ],
             [
              0.3333333333333333,
              "#9c179e"
             ],
             [
              0.4444444444444444,
              "#bd3786"
             ],
             [
              0.5555555555555556,
              "#d8576b"
             ],
             [
              0.6666666666666666,
              "#ed7953"
             ],
             [
              0.7777777777777778,
              "#fb9f3a"
             ],
             [
              0.8888888888888888,
              "#fdca26"
             ],
             [
              1,
              "#f0f921"
             ]
            ],
            "type": "heatmap"
           }
          ],
          "heatmapgl": [
           {
            "colorbar": {
             "outlinewidth": 0,
             "ticks": ""
            },
            "colorscale": [
             [
              0,
              "#0d0887"
             ],
             [
              0.1111111111111111,
              "#46039f"
             ],
             [
              0.2222222222222222,
              "#7201a8"
             ],
             [
              0.3333333333333333,
              "#9c179e"
             ],
             [
              0.4444444444444444,
              "#bd3786"
             ],
             [
              0.5555555555555556,
              "#d8576b"
             ],
             [
              0.6666666666666666,
              "#ed7953"
             ],
             [
              0.7777777777777778,
              "#fb9f3a"
             ],
             [
              0.8888888888888888,
              "#fdca26"
             ],
             [
              1,
              "#f0f921"
             ]
            ],
            "type": "heatmapgl"
           }
          ],
          "histogram": [
           {
            "marker": {
             "pattern": {
              "fillmode": "overlay",
              "size": 10,
              "solidity": 0.2
             }
            },
            "type": "histogram"
           }
          ],
          "histogram2d": [
           {
            "colorbar": {
             "outlinewidth": 0,
             "ticks": ""
            },
            "colorscale": [
             [
              0,
              "#0d0887"
             ],
             [
              0.1111111111111111,
              "#46039f"
             ],
             [
              0.2222222222222222,
              "#7201a8"
             ],
             [
              0.3333333333333333,
              "#9c179e"
             ],
             [
              0.4444444444444444,
              "#bd3786"
             ],
             [
              0.5555555555555556,
              "#d8576b"
             ],
             [
              0.6666666666666666,
              "#ed7953"
             ],
             [
              0.7777777777777778,
              "#fb9f3a"
             ],
             [
              0.8888888888888888,
              "#fdca26"
             ],
             [
              1,
              "#f0f921"
             ]
            ],
            "type": "histogram2d"
           }
          ],
          "histogram2dcontour": [
           {
            "colorbar": {
             "outlinewidth": 0,
             "ticks": ""
            },
            "colorscale": [
             [
              0,
              "#0d0887"
             ],
             [
              0.1111111111111111,
              "#46039f"
             ],
             [
              0.2222222222222222,
              "#7201a8"
             ],
             [
              0.3333333333333333,
              "#9c179e"
             ],
             [
              0.4444444444444444,
              "#bd3786"
             ],
             [
              0.5555555555555556,
              "#d8576b"
             ],
             [
              0.6666666666666666,
              "#ed7953"
             ],
             [
              0.7777777777777778,
              "#fb9f3a"
             ],
             [
              0.8888888888888888,
              "#fdca26"
             ],
             [
              1,
              "#f0f921"
             ]
            ],
            "type": "histogram2dcontour"
           }
          ],
          "mesh3d": [
           {
            "colorbar": {
             "outlinewidth": 0,
             "ticks": ""
            },
            "type": "mesh3d"
           }
          ],
          "parcoords": [
           {
            "line": {
             "colorbar": {
              "outlinewidth": 0,
              "ticks": ""
             }
            },
            "type": "parcoords"
           }
          ],
          "pie": [
           {
            "automargin": true,
            "type": "pie"
           }
          ],
          "scatter": [
           {
            "marker": {
             "colorbar": {
              "outlinewidth": 0,
              "ticks": ""
             }
            },
            "type": "scatter"
           }
          ],
          "scatter3d": [
           {
            "line": {
             "colorbar": {
              "outlinewidth": 0,
              "ticks": ""
             }
            },
            "marker": {
             "colorbar": {
              "outlinewidth": 0,
              "ticks": ""
             }
            },
            "type": "scatter3d"
           }
          ],
          "scattercarpet": [
           {
            "marker": {
             "colorbar": {
              "outlinewidth": 0,
              "ticks": ""
             }
            },
            "type": "scattercarpet"
           }
          ],
          "scattergeo": [
           {
            "marker": {
             "colorbar": {
              "outlinewidth": 0,
              "ticks": ""
             }
            },
            "type": "scattergeo"
           }
          ],
          "scattergl": [
           {
            "marker": {
             "colorbar": {
              "outlinewidth": 0,
              "ticks": ""
             }
            },
            "type": "scattergl"
           }
          ],
          "scattermapbox": [
           {
            "marker": {
             "colorbar": {
              "outlinewidth": 0,
              "ticks": ""
             }
            },
            "type": "scattermapbox"
           }
          ],
          "scatterpolar": [
           {
            "marker": {
             "colorbar": {
              "outlinewidth": 0,
              "ticks": ""
             }
            },
            "type": "scatterpolar"
           }
          ],
          "scatterpolargl": [
           {
            "marker": {
             "colorbar": {
              "outlinewidth": 0,
              "ticks": ""
             }
            },
            "type": "scatterpolargl"
           }
          ],
          "scatterternary": [
           {
            "marker": {
             "colorbar": {
              "outlinewidth": 0,
              "ticks": ""
             }
            },
            "type": "scatterternary"
           }
          ],
          "surface": [
           {
            "colorbar": {
             "outlinewidth": 0,
             "ticks": ""
            },
            "colorscale": [
             [
              0,
              "#0d0887"
             ],
             [
              0.1111111111111111,
              "#46039f"
             ],
             [
              0.2222222222222222,
              "#7201a8"
             ],
             [
              0.3333333333333333,
              "#9c179e"
             ],
             [
              0.4444444444444444,
              "#bd3786"
             ],
             [
              0.5555555555555556,
              "#d8576b"
             ],
             [
              0.6666666666666666,
              "#ed7953"
             ],
             [
              0.7777777777777778,
              "#fb9f3a"
             ],
             [
              0.8888888888888888,
              "#fdca26"
             ],
             [
              1,
              "#f0f921"
             ]
            ],
            "type": "surface"
           }
          ],
          "table": [
           {
            "cells": {
             "fill": {
              "color": "#EBF0F8"
             },
             "line": {
              "color": "white"
             }
            },
            "header": {
             "fill": {
              "color": "#C8D4E3"
             },
             "line": {
              "color": "white"
             }
            },
            "type": "table"
           }
          ]
         },
         "layout": {
          "annotationdefaults": {
           "arrowcolor": "#2a3f5f",
           "arrowhead": 0,
           "arrowwidth": 1
          },
          "autotypenumbers": "strict",
          "coloraxis": {
           "colorbar": {
            "outlinewidth": 0,
            "ticks": ""
           }
          },
          "colorscale": {
           "diverging": [
            [
             0,
             "#8e0152"
            ],
            [
             0.1,
             "#c51b7d"
            ],
            [
             0.2,
             "#de77ae"
            ],
            [
             0.3,
             "#f1b6da"
            ],
            [
             0.4,
             "#fde0ef"
            ],
            [
             0.5,
             "#f7f7f7"
            ],
            [
             0.6,
             "#e6f5d0"
            ],
            [
             0.7,
             "#b8e186"
            ],
            [
             0.8,
             "#7fbc41"
            ],
            [
             0.9,
             "#4d9221"
            ],
            [
             1,
             "#276419"
            ]
           ],
           "sequential": [
            [
             0,
             "#0d0887"
            ],
            [
             0.1111111111111111,
             "#46039f"
            ],
            [
             0.2222222222222222,
             "#7201a8"
            ],
            [
             0.3333333333333333,
             "#9c179e"
            ],
            [
             0.4444444444444444,
             "#bd3786"
            ],
            [
             0.5555555555555556,
             "#d8576b"
            ],
            [
             0.6666666666666666,
             "#ed7953"
            ],
            [
             0.7777777777777778,
             "#fb9f3a"
            ],
            [
             0.8888888888888888,
             "#fdca26"
            ],
            [
             1,
             "#f0f921"
            ]
           ],
           "sequentialminus": [
            [
             0,
             "#0d0887"
            ],
            [
             0.1111111111111111,
             "#46039f"
            ],
            [
             0.2222222222222222,
             "#7201a8"
            ],
            [
             0.3333333333333333,
             "#9c179e"
            ],
            [
             0.4444444444444444,
             "#bd3786"
            ],
            [
             0.5555555555555556,
             "#d8576b"
            ],
            [
             0.6666666666666666,
             "#ed7953"
            ],
            [
             0.7777777777777778,
             "#fb9f3a"
            ],
            [
             0.8888888888888888,
             "#fdca26"
            ],
            [
             1,
             "#f0f921"
            ]
           ]
          },
          "colorway": [
           "#636efa",
           "#EF553B",
           "#00cc96",
           "#ab63fa",
           "#FFA15A",
           "#19d3f3",
           "#FF6692",
           "#B6E880",
           "#FF97FF",
           "#FECB52"
          ],
          "font": {
           "color": "#2a3f5f"
          },
          "geo": {
           "bgcolor": "white",
           "lakecolor": "white",
           "landcolor": "#E5ECF6",
           "showlakes": true,
           "showland": true,
           "subunitcolor": "white"
          },
          "hoverlabel": {
           "align": "left"
          },
          "hovermode": "closest",
          "mapbox": {
           "style": "light"
          },
          "paper_bgcolor": "white",
          "plot_bgcolor": "#E5ECF6",
          "polar": {
           "angularaxis": {
            "gridcolor": "white",
            "linecolor": "white",
            "ticks": ""
           },
           "bgcolor": "#E5ECF6",
           "radialaxis": {
            "gridcolor": "white",
            "linecolor": "white",
            "ticks": ""
           }
          },
          "scene": {
           "xaxis": {
            "backgroundcolor": "#E5ECF6",
            "gridcolor": "white",
            "gridwidth": 2,
            "linecolor": "white",
            "showbackground": true,
            "ticks": "",
            "zerolinecolor": "white"
           },
           "yaxis": {
            "backgroundcolor": "#E5ECF6",
            "gridcolor": "white",
            "gridwidth": 2,
            "linecolor": "white",
            "showbackground": true,
            "ticks": "",
            "zerolinecolor": "white"
           },
           "zaxis": {
            "backgroundcolor": "#E5ECF6",
            "gridcolor": "white",
            "gridwidth": 2,
            "linecolor": "white",
            "showbackground": true,
            "ticks": "",
            "zerolinecolor": "white"
           }
          },
          "shapedefaults": {
           "line": {
            "color": "#2a3f5f"
           }
          },
          "ternary": {
           "aaxis": {
            "gridcolor": "white",
            "linecolor": "white",
            "ticks": ""
           },
           "baxis": {
            "gridcolor": "white",
            "linecolor": "white",
            "ticks": ""
           },
           "bgcolor": "#E5ECF6",
           "caxis": {
            "gridcolor": "white",
            "linecolor": "white",
            "ticks": ""
           }
          },
          "title": {
           "x": 0.05
          },
          "xaxis": {
           "automargin": true,
           "gridcolor": "white",
           "linecolor": "white",
           "ticks": "",
           "title": {
            "standoff": 15
           },
           "zerolinecolor": "white",
           "zerolinewidth": 2
          },
          "yaxis": {
           "automargin": true,
           "gridcolor": "white",
           "linecolor": "white",
           "ticks": "",
           "title": {
            "standoff": 15
           },
           "zerolinecolor": "white",
           "zerolinewidth": 2
          }
         }
        },
        "title": {
         "text": "Proportion des clients bénéficiaires et non bénéfiaires de crédit"
        }
       }
      },
      "text/html": [
       "<div>                            <div id=\"c654889f-7b4c-4f82-b73d-8647b2ea9e93\" class=\"plotly-graph-div\" style=\"height:525px; width:100%;\"></div>            <script type=\"text/javascript\">                require([\"plotly\"], function(Plotly) {                    window.PLOTLYENV=window.PLOTLYENV || {};                                    if (document.getElementById(\"c654889f-7b4c-4f82-b73d-8647b2ea9e93\")) {                    Plotly.newPlot(                        \"c654889f-7b4c-4f82-b73d-8647b2ea9e93\",                        [{\"domain\":{\"x\":[0.0,1.0],\"y\":[0.0,1.0]},\"hovertemplate\":\"Age=%{label}<extra></extra>\",\"labels\":[67,22,49,45,53,35,53,35,61,28,25,24,22,60,28,32,53,25,44,31,48,44,48,44,26,36,39,42,34,63,36,27,30,57,33,25,31,37,37,24,30,26,44,24,58,35,39,23,39,28,29,30,25,31,57,26,52,31,23,23,27,50,61,25,26,48,29,22,37,25,30,46,51,41,40,66,34,51,39,22,44,47,24,58,52,29,27,47,30,28,56,54,33,20,54,58,61,34,36,36,41,24,24,35,26,39,39,32,30,35,31,23,28,25,35,47,30,27,23,36,25,41,24,63,27,30,40,30,34,29,24,29,27,47,21,38,27,66,35,44,27,30,27,22,23,30,39,51,28,46,42,38,24,29,36,20,48,45,38,34,36,30,36,70,36,32,33,20,25,31,33,26,34,33,26,53,42,52,31,65,28,30,40,50,36,31,74,68,20,33,54,34,36,29,21,34,28,27,36,40,52,27,26,21,38,38,43,26,21,55,33,45,50,66,51,39,31,23,24,64,26,23,30,32,30,27,27,53,22,22,26,51,35,25,42,30,23,61,35,39,29,51,24,27,35,25,52,35,26,22,39,46,24,35,24,27,35,29,23,57,27,55,36,57,32,37,36,38,45,25,32,37,36,28,34,32,26,49,32,29,23,50,49,63,37,35,26,31,49,48,26,28,44,56,46,26,20,45,43,32,54,42,37,49,44,33,24,33,24,22,40,25,26,25,29,31,38,48,32,27,28,32,34,28,36,39,49,34,31,28,75,30,24,24,23,44,23,24,28,31,24,26,25,33,37,43,23,23,34,32,23,29,38,28,46,23,49,26,28,23,61,37,36,21,25,36,27,22,42,40,36,33,23,63,60,37,34,36,57,52,39,38,25,26,26,25,21,40,27,27,30,19,39,31,31,32,55,46,46,43,39,28,27,27,43,22,43,27,26,28,20,35,42,40,35,35,33,23,31,33,20,30,47,34,25,21,29,46,20,55,74,29,36,33,25,25,23,37,65,26,39,30,29,41,30,41,34,35,55,61,30,29,34,35,31,29,36,35,27,32,37,36,34,38,34,63,29,32,26,35,22,23,28,36,33,26,24,25,39,44,23,26,57,30,44,47,52,62,35,26,26,42,27,38,39,20,29,40,32,28,27,42,49,38,24,27,36,34,28,45,26,32,26,20,54,37,40,23,43,36,44,24,53,23,26,30,31,42,31,41,32,28,41,26,25,33,75,37,42,45,23,60,31,34,61,43,37,32,24,35,23,45,34,27,67,22,28,29,27,31,49,24,29,37,37,23,36,34,41,31,23,38,26,22,27,24,27,33,27,27,30,49,26,33,52,20,36,21,47,60,58,42,36,20,40,32,23,36,31,32,45,30,34,28,23,22,74,50,33,45,22,48,29,22,22,48,27,37,21,49,27,32,38,22,65,35,41,29,36,64,28,44,23,19,25,47,28,21,34,26,27,38,40,33,32,27,32,26,38,40,50,37,45,42,35,22,41,37,28,41,23,23,50,35,50,27,34,27,43,47,27,31,42,24,41,26,33,24,64,26,56,37,33,47,31,34,27,30,35,31,25,25,29,44,28,50,29,38,24,40,29,46,47,41,32,35,24,25,25,37,32,35,46,25,27,63,40,32,31,31,34,24,24,66,21,41,47,25,59,36,33,21,44,28,37,29,23,35,45,26,32,23,41,22,30,28,23,37,26,33,49,23,23,25,55,32,74,39,31,35,59,24,24,30,27,40,31,31,28,63,26,25,36,52,66,25,37,25,38,67,25,60,31,23,60,35,40,38,50,27,39,41,27,51,32,22,51,22,54,35,54,48,24,35,24,24,26,65,55,26,26,28,24,54,46,54,62,24,43,26,27,24,41,47,35,30,33,36,47,38,44,23,29,42,25,48,21,23,63,46,29,28,23,50,47,35,68,28,59,57,33,43,35,32,45,33,40,28,29,26,27,28,35,32,25,20,27,42,37,24,40,46,26,24,29,40,36,28,27,36,38,48,36,65,43,53,34,23,34,40,43,46,38,34,29,31,28,35,33,42,43,44,42,40,36,20,24,27,46,33,34,25,25,28,31,32,32,68,33,39,28,37,22,30,55,46,21,39,58,43,24,22,30,42,23,30,28,30,42,46,45,31,31,42,46,30,30,38,43,31,40,24,28,26,29,57,49,37,45,30,30,47,29,35,22,26,23,54,29,40,22,43,29,36,33,57,64,42,47,25,49,33,28,26,30,25,33,64,29,48,37,34,23,30,50,31,40,38,23,27],\"legendgroup\":\"\",\"name\":\"\",\"showlegend\":true,\"type\":\"pie\"}],                        {\"legend\":{\"tracegroupgap\":0},\"template\":{\"data\":{\"bar\":[{\"error_x\":{\"color\":\"#2a3f5f\"},\"error_y\":{\"color\":\"#2a3f5f\"},\"marker\":{\"line\":{\"color\":\"#E5ECF6\",\"width\":0.5},\"pattern\":{\"fillmode\":\"overlay\",\"size\":10,\"solidity\":0.2}},\"type\":\"bar\"}],\"barpolar\":[{\"marker\":{\"line\":{\"color\":\"#E5ECF6\",\"width\":0.5},\"pattern\":{\"fillmode\":\"overlay\",\"size\":10,\"solidity\":0.2}},\"type\":\"barpolar\"}],\"carpet\":[{\"aaxis\":{\"endlinecolor\":\"#2a3f5f\",\"gridcolor\":\"white\",\"linecolor\":\"white\",\"minorgridcolor\":\"white\",\"startlinecolor\":\"#2a3f5f\"},\"baxis\":{\"endlinecolor\":\"#2a3f5f\",\"gridcolor\":\"white\",\"linecolor\":\"white\",\"minorgridcolor\":\"white\",\"startlinecolor\":\"#2a3f5f\"},\"type\":\"carpet\"}],\"choropleth\":[{\"colorbar\":{\"outlinewidth\":0,\"ticks\":\"\"},\"type\":\"choropleth\"}],\"contour\":[{\"colorbar\":{\"outlinewidth\":0,\"ticks\":\"\"},\"colorscale\":[[0.0,\"#0d0887\"],[0.1111111111111111,\"#46039f\"],[0.2222222222222222,\"#7201a8\"],[0.3333333333333333,\"#9c179e\"],[0.4444444444444444,\"#bd3786\"],[0.5555555555555556,\"#d8576b\"],[0.6666666666666666,\"#ed7953\"],[0.7777777777777778,\"#fb9f3a\"],[0.8888888888888888,\"#fdca26\"],[1.0,\"#f0f921\"]],\"type\":\"contour\"}],\"contourcarpet\":[{\"colorbar\":{\"outlinewidth\":0,\"ticks\":\"\"},\"type\":\"contourcarpet\"}],\"heatmap\":[{\"colorbar\":{\"outlinewidth\":0,\"ticks\":\"\"},\"colorscale\":[[0.0,\"#0d0887\"],[0.1111111111111111,\"#46039f\"],[0.2222222222222222,\"#7201a8\"],[0.3333333333333333,\"#9c179e\"],[0.4444444444444444,\"#bd3786\"],[0.5555555555555556,\"#d8576b\"],[0.6666666666666666,\"#ed7953\"],[0.7777777777777778,\"#fb9f3a\"],[0.8888888888888888,\"#fdca26\"],[1.0,\"#f0f921\"]],\"type\":\"heatmap\"}],\"heatmapgl\":[{\"colorbar\":{\"outlinewidth\":0,\"ticks\":\"\"},\"colorscale\":[[0.0,\"#0d0887\"],[0.1111111111111111,\"#46039f\"],[0.2222222222222222,\"#7201a8\"],[0.3333333333333333,\"#9c179e\"],[0.4444444444444444,\"#bd3786\"],[0.5555555555555556,\"#d8576b\"],[0.6666666666666666,\"#ed7953\"],[0.7777777777777778,\"#fb9f3a\"],[0.8888888888888888,\"#fdca26\"],[1.0,\"#f0f921\"]],\"type\":\"heatmapgl\"}],\"histogram\":[{\"marker\":{\"pattern\":{\"fillmode\":\"overlay\",\"size\":10,\"solidity\":0.2}},\"type\":\"histogram\"}],\"histogram2d\":[{\"colorbar\":{\"outlinewidth\":0,\"ticks\":\"\"},\"colorscale\":[[0.0,\"#0d0887\"],[0.1111111111111111,\"#46039f\"],[0.2222222222222222,\"#7201a8\"],[0.3333333333333333,\"#9c179e\"],[0.4444444444444444,\"#bd3786\"],[0.5555555555555556,\"#d8576b\"],[0.6666666666666666,\"#ed7953\"],[0.7777777777777778,\"#fb9f3a\"],[0.8888888888888888,\"#fdca26\"],[1.0,\"#f0f921\"]],\"type\":\"histogram2d\"}],\"histogram2dcontour\":[{\"colorbar\":{\"outlinewidth\":0,\"ticks\":\"\"},\"colorscale\":[[0.0,\"#0d0887\"],[0.1111111111111111,\"#46039f\"],[0.2222222222222222,\"#7201a8\"],[0.3333333333333333,\"#9c179e\"],[0.4444444444444444,\"#bd3786\"],[0.5555555555555556,\"#d8576b\"],[0.6666666666666666,\"#ed7953\"],[0.7777777777777778,\"#fb9f3a\"],[0.8888888888888888,\"#fdca26\"],[1.0,\"#f0f921\"]],\"type\":\"histogram2dcontour\"}],\"mesh3d\":[{\"colorbar\":{\"outlinewidth\":0,\"ticks\":\"\"},\"type\":\"mesh3d\"}],\"parcoords\":[{\"line\":{\"colorbar\":{\"outlinewidth\":0,\"ticks\":\"\"}},\"type\":\"parcoords\"}],\"pie\":[{\"automargin\":true,\"type\":\"pie\"}],\"scatter\":[{\"marker\":{\"colorbar\":{\"outlinewidth\":0,\"ticks\":\"\"}},\"type\":\"scatter\"}],\"scatter3d\":[{\"line\":{\"colorbar\":{\"outlinewidth\":0,\"ticks\":\"\"}},\"marker\":{\"colorbar\":{\"outlinewidth\":0,\"ticks\":\"\"}},\"type\":\"scatter3d\"}],\"scattercarpet\":[{\"marker\":{\"colorbar\":{\"outlinewidth\":0,\"ticks\":\"\"}},\"type\":\"scattercarpet\"}],\"scattergeo\":[{\"marker\":{\"colorbar\":{\"outlinewidth\":0,\"ticks\":\"\"}},\"type\":\"scattergeo\"}],\"scattergl\":[{\"marker\":{\"colorbar\":{\"outlinewidth\":0,\"ticks\":\"\"}},\"type\":\"scattergl\"}],\"scattermapbox\":[{\"marker\":{\"colorbar\":{\"outlinewidth\":0,\"ticks\":\"\"}},\"type\":\"scattermapbox\"}],\"scatterpolar\":[{\"marker\":{\"colorbar\":{\"outlinewidth\":0,\"ticks\":\"\"}},\"type\":\"scatterpolar\"}],\"scatterpolargl\":[{\"marker\":{\"colorbar\":{\"outlinewidth\":0,\"ticks\":\"\"}},\"type\":\"scatterpolargl\"}],\"scatterternary\":[{\"marker\":{\"colorbar\":{\"outlinewidth\":0,\"ticks\":\"\"}},\"type\":\"scatterternary\"}],\"surface\":[{\"colorbar\":{\"outlinewidth\":0,\"ticks\":\"\"},\"colorscale\":[[0.0,\"#0d0887\"],[0.1111111111111111,\"#46039f\"],[0.2222222222222222,\"#7201a8\"],[0.3333333333333333,\"#9c179e\"],[0.4444444444444444,\"#bd3786\"],[0.5555555555555556,\"#d8576b\"],[0.6666666666666666,\"#ed7953\"],[0.7777777777777778,\"#fb9f3a\"],[0.8888888888888888,\"#fdca26\"],[1.0,\"#f0f921\"]],\"type\":\"surface\"}],\"table\":[{\"cells\":{\"fill\":{\"color\":\"#EBF0F8\"},\"line\":{\"color\":\"white\"}},\"header\":{\"fill\":{\"color\":\"#C8D4E3\"},\"line\":{\"color\":\"white\"}},\"type\":\"table\"}]},\"layout\":{\"annotationdefaults\":{\"arrowcolor\":\"#2a3f5f\",\"arrowhead\":0,\"arrowwidth\":1},\"autotypenumbers\":\"strict\",\"coloraxis\":{\"colorbar\":{\"outlinewidth\":0,\"ticks\":\"\"}},\"colorscale\":{\"diverging\":[[0,\"#8e0152\"],[0.1,\"#c51b7d\"],[0.2,\"#de77ae\"],[0.3,\"#f1b6da\"],[0.4,\"#fde0ef\"],[0.5,\"#f7f7f7\"],[0.6,\"#e6f5d0\"],[0.7,\"#b8e186\"],[0.8,\"#7fbc41\"],[0.9,\"#4d9221\"],[1,\"#276419\"]],\"sequential\":[[0.0,\"#0d0887\"],[0.1111111111111111,\"#46039f\"],[0.2222222222222222,\"#7201a8\"],[0.3333333333333333,\"#9c179e\"],[0.4444444444444444,\"#bd3786\"],[0.5555555555555556,\"#d8576b\"],[0.6666666666666666,\"#ed7953\"],[0.7777777777777778,\"#fb9f3a\"],[0.8888888888888888,\"#fdca26\"],[1.0,\"#f0f921\"]],\"sequentialminus\":[[0.0,\"#0d0887\"],[0.1111111111111111,\"#46039f\"],[0.2222222222222222,\"#7201a8\"],[0.3333333333333333,\"#9c179e\"],[0.4444444444444444,\"#bd3786\"],[0.5555555555555556,\"#d8576b\"],[0.6666666666666666,\"#ed7953\"],[0.7777777777777778,\"#fb9f3a\"],[0.8888888888888888,\"#fdca26\"],[1.0,\"#f0f921\"]]},\"colorway\":[\"#636efa\",\"#EF553B\",\"#00cc96\",\"#ab63fa\",\"#FFA15A\",\"#19d3f3\",\"#FF6692\",\"#B6E880\",\"#FF97FF\",\"#FECB52\"],\"font\":{\"color\":\"#2a3f5f\"},\"geo\":{\"bgcolor\":\"white\",\"lakecolor\":\"white\",\"landcolor\":\"#E5ECF6\",\"showlakes\":true,\"showland\":true,\"subunitcolor\":\"white\"},\"hoverlabel\":{\"align\":\"left\"},\"hovermode\":\"closest\",\"mapbox\":{\"style\":\"light\"},\"paper_bgcolor\":\"white\",\"plot_bgcolor\":\"#E5ECF6\",\"polar\":{\"angularaxis\":{\"gridcolor\":\"white\",\"linecolor\":\"white\",\"ticks\":\"\"},\"bgcolor\":\"#E5ECF6\",\"radialaxis\":{\"gridcolor\":\"white\",\"linecolor\":\"white\",\"ticks\":\"\"}},\"scene\":{\"xaxis\":{\"backgroundcolor\":\"#E5ECF6\",\"gridcolor\":\"white\",\"gridwidth\":2,\"linecolor\":\"white\",\"showbackground\":true,\"ticks\":\"\",\"zerolinecolor\":\"white\"},\"yaxis\":{\"backgroundcolor\":\"#E5ECF6\",\"gridcolor\":\"white\",\"gridwidth\":2,\"linecolor\":\"white\",\"showbackground\":true,\"ticks\":\"\",\"zerolinecolor\":\"white\"},\"zaxis\":{\"backgroundcolor\":\"#E5ECF6\",\"gridcolor\":\"white\",\"gridwidth\":2,\"linecolor\":\"white\",\"showbackground\":true,\"ticks\":\"\",\"zerolinecolor\":\"white\"}},\"shapedefaults\":{\"line\":{\"color\":\"#2a3f5f\"}},\"ternary\":{\"aaxis\":{\"gridcolor\":\"white\",\"linecolor\":\"white\",\"ticks\":\"\"},\"baxis\":{\"gridcolor\":\"white\",\"linecolor\":\"white\",\"ticks\":\"\"},\"bgcolor\":\"#E5ECF6\",\"caxis\":{\"gridcolor\":\"white\",\"linecolor\":\"white\",\"ticks\":\"\"}},\"title\":{\"x\":0.05},\"xaxis\":{\"automargin\":true,\"gridcolor\":\"white\",\"linecolor\":\"white\",\"ticks\":\"\",\"title\":{\"standoff\":15},\"zerolinecolor\":\"white\",\"zerolinewidth\":2},\"yaxis\":{\"automargin\":true,\"gridcolor\":\"white\",\"linecolor\":\"white\",\"ticks\":\"\",\"title\":{\"standoff\":15},\"zerolinecolor\":\"white\",\"zerolinewidth\":2}}},\"title\":{\"text\":\"Proportion des clients b\\u00e9n\\u00e9ficiaires et non b\\u00e9n\\u00e9fiaires de cr\\u00e9dit\"}},                        {\"responsive\": true}                    ).then(function(){\n",
       "                            \n",
       "var gd = document.getElementById('c654889f-7b4c-4f82-b73d-8647b2ea9e93');\n",
       "var x = new MutationObserver(function (mutations, observer) {{\n",
       "        var display = window.getComputedStyle(gd).display;\n",
       "        if (!display || display === 'none') {{\n",
       "            console.log([gd, 'removed!']);\n",
       "            Plotly.purge(gd);\n",
       "            observer.disconnect();\n",
       "        }}\n",
       "}});\n",
       "\n",
       "// Listen for the removal of the full notebook cells\n",
       "var notebookContainer = gd.closest('#notebook-container');\n",
       "if (notebookContainer) {{\n",
       "    x.observe(notebookContainer, {childList: true});\n",
       "}}\n",
       "\n",
       "// Listen for the clearing of the current output cell\n",
       "var outputEl = gd.closest('.output');\n",
       "if (outputEl) {{\n",
       "    x.observe(outputEl, {childList: true});\n",
       "}}\n",
       "\n",
       "                        })                };                });            </script>        </div>"
      ]
     },
     "metadata": {},
     "output_type": "display_data"
    }
   ],
   "source": [
    "PX.pie(german, \"Age\", title = \"Proportion des clients bénéficiaires et non bénéfiaires de crédit\")"
   ]
  },
  {
   "cell_type": "markdown",
   "metadata": {},
   "source": [
    "Ce graphique nous montre  que le nombre de personnes favorable à l'attribution d'un crédit(70%) est plus élévé que ceux defavorable à l'attribution d'un crédit (30%)."
   ]
  },
  {
   "cell_type": "code",
   "execution_count": 12,
   "metadata": {},
   "outputs": [
    {
     "data": {
      "application/vnd.plotly.v1+json": {
       "config": {
        "plotlyServerURL": "https://plot.ly"
       },
       "data": [
        {
         "domain": {
          "x": [
           0,
           1
          ],
          "y": [
           0,
           1
          ]
         },
         "hovertemplate": "Job=%{label}<extra></extra>",
         "labels": [
          "A173",
          "A173",
          "A172",
          "A173",
          "A173",
          "A172",
          "A173",
          "A174",
          "A172",
          "A174",
          "A173",
          "A173",
          "A173",
          "A172",
          "A173",
          "A172",
          "A173",
          "A173",
          "A174",
          "A173",
          "A173",
          "A173",
          "A172",
          "A173",
          "A173",
          "A172",
          "A172",
          "A173",
          "A173",
          "A173",
          "A173",
          "A173",
          "A173",
          "A172",
          "A174",
          "A172",
          "A173",
          "A173",
          "A173",
          "A173",
          "A174",
          "A173",
          "A172",
          "A173",
          "A172",
          "A174",
          "A173",
          "A171",
          "A172",
          "A173",
          "A172",
          "A174",
          "A173",
          "A173",
          "A173",
          "A172",
          "A174",
          "A173",
          "A174",
          "A172",
          "A173",
          "A173",
          "A174",
          "A173",
          "A173",
          "A173",
          "A173",
          "A173",
          "A173",
          "A173",
          "A173",
          "A172",
          "A174",
          "A172",
          "A174",
          "A174",
          "A173",
          "A173",
          "A172",
          "A173",
          "A173",
          "A173",
          "A172",
          "A172",
          "A172",
          "A174",
          "A173",
          "A173",
          "A174",
          "A173",
          "A173",
          "A173",
          "A172",
          "A173",
          "A173",
          "A173",
          "A173",
          "A173",
          "A173",
          "A174",
          "A172",
          "A173",
          "A173",
          "A173",
          "A173",
          "A174",
          "A174",
          "A173",
          "A173",
          "A173",
          "A173",
          "A173",
          "A172",
          "A173",
          "A173",
          "A173",
          "A174",
          "A173",
          "A173",
          "A174",
          "A173",
          "A174",
          "A172",
          "A173",
          "A173",
          "A173",
          "A172",
          "A173",
          "A174",
          "A173",
          "A173",
          "A173",
          "A172",
          "A173",
          "A173",
          "A173",
          "A173",
          "A172",
          "A173",
          "A172",
          "A171",
          "A174",
          "A174",
          "A173",
          "A173",
          "A173",
          "A173",
          "A173",
          "A173",
          "A173",
          "A173",
          "A173",
          "A173",
          "A173",
          "A174",
          "A173",
          "A173",
          "A172",
          "A173",
          "A172",
          "A173",
          "A173",
          "A173",
          "A174",
          "A173",
          "A173",
          "A173",
          "A173",
          "A173",
          "A173",
          "A173",
          "A173",
          "A174",
          "A173",
          "A173",
          "A174",
          "A173",
          "A173",
          "A174",
          "A173",
          "A173",
          "A174",
          "A172",
          "A173",
          "A173",
          "A173",
          "A174",
          "A171",
          "A173",
          "A173",
          "A174",
          "A172",
          "A173",
          "A173",
          "A173",
          "A174",
          "A173",
          "A173",
          "A173",
          "A174",
          "A173",
          "A172",
          "A173",
          "A173",
          "A172",
          "A174",
          "A173",
          "A173",
          "A172",
          "A173",
          "A173",
          "A172",
          "A173",
          "A174",
          "A173",
          "A172",
          "A173",
          "A173",
          "A172",
          "A173",
          "A172",
          "A173",
          "A173",
          "A173",
          "A173",
          "A173",
          "A173",
          "A174",
          "A173",
          "A173",
          "A173",
          "A172",
          "A173",
          "A172",
          "A172",
          "A174",
          "A171",
          "A172",
          "A173",
          "A173",
          "A173",
          "A173",
          "A173",
          "A173",
          "A172",
          "A173",
          "A173",
          "A173",
          "A173",
          "A173",
          "A172",
          "A172",
          "A173",
          "A173",
          "A173",
          "A172",
          "A172",
          "A173",
          "A173",
          "A172",
          "A173",
          "A173",
          "A174",
          "A172",
          "A172",
          "A173",
          "A173",
          "A173",
          "A174",
          "A173",
          "A173",
          "A173",
          "A174",
          "A173",
          "A172",
          "A173",
          "A173",
          "A172",
          "A173",
          "A174",
          "A173",
          "A173",
          "A172",
          "A173",
          "A173",
          "A172",
          "A173",
          "A174",
          "A173",
          "A173",
          "A173",
          "A174",
          "A174",
          "A173",
          "A174",
          "A173",
          "A173",
          "A172",
          "A173",
          "A173",
          "A171",
          "A173",
          "A172",
          "A173",
          "A173",
          "A173",
          "A172",
          "A172",
          "A173",
          "A172",
          "A171",
          "A173",
          "A173",
          "A172",
          "A172",
          "A173",
          "A172",
          "A172",
          "A173",
          "A172",
          "A174",
          "A173",
          "A174",
          "A173",
          "A173",
          "A172",
          "A173",
          "A173",
          "A173",
          "A173",
          "A174",
          "A173",
          "A174",
          "A172",
          "A173",
          "A174",
          "A172",
          "A173",
          "A173",
          "A172",
          "A173",
          "A172",
          "A173",
          "A174",
          "A172",
          "A172",
          "A173",
          "A171",
          "A172",
          "A173",
          "A173",
          "A173",
          "A174",
          "A173",
          "A173",
          "A172",
          "A173",
          "A174",
          "A173",
          "A173",
          "A173",
          "A174",
          "A173",
          "A173",
          "A171",
          "A173",
          "A173",
          "A173",
          "A173",
          "A173",
          "A173",
          "A173",
          "A173",
          "A174",
          "A174",
          "A173",
          "A173",
          "A173",
          "A174",
          "A172",
          "A173",
          "A174",
          "A173",
          "A173",
          "A172",
          "A173",
          "A173",
          "A174",
          "A173",
          "A173",
          "A174",
          "A172",
          "A174",
          "A173",
          "A174",
          "A173",
          "A174",
          "A173",
          "A173",
          "A172",
          "A173",
          "A173",
          "A173",
          "A172",
          "A173",
          "A173",
          "A173",
          "A173",
          "A174",
          "A173",
          "A173",
          "A174",
          "A174",
          "A172",
          "A173",
          "A173",
          "A172",
          "A173",
          "A174",
          "A173",
          "A173",
          "A173",
          "A172",
          "A174",
          "A173",
          "A173",
          "A173",
          "A173",
          "A173",
          "A171",
          "A172",
          "A174",
          "A174",
          "A173",
          "A173",
          "A173",
          "A172",
          "A173",
          "A171",
          "A171",
          "A174",
          "A173",
          "A173",
          "A172",
          "A174",
          "A172",
          "A173",
          "A173",
          "A174",
          "A173",
          "A174",
          "A173",
          "A173",
          "A174",
          "A173",
          "A174",
          "A173",
          "A173",
          "A173",
          "A173",
          "A173",
          "A173",
          "A174",
          "A173",
          "A173",
          "A173",
          "A172",
          "A173",
          "A173",
          "A172",
          "A173",
          "A173",
          "A172",
          "A174",
          "A173",
          "A173",
          "A173",
          "A173",
          "A172",
          "A173",
          "A172",
          "A173",
          "A173",
          "A173",
          "A173",
          "A174",
          "A173",
          "A173",
          "A172",
          "A173",
          "A173",
          "A174",
          "A173",
          "A173",
          "A172",
          "A173",
          "A174",
          "A173",
          "A172",
          "A173",
          "A173",
          "A173",
          "A173",
          "A173",
          "A173",
          "A172",
          "A173",
          "A174",
          "A173",
          "A174",
          "A173",
          "A174",
          "A173",
          "A173",
          "A173",
          "A173",
          "A172",
          "A173",
          "A173",
          "A173",
          "A173",
          "A173",
          "A173",
          "A173",
          "A172",
          "A173",
          "A173",
          "A172",
          "A173",
          "A172",
          "A173",
          "A173",
          "A173",
          "A173",
          "A173",
          "A173",
          "A174",
          "A173",
          "A174",
          "A172",
          "A173",
          "A173",
          "A173",
          "A172",
          "A172",
          "A173",
          "A173",
          "A173",
          "A172",
          "A173",
          "A173",
          "A172",
          "A173",
          "A173",
          "A174",
          "A173",
          "A173",
          "A173",
          "A173",
          "A172",
          "A173",
          "A172",
          "A173",
          "A173",
          "A174",
          "A173",
          "A173",
          "A173",
          "A173",
          "A173",
          "A172",
          "A173",
          "A174",
          "A172",
          "A172",
          "A173",
          "A173",
          "A173",
          "A173",
          "A172",
          "A173",
          "A172",
          "A173",
          "A172",
          "A174",
          "A173",
          "A173",
          "A172",
          "A172",
          "A173",
          "A172",
          "A173",
          "A172",
          "A172",
          "A174",
          "A172",
          "A173",
          "A172",
          "A173",
          "A173",
          "A173",
          "A173",
          "A172",
          "A174",
          "A173",
          "A173",
          "A174",
          "A173",
          "A173",
          "A173",
          "A173",
          "A172",
          "A173",
          "A173",
          "A173",
          "A174",
          "A174",
          "A173",
          "A173",
          "A172",
          "A173",
          "A173",
          "A173",
          "A173",
          "A173",
          "A173",
          "A173",
          "A173",
          "A173",
          "A172",
          "A173",
          "A173",
          "A173",
          "A173",
          "A172",
          "A173",
          "A173",
          "A173",
          "A173",
          "A173",
          "A171",
          "A172",
          "A174",
          "A173",
          "A174",
          "A173",
          "A173",
          "A173",
          "A173",
          "A172",
          "A174",
          "A172",
          "A173",
          "A174",
          "A173",
          "A173",
          "A172",
          "A173",
          "A173",
          "A173",
          "A173",
          "A173",
          "A173",
          "A174",
          "A172",
          "A174",
          "A173",
          "A173",
          "A173",
          "A173",
          "A172",
          "A173",
          "A174",
          "A173",
          "A172",
          "A174",
          "A173",
          "A173",
          "A172",
          "A173",
          "A173",
          "A173",
          "A173",
          "A173",
          "A172",
          "A173",
          "A173",
          "A173",
          "A173",
          "A173",
          "A173",
          "A172",
          "A173",
          "A172",
          "A173",
          "A173",
          "A173",
          "A171",
          "A173",
          "A174",
          "A172",
          "A173",
          "A173",
          "A173",
          "A173",
          "A173",
          "A173",
          "A173",
          "A173",
          "A172",
          "A174",
          "A173",
          "A174",
          "A172",
          "A174",
          "A173",
          "A173",
          "A174",
          "A173",
          "A173",
          "A174",
          "A173",
          "A172",
          "A172",
          "A173",
          "A172",
          "A172",
          "A173",
          "A173",
          "A173",
          "A173",
          "A172",
          "A172",
          "A173",
          "A173",
          "A171",
          "A174",
          "A172",
          "A174",
          "A172",
          "A173",
          "A172",
          "A173",
          "A173",
          "A174",
          "A172",
          "A173",
          "A172",
          "A173",
          "A173",
          "A173",
          "A172",
          "A172",
          "A173",
          "A173",
          "A173",
          "A171",
          "A173",
          "A173",
          "A173",
          "A173",
          "A173",
          "A172",
          "A174",
          "A173",
          "A172",
          "A172",
          "A173",
          "A173",
          "A172",
          "A173",
          "A174",
          "A174",
          "A173",
          "A171",
          "A173",
          "A173",
          "A173",
          "A174",
          "A173",
          "A173",
          "A173",
          "A172",
          "A172",
          "A174",
          "A172",
          "A173",
          "A173",
          "A173",
          "A173",
          "A173",
          "A174",
          "A173",
          "A173",
          "A173",
          "A173",
          "A173",
          "A172",
          "A173",
          "A171",
          "A173",
          "A172",
          "A173",
          "A173",
          "A171",
          "A173",
          "A172",
          "A173",
          "A174",
          "A171",
          "A173",
          "A172",
          "A173",
          "A173",
          "A173",
          "A173",
          "A173",
          "A173",
          "A174",
          "A173",
          "A173",
          "A173",
          "A173",
          "A172",
          "A174",
          "A173",
          "A173",
          "A173",
          "A173",
          "A173",
          "A173",
          "A173",
          "A173",
          "A173",
          "A172",
          "A173",
          "A173",
          "A172",
          "A173",
          "A173",
          "A173",
          "A172",
          "A173",
          "A173",
          "A173",
          "A173",
          "A173",
          "A173",
          "A173",
          "A172",
          "A173",
          "A173",
          "A173",
          "A172",
          "A173",
          "A173",
          "A173",
          "A173",
          "A173",
          "A173",
          "A173",
          "A173",
          "A173",
          "A172",
          "A172",
          "A173",
          "A173",
          "A173",
          "A173",
          "A173",
          "A173",
          "A173",
          "A173",
          "A173",
          "A172",
          "A173",
          "A174",
          "A173",
          "A174",
          "A173",
          "A174",
          "A173",
          "A173",
          "A171",
          "A173",
          "A173",
          "A173",
          "A173",
          "A174",
          "A173",
          "A174",
          "A173",
          "A172",
          "A173",
          "A173",
          "A174",
          "A174",
          "A173",
          "A172",
          "A173",
          "A173",
          "A173",
          "A173",
          "A173",
          "A174",
          "A174",
          "A172",
          "A173",
          "A172",
          "A172",
          "A173",
          "A172",
          "A173",
          "A173",
          "A173",
          "A174",
          "A173",
          "A174",
          "A173",
          "A174",
          "A173",
          "A174",
          "A173",
          "A173",
          "A173",
          "A173",
          "A173",
          "A173",
          "A173",
          "A172",
          "A172",
          "A173",
          "A173",
          "A173",
          "A173",
          "A174",
          "A172",
          "A174",
          "A173",
          "A174",
          "A174",
          "A172",
          "A173",
          "A172",
          "A173",
          "A173",
          "A173",
          "A174",
          "A172",
          "A173",
          "A171",
          "A173",
          "A173",
          "A174",
          "A173",
          "A174",
          "A172",
          "A172",
          "A172",
          "A173",
          "A173",
          "A173",
          "A173",
          "A173",
          "A172",
          "A173",
          "A172",
          "A174",
          "A173",
          "A172",
          "A173",
          "A172",
          "A171",
          "A173",
          "A173",
          "A172",
          "A173",
          "A173",
          "A172",
          "A173",
          "A173",
          "A174",
          "A174",
          "A173",
          "A172",
          "A173",
          "A173",
          "A173",
          "A174",
          "A172",
          "A172",
          "A172",
          "A172",
          "A174",
          "A173",
          "A172",
          "A174",
          "A173",
          "A173",
          "A173"
         ],
         "legendgroup": "",
         "name": "",
         "showlegend": true,
         "type": "pie"
        }
       ],
       "layout": {
        "legend": {
         "tracegroupgap": 0
        },
        "template": {
         "data": {
          "bar": [
           {
            "error_x": {
             "color": "#2a3f5f"
            },
            "error_y": {
             "color": "#2a3f5f"
            },
            "marker": {
             "line": {
              "color": "#E5ECF6",
              "width": 0.5
             }
            },
            "type": "bar"
           }
          ],
          "barpolar": [
           {
            "marker": {
             "line": {
              "color": "#E5ECF6",
              "width": 0.5
             }
            },
            "type": "barpolar"
           }
          ],
          "carpet": [
           {
            "aaxis": {
             "endlinecolor": "#2a3f5f",
             "gridcolor": "white",
             "linecolor": "white",
             "minorgridcolor": "white",
             "startlinecolor": "#2a3f5f"
            },
            "baxis": {
             "endlinecolor": "#2a3f5f",
             "gridcolor": "white",
             "linecolor": "white",
             "minorgridcolor": "white",
             "startlinecolor": "#2a3f5f"
            },
            "type": "carpet"
           }
          ],
          "choropleth": [
           {
            "colorbar": {
             "outlinewidth": 0,
             "ticks": ""
            },
            "type": "choropleth"
           }
          ],
          "contour": [
           {
            "colorbar": {
             "outlinewidth": 0,
             "ticks": ""
            },
            "colorscale": [
             [
              0,
              "#0d0887"
             ],
             [
              0.1111111111111111,
              "#46039f"
             ],
             [
              0.2222222222222222,
              "#7201a8"
             ],
             [
              0.3333333333333333,
              "#9c179e"
             ],
             [
              0.4444444444444444,
              "#bd3786"
             ],
             [
              0.5555555555555556,
              "#d8576b"
             ],
             [
              0.6666666666666666,
              "#ed7953"
             ],
             [
              0.7777777777777778,
              "#fb9f3a"
             ],
             [
              0.8888888888888888,
              "#fdca26"
             ],
             [
              1,
              "#f0f921"
             ]
            ],
            "type": "contour"
           }
          ],
          "contourcarpet": [
           {
            "colorbar": {
             "outlinewidth": 0,
             "ticks": ""
            },
            "type": "contourcarpet"
           }
          ],
          "heatmap": [
           {
            "colorbar": {
             "outlinewidth": 0,
             "ticks": ""
            },
            "colorscale": [
             [
              0,
              "#0d0887"
             ],
             [
              0.1111111111111111,
              "#46039f"
             ],
             [
              0.2222222222222222,
              "#7201a8"
             ],
             [
              0.3333333333333333,
              "#9c179e"
             ],
             [
              0.4444444444444444,
              "#bd3786"
             ],
             [
              0.5555555555555556,
              "#d8576b"
             ],
             [
              0.6666666666666666,
              "#ed7953"
             ],
             [
              0.7777777777777778,
              "#fb9f3a"
             ],
             [
              0.8888888888888888,
              "#fdca26"
             ],
             [
              1,
              "#f0f921"
             ]
            ],
            "type": "heatmap"
           }
          ],
          "heatmapgl": [
           {
            "colorbar": {
             "outlinewidth": 0,
             "ticks": ""
            },
            "colorscale": [
             [
              0,
              "#0d0887"
             ],
             [
              0.1111111111111111,
              "#46039f"
             ],
             [
              0.2222222222222222,
              "#7201a8"
             ],
             [
              0.3333333333333333,
              "#9c179e"
             ],
             [
              0.4444444444444444,
              "#bd3786"
             ],
             [
              0.5555555555555556,
              "#d8576b"
             ],
             [
              0.6666666666666666,
              "#ed7953"
             ],
             [
              0.7777777777777778,
              "#fb9f3a"
             ],
             [
              0.8888888888888888,
              "#fdca26"
             ],
             [
              1,
              "#f0f921"
             ]
            ],
            "type": "heatmapgl"
           }
          ],
          "histogram": [
           {
            "marker": {
             "colorbar": {
              "outlinewidth": 0,
              "ticks": ""
             }
            },
            "type": "histogram"
           }
          ],
          "histogram2d": [
           {
            "colorbar": {
             "outlinewidth": 0,
             "ticks": ""
            },
            "colorscale": [
             [
              0,
              "#0d0887"
             ],
             [
              0.1111111111111111,
              "#46039f"
             ],
             [
              0.2222222222222222,
              "#7201a8"
             ],
             [
              0.3333333333333333,
              "#9c179e"
             ],
             [
              0.4444444444444444,
              "#bd3786"
             ],
             [
              0.5555555555555556,
              "#d8576b"
             ],
             [
              0.6666666666666666,
              "#ed7953"
             ],
             [
              0.7777777777777778,
              "#fb9f3a"
             ],
             [
              0.8888888888888888,
              "#fdca26"
             ],
             [
              1,
              "#f0f921"
             ]
            ],
            "type": "histogram2d"
           }
          ],
          "histogram2dcontour": [
           {
            "colorbar": {
             "outlinewidth": 0,
             "ticks": ""
            },
            "colorscale": [
             [
              0,
              "#0d0887"
             ],
             [
              0.1111111111111111,
              "#46039f"
             ],
             [
              0.2222222222222222,
              "#7201a8"
             ],
             [
              0.3333333333333333,
              "#9c179e"
             ],
             [
              0.4444444444444444,
              "#bd3786"
             ],
             [
              0.5555555555555556,
              "#d8576b"
             ],
             [
              0.6666666666666666,
              "#ed7953"
             ],
             [
              0.7777777777777778,
              "#fb9f3a"
             ],
             [
              0.8888888888888888,
              "#fdca26"
             ],
             [
              1,
              "#f0f921"
             ]
            ],
            "type": "histogram2dcontour"
           }
          ],
          "mesh3d": [
           {
            "colorbar": {
             "outlinewidth": 0,
             "ticks": ""
            },
            "type": "mesh3d"
           }
          ],
          "parcoords": [
           {
            "line": {
             "colorbar": {
              "outlinewidth": 0,
              "ticks": ""
             }
            },
            "type": "parcoords"
           }
          ],
          "pie": [
           {
            "automargin": true,
            "type": "pie"
           }
          ],
          "scatter": [
           {
            "marker": {
             "colorbar": {
              "outlinewidth": 0,
              "ticks": ""
             }
            },
            "type": "scatter"
           }
          ],
          "scatter3d": [
           {
            "line": {
             "colorbar": {
              "outlinewidth": 0,
              "ticks": ""
             }
            },
            "marker": {
             "colorbar": {
              "outlinewidth": 0,
              "ticks": ""
             }
            },
            "type": "scatter3d"
           }
          ],
          "scattercarpet": [
           {
            "marker": {
             "colorbar": {
              "outlinewidth": 0,
              "ticks": ""
             }
            },
            "type": "scattercarpet"
           }
          ],
          "scattergeo": [
           {
            "marker": {
             "colorbar": {
              "outlinewidth": 0,
              "ticks": ""
             }
            },
            "type": "scattergeo"
           }
          ],
          "scattergl": [
           {
            "marker": {
             "colorbar": {
              "outlinewidth": 0,
              "ticks": ""
             }
            },
            "type": "scattergl"
           }
          ],
          "scattermapbox": [
           {
            "marker": {
             "colorbar": {
              "outlinewidth": 0,
              "ticks": ""
             }
            },
            "type": "scattermapbox"
           }
          ],
          "scatterpolar": [
           {
            "marker": {
             "colorbar": {
              "outlinewidth": 0,
              "ticks": ""
             }
            },
            "type": "scatterpolar"
           }
          ],
          "scatterpolargl": [
           {
            "marker": {
             "colorbar": {
              "outlinewidth": 0,
              "ticks": ""
             }
            },
            "type": "scatterpolargl"
           }
          ],
          "scatterternary": [
           {
            "marker": {
             "colorbar": {
              "outlinewidth": 0,
              "ticks": ""
             }
            },
            "type": "scatterternary"
           }
          ],
          "surface": [
           {
            "colorbar": {
             "outlinewidth": 0,
             "ticks": ""
            },
            "colorscale": [
             [
              0,
              "#0d0887"
             ],
             [
              0.1111111111111111,
              "#46039f"
             ],
             [
              0.2222222222222222,
              "#7201a8"
             ],
             [
              0.3333333333333333,
              "#9c179e"
             ],
             [
              0.4444444444444444,
              "#bd3786"
             ],
             [
              0.5555555555555556,
              "#d8576b"
             ],
             [
              0.6666666666666666,
              "#ed7953"
             ],
             [
              0.7777777777777778,
              "#fb9f3a"
             ],
             [
              0.8888888888888888,
              "#fdca26"
             ],
             [
              1,
              "#f0f921"
             ]
            ],
            "type": "surface"
           }
          ],
          "table": [
           {
            "cells": {
             "fill": {
              "color": "#EBF0F8"
             },
             "line": {
              "color": "white"
             }
            },
            "header": {
             "fill": {
              "color": "#C8D4E3"
             },
             "line": {
              "color": "white"
             }
            },
            "type": "table"
           }
          ]
         },
         "layout": {
          "annotationdefaults": {
           "arrowcolor": "#2a3f5f",
           "arrowhead": 0,
           "arrowwidth": 1
          },
          "coloraxis": {
           "colorbar": {
            "outlinewidth": 0,
            "ticks": ""
           }
          },
          "colorscale": {
           "diverging": [
            [
             0,
             "#8e0152"
            ],
            [
             0.1,
             "#c51b7d"
            ],
            [
             0.2,
             "#de77ae"
            ],
            [
             0.3,
             "#f1b6da"
            ],
            [
             0.4,
             "#fde0ef"
            ],
            [
             0.5,
             "#f7f7f7"
            ],
            [
             0.6,
             "#e6f5d0"
            ],
            [
             0.7,
             "#b8e186"
            ],
            [
             0.8,
             "#7fbc41"
            ],
            [
             0.9,
             "#4d9221"
            ],
            [
             1,
             "#276419"
            ]
           ],
           "sequential": [
            [
             0,
             "#0d0887"
            ],
            [
             0.1111111111111111,
             "#46039f"
            ],
            [
             0.2222222222222222,
             "#7201a8"
            ],
            [
             0.3333333333333333,
             "#9c179e"
            ],
            [
             0.4444444444444444,
             "#bd3786"
            ],
            [
             0.5555555555555556,
             "#d8576b"
            ],
            [
             0.6666666666666666,
             "#ed7953"
            ],
            [
             0.7777777777777778,
             "#fb9f3a"
            ],
            [
             0.8888888888888888,
             "#fdca26"
            ],
            [
             1,
             "#f0f921"
            ]
           ],
           "sequentialminus": [
            [
             0,
             "#0d0887"
            ],
            [
             0.1111111111111111,
             "#46039f"
            ],
            [
             0.2222222222222222,
             "#7201a8"
            ],
            [
             0.3333333333333333,
             "#9c179e"
            ],
            [
             0.4444444444444444,
             "#bd3786"
            ],
            [
             0.5555555555555556,
             "#d8576b"
            ],
            [
             0.6666666666666666,
             "#ed7953"
            ],
            [
             0.7777777777777778,
             "#fb9f3a"
            ],
            [
             0.8888888888888888,
             "#fdca26"
            ],
            [
             1,
             "#f0f921"
            ]
           ]
          },
          "colorway": [
           "#636efa",
           "#EF553B",
           "#00cc96",
           "#ab63fa",
           "#FFA15A",
           "#19d3f3",
           "#FF6692",
           "#B6E880",
           "#FF97FF",
           "#FECB52"
          ],
          "font": {
           "color": "#2a3f5f"
          },
          "geo": {
           "bgcolor": "white",
           "lakecolor": "white",
           "landcolor": "#E5ECF6",
           "showlakes": true,
           "showland": true,
           "subunitcolor": "white"
          },
          "hoverlabel": {
           "align": "left"
          },
          "hovermode": "closest",
          "mapbox": {
           "style": "light"
          },
          "paper_bgcolor": "white",
          "plot_bgcolor": "#E5ECF6",
          "polar": {
           "angularaxis": {
            "gridcolor": "white",
            "linecolor": "white",
            "ticks": ""
           },
           "bgcolor": "#E5ECF6",
           "radialaxis": {
            "gridcolor": "white",
            "linecolor": "white",
            "ticks": ""
           }
          },
          "scene": {
           "xaxis": {
            "backgroundcolor": "#E5ECF6",
            "gridcolor": "white",
            "gridwidth": 2,
            "linecolor": "white",
            "showbackground": true,
            "ticks": "",
            "zerolinecolor": "white"
           },
           "yaxis": {
            "backgroundcolor": "#E5ECF6",
            "gridcolor": "white",
            "gridwidth": 2,
            "linecolor": "white",
            "showbackground": true,
            "ticks": "",
            "zerolinecolor": "white"
           },
           "zaxis": {
            "backgroundcolor": "#E5ECF6",
            "gridcolor": "white",
            "gridwidth": 2,
            "linecolor": "white",
            "showbackground": true,
            "ticks": "",
            "zerolinecolor": "white"
           }
          },
          "shapedefaults": {
           "line": {
            "color": "#2a3f5f"
           }
          },
          "ternary": {
           "aaxis": {
            "gridcolor": "white",
            "linecolor": "white",
            "ticks": ""
           },
           "baxis": {
            "gridcolor": "white",
            "linecolor": "white",
            "ticks": ""
           },
           "bgcolor": "#E5ECF6",
           "caxis": {
            "gridcolor": "white",
            "linecolor": "white",
            "ticks": ""
           }
          },
          "title": {
           "x": 0.05
          },
          "xaxis": {
           "automargin": true,
           "gridcolor": "white",
           "linecolor": "white",
           "ticks": "",
           "title": {
            "standoff": 15
           },
           "zerolinecolor": "white",
           "zerolinewidth": 2
          },
          "yaxis": {
           "automargin": true,
           "gridcolor": "white",
           "linecolor": "white",
           "ticks": "",
           "title": {
            "standoff": 15
           },
           "zerolinecolor": "white",
           "zerolinewidth": 2
          }
         }
        },
        "title": {
         "text": "Répatition des Job"
        }
       }
      },
      "text/html": [
       "<div>\n",
       "        \n",
       "        \n",
       "            <div id=\"d627d521-c3c7-45f2-8ec3-09094bf8e6e9\" class=\"plotly-graph-div\" style=\"height:525px; width:100%;\"></div>\n",
       "            <script type=\"text/javascript\">\n",
       "                require([\"plotly\"], function(Plotly) {\n",
       "                    window.PLOTLYENV=window.PLOTLYENV || {};\n",
       "                    \n",
       "                if (document.getElementById(\"d627d521-c3c7-45f2-8ec3-09094bf8e6e9\")) {\n",
       "                    Plotly.newPlot(\n",
       "                        'd627d521-c3c7-45f2-8ec3-09094bf8e6e9',\n",
       "                        [{\"domain\": {\"x\": [0.0, 1.0], \"y\": [0.0, 1.0]}, \"hovertemplate\": \"Job=%{label}<extra></extra>\", \"labels\": [\"A173\", \"A173\", \"A172\", \"A173\", \"A173\", \"A172\", \"A173\", \"A174\", \"A172\", \"A174\", \"A173\", \"A173\", \"A173\", \"A172\", \"A173\", \"A172\", \"A173\", \"A173\", \"A174\", \"A173\", \"A173\", \"A173\", \"A172\", \"A173\", \"A173\", \"A172\", \"A172\", \"A173\", \"A173\", \"A173\", \"A173\", \"A173\", \"A173\", \"A172\", \"A174\", \"A172\", \"A173\", \"A173\", \"A173\", \"A173\", \"A174\", \"A173\", \"A172\", \"A173\", \"A172\", \"A174\", \"A173\", \"A171\", \"A172\", \"A173\", \"A172\", \"A174\", \"A173\", \"A173\", \"A173\", \"A172\", \"A174\", \"A173\", \"A174\", \"A172\", \"A173\", \"A173\", \"A174\", \"A173\", \"A173\", \"A173\", \"A173\", \"A173\", \"A173\", \"A173\", \"A173\", \"A172\", \"A174\", \"A172\", \"A174\", \"A174\", \"A173\", \"A173\", \"A172\", \"A173\", \"A173\", \"A173\", \"A172\", \"A172\", \"A172\", \"A174\", \"A173\", \"A173\", \"A174\", \"A173\", \"A173\", \"A173\", \"A172\", \"A173\", \"A173\", \"A173\", \"A173\", \"A173\", \"A173\", \"A174\", \"A172\", \"A173\", \"A173\", \"A173\", \"A173\", \"A174\", \"A174\", \"A173\", \"A173\", \"A173\", \"A173\", \"A173\", \"A172\", \"A173\", \"A173\", \"A173\", \"A174\", \"A173\", \"A173\", \"A174\", \"A173\", \"A174\", \"A172\", \"A173\", \"A173\", \"A173\", \"A172\", \"A173\", \"A174\", \"A173\", \"A173\", \"A173\", \"A172\", \"A173\", \"A173\", \"A173\", \"A173\", \"A172\", \"A173\", \"A172\", \"A171\", \"A174\", \"A174\", \"A173\", \"A173\", \"A173\", \"A173\", \"A173\", \"A173\", \"A173\", \"A173\", \"A173\", \"A173\", \"A173\", \"A174\", \"A173\", \"A173\", \"A172\", \"A173\", \"A172\", \"A173\", \"A173\", \"A173\", \"A174\", \"A173\", \"A173\", \"A173\", \"A173\", \"A173\", \"A173\", \"A173\", \"A173\", \"A174\", \"A173\", \"A173\", \"A174\", \"A173\", \"A173\", \"A174\", \"A173\", \"A173\", \"A174\", \"A172\", \"A173\", \"A173\", \"A173\", \"A174\", \"A171\", \"A173\", \"A173\", \"A174\", \"A172\", \"A173\", \"A173\", \"A173\", \"A174\", \"A173\", \"A173\", \"A173\", \"A174\", \"A173\", \"A172\", \"A173\", \"A173\", \"A172\", \"A174\", \"A173\", \"A173\", \"A172\", \"A173\", \"A173\", \"A172\", \"A173\", \"A174\", \"A173\", \"A172\", \"A173\", \"A173\", \"A172\", \"A173\", \"A172\", \"A173\", \"A173\", \"A173\", \"A173\", \"A173\", \"A173\", \"A174\", \"A173\", \"A173\", \"A173\", \"A172\", \"A173\", \"A172\", \"A172\", \"A174\", \"A171\", \"A172\", \"A173\", \"A173\", \"A173\", \"A173\", \"A173\", \"A173\", \"A172\", \"A173\", \"A173\", \"A173\", \"A173\", \"A173\", \"A172\", \"A172\", \"A173\", \"A173\", \"A173\", \"A172\", \"A172\", \"A173\", \"A173\", \"A172\", \"A173\", \"A173\", \"A174\", \"A172\", \"A172\", \"A173\", \"A173\", \"A173\", \"A174\", \"A173\", \"A173\", \"A173\", \"A174\", \"A173\", \"A172\", \"A173\", \"A173\", \"A172\", \"A173\", \"A174\", \"A173\", \"A173\", \"A172\", \"A173\", \"A173\", \"A172\", \"A173\", \"A174\", \"A173\", \"A173\", \"A173\", \"A174\", \"A174\", \"A173\", \"A174\", \"A173\", \"A173\", \"A172\", \"A173\", \"A173\", \"A171\", \"A173\", \"A172\", \"A173\", \"A173\", \"A173\", \"A172\", \"A172\", \"A173\", \"A172\", \"A171\", \"A173\", \"A173\", \"A172\", \"A172\", \"A173\", \"A172\", \"A172\", \"A173\", \"A172\", \"A174\", \"A173\", \"A174\", \"A173\", \"A173\", \"A172\", \"A173\", \"A173\", \"A173\", \"A173\", \"A174\", \"A173\", \"A174\", \"A172\", \"A173\", \"A174\", \"A172\", \"A173\", \"A173\", \"A172\", \"A173\", \"A172\", \"A173\", \"A174\", \"A172\", \"A172\", \"A173\", \"A171\", \"A172\", \"A173\", \"A173\", \"A173\", \"A174\", \"A173\", \"A173\", \"A172\", \"A173\", \"A174\", \"A173\", \"A173\", \"A173\", \"A174\", \"A173\", \"A173\", \"A171\", \"A173\", \"A173\", \"A173\", \"A173\", \"A173\", \"A173\", \"A173\", \"A173\", \"A174\", \"A174\", \"A173\", \"A173\", \"A173\", \"A174\", \"A172\", \"A173\", \"A174\", \"A173\", \"A173\", \"A172\", \"A173\", \"A173\", \"A174\", \"A173\", \"A173\", \"A174\", \"A172\", \"A174\", \"A173\", \"A174\", \"A173\", \"A174\", \"A173\", \"A173\", \"A172\", \"A173\", \"A173\", \"A173\", \"A172\", \"A173\", \"A173\", \"A173\", \"A173\", \"A174\", \"A173\", \"A173\", \"A174\", \"A174\", \"A172\", \"A173\", \"A173\", \"A172\", \"A173\", \"A174\", \"A173\", \"A173\", \"A173\", \"A172\", \"A174\", \"A173\", \"A173\", \"A173\", \"A173\", \"A173\", \"A171\", \"A172\", \"A174\", \"A174\", \"A173\", \"A173\", \"A173\", \"A172\", \"A173\", \"A171\", \"A171\", \"A174\", \"A173\", \"A173\", \"A172\", \"A174\", \"A172\", \"A173\", \"A173\", \"A174\", \"A173\", \"A174\", \"A173\", \"A173\", \"A174\", \"A173\", \"A174\", \"A173\", \"A173\", \"A173\", \"A173\", \"A173\", \"A173\", \"A174\", \"A173\", \"A173\", \"A173\", \"A172\", \"A173\", \"A173\", \"A172\", \"A173\", \"A173\", \"A172\", \"A174\", \"A173\", \"A173\", \"A173\", \"A173\", \"A172\", \"A173\", \"A172\", \"A173\", \"A173\", \"A173\", \"A173\", \"A174\", \"A173\", \"A173\", \"A172\", \"A173\", \"A173\", \"A174\", \"A173\", \"A173\", \"A172\", \"A173\", \"A174\", \"A173\", \"A172\", \"A173\", \"A173\", \"A173\", \"A173\", \"A173\", \"A173\", \"A172\", \"A173\", \"A174\", \"A173\", \"A174\", \"A173\", \"A174\", \"A173\", \"A173\", \"A173\", \"A173\", \"A172\", \"A173\", \"A173\", \"A173\", \"A173\", \"A173\", \"A173\", \"A173\", \"A172\", \"A173\", \"A173\", \"A172\", \"A173\", \"A172\", \"A173\", \"A173\", \"A173\", \"A173\", \"A173\", \"A173\", \"A174\", \"A173\", \"A174\", \"A172\", \"A173\", \"A173\", \"A173\", \"A172\", \"A172\", \"A173\", \"A173\", \"A173\", \"A172\", \"A173\", \"A173\", \"A172\", \"A173\", \"A173\", \"A174\", \"A173\", \"A173\", \"A173\", \"A173\", \"A172\", \"A173\", \"A172\", \"A173\", \"A173\", \"A174\", \"A173\", \"A173\", \"A173\", \"A173\", \"A173\", \"A172\", \"A173\", \"A174\", \"A172\", \"A172\", \"A173\", \"A173\", \"A173\", \"A173\", \"A172\", \"A173\", \"A172\", \"A173\", \"A172\", \"A174\", \"A173\", \"A173\", \"A172\", \"A172\", \"A173\", \"A172\", \"A173\", \"A172\", \"A172\", \"A174\", \"A172\", \"A173\", \"A172\", \"A173\", \"A173\", \"A173\", \"A173\", \"A172\", \"A174\", \"A173\", \"A173\", \"A174\", \"A173\", \"A173\", \"A173\", \"A173\", \"A172\", \"A173\", \"A173\", \"A173\", \"A174\", \"A174\", \"A173\", \"A173\", \"A172\", \"A173\", \"A173\", \"A173\", \"A173\", \"A173\", \"A173\", \"A173\", \"A173\", \"A173\", \"A172\", \"A173\", \"A173\", \"A173\", \"A173\", \"A172\", \"A173\", \"A173\", \"A173\", \"A173\", \"A173\", \"A171\", \"A172\", \"A174\", \"A173\", \"A174\", \"A173\", \"A173\", \"A173\", \"A173\", \"A172\", \"A174\", \"A172\", \"A173\", \"A174\", \"A173\", \"A173\", \"A172\", \"A173\", \"A173\", \"A173\", \"A173\", \"A173\", \"A173\", \"A174\", \"A172\", \"A174\", \"A173\", \"A173\", \"A173\", \"A173\", \"A172\", \"A173\", \"A174\", \"A173\", \"A172\", \"A174\", \"A173\", \"A173\", \"A172\", \"A173\", \"A173\", \"A173\", \"A173\", \"A173\", \"A172\", \"A173\", \"A173\", \"A173\", \"A173\", \"A173\", \"A173\", \"A172\", \"A173\", \"A172\", \"A173\", \"A173\", \"A173\", \"A171\", \"A173\", \"A174\", \"A172\", \"A173\", \"A173\", \"A173\", \"A173\", \"A173\", \"A173\", \"A173\", \"A173\", \"A172\", \"A174\", \"A173\", \"A174\", \"A172\", \"A174\", \"A173\", \"A173\", \"A174\", \"A173\", \"A173\", \"A174\", \"A173\", \"A172\", \"A172\", \"A173\", \"A172\", \"A172\", \"A173\", \"A173\", \"A173\", \"A173\", \"A172\", \"A172\", \"A173\", \"A173\", \"A171\", \"A174\", \"A172\", \"A174\", \"A172\", \"A173\", \"A172\", \"A173\", \"A173\", \"A174\", \"A172\", \"A173\", \"A172\", \"A173\", \"A173\", \"A173\", \"A172\", \"A172\", \"A173\", \"A173\", \"A173\", \"A171\", \"A173\", \"A173\", \"A173\", \"A173\", \"A173\", \"A172\", \"A174\", \"A173\", \"A172\", \"A172\", \"A173\", \"A173\", \"A172\", \"A173\", \"A174\", \"A174\", \"A173\", \"A171\", \"A173\", \"A173\", \"A173\", \"A174\", \"A173\", \"A173\", \"A173\", \"A172\", \"A172\", \"A174\", \"A172\", \"A173\", \"A173\", \"A173\", \"A173\", \"A173\", \"A174\", \"A173\", \"A173\", \"A173\", \"A173\", \"A173\", \"A172\", \"A173\", \"A171\", \"A173\", \"A172\", \"A173\", \"A173\", \"A171\", \"A173\", \"A172\", \"A173\", \"A174\", \"A171\", \"A173\", \"A172\", \"A173\", \"A173\", \"A173\", \"A173\", \"A173\", \"A173\", \"A174\", \"A173\", \"A173\", \"A173\", \"A173\", \"A172\", \"A174\", \"A173\", \"A173\", \"A173\", \"A173\", \"A173\", \"A173\", \"A173\", \"A173\", \"A173\", \"A172\", \"A173\", \"A173\", \"A172\", \"A173\", \"A173\", \"A173\", \"A172\", \"A173\", \"A173\", \"A173\", \"A173\", \"A173\", \"A173\", \"A173\", \"A172\", \"A173\", \"A173\", \"A173\", \"A172\", \"A173\", \"A173\", \"A173\", \"A173\", \"A173\", \"A173\", \"A173\", \"A173\", \"A173\", \"A172\", \"A172\", \"A173\", \"A173\", \"A173\", \"A173\", \"A173\", \"A173\", \"A173\", \"A173\", \"A173\", \"A172\", \"A173\", \"A174\", \"A173\", \"A174\", \"A173\", \"A174\", \"A173\", \"A173\", \"A171\", \"A173\", \"A173\", \"A173\", \"A173\", \"A174\", \"A173\", \"A174\", \"A173\", \"A172\", \"A173\", \"A173\", \"A174\", \"A174\", \"A173\", \"A172\", \"A173\", \"A173\", \"A173\", \"A173\", \"A173\", \"A174\", \"A174\", \"A172\", \"A173\", \"A172\", \"A172\", \"A173\", \"A172\", \"A173\", \"A173\", \"A173\", \"A174\", \"A173\", \"A174\", \"A173\", \"A174\", \"A173\", \"A174\", \"A173\", \"A173\", \"A173\", \"A173\", \"A173\", \"A173\", \"A173\", \"A172\", \"A172\", \"A173\", \"A173\", \"A173\", \"A173\", \"A174\", \"A172\", \"A174\", \"A173\", \"A174\", \"A174\", \"A172\", \"A173\", \"A172\", \"A173\", \"A173\", \"A173\", \"A174\", \"A172\", \"A173\", \"A171\", \"A173\", \"A173\", \"A174\", \"A173\", \"A174\", \"A172\", \"A172\", \"A172\", \"A173\", \"A173\", \"A173\", \"A173\", \"A173\", \"A172\", \"A173\", \"A172\", \"A174\", \"A173\", \"A172\", \"A173\", \"A172\", \"A171\", \"A173\", \"A173\", \"A172\", \"A173\", \"A173\", \"A172\", \"A173\", \"A173\", \"A174\", \"A174\", \"A173\", \"A172\", \"A173\", \"A173\", \"A173\", \"A174\", \"A172\", \"A172\", \"A172\", \"A172\", \"A174\", \"A173\", \"A172\", \"A174\", \"A173\", \"A173\", \"A173\"], \"legendgroup\": \"\", \"name\": \"\", \"showlegend\": true, \"type\": \"pie\"}],\n",
       "                        {\"legend\": {\"tracegroupgap\": 0}, \"template\": {\"data\": {\"bar\": [{\"error_x\": {\"color\": \"#2a3f5f\"}, \"error_y\": {\"color\": \"#2a3f5f\"}, \"marker\": {\"line\": {\"color\": \"#E5ECF6\", \"width\": 0.5}}, \"type\": \"bar\"}], \"barpolar\": [{\"marker\": {\"line\": {\"color\": \"#E5ECF6\", \"width\": 0.5}}, \"type\": \"barpolar\"}], \"carpet\": [{\"aaxis\": {\"endlinecolor\": \"#2a3f5f\", \"gridcolor\": \"white\", \"linecolor\": \"white\", \"minorgridcolor\": \"white\", \"startlinecolor\": \"#2a3f5f\"}, \"baxis\": {\"endlinecolor\": \"#2a3f5f\", \"gridcolor\": \"white\", \"linecolor\": \"white\", \"minorgridcolor\": \"white\", \"startlinecolor\": \"#2a3f5f\"}, \"type\": \"carpet\"}], \"choropleth\": [{\"colorbar\": {\"outlinewidth\": 0, \"ticks\": \"\"}, \"type\": \"choropleth\"}], \"contour\": [{\"colorbar\": {\"outlinewidth\": 0, \"ticks\": \"\"}, \"colorscale\": [[0.0, \"#0d0887\"], [0.1111111111111111, \"#46039f\"], [0.2222222222222222, \"#7201a8\"], [0.3333333333333333, \"#9c179e\"], [0.4444444444444444, \"#bd3786\"], [0.5555555555555556, \"#d8576b\"], [0.6666666666666666, \"#ed7953\"], [0.7777777777777778, \"#fb9f3a\"], [0.8888888888888888, \"#fdca26\"], [1.0, \"#f0f921\"]], \"type\": \"contour\"}], \"contourcarpet\": [{\"colorbar\": {\"outlinewidth\": 0, \"ticks\": \"\"}, \"type\": \"contourcarpet\"}], \"heatmap\": [{\"colorbar\": {\"outlinewidth\": 0, \"ticks\": \"\"}, \"colorscale\": [[0.0, \"#0d0887\"], [0.1111111111111111, \"#46039f\"], [0.2222222222222222, \"#7201a8\"], [0.3333333333333333, \"#9c179e\"], [0.4444444444444444, \"#bd3786\"], [0.5555555555555556, \"#d8576b\"], [0.6666666666666666, \"#ed7953\"], [0.7777777777777778, \"#fb9f3a\"], [0.8888888888888888, \"#fdca26\"], [1.0, \"#f0f921\"]], \"type\": \"heatmap\"}], \"heatmapgl\": [{\"colorbar\": {\"outlinewidth\": 0, \"ticks\": \"\"}, \"colorscale\": [[0.0, \"#0d0887\"], [0.1111111111111111, \"#46039f\"], [0.2222222222222222, \"#7201a8\"], [0.3333333333333333, \"#9c179e\"], [0.4444444444444444, \"#bd3786\"], [0.5555555555555556, \"#d8576b\"], [0.6666666666666666, \"#ed7953\"], [0.7777777777777778, \"#fb9f3a\"], [0.8888888888888888, \"#fdca26\"], [1.0, \"#f0f921\"]], \"type\": \"heatmapgl\"}], \"histogram\": [{\"marker\": {\"colorbar\": {\"outlinewidth\": 0, \"ticks\": \"\"}}, \"type\": \"histogram\"}], \"histogram2d\": [{\"colorbar\": {\"outlinewidth\": 0, \"ticks\": \"\"}, \"colorscale\": [[0.0, \"#0d0887\"], [0.1111111111111111, \"#46039f\"], [0.2222222222222222, \"#7201a8\"], [0.3333333333333333, \"#9c179e\"], [0.4444444444444444, \"#bd3786\"], [0.5555555555555556, \"#d8576b\"], [0.6666666666666666, \"#ed7953\"], [0.7777777777777778, \"#fb9f3a\"], [0.8888888888888888, \"#fdca26\"], [1.0, \"#f0f921\"]], \"type\": \"histogram2d\"}], \"histogram2dcontour\": [{\"colorbar\": {\"outlinewidth\": 0, \"ticks\": \"\"}, \"colorscale\": [[0.0, \"#0d0887\"], [0.1111111111111111, \"#46039f\"], [0.2222222222222222, \"#7201a8\"], [0.3333333333333333, \"#9c179e\"], [0.4444444444444444, \"#bd3786\"], [0.5555555555555556, \"#d8576b\"], [0.6666666666666666, \"#ed7953\"], [0.7777777777777778, \"#fb9f3a\"], [0.8888888888888888, \"#fdca26\"], [1.0, \"#f0f921\"]], \"type\": \"histogram2dcontour\"}], \"mesh3d\": [{\"colorbar\": {\"outlinewidth\": 0, \"ticks\": \"\"}, \"type\": \"mesh3d\"}], \"parcoords\": [{\"line\": {\"colorbar\": {\"outlinewidth\": 0, \"ticks\": \"\"}}, \"type\": \"parcoords\"}], \"pie\": [{\"automargin\": true, \"type\": \"pie\"}], \"scatter\": [{\"marker\": {\"colorbar\": {\"outlinewidth\": 0, \"ticks\": \"\"}}, \"type\": \"scatter\"}], \"scatter3d\": [{\"line\": {\"colorbar\": {\"outlinewidth\": 0, \"ticks\": \"\"}}, \"marker\": {\"colorbar\": {\"outlinewidth\": 0, \"ticks\": \"\"}}, \"type\": \"scatter3d\"}], \"scattercarpet\": [{\"marker\": {\"colorbar\": {\"outlinewidth\": 0, \"ticks\": \"\"}}, \"type\": \"scattercarpet\"}], \"scattergeo\": [{\"marker\": {\"colorbar\": {\"outlinewidth\": 0, \"ticks\": \"\"}}, \"type\": \"scattergeo\"}], \"scattergl\": [{\"marker\": {\"colorbar\": {\"outlinewidth\": 0, \"ticks\": \"\"}}, \"type\": \"scattergl\"}], \"scattermapbox\": [{\"marker\": {\"colorbar\": {\"outlinewidth\": 0, \"ticks\": \"\"}}, \"type\": \"scattermapbox\"}], \"scatterpolar\": [{\"marker\": {\"colorbar\": {\"outlinewidth\": 0, \"ticks\": \"\"}}, \"type\": \"scatterpolar\"}], \"scatterpolargl\": [{\"marker\": {\"colorbar\": {\"outlinewidth\": 0, \"ticks\": \"\"}}, \"type\": \"scatterpolargl\"}], \"scatterternary\": [{\"marker\": {\"colorbar\": {\"outlinewidth\": 0, \"ticks\": \"\"}}, \"type\": \"scatterternary\"}], \"surface\": [{\"colorbar\": {\"outlinewidth\": 0, \"ticks\": \"\"}, \"colorscale\": [[0.0, \"#0d0887\"], [0.1111111111111111, \"#46039f\"], [0.2222222222222222, \"#7201a8\"], [0.3333333333333333, \"#9c179e\"], [0.4444444444444444, \"#bd3786\"], [0.5555555555555556, \"#d8576b\"], [0.6666666666666666, \"#ed7953\"], [0.7777777777777778, \"#fb9f3a\"], [0.8888888888888888, \"#fdca26\"], [1.0, \"#f0f921\"]], \"type\": \"surface\"}], \"table\": [{\"cells\": {\"fill\": {\"color\": \"#EBF0F8\"}, \"line\": {\"color\": \"white\"}}, \"header\": {\"fill\": {\"color\": \"#C8D4E3\"}, \"line\": {\"color\": \"white\"}}, \"type\": \"table\"}]}, \"layout\": {\"annotationdefaults\": {\"arrowcolor\": \"#2a3f5f\", \"arrowhead\": 0, \"arrowwidth\": 1}, \"coloraxis\": {\"colorbar\": {\"outlinewidth\": 0, \"ticks\": \"\"}}, \"colorscale\": {\"diverging\": [[0, \"#8e0152\"], [0.1, \"#c51b7d\"], [0.2, \"#de77ae\"], [0.3, \"#f1b6da\"], [0.4, \"#fde0ef\"], [0.5, \"#f7f7f7\"], [0.6, \"#e6f5d0\"], [0.7, \"#b8e186\"], [0.8, \"#7fbc41\"], [0.9, \"#4d9221\"], [1, \"#276419\"]], \"sequential\": [[0.0, \"#0d0887\"], [0.1111111111111111, \"#46039f\"], [0.2222222222222222, \"#7201a8\"], [0.3333333333333333, \"#9c179e\"], [0.4444444444444444, \"#bd3786\"], [0.5555555555555556, \"#d8576b\"], [0.6666666666666666, \"#ed7953\"], [0.7777777777777778, \"#fb9f3a\"], [0.8888888888888888, \"#fdca26\"], [1.0, \"#f0f921\"]], \"sequentialminus\": [[0.0, \"#0d0887\"], [0.1111111111111111, \"#46039f\"], [0.2222222222222222, \"#7201a8\"], [0.3333333333333333, \"#9c179e\"], [0.4444444444444444, \"#bd3786\"], [0.5555555555555556, \"#d8576b\"], [0.6666666666666666, \"#ed7953\"], [0.7777777777777778, \"#fb9f3a\"], [0.8888888888888888, \"#fdca26\"], [1.0, \"#f0f921\"]]}, \"colorway\": [\"#636efa\", \"#EF553B\", \"#00cc96\", \"#ab63fa\", \"#FFA15A\", \"#19d3f3\", \"#FF6692\", \"#B6E880\", \"#FF97FF\", \"#FECB52\"], \"font\": {\"color\": \"#2a3f5f\"}, \"geo\": {\"bgcolor\": \"white\", \"lakecolor\": \"white\", \"landcolor\": \"#E5ECF6\", \"showlakes\": true, \"showland\": true, \"subunitcolor\": \"white\"}, \"hoverlabel\": {\"align\": \"left\"}, \"hovermode\": \"closest\", \"mapbox\": {\"style\": \"light\"}, \"paper_bgcolor\": \"white\", \"plot_bgcolor\": \"#E5ECF6\", \"polar\": {\"angularaxis\": {\"gridcolor\": \"white\", \"linecolor\": \"white\", \"ticks\": \"\"}, \"bgcolor\": \"#E5ECF6\", \"radialaxis\": {\"gridcolor\": \"white\", \"linecolor\": \"white\", \"ticks\": \"\"}}, \"scene\": {\"xaxis\": {\"backgroundcolor\": \"#E5ECF6\", \"gridcolor\": \"white\", \"gridwidth\": 2, \"linecolor\": \"white\", \"showbackground\": true, \"ticks\": \"\", \"zerolinecolor\": \"white\"}, \"yaxis\": {\"backgroundcolor\": \"#E5ECF6\", \"gridcolor\": \"white\", \"gridwidth\": 2, \"linecolor\": \"white\", \"showbackground\": true, \"ticks\": \"\", \"zerolinecolor\": \"white\"}, \"zaxis\": {\"backgroundcolor\": \"#E5ECF6\", \"gridcolor\": \"white\", \"gridwidth\": 2, \"linecolor\": \"white\", \"showbackground\": true, \"ticks\": \"\", \"zerolinecolor\": \"white\"}}, \"shapedefaults\": {\"line\": {\"color\": \"#2a3f5f\"}}, \"ternary\": {\"aaxis\": {\"gridcolor\": \"white\", \"linecolor\": \"white\", \"ticks\": \"\"}, \"baxis\": {\"gridcolor\": \"white\", \"linecolor\": \"white\", \"ticks\": \"\"}, \"bgcolor\": \"#E5ECF6\", \"caxis\": {\"gridcolor\": \"white\", \"linecolor\": \"white\", \"ticks\": \"\"}}, \"title\": {\"x\": 0.05}, \"xaxis\": {\"automargin\": true, \"gridcolor\": \"white\", \"linecolor\": \"white\", \"ticks\": \"\", \"title\": {\"standoff\": 15}, \"zerolinecolor\": \"white\", \"zerolinewidth\": 2}, \"yaxis\": {\"automargin\": true, \"gridcolor\": \"white\", \"linecolor\": \"white\", \"ticks\": \"\", \"title\": {\"standoff\": 15}, \"zerolinecolor\": \"white\", \"zerolinewidth\": 2}}}, \"title\": {\"text\": \"R\\u00e9patition des Job\"}},\n",
       "                        {\"responsive\": true}\n",
       "                    ).then(function(){\n",
       "                            \n",
       "var gd = document.getElementById('d627d521-c3c7-45f2-8ec3-09094bf8e6e9');\n",
       "var x = new MutationObserver(function (mutations, observer) {{\n",
       "        var display = window.getComputedStyle(gd).display;\n",
       "        if (!display || display === 'none') {{\n",
       "            console.log([gd, 'removed!']);\n",
       "            Plotly.purge(gd);\n",
       "            observer.disconnect();\n",
       "        }}\n",
       "}});\n",
       "\n",
       "// Listen for the removal of the full notebook cells\n",
       "var notebookContainer = gd.closest('#notebook-container');\n",
       "if (notebookContainer) {{\n",
       "    x.observe(notebookContainer, {childList: true});\n",
       "}}\n",
       "\n",
       "// Listen for the clearing of the current output cell\n",
       "var outputEl = gd.closest('.output');\n",
       "if (outputEl) {{\n",
       "    x.observe(outputEl, {childList: true});\n",
       "}}\n",
       "\n",
       "                        })\n",
       "                };\n",
       "                });\n",
       "            </script>\n",
       "        </div>"
      ]
     },
     "metadata": {},
     "output_type": "display_data"
    }
   ],
   "source": [
    "PX.pie(data_frame = german, names = \"Job\",title='Répatition des Job')"
   ]
  },
  {
   "cell_type": "markdown",
   "metadata": {},
   "source": [
    "On constate que 63% des demandeurs sont à majorité des employés qulifiés/fonctionnaires."
   ]
  },
  {
   "cell_type": "code",
   "execution_count": 13,
   "metadata": {},
   "outputs": [
    {
     "data": {
      "application/vnd.plotly.v1+json": {
       "config": {
        "plotlyServerURL": "https://plot.ly"
       },
       "data": [
        {
         "alignmentgroup": "True",
         "box": {
          "visible": true
         },
         "hovertemplate": "Class=%{x}<br>Age=%{y}<extra></extra>",
         "legendgroup": "",
         "marker": {
          "color": "#636efa"
         },
         "name": "",
         "offsetgroup": "",
         "orientation": "v",
         "scalegroup": "True",
         "showlegend": false,
         "type": "violin",
         "x": [
          1,
          2,
          1,
          1,
          2,
          1,
          1,
          1,
          1,
          2,
          2,
          2,
          1,
          2,
          1,
          2,
          1,
          1,
          2,
          1,
          1,
          1,
          1,
          1,
          1,
          1,
          1,
          1,
          1,
          2,
          1,
          1,
          1,
          1,
          1,
          2,
          1,
          2,
          1,
          1,
          1,
          1,
          1,
          1,
          2,
          1,
          1,
          1,
          1,
          1,
          1,
          1,
          1,
          1,
          2,
          1,
          2,
          1,
          1,
          2,
          1,
          1,
          2,
          2,
          1,
          1,
          1,
          1,
          2,
          1,
          1,
          1,
          1,
          1,
          2,
          1,
          2,
          1,
          1,
          1,
          2,
          1,
          1,
          1,
          1,
          1,
          1,
          2,
          1,
          2,
          1,
          1,
          2,
          1,
          1,
          2,
          1,
          1,
          1,
          1,
          1,
          1,
          1,
          1,
          1,
          2,
          2,
          1,
          1,
          1,
          1,
          1,
          1,
          2,
          1,
          1,
          2,
          1,
          2,
          1,
          2,
          1,
          1,
          1,
          2,
          1,
          1,
          2,
          1,
          2,
          1,
          2,
          1,
          1,
          1,
          1,
          1,
          2,
          1,
          1,
          1,
          1,
          1,
          2,
          1,
          1,
          1,
          1,
          1,
          1,
          1,
          1,
          1,
          1,
          1,
          2,
          1,
          1,
          1,
          1,
          1,
          1,
          1,
          1,
          1,
          1,
          2,
          1,
          1,
          2,
          2,
          1,
          2,
          1,
          2,
          2,
          1,
          1,
          1,
          1,
          2,
          2,
          2,
          1,
          2,
          1,
          2,
          1,
          2,
          1,
          2,
          2,
          2,
          1,
          2,
          2,
          1,
          2,
          1,
          2,
          1,
          1,
          1,
          2,
          1,
          1,
          1,
          1,
          1,
          1,
          1,
          1,
          2,
          2,
          1,
          1,
          1,
          1,
          1,
          1,
          1,
          1,
          1,
          1,
          1,
          1,
          2,
          2,
          2,
          1,
          2,
          1,
          1,
          1,
          1,
          2,
          2,
          2,
          1,
          1,
          2,
          1,
          2,
          1,
          1,
          1,
          1,
          1,
          1,
          2,
          1,
          1,
          2,
          1,
          1,
          1,
          1,
          2,
          1,
          1,
          1,
          1,
          1,
          1,
          1,
          2,
          1,
          1,
          2,
          1,
          1,
          1,
          1,
          2,
          2,
          1,
          1,
          1,
          2,
          1,
          1,
          1,
          1,
          1,
          1,
          1,
          1,
          1,
          1,
          2,
          1,
          2,
          1,
          1,
          1,
          2,
          1,
          1,
          1,
          1,
          1,
          2,
          2,
          1,
          2,
          1,
          1,
          2,
          2,
          1,
          1,
          1,
          1,
          2,
          1,
          2,
          1,
          1,
          1,
          1,
          2,
          2,
          1,
          1,
          1,
          1,
          1,
          1,
          1,
          1,
          1,
          2,
          2,
          2,
          2,
          2,
          1,
          2,
          1,
          1,
          1,
          1,
          1,
          1,
          1,
          1,
          1,
          1,
          1,
          2,
          1,
          2,
          1,
          2,
          1,
          2,
          1,
          2,
          1,
          2,
          1,
          1,
          1,
          1,
          2,
          1,
          1,
          1,
          2,
          1,
          1,
          1,
          1,
          1,
          2,
          2,
          1,
          1,
          2,
          1,
          1,
          2,
          1,
          1,
          1,
          1,
          1,
          1,
          1,
          1,
          1,
          1,
          1,
          1,
          1,
          1,
          1,
          1,
          2,
          1,
          1,
          1,
          2,
          1,
          1,
          2,
          1,
          1,
          1,
          2,
          1,
          1,
          2,
          1,
          2,
          1,
          2,
          1,
          1,
          2,
          1,
          1,
          1,
          1,
          2,
          1,
          1,
          1,
          1,
          2,
          1,
          2,
          1,
          1,
          1,
          2,
          1,
          1,
          1,
          2,
          1,
          1,
          1,
          2,
          2,
          1,
          2,
          1,
          1,
          2,
          1,
          1,
          1,
          1,
          2,
          1,
          1,
          2,
          1,
          1,
          1,
          1,
          1,
          1,
          1,
          1,
          2,
          1,
          1,
          1,
          2,
          2,
          2,
          1,
          2,
          2,
          1,
          1,
          1,
          1,
          1,
          1,
          1,
          1,
          1,
          2,
          1,
          1,
          1,
          1,
          1,
          2,
          1,
          1,
          1,
          2,
          2,
          1,
          1,
          1,
          2,
          1,
          1,
          2,
          2,
          2,
          1,
          2,
          1,
          1,
          2,
          1,
          1,
          1,
          1,
          1,
          1,
          2,
          1,
          1,
          1,
          2,
          2,
          1,
          1,
          1,
          1,
          1,
          2,
          1,
          1,
          2,
          1,
          1,
          1,
          2,
          1,
          1,
          2,
          1,
          2,
          1,
          2,
          2,
          1,
          2,
          1,
          1,
          2,
          1,
          1,
          1,
          2,
          1,
          1,
          2,
          2,
          2,
          2,
          2,
          1,
          2,
          1,
          2,
          1,
          1,
          2,
          1,
          1,
          2,
          2,
          1,
          1,
          1,
          1,
          1,
          1,
          1,
          2,
          1,
          2,
          1,
          1,
          2,
          1,
          2,
          1,
          1,
          2,
          2,
          1,
          1,
          1,
          2,
          2,
          2,
          2,
          2,
          2,
          1,
          1,
          2,
          2,
          2,
          1,
          1,
          1,
          2,
          1,
          1,
          2,
          2,
          1,
          1,
          2,
          1,
          1,
          1,
          2,
          1,
          1,
          2,
          2,
          1,
          2,
          1,
          1,
          2,
          1,
          1,
          1,
          2,
          1,
          2,
          2,
          1,
          1,
          1,
          1,
          2,
          2,
          1,
          2,
          1,
          1,
          2,
          1,
          2,
          2,
          2,
          1,
          2,
          2,
          2,
          1,
          1,
          2,
          1,
          1,
          1,
          1,
          2,
          1,
          1,
          1,
          1,
          1,
          1,
          2,
          1,
          1,
          1,
          1,
          1,
          2,
          1,
          1,
          2,
          1,
          1,
          1,
          1,
          1,
          1,
          1,
          1,
          1,
          1,
          1,
          1,
          1,
          1,
          1,
          1,
          1,
          1,
          1,
          1,
          1,
          1,
          2,
          2,
          1,
          1,
          1,
          1,
          2,
          2,
          1,
          1,
          1,
          2,
          1,
          1,
          2,
          1,
          1,
          1,
          1,
          1,
          2,
          2,
          2,
          1,
          2,
          1,
          1,
          2,
          2,
          1,
          1,
          2,
          1,
          1,
          1,
          1,
          2,
          1,
          1,
          2,
          1,
          1,
          1,
          1,
          1,
          1,
          1,
          2,
          1,
          1,
          1,
          2,
          1,
          1,
          2,
          2,
          1,
          2,
          1,
          2,
          1,
          2,
          1,
          2,
          1,
          1,
          2,
          1,
          1,
          1,
          1,
          2,
          1,
          1,
          1,
          2,
          1,
          1,
          1,
          1,
          2,
          1,
          1,
          2,
          1,
          1,
          1,
          1,
          2,
          2,
          2,
          1,
          1,
          1,
          1,
          1,
          2,
          1,
          1,
          1,
          1,
          1,
          1,
          1,
          1,
          2,
          1,
          1,
          1,
          2,
          1,
          1,
          2,
          2,
          2,
          1,
          1,
          1,
          1,
          2,
          1,
          1,
          2,
          1,
          1,
          1,
          2,
          2,
          2,
          1,
          1,
          2,
          2,
          1,
          2,
          2,
          1,
          1,
          1,
          1,
          2,
          1,
          2,
          1,
          1,
          1,
          2,
          1,
          1,
          2,
          2,
          1,
          1,
          2,
          1,
          1,
          1,
          1,
          2,
          1,
          1,
          2,
          2,
          1,
          2,
          1,
          1,
          1,
          1,
          1,
          1,
          1,
          1,
          1,
          1,
          1,
          1,
          1,
          2,
          1,
          1,
          1,
          1,
          1,
          2,
          2,
          1,
          2,
          1,
          1,
          1,
          1,
          1,
          1,
          1,
          1,
          1,
          1,
          1,
          2,
          2,
          1,
          1,
          1,
          1,
          1,
          1,
          1,
          1,
          1,
          1,
          2,
          1,
          1,
          2,
          2,
          1,
          2,
          2,
          2,
          1,
          1,
          2,
          1,
          2,
          2,
          1,
          2,
          1,
          1,
          1,
          2,
          1,
          1,
          1,
          2,
          2,
          1,
          2,
          1,
          1,
          1,
          1,
          1,
          1,
          1,
          2,
          1,
          2,
          2,
          1,
          2,
          2,
          2,
          1,
          1,
          1,
          1,
          2,
          1,
          1,
          1,
          1,
          2,
          1,
          1,
          2,
          1,
          1,
          1,
          1,
          1,
          2,
          2,
          1,
          1,
          1,
          1,
          2,
          2,
          2,
          2,
          1,
          2,
          1,
          1,
          1,
          1,
          1,
          1,
          1,
          1,
          1,
          1,
          1,
          1,
          1,
          1,
          2,
          1
         ],
         "x0": " ",
         "xaxis": "x",
         "y": [
          67,
          22,
          49,
          45,
          53,
          35,
          53,
          35,
          61,
          28,
          25,
          24,
          22,
          60,
          28,
          32,
          53,
          25,
          44,
          31,
          48,
          44,
          48,
          44,
          26,
          36,
          39,
          42,
          34,
          63,
          36,
          27,
          30,
          57,
          33,
          25,
          31,
          37,
          37,
          24,
          30,
          26,
          44,
          24,
          58,
          35,
          39,
          23,
          39,
          28,
          29,
          30,
          25,
          31,
          57,
          26,
          52,
          31,
          23,
          23,
          27,
          50,
          61,
          25,
          26,
          48,
          29,
          22,
          37,
          25,
          30,
          46,
          51,
          41,
          40,
          66,
          34,
          51,
          39,
          22,
          44,
          47,
          24,
          58,
          52,
          29,
          27,
          47,
          30,
          28,
          56,
          54,
          33,
          20,
          54,
          58,
          61,
          34,
          36,
          36,
          41,
          24,
          24,
          35,
          26,
          39,
          39,
          32,
          30,
          35,
          31,
          23,
          28,
          25,
          35,
          47,
          30,
          27,
          23,
          36,
          25,
          41,
          24,
          63,
          27,
          30,
          40,
          30,
          34,
          29,
          24,
          29,
          27,
          47,
          21,
          38,
          27,
          66,
          35,
          44,
          27,
          30,
          27,
          22,
          23,
          30,
          39,
          51,
          28,
          46,
          42,
          38,
          24,
          29,
          36,
          20,
          48,
          45,
          38,
          34,
          36,
          30,
          36,
          70,
          36,
          32,
          33,
          20,
          25,
          31,
          33,
          26,
          34,
          33,
          26,
          53,
          42,
          52,
          31,
          65,
          28,
          30,
          40,
          50,
          36,
          31,
          74,
          68,
          20,
          33,
          54,
          34,
          36,
          29,
          21,
          34,
          28,
          27,
          36,
          40,
          52,
          27,
          26,
          21,
          38,
          38,
          43,
          26,
          21,
          55,
          33,
          45,
          50,
          66,
          51,
          39,
          31,
          23,
          24,
          64,
          26,
          23,
          30,
          32,
          30,
          27,
          27,
          53,
          22,
          22,
          26,
          51,
          35,
          25,
          42,
          30,
          23,
          61,
          35,
          39,
          29,
          51,
          24,
          27,
          35,
          25,
          52,
          35,
          26,
          22,
          39,
          46,
          24,
          35,
          24,
          27,
          35,
          29,
          23,
          57,
          27,
          55,
          36,
          57,
          32,
          37,
          36,
          38,
          45,
          25,
          32,
          37,
          36,
          28,
          34,
          32,
          26,
          49,
          32,
          29,
          23,
          50,
          49,
          63,
          37,
          35,
          26,
          31,
          49,
          48,
          26,
          28,
          44,
          56,
          46,
          26,
          20,
          45,
          43,
          32,
          54,
          42,
          37,
          49,
          44,
          33,
          24,
          33,
          24,
          22,
          40,
          25,
          26,
          25,
          29,
          31,
          38,
          48,
          32,
          27,
          28,
          32,
          34,
          28,
          36,
          39,
          49,
          34,
          31,
          28,
          75,
          30,
          24,
          24,
          23,
          44,
          23,
          24,
          28,
          31,
          24,
          26,
          25,
          33,
          37,
          43,
          23,
          23,
          34,
          32,
          23,
          29,
          38,
          28,
          46,
          23,
          49,
          26,
          28,
          23,
          61,
          37,
          36,
          21,
          25,
          36,
          27,
          22,
          42,
          40,
          36,
          33,
          23,
          63,
          60,
          37,
          34,
          36,
          57,
          52,
          39,
          38,
          25,
          26,
          26,
          25,
          21,
          40,
          27,
          27,
          30,
          19,
          39,
          31,
          31,
          32,
          55,
          46,
          46,
          43,
          39,
          28,
          27,
          27,
          43,
          22,
          43,
          27,
          26,
          28,
          20,
          35,
          42,
          40,
          35,
          35,
          33,
          23,
          31,
          33,
          20,
          30,
          47,
          34,
          25,
          21,
          29,
          46,
          20,
          55,
          74,
          29,
          36,
          33,
          25,
          25,
          23,
          37,
          65,
          26,
          39,
          30,
          29,
          41,
          30,
          41,
          34,
          35,
          55,
          61,
          30,
          29,
          34,
          35,
          31,
          29,
          36,
          35,
          27,
          32,
          37,
          36,
          34,
          38,
          34,
          63,
          29,
          32,
          26,
          35,
          22,
          23,
          28,
          36,
          33,
          26,
          24,
          25,
          39,
          44,
          23,
          26,
          57,
          30,
          44,
          47,
          52,
          62,
          35,
          26,
          26,
          42,
          27,
          38,
          39,
          20,
          29,
          40,
          32,
          28,
          27,
          42,
          49,
          38,
          24,
          27,
          36,
          34,
          28,
          45,
          26,
          32,
          26,
          20,
          54,
          37,
          40,
          23,
          43,
          36,
          44,
          24,
          53,
          23,
          26,
          30,
          31,
          42,
          31,
          41,
          32,
          28,
          41,
          26,
          25,
          33,
          75,
          37,
          42,
          45,
          23,
          60,
          31,
          34,
          61,
          43,
          37,
          32,
          24,
          35,
          23,
          45,
          34,
          27,
          67,
          22,
          28,
          29,
          27,
          31,
          49,
          24,
          29,
          37,
          37,
          23,
          36,
          34,
          41,
          31,
          23,
          38,
          26,
          22,
          27,
          24,
          27,
          33,
          27,
          27,
          30,
          49,
          26,
          33,
          52,
          20,
          36,
          21,
          47,
          60,
          58,
          42,
          36,
          20,
          40,
          32,
          23,
          36,
          31,
          32,
          45,
          30,
          34,
          28,
          23,
          22,
          74,
          50,
          33,
          45,
          22,
          48,
          29,
          22,
          22,
          48,
          27,
          37,
          21,
          49,
          27,
          32,
          38,
          22,
          65,
          35,
          41,
          29,
          36,
          64,
          28,
          44,
          23,
          19,
          25,
          47,
          28,
          21,
          34,
          26,
          27,
          38,
          40,
          33,
          32,
          27,
          32,
          26,
          38,
          40,
          50,
          37,
          45,
          42,
          35,
          22,
          41,
          37,
          28,
          41,
          23,
          23,
          50,
          35,
          50,
          27,
          34,
          27,
          43,
          47,
          27,
          31,
          42,
          24,
          41,
          26,
          33,
          24,
          64,
          26,
          56,
          37,
          33,
          47,
          31,
          34,
          27,
          30,
          35,
          31,
          25,
          25,
          29,
          44,
          28,
          50,
          29,
          38,
          24,
          40,
          29,
          46,
          47,
          41,
          32,
          35,
          24,
          25,
          25,
          37,
          32,
          35,
          46,
          25,
          27,
          63,
          40,
          32,
          31,
          31,
          34,
          24,
          24,
          66,
          21,
          41,
          47,
          25,
          59,
          36,
          33,
          21,
          44,
          28,
          37,
          29,
          23,
          35,
          45,
          26,
          32,
          23,
          41,
          22,
          30,
          28,
          23,
          37,
          26,
          33,
          49,
          23,
          23,
          25,
          55,
          32,
          74,
          39,
          31,
          35,
          59,
          24,
          24,
          30,
          27,
          40,
          31,
          31,
          28,
          63,
          26,
          25,
          36,
          52,
          66,
          25,
          37,
          25,
          38,
          67,
          25,
          60,
          31,
          23,
          60,
          35,
          40,
          38,
          50,
          27,
          39,
          41,
          27,
          51,
          32,
          22,
          51,
          22,
          54,
          35,
          54,
          48,
          24,
          35,
          24,
          24,
          26,
          65,
          55,
          26,
          26,
          28,
          24,
          54,
          46,
          54,
          62,
          24,
          43,
          26,
          27,
          24,
          41,
          47,
          35,
          30,
          33,
          36,
          47,
          38,
          44,
          23,
          29,
          42,
          25,
          48,
          21,
          23,
          63,
          46,
          29,
          28,
          23,
          50,
          47,
          35,
          68,
          28,
          59,
          57,
          33,
          43,
          35,
          32,
          45,
          33,
          40,
          28,
          29,
          26,
          27,
          28,
          35,
          32,
          25,
          20,
          27,
          42,
          37,
          24,
          40,
          46,
          26,
          24,
          29,
          40,
          36,
          28,
          27,
          36,
          38,
          48,
          36,
          65,
          43,
          53,
          34,
          23,
          34,
          40,
          43,
          46,
          38,
          34,
          29,
          31,
          28,
          35,
          33,
          42,
          43,
          44,
          42,
          40,
          36,
          20,
          24,
          27,
          46,
          33,
          34,
          25,
          25,
          28,
          31,
          32,
          32,
          68,
          33,
          39,
          28,
          37,
          22,
          30,
          55,
          46,
          21,
          39,
          58,
          43,
          24,
          22,
          30,
          42,
          23,
          30,
          28,
          30,
          42,
          46,
          45,
          31,
          31,
          42,
          46,
          30,
          30,
          38,
          43,
          31,
          40,
          24,
          28,
          26,
          29,
          57,
          49,
          37,
          45,
          30,
          30,
          47,
          29,
          35,
          22,
          26,
          23,
          54,
          29,
          40,
          22,
          43,
          29,
          36,
          33,
          57,
          64,
          42,
          47,
          25,
          49,
          33,
          28,
          26,
          30,
          25,
          33,
          64,
          29,
          48,
          37,
          34,
          23,
          30,
          50,
          31,
          40,
          38,
          23,
          27
         ],
         "y0": " ",
         "yaxis": "y"
        }
       ],
       "layout": {
        "legend": {
         "tracegroupgap": 0
        },
        "template": {
         "data": {
          "bar": [
           {
            "error_x": {
             "color": "#2a3f5f"
            },
            "error_y": {
             "color": "#2a3f5f"
            },
            "marker": {
             "line": {
              "color": "#E5ECF6",
              "width": 0.5
             }
            },
            "type": "bar"
           }
          ],
          "barpolar": [
           {
            "marker": {
             "line": {
              "color": "#E5ECF6",
              "width": 0.5
             }
            },
            "type": "barpolar"
           }
          ],
          "carpet": [
           {
            "aaxis": {
             "endlinecolor": "#2a3f5f",
             "gridcolor": "white",
             "linecolor": "white",
             "minorgridcolor": "white",
             "startlinecolor": "#2a3f5f"
            },
            "baxis": {
             "endlinecolor": "#2a3f5f",
             "gridcolor": "white",
             "linecolor": "white",
             "minorgridcolor": "white",
             "startlinecolor": "#2a3f5f"
            },
            "type": "carpet"
           }
          ],
          "choropleth": [
           {
            "colorbar": {
             "outlinewidth": 0,
             "ticks": ""
            },
            "type": "choropleth"
           }
          ],
          "contour": [
           {
            "colorbar": {
             "outlinewidth": 0,
             "ticks": ""
            },
            "colorscale": [
             [
              0,
              "#0d0887"
             ],
             [
              0.1111111111111111,
              "#46039f"
             ],
             [
              0.2222222222222222,
              "#7201a8"
             ],
             [
              0.3333333333333333,
              "#9c179e"
             ],
             [
              0.4444444444444444,
              "#bd3786"
             ],
             [
              0.5555555555555556,
              "#d8576b"
             ],
             [
              0.6666666666666666,
              "#ed7953"
             ],
             [
              0.7777777777777778,
              "#fb9f3a"
             ],
             [
              0.8888888888888888,
              "#fdca26"
             ],
             [
              1,
              "#f0f921"
             ]
            ],
            "type": "contour"
           }
          ],
          "contourcarpet": [
           {
            "colorbar": {
             "outlinewidth": 0,
             "ticks": ""
            },
            "type": "contourcarpet"
           }
          ],
          "heatmap": [
           {
            "colorbar": {
             "outlinewidth": 0,
             "ticks": ""
            },
            "colorscale": [
             [
              0,
              "#0d0887"
             ],
             [
              0.1111111111111111,
              "#46039f"
             ],
             [
              0.2222222222222222,
              "#7201a8"
             ],
             [
              0.3333333333333333,
              "#9c179e"
             ],
             [
              0.4444444444444444,
              "#bd3786"
             ],
             [
              0.5555555555555556,
              "#d8576b"
             ],
             [
              0.6666666666666666,
              "#ed7953"
             ],
             [
              0.7777777777777778,
              "#fb9f3a"
             ],
             [
              0.8888888888888888,
              "#fdca26"
             ],
             [
              1,
              "#f0f921"
             ]
            ],
            "type": "heatmap"
           }
          ],
          "heatmapgl": [
           {
            "colorbar": {
             "outlinewidth": 0,
             "ticks": ""
            },
            "colorscale": [
             [
              0,
              "#0d0887"
             ],
             [
              0.1111111111111111,
              "#46039f"
             ],
             [
              0.2222222222222222,
              "#7201a8"
             ],
             [
              0.3333333333333333,
              "#9c179e"
             ],
             [
              0.4444444444444444,
              "#bd3786"
             ],
             [
              0.5555555555555556,
              "#d8576b"
             ],
             [
              0.6666666666666666,
              "#ed7953"
             ],
             [
              0.7777777777777778,
              "#fb9f3a"
             ],
             [
              0.8888888888888888,
              "#fdca26"
             ],
             [
              1,
              "#f0f921"
             ]
            ],
            "type": "heatmapgl"
           }
          ],
          "histogram": [
           {
            "marker": {
             "colorbar": {
              "outlinewidth": 0,
              "ticks": ""
             }
            },
            "type": "histogram"
           }
          ],
          "histogram2d": [
           {
            "colorbar": {
             "outlinewidth": 0,
             "ticks": ""
            },
            "colorscale": [
             [
              0,
              "#0d0887"
             ],
             [
              0.1111111111111111,
              "#46039f"
             ],
             [
              0.2222222222222222,
              "#7201a8"
             ],
             [
              0.3333333333333333,
              "#9c179e"
             ],
             [
              0.4444444444444444,
              "#bd3786"
             ],
             [
              0.5555555555555556,
              "#d8576b"
             ],
             [
              0.6666666666666666,
              "#ed7953"
             ],
             [
              0.7777777777777778,
              "#fb9f3a"
             ],
             [
              0.8888888888888888,
              "#fdca26"
             ],
             [
              1,
              "#f0f921"
             ]
            ],
            "type": "histogram2d"
           }
          ],
          "histogram2dcontour": [
           {
            "colorbar": {
             "outlinewidth": 0,
             "ticks": ""
            },
            "colorscale": [
             [
              0,
              "#0d0887"
             ],
             [
              0.1111111111111111,
              "#46039f"
             ],
             [
              0.2222222222222222,
              "#7201a8"
             ],
             [
              0.3333333333333333,
              "#9c179e"
             ],
             [
              0.4444444444444444,
              "#bd3786"
             ],
             [
              0.5555555555555556,
              "#d8576b"
             ],
             [
              0.6666666666666666,
              "#ed7953"
             ],
             [
              0.7777777777777778,
              "#fb9f3a"
             ],
             [
              0.8888888888888888,
              "#fdca26"
             ],
             [
              1,
              "#f0f921"
             ]
            ],
            "type": "histogram2dcontour"
           }
          ],
          "mesh3d": [
           {
            "colorbar": {
             "outlinewidth": 0,
             "ticks": ""
            },
            "type": "mesh3d"
           }
          ],
          "parcoords": [
           {
            "line": {
             "colorbar": {
              "outlinewidth": 0,
              "ticks": ""
             }
            },
            "type": "parcoords"
           }
          ],
          "pie": [
           {
            "automargin": true,
            "type": "pie"
           }
          ],
          "scatter": [
           {
            "marker": {
             "colorbar": {
              "outlinewidth": 0,
              "ticks": ""
             }
            },
            "type": "scatter"
           }
          ],
          "scatter3d": [
           {
            "line": {
             "colorbar": {
              "outlinewidth": 0,
              "ticks": ""
             }
            },
            "marker": {
             "colorbar": {
              "outlinewidth": 0,
              "ticks": ""
             }
            },
            "type": "scatter3d"
           }
          ],
          "scattercarpet": [
           {
            "marker": {
             "colorbar": {
              "outlinewidth": 0,
              "ticks": ""
             }
            },
            "type": "scattercarpet"
           }
          ],
          "scattergeo": [
           {
            "marker": {
             "colorbar": {
              "outlinewidth": 0,
              "ticks": ""
             }
            },
            "type": "scattergeo"
           }
          ],
          "scattergl": [
           {
            "marker": {
             "colorbar": {
              "outlinewidth": 0,
              "ticks": ""
             }
            },
            "type": "scattergl"
           }
          ],
          "scattermapbox": [
           {
            "marker": {
             "colorbar": {
              "outlinewidth": 0,
              "ticks": ""
             }
            },
            "type": "scattermapbox"
           }
          ],
          "scatterpolar": [
           {
            "marker": {
             "colorbar": {
              "outlinewidth": 0,
              "ticks": ""
             }
            },
            "type": "scatterpolar"
           }
          ],
          "scatterpolargl": [
           {
            "marker": {
             "colorbar": {
              "outlinewidth": 0,
              "ticks": ""
             }
            },
            "type": "scatterpolargl"
           }
          ],
          "scatterternary": [
           {
            "marker": {
             "colorbar": {
              "outlinewidth": 0,
              "ticks": ""
             }
            },
            "type": "scatterternary"
           }
          ],
          "surface": [
           {
            "colorbar": {
             "outlinewidth": 0,
             "ticks": ""
            },
            "colorscale": [
             [
              0,
              "#0d0887"
             ],
             [
              0.1111111111111111,
              "#46039f"
             ],
             [
              0.2222222222222222,
              "#7201a8"
             ],
             [
              0.3333333333333333,
              "#9c179e"
             ],
             [
              0.4444444444444444,
              "#bd3786"
             ],
             [
              0.5555555555555556,
              "#d8576b"
             ],
             [
              0.6666666666666666,
              "#ed7953"
             ],
             [
              0.7777777777777778,
              "#fb9f3a"
             ],
             [
              0.8888888888888888,
              "#fdca26"
             ],
             [
              1,
              "#f0f921"
             ]
            ],
            "type": "surface"
           }
          ],
          "table": [
           {
            "cells": {
             "fill": {
              "color": "#EBF0F8"
             },
             "line": {
              "color": "white"
             }
            },
            "header": {
             "fill": {
              "color": "#C8D4E3"
             },
             "line": {
              "color": "white"
             }
            },
            "type": "table"
           }
          ]
         },
         "layout": {
          "annotationdefaults": {
           "arrowcolor": "#2a3f5f",
           "arrowhead": 0,
           "arrowwidth": 1
          },
          "coloraxis": {
           "colorbar": {
            "outlinewidth": 0,
            "ticks": ""
           }
          },
          "colorscale": {
           "diverging": [
            [
             0,
             "#8e0152"
            ],
            [
             0.1,
             "#c51b7d"
            ],
            [
             0.2,
             "#de77ae"
            ],
            [
             0.3,
             "#f1b6da"
            ],
            [
             0.4,
             "#fde0ef"
            ],
            [
             0.5,
             "#f7f7f7"
            ],
            [
             0.6,
             "#e6f5d0"
            ],
            [
             0.7,
             "#b8e186"
            ],
            [
             0.8,
             "#7fbc41"
            ],
            [
             0.9,
             "#4d9221"
            ],
            [
             1,
             "#276419"
            ]
           ],
           "sequential": [
            [
             0,
             "#0d0887"
            ],
            [
             0.1111111111111111,
             "#46039f"
            ],
            [
             0.2222222222222222,
             "#7201a8"
            ],
            [
             0.3333333333333333,
             "#9c179e"
            ],
            [
             0.4444444444444444,
             "#bd3786"
            ],
            [
             0.5555555555555556,
             "#d8576b"
            ],
            [
             0.6666666666666666,
             "#ed7953"
            ],
            [
             0.7777777777777778,
             "#fb9f3a"
            ],
            [
             0.8888888888888888,
             "#fdca26"
            ],
            [
             1,
             "#f0f921"
            ]
           ],
           "sequentialminus": [
            [
             0,
             "#0d0887"
            ],
            [
             0.1111111111111111,
             "#46039f"
            ],
            [
             0.2222222222222222,
             "#7201a8"
            ],
            [
             0.3333333333333333,
             "#9c179e"
            ],
            [
             0.4444444444444444,
             "#bd3786"
            ],
            [
             0.5555555555555556,
             "#d8576b"
            ],
            [
             0.6666666666666666,
             "#ed7953"
            ],
            [
             0.7777777777777778,
             "#fb9f3a"
            ],
            [
             0.8888888888888888,
             "#fdca26"
            ],
            [
             1,
             "#f0f921"
            ]
           ]
          },
          "colorway": [
           "#636efa",
           "#EF553B",
           "#00cc96",
           "#ab63fa",
           "#FFA15A",
           "#19d3f3",
           "#FF6692",
           "#B6E880",
           "#FF97FF",
           "#FECB52"
          ],
          "font": {
           "color": "#2a3f5f"
          },
          "geo": {
           "bgcolor": "white",
           "lakecolor": "white",
           "landcolor": "#E5ECF6",
           "showlakes": true,
           "showland": true,
           "subunitcolor": "white"
          },
          "hoverlabel": {
           "align": "left"
          },
          "hovermode": "closest",
          "mapbox": {
           "style": "light"
          },
          "paper_bgcolor": "white",
          "plot_bgcolor": "#E5ECF6",
          "polar": {
           "angularaxis": {
            "gridcolor": "white",
            "linecolor": "white",
            "ticks": ""
           },
           "bgcolor": "#E5ECF6",
           "radialaxis": {
            "gridcolor": "white",
            "linecolor": "white",
            "ticks": ""
           }
          },
          "scene": {
           "xaxis": {
            "backgroundcolor": "#E5ECF6",
            "gridcolor": "white",
            "gridwidth": 2,
            "linecolor": "white",
            "showbackground": true,
            "ticks": "",
            "zerolinecolor": "white"
           },
           "yaxis": {
            "backgroundcolor": "#E5ECF6",
            "gridcolor": "white",
            "gridwidth": 2,
            "linecolor": "white",
            "showbackground": true,
            "ticks": "",
            "zerolinecolor": "white"
           },
           "zaxis": {
            "backgroundcolor": "#E5ECF6",
            "gridcolor": "white",
            "gridwidth": 2,
            "linecolor": "white",
            "showbackground": true,
            "ticks": "",
            "zerolinecolor": "white"
           }
          },
          "shapedefaults": {
           "line": {
            "color": "#2a3f5f"
           }
          },
          "ternary": {
           "aaxis": {
            "gridcolor": "white",
            "linecolor": "white",
            "ticks": ""
           },
           "baxis": {
            "gridcolor": "white",
            "linecolor": "white",
            "ticks": ""
           },
           "bgcolor": "#E5ECF6",
           "caxis": {
            "gridcolor": "white",
            "linecolor": "white",
            "ticks": ""
           }
          },
          "title": {
           "x": 0.05
          },
          "xaxis": {
           "automargin": true,
           "gridcolor": "white",
           "linecolor": "white",
           "ticks": "",
           "title": {
            "standoff": 15
           },
           "zerolinecolor": "white",
           "zerolinewidth": 2
          },
          "yaxis": {
           "automargin": true,
           "gridcolor": "white",
           "linecolor": "white",
           "ticks": "",
           "title": {
            "standoff": 15
           },
           "zerolinecolor": "white",
           "zerolinewidth": 2
          }
         }
        },
        "title": {
         "text": "Tendance des âges en fonction de la Class"
        },
        "violinmode": "group",
        "xaxis": {
         "anchor": "y",
         "domain": [
          0,
          1
         ],
         "title": {
          "text": "Class"
         }
        },
        "yaxis": {
         "anchor": "x",
         "domain": [
          0,
          1
         ],
         "title": {
          "text": "Age"
         }
        }
       }
      },
      "text/html": [
       "<div>\n",
       "        \n",
       "        \n",
       "            <div id=\"a528b044-3241-4630-81c1-b2ac3b83d85b\" class=\"plotly-graph-div\" style=\"height:525px; width:100%;\"></div>\n",
       "            <script type=\"text/javascript\">\n",
       "                require([\"plotly\"], function(Plotly) {\n",
       "                    window.PLOTLYENV=window.PLOTLYENV || {};\n",
       "                    \n",
       "                if (document.getElementById(\"a528b044-3241-4630-81c1-b2ac3b83d85b\")) {\n",
       "                    Plotly.newPlot(\n",
       "                        'a528b044-3241-4630-81c1-b2ac3b83d85b',\n",
       "                        [{\"alignmentgroup\": \"True\", \"box\": {\"visible\": true}, \"hovertemplate\": \"Class=%{x}<br>Age=%{y}<extra></extra>\", \"legendgroup\": \"\", \"marker\": {\"color\": \"#636efa\"}, \"name\": \"\", \"offsetgroup\": \"\", \"orientation\": \"v\", \"scalegroup\": \"True\", \"showlegend\": false, \"type\": \"violin\", \"x\": [1, 2, 1, 1, 2, 1, 1, 1, 1, 2, 2, 2, 1, 2, 1, 2, 1, 1, 2, 1, 1, 1, 1, 1, 1, 1, 1, 1, 1, 2, 1, 1, 1, 1, 1, 2, 1, 2, 1, 1, 1, 1, 1, 1, 2, 1, 1, 1, 1, 1, 1, 1, 1, 1, 2, 1, 2, 1, 1, 2, 1, 1, 2, 2, 1, 1, 1, 1, 2, 1, 1, 1, 1, 1, 2, 1, 2, 1, 1, 1, 2, 1, 1, 1, 1, 1, 1, 2, 1, 2, 1, 1, 2, 1, 1, 2, 1, 1, 1, 1, 1, 1, 1, 1, 1, 2, 2, 1, 1, 1, 1, 1, 1, 2, 1, 1, 2, 1, 2, 1, 2, 1, 1, 1, 2, 1, 1, 2, 1, 2, 1, 2, 1, 1, 1, 1, 1, 2, 1, 1, 1, 1, 1, 2, 1, 1, 1, 1, 1, 1, 1, 1, 1, 1, 1, 2, 1, 1, 1, 1, 1, 1, 1, 1, 1, 1, 2, 1, 1, 2, 2, 1, 2, 1, 2, 2, 1, 1, 1, 1, 2, 2, 2, 1, 2, 1, 2, 1, 2, 1, 2, 2, 2, 1, 2, 2, 1, 2, 1, 2, 1, 1, 1, 2, 1, 1, 1, 1, 1, 1, 1, 1, 2, 2, 1, 1, 1, 1, 1, 1, 1, 1, 1, 1, 1, 1, 2, 2, 2, 1, 2, 1, 1, 1, 1, 2, 2, 2, 1, 1, 2, 1, 2, 1, 1, 1, 1, 1, 1, 2, 1, 1, 2, 1, 1, 1, 1, 2, 1, 1, 1, 1, 1, 1, 1, 2, 1, 1, 2, 1, 1, 1, 1, 2, 2, 1, 1, 1, 2, 1, 1, 1, 1, 1, 1, 1, 1, 1, 1, 2, 1, 2, 1, 1, 1, 2, 1, 1, 1, 1, 1, 2, 2, 1, 2, 1, 1, 2, 2, 1, 1, 1, 1, 2, 1, 2, 1, 1, 1, 1, 2, 2, 1, 1, 1, 1, 1, 1, 1, 1, 1, 2, 2, 2, 2, 2, 1, 2, 1, 1, 1, 1, 1, 1, 1, 1, 1, 1, 1, 2, 1, 2, 1, 2, 1, 2, 1, 2, 1, 2, 1, 1, 1, 1, 2, 1, 1, 1, 2, 1, 1, 1, 1, 1, 2, 2, 1, 1, 2, 1, 1, 2, 1, 1, 1, 1, 1, 1, 1, 1, 1, 1, 1, 1, 1, 1, 1, 1, 2, 1, 1, 1, 2, 1, 1, 2, 1, 1, 1, 2, 1, 1, 2, 1, 2, 1, 2, 1, 1, 2, 1, 1, 1, 1, 2, 1, 1, 1, 1, 2, 1, 2, 1, 1, 1, 2, 1, 1, 1, 2, 1, 1, 1, 2, 2, 1, 2, 1, 1, 2, 1, 1, 1, 1, 2, 1, 1, 2, 1, 1, 1, 1, 1, 1, 1, 1, 2, 1, 1, 1, 2, 2, 2, 1, 2, 2, 1, 1, 1, 1, 1, 1, 1, 1, 1, 2, 1, 1, 1, 1, 1, 2, 1, 1, 1, 2, 2, 1, 1, 1, 2, 1, 1, 2, 2, 2, 1, 2, 1, 1, 2, 1, 1, 1, 1, 1, 1, 2, 1, 1, 1, 2, 2, 1, 1, 1, 1, 1, 2, 1, 1, 2, 1, 1, 1, 2, 1, 1, 2, 1, 2, 1, 2, 2, 1, 2, 1, 1, 2, 1, 1, 1, 2, 1, 1, 2, 2, 2, 2, 2, 1, 2, 1, 2, 1, 1, 2, 1, 1, 2, 2, 1, 1, 1, 1, 1, 1, 1, 2, 1, 2, 1, 1, 2, 1, 2, 1, 1, 2, 2, 1, 1, 1, 2, 2, 2, 2, 2, 2, 1, 1, 2, 2, 2, 1, 1, 1, 2, 1, 1, 2, 2, 1, 1, 2, 1, 1, 1, 2, 1, 1, 2, 2, 1, 2, 1, 1, 2, 1, 1, 1, 2, 1, 2, 2, 1, 1, 1, 1, 2, 2, 1, 2, 1, 1, 2, 1, 2, 2, 2, 1, 2, 2, 2, 1, 1, 2, 1, 1, 1, 1, 2, 1, 1, 1, 1, 1, 1, 2, 1, 1, 1, 1, 1, 2, 1, 1, 2, 1, 1, 1, 1, 1, 1, 1, 1, 1, 1, 1, 1, 1, 1, 1, 1, 1, 1, 1, 1, 1, 1, 2, 2, 1, 1, 1, 1, 2, 2, 1, 1, 1, 2, 1, 1, 2, 1, 1, 1, 1, 1, 2, 2, 2, 1, 2, 1, 1, 2, 2, 1, 1, 2, 1, 1, 1, 1, 2, 1, 1, 2, 1, 1, 1, 1, 1, 1, 1, 2, 1, 1, 1, 2, 1, 1, 2, 2, 1, 2, 1, 2, 1, 2, 1, 2, 1, 1, 2, 1, 1, 1, 1, 2, 1, 1, 1, 2, 1, 1, 1, 1, 2, 1, 1, 2, 1, 1, 1, 1, 2, 2, 2, 1, 1, 1, 1, 1, 2, 1, 1, 1, 1, 1, 1, 1, 1, 2, 1, 1, 1, 2, 1, 1, 2, 2, 2, 1, 1, 1, 1, 2, 1, 1, 2, 1, 1, 1, 2, 2, 2, 1, 1, 2, 2, 1, 2, 2, 1, 1, 1, 1, 2, 1, 2, 1, 1, 1, 2, 1, 1, 2, 2, 1, 1, 2, 1, 1, 1, 1, 2, 1, 1, 2, 2, 1, 2, 1, 1, 1, 1, 1, 1, 1, 1, 1, 1, 1, 1, 1, 2, 1, 1, 1, 1, 1, 2, 2, 1, 2, 1, 1, 1, 1, 1, 1, 1, 1, 1, 1, 1, 2, 2, 1, 1, 1, 1, 1, 1, 1, 1, 1, 1, 2, 1, 1, 2, 2, 1, 2, 2, 2, 1, 1, 2, 1, 2, 2, 1, 2, 1, 1, 1, 2, 1, 1, 1, 2, 2, 1, 2, 1, 1, 1, 1, 1, 1, 1, 2, 1, 2, 2, 1, 2, 2, 2, 1, 1, 1, 1, 2, 1, 1, 1, 1, 2, 1, 1, 2, 1, 1, 1, 1, 1, 2, 2, 1, 1, 1, 1, 2, 2, 2, 2, 1, 2, 1, 1, 1, 1, 1, 1, 1, 1, 1, 1, 1, 1, 1, 1, 2, 1], \"x0\": \" \", \"xaxis\": \"x\", \"y\": [67, 22, 49, 45, 53, 35, 53, 35, 61, 28, 25, 24, 22, 60, 28, 32, 53, 25, 44, 31, 48, 44, 48, 44, 26, 36, 39, 42, 34, 63, 36, 27, 30, 57, 33, 25, 31, 37, 37, 24, 30, 26, 44, 24, 58, 35, 39, 23, 39, 28, 29, 30, 25, 31, 57, 26, 52, 31, 23, 23, 27, 50, 61, 25, 26, 48, 29, 22, 37, 25, 30, 46, 51, 41, 40, 66, 34, 51, 39, 22, 44, 47, 24, 58, 52, 29, 27, 47, 30, 28, 56, 54, 33, 20, 54, 58, 61, 34, 36, 36, 41, 24, 24, 35, 26, 39, 39, 32, 30, 35, 31, 23, 28, 25, 35, 47, 30, 27, 23, 36, 25, 41, 24, 63, 27, 30, 40, 30, 34, 29, 24, 29, 27, 47, 21, 38, 27, 66, 35, 44, 27, 30, 27, 22, 23, 30, 39, 51, 28, 46, 42, 38, 24, 29, 36, 20, 48, 45, 38, 34, 36, 30, 36, 70, 36, 32, 33, 20, 25, 31, 33, 26, 34, 33, 26, 53, 42, 52, 31, 65, 28, 30, 40, 50, 36, 31, 74, 68, 20, 33, 54, 34, 36, 29, 21, 34, 28, 27, 36, 40, 52, 27, 26, 21, 38, 38, 43, 26, 21, 55, 33, 45, 50, 66, 51, 39, 31, 23, 24, 64, 26, 23, 30, 32, 30, 27, 27, 53, 22, 22, 26, 51, 35, 25, 42, 30, 23, 61, 35, 39, 29, 51, 24, 27, 35, 25, 52, 35, 26, 22, 39, 46, 24, 35, 24, 27, 35, 29, 23, 57, 27, 55, 36, 57, 32, 37, 36, 38, 45, 25, 32, 37, 36, 28, 34, 32, 26, 49, 32, 29, 23, 50, 49, 63, 37, 35, 26, 31, 49, 48, 26, 28, 44, 56, 46, 26, 20, 45, 43, 32, 54, 42, 37, 49, 44, 33, 24, 33, 24, 22, 40, 25, 26, 25, 29, 31, 38, 48, 32, 27, 28, 32, 34, 28, 36, 39, 49, 34, 31, 28, 75, 30, 24, 24, 23, 44, 23, 24, 28, 31, 24, 26, 25, 33, 37, 43, 23, 23, 34, 32, 23, 29, 38, 28, 46, 23, 49, 26, 28, 23, 61, 37, 36, 21, 25, 36, 27, 22, 42, 40, 36, 33, 23, 63, 60, 37, 34, 36, 57, 52, 39, 38, 25, 26, 26, 25, 21, 40, 27, 27, 30, 19, 39, 31, 31, 32, 55, 46, 46, 43, 39, 28, 27, 27, 43, 22, 43, 27, 26, 28, 20, 35, 42, 40, 35, 35, 33, 23, 31, 33, 20, 30, 47, 34, 25, 21, 29, 46, 20, 55, 74, 29, 36, 33, 25, 25, 23, 37, 65, 26, 39, 30, 29, 41, 30, 41, 34, 35, 55, 61, 30, 29, 34, 35, 31, 29, 36, 35, 27, 32, 37, 36, 34, 38, 34, 63, 29, 32, 26, 35, 22, 23, 28, 36, 33, 26, 24, 25, 39, 44, 23, 26, 57, 30, 44, 47, 52, 62, 35, 26, 26, 42, 27, 38, 39, 20, 29, 40, 32, 28, 27, 42, 49, 38, 24, 27, 36, 34, 28, 45, 26, 32, 26, 20, 54, 37, 40, 23, 43, 36, 44, 24, 53, 23, 26, 30, 31, 42, 31, 41, 32, 28, 41, 26, 25, 33, 75, 37, 42, 45, 23, 60, 31, 34, 61, 43, 37, 32, 24, 35, 23, 45, 34, 27, 67, 22, 28, 29, 27, 31, 49, 24, 29, 37, 37, 23, 36, 34, 41, 31, 23, 38, 26, 22, 27, 24, 27, 33, 27, 27, 30, 49, 26, 33, 52, 20, 36, 21, 47, 60, 58, 42, 36, 20, 40, 32, 23, 36, 31, 32, 45, 30, 34, 28, 23, 22, 74, 50, 33, 45, 22, 48, 29, 22, 22, 48, 27, 37, 21, 49, 27, 32, 38, 22, 65, 35, 41, 29, 36, 64, 28, 44, 23, 19, 25, 47, 28, 21, 34, 26, 27, 38, 40, 33, 32, 27, 32, 26, 38, 40, 50, 37, 45, 42, 35, 22, 41, 37, 28, 41, 23, 23, 50, 35, 50, 27, 34, 27, 43, 47, 27, 31, 42, 24, 41, 26, 33, 24, 64, 26, 56, 37, 33, 47, 31, 34, 27, 30, 35, 31, 25, 25, 29, 44, 28, 50, 29, 38, 24, 40, 29, 46, 47, 41, 32, 35, 24, 25, 25, 37, 32, 35, 46, 25, 27, 63, 40, 32, 31, 31, 34, 24, 24, 66, 21, 41, 47, 25, 59, 36, 33, 21, 44, 28, 37, 29, 23, 35, 45, 26, 32, 23, 41, 22, 30, 28, 23, 37, 26, 33, 49, 23, 23, 25, 55, 32, 74, 39, 31, 35, 59, 24, 24, 30, 27, 40, 31, 31, 28, 63, 26, 25, 36, 52, 66, 25, 37, 25, 38, 67, 25, 60, 31, 23, 60, 35, 40, 38, 50, 27, 39, 41, 27, 51, 32, 22, 51, 22, 54, 35, 54, 48, 24, 35, 24, 24, 26, 65, 55, 26, 26, 28, 24, 54, 46, 54, 62, 24, 43, 26, 27, 24, 41, 47, 35, 30, 33, 36, 47, 38, 44, 23, 29, 42, 25, 48, 21, 23, 63, 46, 29, 28, 23, 50, 47, 35, 68, 28, 59, 57, 33, 43, 35, 32, 45, 33, 40, 28, 29, 26, 27, 28, 35, 32, 25, 20, 27, 42, 37, 24, 40, 46, 26, 24, 29, 40, 36, 28, 27, 36, 38, 48, 36, 65, 43, 53, 34, 23, 34, 40, 43, 46, 38, 34, 29, 31, 28, 35, 33, 42, 43, 44, 42, 40, 36, 20, 24, 27, 46, 33, 34, 25, 25, 28, 31, 32, 32, 68, 33, 39, 28, 37, 22, 30, 55, 46, 21, 39, 58, 43, 24, 22, 30, 42, 23, 30, 28, 30, 42, 46, 45, 31, 31, 42, 46, 30, 30, 38, 43, 31, 40, 24, 28, 26, 29, 57, 49, 37, 45, 30, 30, 47, 29, 35, 22, 26, 23, 54, 29, 40, 22, 43, 29, 36, 33, 57, 64, 42, 47, 25, 49, 33, 28, 26, 30, 25, 33, 64, 29, 48, 37, 34, 23, 30, 50, 31, 40, 38, 23, 27], \"y0\": \" \", \"yaxis\": \"y\"}],\n",
       "                        {\"legend\": {\"tracegroupgap\": 0}, \"template\": {\"data\": {\"bar\": [{\"error_x\": {\"color\": \"#2a3f5f\"}, \"error_y\": {\"color\": \"#2a3f5f\"}, \"marker\": {\"line\": {\"color\": \"#E5ECF6\", \"width\": 0.5}}, \"type\": \"bar\"}], \"barpolar\": [{\"marker\": {\"line\": {\"color\": \"#E5ECF6\", \"width\": 0.5}}, \"type\": \"barpolar\"}], \"carpet\": [{\"aaxis\": {\"endlinecolor\": \"#2a3f5f\", \"gridcolor\": \"white\", \"linecolor\": \"white\", \"minorgridcolor\": \"white\", \"startlinecolor\": \"#2a3f5f\"}, \"baxis\": {\"endlinecolor\": \"#2a3f5f\", \"gridcolor\": \"white\", \"linecolor\": \"white\", \"minorgridcolor\": \"white\", \"startlinecolor\": \"#2a3f5f\"}, \"type\": \"carpet\"}], \"choropleth\": [{\"colorbar\": {\"outlinewidth\": 0, \"ticks\": \"\"}, \"type\": \"choropleth\"}], \"contour\": [{\"colorbar\": {\"outlinewidth\": 0, \"ticks\": \"\"}, \"colorscale\": [[0.0, \"#0d0887\"], [0.1111111111111111, \"#46039f\"], [0.2222222222222222, \"#7201a8\"], [0.3333333333333333, \"#9c179e\"], [0.4444444444444444, \"#bd3786\"], [0.5555555555555556, \"#d8576b\"], [0.6666666666666666, \"#ed7953\"], [0.7777777777777778, \"#fb9f3a\"], [0.8888888888888888, \"#fdca26\"], [1.0, \"#f0f921\"]], \"type\": \"contour\"}], \"contourcarpet\": [{\"colorbar\": {\"outlinewidth\": 0, \"ticks\": \"\"}, \"type\": \"contourcarpet\"}], \"heatmap\": [{\"colorbar\": {\"outlinewidth\": 0, \"ticks\": \"\"}, \"colorscale\": [[0.0, \"#0d0887\"], [0.1111111111111111, \"#46039f\"], [0.2222222222222222, \"#7201a8\"], [0.3333333333333333, \"#9c179e\"], [0.4444444444444444, \"#bd3786\"], [0.5555555555555556, \"#d8576b\"], [0.6666666666666666, \"#ed7953\"], [0.7777777777777778, \"#fb9f3a\"], [0.8888888888888888, \"#fdca26\"], [1.0, \"#f0f921\"]], \"type\": \"heatmap\"}], \"heatmapgl\": [{\"colorbar\": {\"outlinewidth\": 0, \"ticks\": \"\"}, \"colorscale\": [[0.0, \"#0d0887\"], [0.1111111111111111, \"#46039f\"], [0.2222222222222222, \"#7201a8\"], [0.3333333333333333, \"#9c179e\"], [0.4444444444444444, \"#bd3786\"], [0.5555555555555556, \"#d8576b\"], [0.6666666666666666, \"#ed7953\"], [0.7777777777777778, \"#fb9f3a\"], [0.8888888888888888, \"#fdca26\"], [1.0, \"#f0f921\"]], \"type\": \"heatmapgl\"}], \"histogram\": [{\"marker\": {\"colorbar\": {\"outlinewidth\": 0, \"ticks\": \"\"}}, \"type\": \"histogram\"}], \"histogram2d\": [{\"colorbar\": {\"outlinewidth\": 0, \"ticks\": \"\"}, \"colorscale\": [[0.0, \"#0d0887\"], [0.1111111111111111, \"#46039f\"], [0.2222222222222222, \"#7201a8\"], [0.3333333333333333, \"#9c179e\"], [0.4444444444444444, \"#bd3786\"], [0.5555555555555556, \"#d8576b\"], [0.6666666666666666, \"#ed7953\"], [0.7777777777777778, \"#fb9f3a\"], [0.8888888888888888, \"#fdca26\"], [1.0, \"#f0f921\"]], \"type\": \"histogram2d\"}], \"histogram2dcontour\": [{\"colorbar\": {\"outlinewidth\": 0, \"ticks\": \"\"}, \"colorscale\": [[0.0, \"#0d0887\"], [0.1111111111111111, \"#46039f\"], [0.2222222222222222, \"#7201a8\"], [0.3333333333333333, \"#9c179e\"], [0.4444444444444444, \"#bd3786\"], [0.5555555555555556, \"#d8576b\"], [0.6666666666666666, \"#ed7953\"], [0.7777777777777778, \"#fb9f3a\"], [0.8888888888888888, \"#fdca26\"], [1.0, \"#f0f921\"]], \"type\": \"histogram2dcontour\"}], \"mesh3d\": [{\"colorbar\": {\"outlinewidth\": 0, \"ticks\": \"\"}, \"type\": \"mesh3d\"}], \"parcoords\": [{\"line\": {\"colorbar\": {\"outlinewidth\": 0, \"ticks\": \"\"}}, \"type\": \"parcoords\"}], \"pie\": [{\"automargin\": true, \"type\": \"pie\"}], \"scatter\": [{\"marker\": {\"colorbar\": {\"outlinewidth\": 0, \"ticks\": \"\"}}, \"type\": \"scatter\"}], \"scatter3d\": [{\"line\": {\"colorbar\": {\"outlinewidth\": 0, \"ticks\": \"\"}}, \"marker\": {\"colorbar\": {\"outlinewidth\": 0, \"ticks\": \"\"}}, \"type\": \"scatter3d\"}], \"scattercarpet\": [{\"marker\": {\"colorbar\": {\"outlinewidth\": 0, \"ticks\": \"\"}}, \"type\": \"scattercarpet\"}], \"scattergeo\": [{\"marker\": {\"colorbar\": {\"outlinewidth\": 0, \"ticks\": \"\"}}, \"type\": \"scattergeo\"}], \"scattergl\": [{\"marker\": {\"colorbar\": {\"outlinewidth\": 0, \"ticks\": \"\"}}, \"type\": \"scattergl\"}], \"scattermapbox\": [{\"marker\": {\"colorbar\": {\"outlinewidth\": 0, \"ticks\": \"\"}}, \"type\": \"scattermapbox\"}], \"scatterpolar\": [{\"marker\": {\"colorbar\": {\"outlinewidth\": 0, \"ticks\": \"\"}}, \"type\": \"scatterpolar\"}], \"scatterpolargl\": [{\"marker\": {\"colorbar\": {\"outlinewidth\": 0, \"ticks\": \"\"}}, \"type\": \"scatterpolargl\"}], \"scatterternary\": [{\"marker\": {\"colorbar\": {\"outlinewidth\": 0, \"ticks\": \"\"}}, \"type\": \"scatterternary\"}], \"surface\": [{\"colorbar\": {\"outlinewidth\": 0, \"ticks\": \"\"}, \"colorscale\": [[0.0, \"#0d0887\"], [0.1111111111111111, \"#46039f\"], [0.2222222222222222, \"#7201a8\"], [0.3333333333333333, \"#9c179e\"], [0.4444444444444444, \"#bd3786\"], [0.5555555555555556, \"#d8576b\"], [0.6666666666666666, \"#ed7953\"], [0.7777777777777778, \"#fb9f3a\"], [0.8888888888888888, \"#fdca26\"], [1.0, \"#f0f921\"]], \"type\": \"surface\"}], \"table\": [{\"cells\": {\"fill\": {\"color\": \"#EBF0F8\"}, \"line\": {\"color\": \"white\"}}, \"header\": {\"fill\": {\"color\": \"#C8D4E3\"}, \"line\": {\"color\": \"white\"}}, \"type\": \"table\"}]}, \"layout\": {\"annotationdefaults\": {\"arrowcolor\": \"#2a3f5f\", \"arrowhead\": 0, \"arrowwidth\": 1}, \"coloraxis\": {\"colorbar\": {\"outlinewidth\": 0, \"ticks\": \"\"}}, \"colorscale\": {\"diverging\": [[0, \"#8e0152\"], [0.1, \"#c51b7d\"], [0.2, \"#de77ae\"], [0.3, \"#f1b6da\"], [0.4, \"#fde0ef\"], [0.5, \"#f7f7f7\"], [0.6, \"#e6f5d0\"], [0.7, \"#b8e186\"], [0.8, \"#7fbc41\"], [0.9, \"#4d9221\"], [1, \"#276419\"]], \"sequential\": [[0.0, \"#0d0887\"], [0.1111111111111111, \"#46039f\"], [0.2222222222222222, \"#7201a8\"], [0.3333333333333333, \"#9c179e\"], [0.4444444444444444, \"#bd3786\"], [0.5555555555555556, \"#d8576b\"], [0.6666666666666666, \"#ed7953\"], [0.7777777777777778, \"#fb9f3a\"], [0.8888888888888888, \"#fdca26\"], [1.0, \"#f0f921\"]], \"sequentialminus\": [[0.0, \"#0d0887\"], [0.1111111111111111, \"#46039f\"], [0.2222222222222222, \"#7201a8\"], [0.3333333333333333, \"#9c179e\"], [0.4444444444444444, \"#bd3786\"], [0.5555555555555556, \"#d8576b\"], [0.6666666666666666, \"#ed7953\"], [0.7777777777777778, \"#fb9f3a\"], [0.8888888888888888, \"#fdca26\"], [1.0, \"#f0f921\"]]}, \"colorway\": [\"#636efa\", \"#EF553B\", \"#00cc96\", \"#ab63fa\", \"#FFA15A\", \"#19d3f3\", \"#FF6692\", \"#B6E880\", \"#FF97FF\", \"#FECB52\"], \"font\": {\"color\": \"#2a3f5f\"}, \"geo\": {\"bgcolor\": \"white\", \"lakecolor\": \"white\", \"landcolor\": \"#E5ECF6\", \"showlakes\": true, \"showland\": true, \"subunitcolor\": \"white\"}, \"hoverlabel\": {\"align\": \"left\"}, \"hovermode\": \"closest\", \"mapbox\": {\"style\": \"light\"}, \"paper_bgcolor\": \"white\", \"plot_bgcolor\": \"#E5ECF6\", \"polar\": {\"angularaxis\": {\"gridcolor\": \"white\", \"linecolor\": \"white\", \"ticks\": \"\"}, \"bgcolor\": \"#E5ECF6\", \"radialaxis\": {\"gridcolor\": \"white\", \"linecolor\": \"white\", \"ticks\": \"\"}}, \"scene\": {\"xaxis\": {\"backgroundcolor\": \"#E5ECF6\", \"gridcolor\": \"white\", \"gridwidth\": 2, \"linecolor\": \"white\", \"showbackground\": true, \"ticks\": \"\", \"zerolinecolor\": \"white\"}, \"yaxis\": {\"backgroundcolor\": \"#E5ECF6\", \"gridcolor\": \"white\", \"gridwidth\": 2, \"linecolor\": \"white\", \"showbackground\": true, \"ticks\": \"\", \"zerolinecolor\": \"white\"}, \"zaxis\": {\"backgroundcolor\": \"#E5ECF6\", \"gridcolor\": \"white\", \"gridwidth\": 2, \"linecolor\": \"white\", \"showbackground\": true, \"ticks\": \"\", \"zerolinecolor\": \"white\"}}, \"shapedefaults\": {\"line\": {\"color\": \"#2a3f5f\"}}, \"ternary\": {\"aaxis\": {\"gridcolor\": \"white\", \"linecolor\": \"white\", \"ticks\": \"\"}, \"baxis\": {\"gridcolor\": \"white\", \"linecolor\": \"white\", \"ticks\": \"\"}, \"bgcolor\": \"#E5ECF6\", \"caxis\": {\"gridcolor\": \"white\", \"linecolor\": \"white\", \"ticks\": \"\"}}, \"title\": {\"x\": 0.05}, \"xaxis\": {\"automargin\": true, \"gridcolor\": \"white\", \"linecolor\": \"white\", \"ticks\": \"\", \"title\": {\"standoff\": 15}, \"zerolinecolor\": \"white\", \"zerolinewidth\": 2}, \"yaxis\": {\"automargin\": true, \"gridcolor\": \"white\", \"linecolor\": \"white\", \"ticks\": \"\", \"title\": {\"standoff\": 15}, \"zerolinecolor\": \"white\", \"zerolinewidth\": 2}}}, \"title\": {\"text\": \"Tendance des \\u00e2ges en fonction de la Class\"}, \"violinmode\": \"group\", \"xaxis\": {\"anchor\": \"y\", \"domain\": [0.0, 1.0], \"title\": {\"text\": \"Class\"}}, \"yaxis\": {\"anchor\": \"x\", \"domain\": [0.0, 1.0], \"title\": {\"text\": \"Age\"}}},\n",
       "                        {\"responsive\": true}\n",
       "                    ).then(function(){\n",
       "                            \n",
       "var gd = document.getElementById('a528b044-3241-4630-81c1-b2ac3b83d85b');\n",
       "var x = new MutationObserver(function (mutations, observer) {{\n",
       "        var display = window.getComputedStyle(gd).display;\n",
       "        if (!display || display === 'none') {{\n",
       "            console.log([gd, 'removed!']);\n",
       "            Plotly.purge(gd);\n",
       "            observer.disconnect();\n",
       "        }}\n",
       "}});\n",
       "\n",
       "// Listen for the removal of the full notebook cells\n",
       "var notebookContainer = gd.closest('#notebook-container');\n",
       "if (notebookContainer) {{\n",
       "    x.observe(notebookContainer, {childList: true});\n",
       "}}\n",
       "\n",
       "// Listen for the clearing of the current output cell\n",
       "var outputEl = gd.closest('.output');\n",
       "if (outputEl) {{\n",
       "    x.observe(outputEl, {childList: true});\n",
       "}}\n",
       "\n",
       "                        })\n",
       "                };\n",
       "                });\n",
       "            </script>\n",
       "        </div>"
      ]
     },
     "metadata": {},
     "output_type": "display_data"
    }
   ],
   "source": [
    "PX.violin(data_frame = german, x = \"Class\", y = \"Age\", box = True, \n",
    "          title = \"Tendance des âges en fonction de la Class\")"
   ]
  },
  {
   "cell_type": "markdown",
   "metadata": {},
   "source": [
    "Ce graphe nous montre les tranches d'ages plus ou moins favorable à l'attribution d'un prêt.\n",
    "L'analyse qui ressort de ce graphe est que 75% des personnes apte pour un crédit ont un âge inférieur ou égale à 42 ans et 75% des personnes non favorable à un prêt ont un âge inférieur ou égale à 40ans.Le facteur âge n'a pas d'influence sur l'octroiement d'un prêt."
   ]
  },
  {
   "cell_type": "code",
   "execution_count": 15,
   "metadata": {},
   "outputs": [],
   "source": [
    "german_1 = german[german.Class == 1]\n",
    "german_2 = german[german.Class == 2]"
   ]
  },
  {
   "cell_type": "code",
   "execution_count": 16,
   "metadata": {},
   "outputs": [
    {
     "data": {
      "application/vnd.plotly.v1+json": {
       "config": {
        "plotlyServerURL": "https://plot.ly"
       },
       "data": [
        {
         "alignmentgroup": "True",
         "hovertemplate": "Job=%{x}<br>count=%{y}<extra></extra>",
         "legendgroup": "A173",
         "marker": {
          "color": "#636efa"
         },
         "name": "A173",
         "offsetgroup": "A173",
         "orientation": "v",
         "showlegend": true,
         "textposition": "auto",
         "type": "bar",
         "x": [
          "A173",
          "A173",
          "A173",
          "A173",
          "A173",
          "A173",
          "A173",
          "A173",
          "A173",
          "A173",
          "A173",
          "A173",
          "A173",
          "A173",
          "A173",
          "A173",
          "A173",
          "A173",
          "A173",
          "A173",
          "A173",
          "A173",
          "A173",
          "A173",
          "A173",
          "A173",
          "A173",
          "A173",
          "A173",
          "A173",
          "A173",
          "A173",
          "A173",
          "A173",
          "A173",
          "A173",
          "A173",
          "A173",
          "A173",
          "A173",
          "A173",
          "A173",
          "A173",
          "A173",
          "A173",
          "A173",
          "A173",
          "A173",
          "A173",
          "A173",
          "A173",
          "A173",
          "A173",
          "A173",
          "A173",
          "A173",
          "A173",
          "A173",
          "A173",
          "A173",
          "A173",
          "A173",
          "A173",
          "A173",
          "A173",
          "A173",
          "A173",
          "A173",
          "A173",
          "A173",
          "A173",
          "A173",
          "A173",
          "A173",
          "A173",
          "A173",
          "A173",
          "A173",
          "A173",
          "A173",
          "A173",
          "A173",
          "A173",
          "A173",
          "A173",
          "A173",
          "A173",
          "A173",
          "A173",
          "A173",
          "A173",
          "A173",
          "A173",
          "A173",
          "A173",
          "A173",
          "A173",
          "A173",
          "A173",
          "A173",
          "A173",
          "A173",
          "A173",
          "A173",
          "A173",
          "A173",
          "A173",
          "A173",
          "A173",
          "A173",
          "A173",
          "A173",
          "A173",
          "A173",
          "A173",
          "A173",
          "A173",
          "A173",
          "A173",
          "A173",
          "A173",
          "A173",
          "A173",
          "A173",
          "A173",
          "A173",
          "A173",
          "A173",
          "A173",
          "A173",
          "A173",
          "A173",
          "A173",
          "A173",
          "A173",
          "A173",
          "A173",
          "A173",
          "A173",
          "A173",
          "A173",
          "A173",
          "A173",
          "A173",
          "A173",
          "A173",
          "A173",
          "A173",
          "A173",
          "A173",
          "A173",
          "A173",
          "A173",
          "A173",
          "A173",
          "A173",
          "A173",
          "A173",
          "A173",
          "A173",
          "A173",
          "A173",
          "A173",
          "A173",
          "A173",
          "A173",
          "A173",
          "A173",
          "A173",
          "A173",
          "A173",
          "A173",
          "A173",
          "A173",
          "A173",
          "A173",
          "A173",
          "A173",
          "A173",
          "A173",
          "A173",
          "A173",
          "A173",
          "A173",
          "A173",
          "A173",
          "A173",
          "A173",
          "A173",
          "A173",
          "A173",
          "A173",
          "A173",
          "A173",
          "A173",
          "A173",
          "A173",
          "A173",
          "A173",
          "A173",
          "A173",
          "A173",
          "A173",
          "A173",
          "A173",
          "A173",
          "A173",
          "A173",
          "A173",
          "A173",
          "A173",
          "A173",
          "A173",
          "A173",
          "A173",
          "A173",
          "A173",
          "A173",
          "A173",
          "A173",
          "A173",
          "A173",
          "A173",
          "A173",
          "A173",
          "A173",
          "A173",
          "A173",
          "A173",
          "A173",
          "A173",
          "A173",
          "A173",
          "A173",
          "A173",
          "A173",
          "A173",
          "A173",
          "A173",
          "A173",
          "A173",
          "A173",
          "A173",
          "A173",
          "A173",
          "A173",
          "A173",
          "A173",
          "A173",
          "A173",
          "A173",
          "A173",
          "A173",
          "A173",
          "A173",
          "A173",
          "A173",
          "A173",
          "A173",
          "A173",
          "A173",
          "A173",
          "A173",
          "A173",
          "A173",
          "A173",
          "A173",
          "A173",
          "A173",
          "A173",
          "A173",
          "A173",
          "A173",
          "A173",
          "A173",
          "A173",
          "A173",
          "A173",
          "A173",
          "A173",
          "A173",
          "A173",
          "A173",
          "A173",
          "A173",
          "A173",
          "A173",
          "A173",
          "A173",
          "A173",
          "A173",
          "A173",
          "A173",
          "A173",
          "A173",
          "A173",
          "A173",
          "A173",
          "A173",
          "A173",
          "A173",
          "A173",
          "A173",
          "A173",
          "A173",
          "A173",
          "A173",
          "A173",
          "A173",
          "A173",
          "A173",
          "A173",
          "A173",
          "A173",
          "A173",
          "A173",
          "A173",
          "A173",
          "A173",
          "A173",
          "A173",
          "A173",
          "A173",
          "A173",
          "A173",
          "A173",
          "A173",
          "A173",
          "A173",
          "A173",
          "A173",
          "A173",
          "A173",
          "A173",
          "A173",
          "A173",
          "A173",
          "A173",
          "A173",
          "A173",
          "A173",
          "A173",
          "A173",
          "A173",
          "A173",
          "A173",
          "A173",
          "A173",
          "A173",
          "A173",
          "A173",
          "A173",
          "A173",
          "A173",
          "A173",
          "A173",
          "A173",
          "A173",
          "A173",
          "A173",
          "A173",
          "A173",
          "A173",
          "A173",
          "A173",
          "A173",
          "A173",
          "A173",
          "A173",
          "A173",
          "A173",
          "A173",
          "A173",
          "A173",
          "A173",
          "A173",
          "A173",
          "A173",
          "A173",
          "A173",
          "A173",
          "A173",
          "A173",
          "A173",
          "A173",
          "A173",
          "A173",
          "A173",
          "A173",
          "A173",
          "A173",
          "A173",
          "A173",
          "A173",
          "A173",
          "A173",
          "A173",
          "A173",
          "A173",
          "A173",
          "A173",
          "A173",
          "A173",
          "A173",
          "A173",
          "A173",
          "A173",
          "A173",
          "A173",
          "A173",
          "A173",
          "A173",
          "A173",
          "A173",
          "A173",
          "A173",
          "A173",
          "A173",
          "A173",
          "A173",
          "A173",
          "A173",
          "A173",
          "A173",
          "A173",
          "A173",
          "A173",
          "A173",
          "A173",
          "A173",
          "A173",
          "A173",
          "A173",
          "A173",
          "A173",
          "A173",
          "A173",
          "A173",
          "A173",
          "A173",
          "A173",
          "A173",
          "A173",
          "A173"
         ],
         "xaxis": "x",
         "y": [
          1,
          1,
          1,
          1,
          1,
          1,
          1,
          1,
          1,
          1,
          1,
          1,
          1,
          1,
          1,
          1,
          1,
          1,
          1,
          1,
          1,
          1,
          1,
          1,
          1,
          1,
          1,
          1,
          1,
          1,
          1,
          1,
          1,
          1,
          1,
          1,
          1,
          1,
          1,
          1,
          1,
          1,
          1,
          1,
          1,
          1,
          1,
          1,
          1,
          1,
          1,
          1,
          1,
          1,
          1,
          1,
          1,
          1,
          1,
          1,
          1,
          1,
          1,
          1,
          1,
          1,
          1,
          1,
          1,
          1,
          1,
          1,
          1,
          1,
          1,
          1,
          1,
          1,
          1,
          1,
          1,
          1,
          1,
          1,
          1,
          1,
          1,
          1,
          1,
          1,
          1,
          1,
          1,
          1,
          1,
          1,
          1,
          1,
          1,
          1,
          1,
          1,
          1,
          1,
          1,
          1,
          1,
          1,
          1,
          1,
          1,
          1,
          1,
          1,
          1,
          1,
          1,
          1,
          1,
          1,
          1,
          1,
          1,
          1,
          1,
          1,
          1,
          1,
          1,
          1,
          1,
          1,
          1,
          1,
          1,
          1,
          1,
          1,
          1,
          1,
          1,
          1,
          1,
          1,
          1,
          1,
          1,
          1,
          1,
          1,
          1,
          1,
          1,
          1,
          1,
          1,
          1,
          1,
          1,
          1,
          1,
          1,
          1,
          1,
          1,
          1,
          1,
          1,
          1,
          1,
          1,
          1,
          1,
          1,
          1,
          1,
          1,
          1,
          1,
          1,
          1,
          1,
          1,
          1,
          1,
          1,
          1,
          1,
          1,
          1,
          1,
          1,
          1,
          1,
          1,
          1,
          1,
          1,
          1,
          1,
          1,
          1,
          1,
          1,
          1,
          1,
          1,
          1,
          1,
          1,
          1,
          1,
          1,
          1,
          1,
          1,
          1,
          1,
          1,
          1,
          1,
          1,
          1,
          1,
          1,
          1,
          1,
          1,
          1,
          1,
          1,
          1,
          1,
          1,
          1,
          1,
          1,
          1,
          1,
          1,
          1,
          1,
          1,
          1,
          1,
          1,
          1,
          1,
          1,
          1,
          1,
          1,
          1,
          1,
          1,
          1,
          1,
          1,
          1,
          1,
          1,
          1,
          1,
          1,
          1,
          1,
          1,
          1,
          1,
          1,
          1,
          1,
          1,
          1,
          1,
          1,
          1,
          1,
          1,
          1,
          1,
          1,
          1,
          1,
          1,
          1,
          1,
          1,
          1,
          1,
          1,
          1,
          1,
          1,
          1,
          1,
          1,
          1,
          1,
          1,
          1,
          1,
          1,
          1,
          1,
          1,
          1,
          1,
          1,
          1,
          1,
          1,
          1,
          1,
          1,
          1,
          1,
          1,
          1,
          1,
          1,
          1,
          1,
          1,
          1,
          1,
          1,
          1,
          1,
          1,
          1,
          1,
          1,
          1,
          1,
          1,
          1,
          1,
          1,
          1,
          1,
          1,
          1,
          1,
          1,
          1,
          1,
          1,
          1,
          1,
          1,
          1,
          1,
          1,
          1,
          1,
          1,
          1,
          1,
          1,
          1,
          1,
          1,
          1,
          1,
          1,
          1,
          1,
          1,
          1,
          1,
          1,
          1,
          1,
          1,
          1,
          1,
          1,
          1,
          1,
          1,
          1,
          1,
          1,
          1,
          1,
          1,
          1,
          1,
          1,
          1,
          1,
          1,
          1,
          1,
          1,
          1,
          1,
          1,
          1,
          1,
          1,
          1,
          1,
          1,
          1,
          1,
          1,
          1,
          1,
          1,
          1,
          1,
          1,
          1,
          1,
          1,
          1,
          1,
          1,
          1,
          1,
          1,
          1,
          1,
          1,
          1,
          1,
          1,
          1,
          1,
          1,
          1,
          1,
          1,
          1,
          1,
          1,
          1,
          1,
          1,
          1,
          1,
          1
         ],
         "yaxis": "y"
        },
        {
         "alignmentgroup": "True",
         "hovertemplate": "Job=%{x}<br>count=%{y}<extra></extra>",
         "legendgroup": "A172",
         "marker": {
          "color": "#EF553B"
         },
         "name": "A172",
         "offsetgroup": "A172",
         "orientation": "v",
         "showlegend": true,
         "textposition": "auto",
         "type": "bar",
         "x": [
          "A172",
          "A172",
          "A172",
          "A172",
          "A172",
          "A172",
          "A172",
          "A172",
          "A172",
          "A172",
          "A172",
          "A172",
          "A172",
          "A172",
          "A172",
          "A172",
          "A172",
          "A172",
          "A172",
          "A172",
          "A172",
          "A172",
          "A172",
          "A172",
          "A172",
          "A172",
          "A172",
          "A172",
          "A172",
          "A172",
          "A172",
          "A172",
          "A172",
          "A172",
          "A172",
          "A172",
          "A172",
          "A172",
          "A172",
          "A172",
          "A172",
          "A172",
          "A172",
          "A172",
          "A172",
          "A172",
          "A172",
          "A172",
          "A172",
          "A172",
          "A172",
          "A172",
          "A172",
          "A172",
          "A172",
          "A172",
          "A172",
          "A172",
          "A172",
          "A172",
          "A172",
          "A172",
          "A172",
          "A172",
          "A172",
          "A172",
          "A172",
          "A172",
          "A172",
          "A172",
          "A172",
          "A172",
          "A172",
          "A172",
          "A172",
          "A172",
          "A172",
          "A172",
          "A172",
          "A172",
          "A172",
          "A172",
          "A172",
          "A172",
          "A172",
          "A172",
          "A172",
          "A172",
          "A172",
          "A172",
          "A172",
          "A172",
          "A172",
          "A172",
          "A172",
          "A172",
          "A172",
          "A172",
          "A172",
          "A172",
          "A172",
          "A172",
          "A172",
          "A172",
          "A172",
          "A172",
          "A172",
          "A172",
          "A172",
          "A172",
          "A172",
          "A172",
          "A172",
          "A172",
          "A172",
          "A172",
          "A172",
          "A172",
          "A172",
          "A172",
          "A172",
          "A172",
          "A172",
          "A172",
          "A172",
          "A172",
          "A172",
          "A172",
          "A172",
          "A172",
          "A172",
          "A172",
          "A172",
          "A172",
          "A172",
          "A172",
          "A172",
          "A172",
          "A172",
          "A172",
          "A172",
          "A172",
          "A172",
          "A172"
         ],
         "xaxis": "x",
         "y": [
          1,
          1,
          1,
          1,
          1,
          1,
          1,
          1,
          1,
          1,
          1,
          1,
          1,
          1,
          1,
          1,
          1,
          1,
          1,
          1,
          1,
          1,
          1,
          1,
          1,
          1,
          1,
          1,
          1,
          1,
          1,
          1,
          1,
          1,
          1,
          1,
          1,
          1,
          1,
          1,
          1,
          1,
          1,
          1,
          1,
          1,
          1,
          1,
          1,
          1,
          1,
          1,
          1,
          1,
          1,
          1,
          1,
          1,
          1,
          1,
          1,
          1,
          1,
          1,
          1,
          1,
          1,
          1,
          1,
          1,
          1,
          1,
          1,
          1,
          1,
          1,
          1,
          1,
          1,
          1,
          1,
          1,
          1,
          1,
          1,
          1,
          1,
          1,
          1,
          1,
          1,
          1,
          1,
          1,
          1,
          1,
          1,
          1,
          1,
          1,
          1,
          1,
          1,
          1,
          1,
          1,
          1,
          1,
          1,
          1,
          1,
          1,
          1,
          1,
          1,
          1,
          1,
          1,
          1,
          1,
          1,
          1,
          1,
          1,
          1,
          1,
          1,
          1,
          1,
          1,
          1,
          1,
          1,
          1,
          1,
          1,
          1,
          1,
          1,
          1,
          1,
          1,
          1,
          1
         ],
         "yaxis": "y"
        },
        {
         "alignmentgroup": "True",
         "hovertemplate": "Job=%{x}<br>count=%{y}<extra></extra>",
         "legendgroup": "A174",
         "marker": {
          "color": "#00cc96"
         },
         "name": "A174",
         "offsetgroup": "A174",
         "orientation": "v",
         "showlegend": true,
         "textposition": "auto",
         "type": "bar",
         "x": [
          "A174",
          "A174",
          "A174",
          "A174",
          "A174",
          "A174",
          "A174",
          "A174",
          "A174",
          "A174",
          "A174",
          "A174",
          "A174",
          "A174",
          "A174",
          "A174",
          "A174",
          "A174",
          "A174",
          "A174",
          "A174",
          "A174",
          "A174",
          "A174",
          "A174",
          "A174",
          "A174",
          "A174",
          "A174",
          "A174",
          "A174",
          "A174",
          "A174",
          "A174",
          "A174",
          "A174",
          "A174",
          "A174",
          "A174",
          "A174",
          "A174",
          "A174",
          "A174",
          "A174",
          "A174",
          "A174",
          "A174",
          "A174",
          "A174",
          "A174",
          "A174",
          "A174",
          "A174",
          "A174",
          "A174",
          "A174",
          "A174",
          "A174",
          "A174",
          "A174",
          "A174",
          "A174",
          "A174",
          "A174",
          "A174",
          "A174",
          "A174",
          "A174",
          "A174",
          "A174",
          "A174",
          "A174",
          "A174",
          "A174",
          "A174",
          "A174",
          "A174",
          "A174",
          "A174",
          "A174",
          "A174",
          "A174",
          "A174",
          "A174",
          "A174",
          "A174",
          "A174",
          "A174",
          "A174",
          "A174",
          "A174",
          "A174",
          "A174",
          "A174",
          "A174",
          "A174",
          "A174"
         ],
         "xaxis": "x",
         "y": [
          1,
          1,
          1,
          1,
          1,
          1,
          1,
          1,
          1,
          1,
          1,
          1,
          1,
          1,
          1,
          1,
          1,
          1,
          1,
          1,
          1,
          1,
          1,
          1,
          1,
          1,
          1,
          1,
          1,
          1,
          1,
          1,
          1,
          1,
          1,
          1,
          1,
          1,
          1,
          1,
          1,
          1,
          1,
          1,
          1,
          1,
          1,
          1,
          1,
          1,
          1,
          1,
          1,
          1,
          1,
          1,
          1,
          1,
          1,
          1,
          1,
          1,
          1,
          1,
          1,
          1,
          1,
          1,
          1,
          1,
          1,
          1,
          1,
          1,
          1,
          1,
          1,
          1,
          1,
          1,
          1,
          1,
          1,
          1,
          1,
          1,
          1,
          1,
          1,
          1,
          1,
          1,
          1,
          1,
          1,
          1,
          1
         ],
         "yaxis": "y"
        },
        {
         "alignmentgroup": "True",
         "hovertemplate": "Job=%{x}<br>count=%{y}<extra></extra>",
         "legendgroup": "A171",
         "marker": {
          "color": "#ab63fa"
         },
         "name": "A171",
         "offsetgroup": "A171",
         "orientation": "v",
         "showlegend": true,
         "textposition": "auto",
         "type": "bar",
         "x": [
          "A171",
          "A171",
          "A171",
          "A171",
          "A171",
          "A171",
          "A171",
          "A171",
          "A171",
          "A171",
          "A171",
          "A171",
          "A171",
          "A171",
          "A171"
         ],
         "xaxis": "x",
         "y": [
          1,
          1,
          1,
          1,
          1,
          1,
          1,
          1,
          1,
          1,
          1,
          1,
          1,
          1,
          1
         ],
         "yaxis": "y"
        }
       ],
       "layout": {
        "barmode": "relative",
        "legend": {
         "title": {
          "text": "Job"
         },
         "tracegroupgap": 0
        },
        "margin": {
         "t": 60
        },
        "template": {
         "data": {
          "bar": [
           {
            "error_x": {
             "color": "#2a3f5f"
            },
            "error_y": {
             "color": "#2a3f5f"
            },
            "marker": {
             "line": {
              "color": "#E5ECF6",
              "width": 0.5
             }
            },
            "type": "bar"
           }
          ],
          "barpolar": [
           {
            "marker": {
             "line": {
              "color": "#E5ECF6",
              "width": 0.5
             }
            },
            "type": "barpolar"
           }
          ],
          "carpet": [
           {
            "aaxis": {
             "endlinecolor": "#2a3f5f",
             "gridcolor": "white",
             "linecolor": "white",
             "minorgridcolor": "white",
             "startlinecolor": "#2a3f5f"
            },
            "baxis": {
             "endlinecolor": "#2a3f5f",
             "gridcolor": "white",
             "linecolor": "white",
             "minorgridcolor": "white",
             "startlinecolor": "#2a3f5f"
            },
            "type": "carpet"
           }
          ],
          "choropleth": [
           {
            "colorbar": {
             "outlinewidth": 0,
             "ticks": ""
            },
            "type": "choropleth"
           }
          ],
          "contour": [
           {
            "colorbar": {
             "outlinewidth": 0,
             "ticks": ""
            },
            "colorscale": [
             [
              0,
              "#0d0887"
             ],
             [
              0.1111111111111111,
              "#46039f"
             ],
             [
              0.2222222222222222,
              "#7201a8"
             ],
             [
              0.3333333333333333,
              "#9c179e"
             ],
             [
              0.4444444444444444,
              "#bd3786"
             ],
             [
              0.5555555555555556,
              "#d8576b"
             ],
             [
              0.6666666666666666,
              "#ed7953"
             ],
             [
              0.7777777777777778,
              "#fb9f3a"
             ],
             [
              0.8888888888888888,
              "#fdca26"
             ],
             [
              1,
              "#f0f921"
             ]
            ],
            "type": "contour"
           }
          ],
          "contourcarpet": [
           {
            "colorbar": {
             "outlinewidth": 0,
             "ticks": ""
            },
            "type": "contourcarpet"
           }
          ],
          "heatmap": [
           {
            "colorbar": {
             "outlinewidth": 0,
             "ticks": ""
            },
            "colorscale": [
             [
              0,
              "#0d0887"
             ],
             [
              0.1111111111111111,
              "#46039f"
             ],
             [
              0.2222222222222222,
              "#7201a8"
             ],
             [
              0.3333333333333333,
              "#9c179e"
             ],
             [
              0.4444444444444444,
              "#bd3786"
             ],
             [
              0.5555555555555556,
              "#d8576b"
             ],
             [
              0.6666666666666666,
              "#ed7953"
             ],
             [
              0.7777777777777778,
              "#fb9f3a"
             ],
             [
              0.8888888888888888,
              "#fdca26"
             ],
             [
              1,
              "#f0f921"
             ]
            ],
            "type": "heatmap"
           }
          ],
          "heatmapgl": [
           {
            "colorbar": {
             "outlinewidth": 0,
             "ticks": ""
            },
            "colorscale": [
             [
              0,
              "#0d0887"
             ],
             [
              0.1111111111111111,
              "#46039f"
             ],
             [
              0.2222222222222222,
              "#7201a8"
             ],
             [
              0.3333333333333333,
              "#9c179e"
             ],
             [
              0.4444444444444444,
              "#bd3786"
             ],
             [
              0.5555555555555556,
              "#d8576b"
             ],
             [
              0.6666666666666666,
              "#ed7953"
             ],
             [
              0.7777777777777778,
              "#fb9f3a"
             ],
             [
              0.8888888888888888,
              "#fdca26"
             ],
             [
              1,
              "#f0f921"
             ]
            ],
            "type": "heatmapgl"
           }
          ],
          "histogram": [
           {
            "marker": {
             "colorbar": {
              "outlinewidth": 0,
              "ticks": ""
             }
            },
            "type": "histogram"
           }
          ],
          "histogram2d": [
           {
            "colorbar": {
             "outlinewidth": 0,
             "ticks": ""
            },
            "colorscale": [
             [
              0,
              "#0d0887"
             ],
             [
              0.1111111111111111,
              "#46039f"
             ],
             [
              0.2222222222222222,
              "#7201a8"
             ],
             [
              0.3333333333333333,
              "#9c179e"
             ],
             [
              0.4444444444444444,
              "#bd3786"
             ],
             [
              0.5555555555555556,
              "#d8576b"
             ],
             [
              0.6666666666666666,
              "#ed7953"
             ],
             [
              0.7777777777777778,
              "#fb9f3a"
             ],
             [
              0.8888888888888888,
              "#fdca26"
             ],
             [
              1,
              "#f0f921"
             ]
            ],
            "type": "histogram2d"
           }
          ],
          "histogram2dcontour": [
           {
            "colorbar": {
             "outlinewidth": 0,
             "ticks": ""
            },
            "colorscale": [
             [
              0,
              "#0d0887"
             ],
             [
              0.1111111111111111,
              "#46039f"
             ],
             [
              0.2222222222222222,
              "#7201a8"
             ],
             [
              0.3333333333333333,
              "#9c179e"
             ],
             [
              0.4444444444444444,
              "#bd3786"
             ],
             [
              0.5555555555555556,
              "#d8576b"
             ],
             [
              0.6666666666666666,
              "#ed7953"
             ],
             [
              0.7777777777777778,
              "#fb9f3a"
             ],
             [
              0.8888888888888888,
              "#fdca26"
             ],
             [
              1,
              "#f0f921"
             ]
            ],
            "type": "histogram2dcontour"
           }
          ],
          "mesh3d": [
           {
            "colorbar": {
             "outlinewidth": 0,
             "ticks": ""
            },
            "type": "mesh3d"
           }
          ],
          "parcoords": [
           {
            "line": {
             "colorbar": {
              "outlinewidth": 0,
              "ticks": ""
             }
            },
            "type": "parcoords"
           }
          ],
          "pie": [
           {
            "automargin": true,
            "type": "pie"
           }
          ],
          "scatter": [
           {
            "marker": {
             "colorbar": {
              "outlinewidth": 0,
              "ticks": ""
             }
            },
            "type": "scatter"
           }
          ],
          "scatter3d": [
           {
            "line": {
             "colorbar": {
              "outlinewidth": 0,
              "ticks": ""
             }
            },
            "marker": {
             "colorbar": {
              "outlinewidth": 0,
              "ticks": ""
             }
            },
            "type": "scatter3d"
           }
          ],
          "scattercarpet": [
           {
            "marker": {
             "colorbar": {
              "outlinewidth": 0,
              "ticks": ""
             }
            },
            "type": "scattercarpet"
           }
          ],
          "scattergeo": [
           {
            "marker": {
             "colorbar": {
              "outlinewidth": 0,
              "ticks": ""
             }
            },
            "type": "scattergeo"
           }
          ],
          "scattergl": [
           {
            "marker": {
             "colorbar": {
              "outlinewidth": 0,
              "ticks": ""
             }
            },
            "type": "scattergl"
           }
          ],
          "scattermapbox": [
           {
            "marker": {
             "colorbar": {
              "outlinewidth": 0,
              "ticks": ""
             }
            },
            "type": "scattermapbox"
           }
          ],
          "scatterpolar": [
           {
            "marker": {
             "colorbar": {
              "outlinewidth": 0,
              "ticks": ""
             }
            },
            "type": "scatterpolar"
           }
          ],
          "scatterpolargl": [
           {
            "marker": {
             "colorbar": {
              "outlinewidth": 0,
              "ticks": ""
             }
            },
            "type": "scatterpolargl"
           }
          ],
          "scatterternary": [
           {
            "marker": {
             "colorbar": {
              "outlinewidth": 0,
              "ticks": ""
             }
            },
            "type": "scatterternary"
           }
          ],
          "surface": [
           {
            "colorbar": {
             "outlinewidth": 0,
             "ticks": ""
            },
            "colorscale": [
             [
              0,
              "#0d0887"
             ],
             [
              0.1111111111111111,
              "#46039f"
             ],
             [
              0.2222222222222222,
              "#7201a8"
             ],
             [
              0.3333333333333333,
              "#9c179e"
             ],
             [
              0.4444444444444444,
              "#bd3786"
             ],
             [
              0.5555555555555556,
              "#d8576b"
             ],
             [
              0.6666666666666666,
              "#ed7953"
             ],
             [
              0.7777777777777778,
              "#fb9f3a"
             ],
             [
              0.8888888888888888,
              "#fdca26"
             ],
             [
              1,
              "#f0f921"
             ]
            ],
            "type": "surface"
           }
          ],
          "table": [
           {
            "cells": {
             "fill": {
              "color": "#EBF0F8"
             },
             "line": {
              "color": "white"
             }
            },
            "header": {
             "fill": {
              "color": "#C8D4E3"
             },
             "line": {
              "color": "white"
             }
            },
            "type": "table"
           }
          ]
         },
         "layout": {
          "annotationdefaults": {
           "arrowcolor": "#2a3f5f",
           "arrowhead": 0,
           "arrowwidth": 1
          },
          "coloraxis": {
           "colorbar": {
            "outlinewidth": 0,
            "ticks": ""
           }
          },
          "colorscale": {
           "diverging": [
            [
             0,
             "#8e0152"
            ],
            [
             0.1,
             "#c51b7d"
            ],
            [
             0.2,
             "#de77ae"
            ],
            [
             0.3,
             "#f1b6da"
            ],
            [
             0.4,
             "#fde0ef"
            ],
            [
             0.5,
             "#f7f7f7"
            ],
            [
             0.6,
             "#e6f5d0"
            ],
            [
             0.7,
             "#b8e186"
            ],
            [
             0.8,
             "#7fbc41"
            ],
            [
             0.9,
             "#4d9221"
            ],
            [
             1,
             "#276419"
            ]
           ],
           "sequential": [
            [
             0,
             "#0d0887"
            ],
            [
             0.1111111111111111,
             "#46039f"
            ],
            [
             0.2222222222222222,
             "#7201a8"
            ],
            [
             0.3333333333333333,
             "#9c179e"
            ],
            [
             0.4444444444444444,
             "#bd3786"
            ],
            [
             0.5555555555555556,
             "#d8576b"
            ],
            [
             0.6666666666666666,
             "#ed7953"
            ],
            [
             0.7777777777777778,
             "#fb9f3a"
            ],
            [
             0.8888888888888888,
             "#fdca26"
            ],
            [
             1,
             "#f0f921"
            ]
           ],
           "sequentialminus": [
            [
             0,
             "#0d0887"
            ],
            [
             0.1111111111111111,
             "#46039f"
            ],
            [
             0.2222222222222222,
             "#7201a8"
            ],
            [
             0.3333333333333333,
             "#9c179e"
            ],
            [
             0.4444444444444444,
             "#bd3786"
            ],
            [
             0.5555555555555556,
             "#d8576b"
            ],
            [
             0.6666666666666666,
             "#ed7953"
            ],
            [
             0.7777777777777778,
             "#fb9f3a"
            ],
            [
             0.8888888888888888,
             "#fdca26"
            ],
            [
             1,
             "#f0f921"
            ]
           ]
          },
          "colorway": [
           "#636efa",
           "#EF553B",
           "#00cc96",
           "#ab63fa",
           "#FFA15A",
           "#19d3f3",
           "#FF6692",
           "#B6E880",
           "#FF97FF",
           "#FECB52"
          ],
          "font": {
           "color": "#2a3f5f"
          },
          "geo": {
           "bgcolor": "white",
           "lakecolor": "white",
           "landcolor": "#E5ECF6",
           "showlakes": true,
           "showland": true,
           "subunitcolor": "white"
          },
          "hoverlabel": {
           "align": "left"
          },
          "hovermode": "closest",
          "mapbox": {
           "style": "light"
          },
          "paper_bgcolor": "white",
          "plot_bgcolor": "#E5ECF6",
          "polar": {
           "angularaxis": {
            "gridcolor": "white",
            "linecolor": "white",
            "ticks": ""
           },
           "bgcolor": "#E5ECF6",
           "radialaxis": {
            "gridcolor": "white",
            "linecolor": "white",
            "ticks": ""
           }
          },
          "scene": {
           "xaxis": {
            "backgroundcolor": "#E5ECF6",
            "gridcolor": "white",
            "gridwidth": 2,
            "linecolor": "white",
            "showbackground": true,
            "ticks": "",
            "zerolinecolor": "white"
           },
           "yaxis": {
            "backgroundcolor": "#E5ECF6",
            "gridcolor": "white",
            "gridwidth": 2,
            "linecolor": "white",
            "showbackground": true,
            "ticks": "",
            "zerolinecolor": "white"
           },
           "zaxis": {
            "backgroundcolor": "#E5ECF6",
            "gridcolor": "white",
            "gridwidth": 2,
            "linecolor": "white",
            "showbackground": true,
            "ticks": "",
            "zerolinecolor": "white"
           }
          },
          "shapedefaults": {
           "line": {
            "color": "#2a3f5f"
           }
          },
          "ternary": {
           "aaxis": {
            "gridcolor": "white",
            "linecolor": "white",
            "ticks": ""
           },
           "baxis": {
            "gridcolor": "white",
            "linecolor": "white",
            "ticks": ""
           },
           "bgcolor": "#E5ECF6",
           "caxis": {
            "gridcolor": "white",
            "linecolor": "white",
            "ticks": ""
           }
          },
          "title": {
           "x": 0.05
          },
          "xaxis": {
           "automargin": true,
           "gridcolor": "white",
           "linecolor": "white",
           "ticks": "",
           "title": {
            "standoff": 15
           },
           "zerolinecolor": "white",
           "zerolinewidth": 2
          },
          "yaxis": {
           "automargin": true,
           "gridcolor": "white",
           "linecolor": "white",
           "ticks": "",
           "title": {
            "standoff": 15
           },
           "zerolinecolor": "white",
           "zerolinewidth": 2
          }
         }
        },
        "xaxis": {
         "anchor": "y",
         "categoryarray": [
          "A173",
          "A172",
          "A174",
          "A171"
         ],
         "categoryorder": "array",
         "domain": [
          0,
          1
         ],
         "title": {
          "text": "Job"
         }
        },
        "yaxis": {
         "anchor": "x",
         "domain": [
          0,
          1
         ],
         "title": {
          "text": "count"
         }
        }
       }
      },
      "text/html": [
       "<div>\n",
       "        \n",
       "        \n",
       "            <div id=\"68bcc997-1d72-4ffa-8b32-fdf69ed58ca2\" class=\"plotly-graph-div\" style=\"height:525px; width:100%;\"></div>\n",
       "            <script type=\"text/javascript\">\n",
       "                require([\"plotly\"], function(Plotly) {\n",
       "                    window.PLOTLYENV=window.PLOTLYENV || {};\n",
       "                    \n",
       "                if (document.getElementById(\"68bcc997-1d72-4ffa-8b32-fdf69ed58ca2\")) {\n",
       "                    Plotly.newPlot(\n",
       "                        '68bcc997-1d72-4ffa-8b32-fdf69ed58ca2',\n",
       "                        [{\"alignmentgroup\": \"True\", \"hovertemplate\": \"Job=%{x}<br>count=%{y}<extra></extra>\", \"legendgroup\": \"A173\", \"marker\": {\"color\": \"#636efa\"}, \"name\": \"A173\", \"offsetgroup\": \"A173\", \"orientation\": \"v\", \"showlegend\": true, \"textposition\": \"auto\", \"type\": \"bar\", \"x\": [\"A173\", \"A173\", \"A173\", \"A173\", \"A173\", \"A173\", \"A173\", \"A173\", \"A173\", \"A173\", \"A173\", \"A173\", \"A173\", \"A173\", \"A173\", \"A173\", \"A173\", \"A173\", \"A173\", \"A173\", \"A173\", \"A173\", \"A173\", \"A173\", \"A173\", \"A173\", \"A173\", \"A173\", \"A173\", \"A173\", \"A173\", \"A173\", \"A173\", \"A173\", \"A173\", \"A173\", \"A173\", \"A173\", \"A173\", \"A173\", \"A173\", \"A173\", \"A173\", \"A173\", \"A173\", \"A173\", \"A173\", \"A173\", \"A173\", \"A173\", \"A173\", \"A173\", \"A173\", \"A173\", \"A173\", \"A173\", \"A173\", \"A173\", \"A173\", \"A173\", \"A173\", \"A173\", \"A173\", \"A173\", \"A173\", \"A173\", \"A173\", \"A173\", \"A173\", \"A173\", \"A173\", \"A173\", \"A173\", \"A173\", \"A173\", \"A173\", \"A173\", \"A173\", \"A173\", \"A173\", \"A173\", \"A173\", \"A173\", \"A173\", \"A173\", \"A173\", \"A173\", \"A173\", \"A173\", \"A173\", \"A173\", \"A173\", \"A173\", \"A173\", \"A173\", \"A173\", \"A173\", \"A173\", \"A173\", \"A173\", \"A173\", \"A173\", \"A173\", \"A173\", \"A173\", \"A173\", \"A173\", \"A173\", \"A173\", \"A173\", \"A173\", \"A173\", \"A173\", \"A173\", \"A173\", \"A173\", \"A173\", \"A173\", \"A173\", \"A173\", \"A173\", \"A173\", \"A173\", \"A173\", \"A173\", \"A173\", \"A173\", \"A173\", \"A173\", \"A173\", \"A173\", \"A173\", \"A173\", \"A173\", \"A173\", \"A173\", \"A173\", \"A173\", \"A173\", \"A173\", \"A173\", \"A173\", \"A173\", \"A173\", \"A173\", \"A173\", \"A173\", \"A173\", \"A173\", \"A173\", \"A173\", \"A173\", \"A173\", \"A173\", \"A173\", \"A173\", \"A173\", \"A173\", \"A173\", \"A173\", \"A173\", \"A173\", \"A173\", \"A173\", \"A173\", \"A173\", \"A173\", \"A173\", \"A173\", \"A173\", \"A173\", \"A173\", \"A173\", \"A173\", \"A173\", \"A173\", \"A173\", \"A173\", \"A173\", \"A173\", \"A173\", \"A173\", \"A173\", \"A173\", \"A173\", \"A173\", \"A173\", \"A173\", \"A173\", \"A173\", \"A173\", \"A173\", \"A173\", \"A173\", \"A173\", \"A173\", \"A173\", \"A173\", \"A173\", \"A173\", \"A173\", \"A173\", \"A173\", \"A173\", \"A173\", \"A173\", \"A173\", \"A173\", \"A173\", \"A173\", \"A173\", \"A173\", \"A173\", \"A173\", \"A173\", \"A173\", \"A173\", \"A173\", \"A173\", \"A173\", \"A173\", \"A173\", \"A173\", \"A173\", \"A173\", \"A173\", \"A173\", \"A173\", \"A173\", \"A173\", \"A173\", \"A173\", \"A173\", \"A173\", \"A173\", \"A173\", \"A173\", \"A173\", \"A173\", \"A173\", \"A173\", \"A173\", \"A173\", \"A173\", \"A173\", \"A173\", \"A173\", \"A173\", \"A173\", \"A173\", \"A173\", \"A173\", \"A173\", \"A173\", \"A173\", \"A173\", \"A173\", \"A173\", \"A173\", \"A173\", \"A173\", \"A173\", \"A173\", \"A173\", \"A173\", \"A173\", \"A173\", \"A173\", \"A173\", \"A173\", \"A173\", \"A173\", \"A173\", \"A173\", \"A173\", \"A173\", \"A173\", \"A173\", \"A173\", \"A173\", \"A173\", \"A173\", \"A173\", \"A173\", \"A173\", \"A173\", \"A173\", \"A173\", \"A173\", \"A173\", \"A173\", \"A173\", \"A173\", \"A173\", \"A173\", \"A173\", \"A173\", \"A173\", \"A173\", \"A173\", \"A173\", \"A173\", \"A173\", \"A173\", \"A173\", \"A173\", \"A173\", \"A173\", \"A173\", \"A173\", \"A173\", \"A173\", \"A173\", \"A173\", \"A173\", \"A173\", \"A173\", \"A173\", \"A173\", \"A173\", \"A173\", \"A173\", \"A173\", \"A173\", \"A173\", \"A173\", \"A173\", \"A173\", \"A173\", \"A173\", \"A173\", \"A173\", \"A173\", \"A173\", \"A173\", \"A173\", \"A173\", \"A173\", \"A173\", \"A173\", \"A173\", \"A173\", \"A173\", \"A173\", \"A173\", \"A173\", \"A173\", \"A173\", \"A173\", \"A173\", \"A173\", \"A173\", \"A173\", \"A173\", \"A173\", \"A173\", \"A173\", \"A173\", \"A173\", \"A173\", \"A173\", \"A173\", \"A173\", \"A173\", \"A173\", \"A173\", \"A173\", \"A173\", \"A173\", \"A173\", \"A173\", \"A173\", \"A173\", \"A173\", \"A173\", \"A173\", \"A173\", \"A173\", \"A173\", \"A173\", \"A173\", \"A173\", \"A173\", \"A173\", \"A173\", \"A173\", \"A173\", \"A173\", \"A173\", \"A173\", \"A173\", \"A173\", \"A173\", \"A173\", \"A173\", \"A173\", \"A173\", \"A173\", \"A173\", \"A173\", \"A173\", \"A173\", \"A173\", \"A173\", \"A173\", \"A173\", \"A173\", \"A173\", \"A173\", \"A173\", \"A173\", \"A173\", \"A173\", \"A173\", \"A173\", \"A173\", \"A173\", \"A173\", \"A173\", \"A173\", \"A173\", \"A173\", \"A173\", \"A173\", \"A173\", \"A173\", \"A173\", \"A173\", \"A173\", \"A173\", \"A173\", \"A173\", \"A173\", \"A173\", \"A173\", \"A173\", \"A173\", \"A173\", \"A173\", \"A173\", \"A173\", \"A173\", \"A173\", \"A173\"], \"xaxis\": \"x\", \"y\": [1, 1, 1, 1, 1, 1, 1, 1, 1, 1, 1, 1, 1, 1, 1, 1, 1, 1, 1, 1, 1, 1, 1, 1, 1, 1, 1, 1, 1, 1, 1, 1, 1, 1, 1, 1, 1, 1, 1, 1, 1, 1, 1, 1, 1, 1, 1, 1, 1, 1, 1, 1, 1, 1, 1, 1, 1, 1, 1, 1, 1, 1, 1, 1, 1, 1, 1, 1, 1, 1, 1, 1, 1, 1, 1, 1, 1, 1, 1, 1, 1, 1, 1, 1, 1, 1, 1, 1, 1, 1, 1, 1, 1, 1, 1, 1, 1, 1, 1, 1, 1, 1, 1, 1, 1, 1, 1, 1, 1, 1, 1, 1, 1, 1, 1, 1, 1, 1, 1, 1, 1, 1, 1, 1, 1, 1, 1, 1, 1, 1, 1, 1, 1, 1, 1, 1, 1, 1, 1, 1, 1, 1, 1, 1, 1, 1, 1, 1, 1, 1, 1, 1, 1, 1, 1, 1, 1, 1, 1, 1, 1, 1, 1, 1, 1, 1, 1, 1, 1, 1, 1, 1, 1, 1, 1, 1, 1, 1, 1, 1, 1, 1, 1, 1, 1, 1, 1, 1, 1, 1, 1, 1, 1, 1, 1, 1, 1, 1, 1, 1, 1, 1, 1, 1, 1, 1, 1, 1, 1, 1, 1, 1, 1, 1, 1, 1, 1, 1, 1, 1, 1, 1, 1, 1, 1, 1, 1, 1, 1, 1, 1, 1, 1, 1, 1, 1, 1, 1, 1, 1, 1, 1, 1, 1, 1, 1, 1, 1, 1, 1, 1, 1, 1, 1, 1, 1, 1, 1, 1, 1, 1, 1, 1, 1, 1, 1, 1, 1, 1, 1, 1, 1, 1, 1, 1, 1, 1, 1, 1, 1, 1, 1, 1, 1, 1, 1, 1, 1, 1, 1, 1, 1, 1, 1, 1, 1, 1, 1, 1, 1, 1, 1, 1, 1, 1, 1, 1, 1, 1, 1, 1, 1, 1, 1, 1, 1, 1, 1, 1, 1, 1, 1, 1, 1, 1, 1, 1, 1, 1, 1, 1, 1, 1, 1, 1, 1, 1, 1, 1, 1, 1, 1, 1, 1, 1, 1, 1, 1, 1, 1, 1, 1, 1, 1, 1, 1, 1, 1, 1, 1, 1, 1, 1, 1, 1, 1, 1, 1, 1, 1, 1, 1, 1, 1, 1, 1, 1, 1, 1, 1, 1, 1, 1, 1, 1, 1, 1, 1, 1, 1, 1, 1, 1, 1, 1, 1, 1, 1, 1, 1, 1, 1, 1, 1, 1, 1, 1, 1, 1, 1, 1, 1, 1, 1, 1, 1, 1, 1, 1, 1, 1, 1, 1, 1, 1, 1, 1, 1, 1, 1, 1, 1, 1, 1, 1, 1, 1, 1, 1, 1, 1, 1, 1, 1], \"yaxis\": \"y\"}, {\"alignmentgroup\": \"True\", \"hovertemplate\": \"Job=%{x}<br>count=%{y}<extra></extra>\", \"legendgroup\": \"A172\", \"marker\": {\"color\": \"#EF553B\"}, \"name\": \"A172\", \"offsetgroup\": \"A172\", \"orientation\": \"v\", \"showlegend\": true, \"textposition\": \"auto\", \"type\": \"bar\", \"x\": [\"A172\", \"A172\", \"A172\", \"A172\", \"A172\", \"A172\", \"A172\", \"A172\", \"A172\", \"A172\", \"A172\", \"A172\", \"A172\", \"A172\", \"A172\", \"A172\", \"A172\", \"A172\", \"A172\", \"A172\", \"A172\", \"A172\", \"A172\", \"A172\", \"A172\", \"A172\", \"A172\", \"A172\", \"A172\", \"A172\", \"A172\", \"A172\", \"A172\", \"A172\", \"A172\", \"A172\", \"A172\", \"A172\", \"A172\", \"A172\", \"A172\", \"A172\", \"A172\", \"A172\", \"A172\", \"A172\", \"A172\", \"A172\", \"A172\", \"A172\", \"A172\", \"A172\", \"A172\", \"A172\", \"A172\", \"A172\", \"A172\", \"A172\", \"A172\", \"A172\", \"A172\", \"A172\", \"A172\", \"A172\", \"A172\", \"A172\", \"A172\", \"A172\", \"A172\", \"A172\", \"A172\", \"A172\", \"A172\", \"A172\", \"A172\", \"A172\", \"A172\", \"A172\", \"A172\", \"A172\", \"A172\", \"A172\", \"A172\", \"A172\", \"A172\", \"A172\", \"A172\", \"A172\", \"A172\", \"A172\", \"A172\", \"A172\", \"A172\", \"A172\", \"A172\", \"A172\", \"A172\", \"A172\", \"A172\", \"A172\", \"A172\", \"A172\", \"A172\", \"A172\", \"A172\", \"A172\", \"A172\", \"A172\", \"A172\", \"A172\", \"A172\", \"A172\", \"A172\", \"A172\", \"A172\", \"A172\", \"A172\", \"A172\", \"A172\", \"A172\", \"A172\", \"A172\", \"A172\", \"A172\", \"A172\", \"A172\", \"A172\", \"A172\", \"A172\", \"A172\", \"A172\", \"A172\", \"A172\", \"A172\", \"A172\", \"A172\", \"A172\", \"A172\", \"A172\", \"A172\", \"A172\", \"A172\", \"A172\", \"A172\"], \"xaxis\": \"x\", \"y\": [1, 1, 1, 1, 1, 1, 1, 1, 1, 1, 1, 1, 1, 1, 1, 1, 1, 1, 1, 1, 1, 1, 1, 1, 1, 1, 1, 1, 1, 1, 1, 1, 1, 1, 1, 1, 1, 1, 1, 1, 1, 1, 1, 1, 1, 1, 1, 1, 1, 1, 1, 1, 1, 1, 1, 1, 1, 1, 1, 1, 1, 1, 1, 1, 1, 1, 1, 1, 1, 1, 1, 1, 1, 1, 1, 1, 1, 1, 1, 1, 1, 1, 1, 1, 1, 1, 1, 1, 1, 1, 1, 1, 1, 1, 1, 1, 1, 1, 1, 1, 1, 1, 1, 1, 1, 1, 1, 1, 1, 1, 1, 1, 1, 1, 1, 1, 1, 1, 1, 1, 1, 1, 1, 1, 1, 1, 1, 1, 1, 1, 1, 1, 1, 1, 1, 1, 1, 1, 1, 1, 1, 1, 1, 1], \"yaxis\": \"y\"}, {\"alignmentgroup\": \"True\", \"hovertemplate\": \"Job=%{x}<br>count=%{y}<extra></extra>\", \"legendgroup\": \"A174\", \"marker\": {\"color\": \"#00cc96\"}, \"name\": \"A174\", \"offsetgroup\": \"A174\", \"orientation\": \"v\", \"showlegend\": true, \"textposition\": \"auto\", \"type\": \"bar\", \"x\": [\"A174\", \"A174\", \"A174\", \"A174\", \"A174\", \"A174\", \"A174\", \"A174\", \"A174\", \"A174\", \"A174\", \"A174\", \"A174\", \"A174\", \"A174\", \"A174\", \"A174\", \"A174\", \"A174\", \"A174\", \"A174\", \"A174\", \"A174\", \"A174\", \"A174\", \"A174\", \"A174\", \"A174\", \"A174\", \"A174\", \"A174\", \"A174\", \"A174\", \"A174\", \"A174\", \"A174\", \"A174\", \"A174\", \"A174\", \"A174\", \"A174\", \"A174\", \"A174\", \"A174\", \"A174\", \"A174\", \"A174\", \"A174\", \"A174\", \"A174\", \"A174\", \"A174\", \"A174\", \"A174\", \"A174\", \"A174\", \"A174\", \"A174\", \"A174\", \"A174\", \"A174\", \"A174\", \"A174\", \"A174\", \"A174\", \"A174\", \"A174\", \"A174\", \"A174\", \"A174\", \"A174\", \"A174\", \"A174\", \"A174\", \"A174\", \"A174\", \"A174\", \"A174\", \"A174\", \"A174\", \"A174\", \"A174\", \"A174\", \"A174\", \"A174\", \"A174\", \"A174\", \"A174\", \"A174\", \"A174\", \"A174\", \"A174\", \"A174\", \"A174\", \"A174\", \"A174\", \"A174\"], \"xaxis\": \"x\", \"y\": [1, 1, 1, 1, 1, 1, 1, 1, 1, 1, 1, 1, 1, 1, 1, 1, 1, 1, 1, 1, 1, 1, 1, 1, 1, 1, 1, 1, 1, 1, 1, 1, 1, 1, 1, 1, 1, 1, 1, 1, 1, 1, 1, 1, 1, 1, 1, 1, 1, 1, 1, 1, 1, 1, 1, 1, 1, 1, 1, 1, 1, 1, 1, 1, 1, 1, 1, 1, 1, 1, 1, 1, 1, 1, 1, 1, 1, 1, 1, 1, 1, 1, 1, 1, 1, 1, 1, 1, 1, 1, 1, 1, 1, 1, 1, 1, 1], \"yaxis\": \"y\"}, {\"alignmentgroup\": \"True\", \"hovertemplate\": \"Job=%{x}<br>count=%{y}<extra></extra>\", \"legendgroup\": \"A171\", \"marker\": {\"color\": \"#ab63fa\"}, \"name\": \"A171\", \"offsetgroup\": \"A171\", \"orientation\": \"v\", \"showlegend\": true, \"textposition\": \"auto\", \"type\": \"bar\", \"x\": [\"A171\", \"A171\", \"A171\", \"A171\", \"A171\", \"A171\", \"A171\", \"A171\", \"A171\", \"A171\", \"A171\", \"A171\", \"A171\", \"A171\", \"A171\"], \"xaxis\": \"x\", \"y\": [1, 1, 1, 1, 1, 1, 1, 1, 1, 1, 1, 1, 1, 1, 1], \"yaxis\": \"y\"}],\n",
       "                        {\"barmode\": \"relative\", \"legend\": {\"title\": {\"text\": \"Job\"}, \"tracegroupgap\": 0}, \"margin\": {\"t\": 60}, \"template\": {\"data\": {\"bar\": [{\"error_x\": {\"color\": \"#2a3f5f\"}, \"error_y\": {\"color\": \"#2a3f5f\"}, \"marker\": {\"line\": {\"color\": \"#E5ECF6\", \"width\": 0.5}}, \"type\": \"bar\"}], \"barpolar\": [{\"marker\": {\"line\": {\"color\": \"#E5ECF6\", \"width\": 0.5}}, \"type\": \"barpolar\"}], \"carpet\": [{\"aaxis\": {\"endlinecolor\": \"#2a3f5f\", \"gridcolor\": \"white\", \"linecolor\": \"white\", \"minorgridcolor\": \"white\", \"startlinecolor\": \"#2a3f5f\"}, \"baxis\": {\"endlinecolor\": \"#2a3f5f\", \"gridcolor\": \"white\", \"linecolor\": \"white\", \"minorgridcolor\": \"white\", \"startlinecolor\": \"#2a3f5f\"}, \"type\": \"carpet\"}], \"choropleth\": [{\"colorbar\": {\"outlinewidth\": 0, \"ticks\": \"\"}, \"type\": \"choropleth\"}], \"contour\": [{\"colorbar\": {\"outlinewidth\": 0, \"ticks\": \"\"}, \"colorscale\": [[0.0, \"#0d0887\"], [0.1111111111111111, \"#46039f\"], [0.2222222222222222, \"#7201a8\"], [0.3333333333333333, \"#9c179e\"], [0.4444444444444444, \"#bd3786\"], [0.5555555555555556, \"#d8576b\"], [0.6666666666666666, \"#ed7953\"], [0.7777777777777778, \"#fb9f3a\"], [0.8888888888888888, \"#fdca26\"], [1.0, \"#f0f921\"]], \"type\": \"contour\"}], \"contourcarpet\": [{\"colorbar\": {\"outlinewidth\": 0, \"ticks\": \"\"}, \"type\": \"contourcarpet\"}], \"heatmap\": [{\"colorbar\": {\"outlinewidth\": 0, \"ticks\": \"\"}, \"colorscale\": [[0.0, \"#0d0887\"], [0.1111111111111111, \"#46039f\"], [0.2222222222222222, \"#7201a8\"], [0.3333333333333333, \"#9c179e\"], [0.4444444444444444, \"#bd3786\"], [0.5555555555555556, \"#d8576b\"], [0.6666666666666666, \"#ed7953\"], [0.7777777777777778, \"#fb9f3a\"], [0.8888888888888888, \"#fdca26\"], [1.0, \"#f0f921\"]], \"type\": \"heatmap\"}], \"heatmapgl\": [{\"colorbar\": {\"outlinewidth\": 0, \"ticks\": \"\"}, \"colorscale\": [[0.0, \"#0d0887\"], [0.1111111111111111, \"#46039f\"], [0.2222222222222222, \"#7201a8\"], [0.3333333333333333, \"#9c179e\"], [0.4444444444444444, \"#bd3786\"], [0.5555555555555556, \"#d8576b\"], [0.6666666666666666, \"#ed7953\"], [0.7777777777777778, \"#fb9f3a\"], [0.8888888888888888, \"#fdca26\"], [1.0, \"#f0f921\"]], \"type\": \"heatmapgl\"}], \"histogram\": [{\"marker\": {\"colorbar\": {\"outlinewidth\": 0, \"ticks\": \"\"}}, \"type\": \"histogram\"}], \"histogram2d\": [{\"colorbar\": {\"outlinewidth\": 0, \"ticks\": \"\"}, \"colorscale\": [[0.0, \"#0d0887\"], [0.1111111111111111, \"#46039f\"], [0.2222222222222222, \"#7201a8\"], [0.3333333333333333, \"#9c179e\"], [0.4444444444444444, \"#bd3786\"], [0.5555555555555556, \"#d8576b\"], [0.6666666666666666, \"#ed7953\"], [0.7777777777777778, \"#fb9f3a\"], [0.8888888888888888, \"#fdca26\"], [1.0, \"#f0f921\"]], \"type\": \"histogram2d\"}], \"histogram2dcontour\": [{\"colorbar\": {\"outlinewidth\": 0, \"ticks\": \"\"}, \"colorscale\": [[0.0, \"#0d0887\"], [0.1111111111111111, \"#46039f\"], [0.2222222222222222, \"#7201a8\"], [0.3333333333333333, \"#9c179e\"], [0.4444444444444444, \"#bd3786\"], [0.5555555555555556, \"#d8576b\"], [0.6666666666666666, \"#ed7953\"], [0.7777777777777778, \"#fb9f3a\"], [0.8888888888888888, \"#fdca26\"], [1.0, \"#f0f921\"]], \"type\": \"histogram2dcontour\"}], \"mesh3d\": [{\"colorbar\": {\"outlinewidth\": 0, \"ticks\": \"\"}, \"type\": \"mesh3d\"}], \"parcoords\": [{\"line\": {\"colorbar\": {\"outlinewidth\": 0, \"ticks\": \"\"}}, \"type\": \"parcoords\"}], \"pie\": [{\"automargin\": true, \"type\": \"pie\"}], \"scatter\": [{\"marker\": {\"colorbar\": {\"outlinewidth\": 0, \"ticks\": \"\"}}, \"type\": \"scatter\"}], \"scatter3d\": [{\"line\": {\"colorbar\": {\"outlinewidth\": 0, \"ticks\": \"\"}}, \"marker\": {\"colorbar\": {\"outlinewidth\": 0, \"ticks\": \"\"}}, \"type\": \"scatter3d\"}], \"scattercarpet\": [{\"marker\": {\"colorbar\": {\"outlinewidth\": 0, \"ticks\": \"\"}}, \"type\": \"scattercarpet\"}], \"scattergeo\": [{\"marker\": {\"colorbar\": {\"outlinewidth\": 0, \"ticks\": \"\"}}, \"type\": \"scattergeo\"}], \"scattergl\": [{\"marker\": {\"colorbar\": {\"outlinewidth\": 0, \"ticks\": \"\"}}, \"type\": \"scattergl\"}], \"scattermapbox\": [{\"marker\": {\"colorbar\": {\"outlinewidth\": 0, \"ticks\": \"\"}}, \"type\": \"scattermapbox\"}], \"scatterpolar\": [{\"marker\": {\"colorbar\": {\"outlinewidth\": 0, \"ticks\": \"\"}}, \"type\": \"scatterpolar\"}], \"scatterpolargl\": [{\"marker\": {\"colorbar\": {\"outlinewidth\": 0, \"ticks\": \"\"}}, \"type\": \"scatterpolargl\"}], \"scatterternary\": [{\"marker\": {\"colorbar\": {\"outlinewidth\": 0, \"ticks\": \"\"}}, \"type\": \"scatterternary\"}], \"surface\": [{\"colorbar\": {\"outlinewidth\": 0, \"ticks\": \"\"}, \"colorscale\": [[0.0, \"#0d0887\"], [0.1111111111111111, \"#46039f\"], [0.2222222222222222, \"#7201a8\"], [0.3333333333333333, \"#9c179e\"], [0.4444444444444444, \"#bd3786\"], [0.5555555555555556, \"#d8576b\"], [0.6666666666666666, \"#ed7953\"], [0.7777777777777778, \"#fb9f3a\"], [0.8888888888888888, \"#fdca26\"], [1.0, \"#f0f921\"]], \"type\": \"surface\"}], \"table\": [{\"cells\": {\"fill\": {\"color\": \"#EBF0F8\"}, \"line\": {\"color\": \"white\"}}, \"header\": {\"fill\": {\"color\": \"#C8D4E3\"}, \"line\": {\"color\": \"white\"}}, \"type\": \"table\"}]}, \"layout\": {\"annotationdefaults\": {\"arrowcolor\": \"#2a3f5f\", \"arrowhead\": 0, \"arrowwidth\": 1}, \"coloraxis\": {\"colorbar\": {\"outlinewidth\": 0, \"ticks\": \"\"}}, \"colorscale\": {\"diverging\": [[0, \"#8e0152\"], [0.1, \"#c51b7d\"], [0.2, \"#de77ae\"], [0.3, \"#f1b6da\"], [0.4, \"#fde0ef\"], [0.5, \"#f7f7f7\"], [0.6, \"#e6f5d0\"], [0.7, \"#b8e186\"], [0.8, \"#7fbc41\"], [0.9, \"#4d9221\"], [1, \"#276419\"]], \"sequential\": [[0.0, \"#0d0887\"], [0.1111111111111111, \"#46039f\"], [0.2222222222222222, \"#7201a8\"], [0.3333333333333333, \"#9c179e\"], [0.4444444444444444, \"#bd3786\"], [0.5555555555555556, \"#d8576b\"], [0.6666666666666666, \"#ed7953\"], [0.7777777777777778, \"#fb9f3a\"], [0.8888888888888888, \"#fdca26\"], [1.0, \"#f0f921\"]], \"sequentialminus\": [[0.0, \"#0d0887\"], [0.1111111111111111, \"#46039f\"], [0.2222222222222222, \"#7201a8\"], [0.3333333333333333, \"#9c179e\"], [0.4444444444444444, \"#bd3786\"], [0.5555555555555556, \"#d8576b\"], [0.6666666666666666, \"#ed7953\"], [0.7777777777777778, \"#fb9f3a\"], [0.8888888888888888, \"#fdca26\"], [1.0, \"#f0f921\"]]}, \"colorway\": [\"#636efa\", \"#EF553B\", \"#00cc96\", \"#ab63fa\", \"#FFA15A\", \"#19d3f3\", \"#FF6692\", \"#B6E880\", \"#FF97FF\", \"#FECB52\"], \"font\": {\"color\": \"#2a3f5f\"}, \"geo\": {\"bgcolor\": \"white\", \"lakecolor\": \"white\", \"landcolor\": \"#E5ECF6\", \"showlakes\": true, \"showland\": true, \"subunitcolor\": \"white\"}, \"hoverlabel\": {\"align\": \"left\"}, \"hovermode\": \"closest\", \"mapbox\": {\"style\": \"light\"}, \"paper_bgcolor\": \"white\", \"plot_bgcolor\": \"#E5ECF6\", \"polar\": {\"angularaxis\": {\"gridcolor\": \"white\", \"linecolor\": \"white\", \"ticks\": \"\"}, \"bgcolor\": \"#E5ECF6\", \"radialaxis\": {\"gridcolor\": \"white\", \"linecolor\": \"white\", \"ticks\": \"\"}}, \"scene\": {\"xaxis\": {\"backgroundcolor\": \"#E5ECF6\", \"gridcolor\": \"white\", \"gridwidth\": 2, \"linecolor\": \"white\", \"showbackground\": true, \"ticks\": \"\", \"zerolinecolor\": \"white\"}, \"yaxis\": {\"backgroundcolor\": \"#E5ECF6\", \"gridcolor\": \"white\", \"gridwidth\": 2, \"linecolor\": \"white\", \"showbackground\": true, \"ticks\": \"\", \"zerolinecolor\": \"white\"}, \"zaxis\": {\"backgroundcolor\": \"#E5ECF6\", \"gridcolor\": \"white\", \"gridwidth\": 2, \"linecolor\": \"white\", \"showbackground\": true, \"ticks\": \"\", \"zerolinecolor\": \"white\"}}, \"shapedefaults\": {\"line\": {\"color\": \"#2a3f5f\"}}, \"ternary\": {\"aaxis\": {\"gridcolor\": \"white\", \"linecolor\": \"white\", \"ticks\": \"\"}, \"baxis\": {\"gridcolor\": \"white\", \"linecolor\": \"white\", \"ticks\": \"\"}, \"bgcolor\": \"#E5ECF6\", \"caxis\": {\"gridcolor\": \"white\", \"linecolor\": \"white\", \"ticks\": \"\"}}, \"title\": {\"x\": 0.05}, \"xaxis\": {\"automargin\": true, \"gridcolor\": \"white\", \"linecolor\": \"white\", \"ticks\": \"\", \"title\": {\"standoff\": 15}, \"zerolinecolor\": \"white\", \"zerolinewidth\": 2}, \"yaxis\": {\"automargin\": true, \"gridcolor\": \"white\", \"linecolor\": \"white\", \"ticks\": \"\", \"title\": {\"standoff\": 15}, \"zerolinecolor\": \"white\", \"zerolinewidth\": 2}}}, \"xaxis\": {\"anchor\": \"y\", \"categoryarray\": [\"A173\", \"A172\", \"A174\", \"A171\"], \"categoryorder\": \"array\", \"domain\": [0.0, 1.0], \"title\": {\"text\": \"Job\"}}, \"yaxis\": {\"anchor\": \"x\", \"domain\": [0.0, 1.0], \"title\": {\"text\": \"count\"}}},\n",
       "                        {\"responsive\": true}\n",
       "                    ).then(function(){\n",
       "                            \n",
       "var gd = document.getElementById('68bcc997-1d72-4ffa-8b32-fdf69ed58ca2');\n",
       "var x = new MutationObserver(function (mutations, observer) {{\n",
       "        var display = window.getComputedStyle(gd).display;\n",
       "        if (!display || display === 'none') {{\n",
       "            console.log([gd, 'removed!']);\n",
       "            Plotly.purge(gd);\n",
       "            observer.disconnect();\n",
       "        }}\n",
       "}});\n",
       "\n",
       "// Listen for the removal of the full notebook cells\n",
       "var notebookContainer = gd.closest('#notebook-container');\n",
       "if (notebookContainer) {{\n",
       "    x.observe(notebookContainer, {childList: true});\n",
       "}}\n",
       "\n",
       "// Listen for the clearing of the current output cell\n",
       "var outputEl = gd.closest('.output');\n",
       "if (outputEl) {{\n",
       "    x.observe(outputEl, {childList: true});\n",
       "}}\n",
       "\n",
       "                        })\n",
       "                };\n",
       "                });\n",
       "            </script>\n",
       "        </div>"
      ]
     },
     "metadata": {},
     "output_type": "display_data"
    }
   ],
   "source": [
    "PX.bar(data_frame = german_1, x = \"Job\", color = \"Job\")"
   ]
  },
  {
   "cell_type": "code",
   "execution_count": 17,
   "metadata": {},
   "outputs": [
    {
     "data": {
      "application/vnd.plotly.v1+json": {
       "config": {
        "plotlyServerURL": "https://plot.ly"
       },
       "data": [
        {
         "alignmentgroup": "True",
         "hovertemplate": "Job=%{x}<br>count=%{y}<extra></extra>",
         "legendgroup": "A173",
         "marker": {
          "color": "#636efa"
         },
         "name": "A173",
         "offsetgroup": "A173",
         "orientation": "v",
         "showlegend": true,
         "textposition": "auto",
         "type": "bar",
         "x": [
          "A173",
          "A173",
          "A173",
          "A173",
          "A173",
          "A173",
          "A173",
          "A173",
          "A173",
          "A173",
          "A173",
          "A173",
          "A173",
          "A173",
          "A173",
          "A173",
          "A173",
          "A173",
          "A173",
          "A173",
          "A173",
          "A173",
          "A173",
          "A173",
          "A173",
          "A173",
          "A173",
          "A173",
          "A173",
          "A173",
          "A173",
          "A173",
          "A173",
          "A173",
          "A173",
          "A173",
          "A173",
          "A173",
          "A173",
          "A173",
          "A173",
          "A173",
          "A173",
          "A173",
          "A173",
          "A173",
          "A173",
          "A173",
          "A173",
          "A173",
          "A173",
          "A173",
          "A173",
          "A173",
          "A173",
          "A173",
          "A173",
          "A173",
          "A173",
          "A173",
          "A173",
          "A173",
          "A173",
          "A173",
          "A173",
          "A173",
          "A173",
          "A173",
          "A173",
          "A173",
          "A173",
          "A173",
          "A173",
          "A173",
          "A173",
          "A173",
          "A173",
          "A173",
          "A173",
          "A173",
          "A173",
          "A173",
          "A173",
          "A173",
          "A173",
          "A173",
          "A173",
          "A173",
          "A173",
          "A173",
          "A173",
          "A173",
          "A173",
          "A173",
          "A173",
          "A173",
          "A173",
          "A173",
          "A173",
          "A173",
          "A173",
          "A173",
          "A173",
          "A173",
          "A173",
          "A173",
          "A173",
          "A173",
          "A173",
          "A173",
          "A173",
          "A173",
          "A173",
          "A173",
          "A173",
          "A173",
          "A173",
          "A173",
          "A173",
          "A173",
          "A173",
          "A173",
          "A173",
          "A173",
          "A173",
          "A173",
          "A173",
          "A173",
          "A173",
          "A173",
          "A173",
          "A173",
          "A173",
          "A173",
          "A173",
          "A173",
          "A173",
          "A173",
          "A173",
          "A173",
          "A173",
          "A173",
          "A173",
          "A173",
          "A173",
          "A173",
          "A173",
          "A173",
          "A173",
          "A173",
          "A173",
          "A173",
          "A173",
          "A173",
          "A173",
          "A173",
          "A173",
          "A173",
          "A173",
          "A173",
          "A173",
          "A173",
          "A173",
          "A173",
          "A173",
          "A173",
          "A173",
          "A173",
          "A173",
          "A173",
          "A173",
          "A173",
          "A173",
          "A173",
          "A173",
          "A173",
          "A173",
          "A173",
          "A173",
          "A173",
          "A173",
          "A173",
          "A173",
          "A173",
          "A173",
          "A173"
         ],
         "xaxis": "x",
         "y": [
          1,
          1,
          1,
          1,
          1,
          1,
          1,
          1,
          1,
          1,
          1,
          1,
          1,
          1,
          1,
          1,
          1,
          1,
          1,
          1,
          1,
          1,
          1,
          1,
          1,
          1,
          1,
          1,
          1,
          1,
          1,
          1,
          1,
          1,
          1,
          1,
          1,
          1,
          1,
          1,
          1,
          1,
          1,
          1,
          1,
          1,
          1,
          1,
          1,
          1,
          1,
          1,
          1,
          1,
          1,
          1,
          1,
          1,
          1,
          1,
          1,
          1,
          1,
          1,
          1,
          1,
          1,
          1,
          1,
          1,
          1,
          1,
          1,
          1,
          1,
          1,
          1,
          1,
          1,
          1,
          1,
          1,
          1,
          1,
          1,
          1,
          1,
          1,
          1,
          1,
          1,
          1,
          1,
          1,
          1,
          1,
          1,
          1,
          1,
          1,
          1,
          1,
          1,
          1,
          1,
          1,
          1,
          1,
          1,
          1,
          1,
          1,
          1,
          1,
          1,
          1,
          1,
          1,
          1,
          1,
          1,
          1,
          1,
          1,
          1,
          1,
          1,
          1,
          1,
          1,
          1,
          1,
          1,
          1,
          1,
          1,
          1,
          1,
          1,
          1,
          1,
          1,
          1,
          1,
          1,
          1,
          1,
          1,
          1,
          1,
          1,
          1,
          1,
          1,
          1,
          1,
          1,
          1,
          1,
          1,
          1,
          1,
          1,
          1,
          1,
          1,
          1,
          1,
          1,
          1,
          1,
          1,
          1,
          1,
          1,
          1,
          1,
          1,
          1,
          1,
          1,
          1,
          1,
          1,
          1,
          1
         ],
         "yaxis": "y"
        },
        {
         "alignmentgroup": "True",
         "hovertemplate": "Job=%{x}<br>count=%{y}<extra></extra>",
         "legendgroup": "A174",
         "marker": {
          "color": "#EF553B"
         },
         "name": "A174",
         "offsetgroup": "A174",
         "orientation": "v",
         "showlegend": true,
         "textposition": "auto",
         "type": "bar",
         "x": [
          "A174",
          "A174",
          "A174",
          "A174",
          "A174",
          "A174",
          "A174",
          "A174",
          "A174",
          "A174",
          "A174",
          "A174",
          "A174",
          "A174",
          "A174",
          "A174",
          "A174",
          "A174",
          "A174",
          "A174",
          "A174",
          "A174",
          "A174",
          "A174",
          "A174",
          "A174",
          "A174",
          "A174",
          "A174",
          "A174",
          "A174",
          "A174",
          "A174",
          "A174",
          "A174",
          "A174",
          "A174",
          "A174",
          "A174",
          "A174",
          "A174",
          "A174",
          "A174",
          "A174",
          "A174",
          "A174",
          "A174",
          "A174",
          "A174",
          "A174",
          "A174"
         ],
         "xaxis": "x",
         "y": [
          1,
          1,
          1,
          1,
          1,
          1,
          1,
          1,
          1,
          1,
          1,
          1,
          1,
          1,
          1,
          1,
          1,
          1,
          1,
          1,
          1,
          1,
          1,
          1,
          1,
          1,
          1,
          1,
          1,
          1,
          1,
          1,
          1,
          1,
          1,
          1,
          1,
          1,
          1,
          1,
          1,
          1,
          1,
          1,
          1,
          1,
          1,
          1,
          1,
          1,
          1
         ],
         "yaxis": "y"
        },
        {
         "alignmentgroup": "True",
         "hovertemplate": "Job=%{x}<br>count=%{y}<extra></extra>",
         "legendgroup": "A172",
         "marker": {
          "color": "#00cc96"
         },
         "name": "A172",
         "offsetgroup": "A172",
         "orientation": "v",
         "showlegend": true,
         "textposition": "auto",
         "type": "bar",
         "x": [
          "A172",
          "A172",
          "A172",
          "A172",
          "A172",
          "A172",
          "A172",
          "A172",
          "A172",
          "A172",
          "A172",
          "A172",
          "A172",
          "A172",
          "A172",
          "A172",
          "A172",
          "A172",
          "A172",
          "A172",
          "A172",
          "A172",
          "A172",
          "A172",
          "A172",
          "A172",
          "A172",
          "A172",
          "A172",
          "A172",
          "A172",
          "A172",
          "A172",
          "A172",
          "A172",
          "A172",
          "A172",
          "A172",
          "A172",
          "A172",
          "A172",
          "A172",
          "A172",
          "A172",
          "A172",
          "A172",
          "A172",
          "A172",
          "A172",
          "A172",
          "A172",
          "A172",
          "A172",
          "A172",
          "A172",
          "A172"
         ],
         "xaxis": "x",
         "y": [
          1,
          1,
          1,
          1,
          1,
          1,
          1,
          1,
          1,
          1,
          1,
          1,
          1,
          1,
          1,
          1,
          1,
          1,
          1,
          1,
          1,
          1,
          1,
          1,
          1,
          1,
          1,
          1,
          1,
          1,
          1,
          1,
          1,
          1,
          1,
          1,
          1,
          1,
          1,
          1,
          1,
          1,
          1,
          1,
          1,
          1,
          1,
          1,
          1,
          1,
          1,
          1,
          1,
          1,
          1,
          1
         ],
         "yaxis": "y"
        },
        {
         "alignmentgroup": "True",
         "hovertemplate": "Job=%{x}<br>count=%{y}<extra></extra>",
         "legendgroup": "A171",
         "marker": {
          "color": "#ab63fa"
         },
         "name": "A171",
         "offsetgroup": "A171",
         "orientation": "v",
         "showlegend": true,
         "textposition": "auto",
         "type": "bar",
         "x": [
          "A171",
          "A171",
          "A171",
          "A171",
          "A171",
          "A171",
          "A171"
         ],
         "xaxis": "x",
         "y": [
          1,
          1,
          1,
          1,
          1,
          1,
          1
         ],
         "yaxis": "y"
        }
       ],
       "layout": {
        "barmode": "relative",
        "legend": {
         "title": {
          "text": "Job"
         },
         "tracegroupgap": 0
        },
        "margin": {
         "t": 60
        },
        "template": {
         "data": {
          "bar": [
           {
            "error_x": {
             "color": "#2a3f5f"
            },
            "error_y": {
             "color": "#2a3f5f"
            },
            "marker": {
             "line": {
              "color": "#E5ECF6",
              "width": 0.5
             }
            },
            "type": "bar"
           }
          ],
          "barpolar": [
           {
            "marker": {
             "line": {
              "color": "#E5ECF6",
              "width": 0.5
             }
            },
            "type": "barpolar"
           }
          ],
          "carpet": [
           {
            "aaxis": {
             "endlinecolor": "#2a3f5f",
             "gridcolor": "white",
             "linecolor": "white",
             "minorgridcolor": "white",
             "startlinecolor": "#2a3f5f"
            },
            "baxis": {
             "endlinecolor": "#2a3f5f",
             "gridcolor": "white",
             "linecolor": "white",
             "minorgridcolor": "white",
             "startlinecolor": "#2a3f5f"
            },
            "type": "carpet"
           }
          ],
          "choropleth": [
           {
            "colorbar": {
             "outlinewidth": 0,
             "ticks": ""
            },
            "type": "choropleth"
           }
          ],
          "contour": [
           {
            "colorbar": {
             "outlinewidth": 0,
             "ticks": ""
            },
            "colorscale": [
             [
              0,
              "#0d0887"
             ],
             [
              0.1111111111111111,
              "#46039f"
             ],
             [
              0.2222222222222222,
              "#7201a8"
             ],
             [
              0.3333333333333333,
              "#9c179e"
             ],
             [
              0.4444444444444444,
              "#bd3786"
             ],
             [
              0.5555555555555556,
              "#d8576b"
             ],
             [
              0.6666666666666666,
              "#ed7953"
             ],
             [
              0.7777777777777778,
              "#fb9f3a"
             ],
             [
              0.8888888888888888,
              "#fdca26"
             ],
             [
              1,
              "#f0f921"
             ]
            ],
            "type": "contour"
           }
          ],
          "contourcarpet": [
           {
            "colorbar": {
             "outlinewidth": 0,
             "ticks": ""
            },
            "type": "contourcarpet"
           }
          ],
          "heatmap": [
           {
            "colorbar": {
             "outlinewidth": 0,
             "ticks": ""
            },
            "colorscale": [
             [
              0,
              "#0d0887"
             ],
             [
              0.1111111111111111,
              "#46039f"
             ],
             [
              0.2222222222222222,
              "#7201a8"
             ],
             [
              0.3333333333333333,
              "#9c179e"
             ],
             [
              0.4444444444444444,
              "#bd3786"
             ],
             [
              0.5555555555555556,
              "#d8576b"
             ],
             [
              0.6666666666666666,
              "#ed7953"
             ],
             [
              0.7777777777777778,
              "#fb9f3a"
             ],
             [
              0.8888888888888888,
              "#fdca26"
             ],
             [
              1,
              "#f0f921"
             ]
            ],
            "type": "heatmap"
           }
          ],
          "heatmapgl": [
           {
            "colorbar": {
             "outlinewidth": 0,
             "ticks": ""
            },
            "colorscale": [
             [
              0,
              "#0d0887"
             ],
             [
              0.1111111111111111,
              "#46039f"
             ],
             [
              0.2222222222222222,
              "#7201a8"
             ],
             [
              0.3333333333333333,
              "#9c179e"
             ],
             [
              0.4444444444444444,
              "#bd3786"
             ],
             [
              0.5555555555555556,
              "#d8576b"
             ],
             [
              0.6666666666666666,
              "#ed7953"
             ],
             [
              0.7777777777777778,
              "#fb9f3a"
             ],
             [
              0.8888888888888888,
              "#fdca26"
             ],
             [
              1,
              "#f0f921"
             ]
            ],
            "type": "heatmapgl"
           }
          ],
          "histogram": [
           {
            "marker": {
             "colorbar": {
              "outlinewidth": 0,
              "ticks": ""
             }
            },
            "type": "histogram"
           }
          ],
          "histogram2d": [
           {
            "colorbar": {
             "outlinewidth": 0,
             "ticks": ""
            },
            "colorscale": [
             [
              0,
              "#0d0887"
             ],
             [
              0.1111111111111111,
              "#46039f"
             ],
             [
              0.2222222222222222,
              "#7201a8"
             ],
             [
              0.3333333333333333,
              "#9c179e"
             ],
             [
              0.4444444444444444,
              "#bd3786"
             ],
             [
              0.5555555555555556,
              "#d8576b"
             ],
             [
              0.6666666666666666,
              "#ed7953"
             ],
             [
              0.7777777777777778,
              "#fb9f3a"
             ],
             [
              0.8888888888888888,
              "#fdca26"
             ],
             [
              1,
              "#f0f921"
             ]
            ],
            "type": "histogram2d"
           }
          ],
          "histogram2dcontour": [
           {
            "colorbar": {
             "outlinewidth": 0,
             "ticks": ""
            },
            "colorscale": [
             [
              0,
              "#0d0887"
             ],
             [
              0.1111111111111111,
              "#46039f"
             ],
             [
              0.2222222222222222,
              "#7201a8"
             ],
             [
              0.3333333333333333,
              "#9c179e"
             ],
             [
              0.4444444444444444,
              "#bd3786"
             ],
             [
              0.5555555555555556,
              "#d8576b"
             ],
             [
              0.6666666666666666,
              "#ed7953"
             ],
             [
              0.7777777777777778,
              "#fb9f3a"
             ],
             [
              0.8888888888888888,
              "#fdca26"
             ],
             [
              1,
              "#f0f921"
             ]
            ],
            "type": "histogram2dcontour"
           }
          ],
          "mesh3d": [
           {
            "colorbar": {
             "outlinewidth": 0,
             "ticks": ""
            },
            "type": "mesh3d"
           }
          ],
          "parcoords": [
           {
            "line": {
             "colorbar": {
              "outlinewidth": 0,
              "ticks": ""
             }
            },
            "type": "parcoords"
           }
          ],
          "pie": [
           {
            "automargin": true,
            "type": "pie"
           }
          ],
          "scatter": [
           {
            "marker": {
             "colorbar": {
              "outlinewidth": 0,
              "ticks": ""
             }
            },
            "type": "scatter"
           }
          ],
          "scatter3d": [
           {
            "line": {
             "colorbar": {
              "outlinewidth": 0,
              "ticks": ""
             }
            },
            "marker": {
             "colorbar": {
              "outlinewidth": 0,
              "ticks": ""
             }
            },
            "type": "scatter3d"
           }
          ],
          "scattercarpet": [
           {
            "marker": {
             "colorbar": {
              "outlinewidth": 0,
              "ticks": ""
             }
            },
            "type": "scattercarpet"
           }
          ],
          "scattergeo": [
           {
            "marker": {
             "colorbar": {
              "outlinewidth": 0,
              "ticks": ""
             }
            },
            "type": "scattergeo"
           }
          ],
          "scattergl": [
           {
            "marker": {
             "colorbar": {
              "outlinewidth": 0,
              "ticks": ""
             }
            },
            "type": "scattergl"
           }
          ],
          "scattermapbox": [
           {
            "marker": {
             "colorbar": {
              "outlinewidth": 0,
              "ticks": ""
             }
            },
            "type": "scattermapbox"
           }
          ],
          "scatterpolar": [
           {
            "marker": {
             "colorbar": {
              "outlinewidth": 0,
              "ticks": ""
             }
            },
            "type": "scatterpolar"
           }
          ],
          "scatterpolargl": [
           {
            "marker": {
             "colorbar": {
              "outlinewidth": 0,
              "ticks": ""
             }
            },
            "type": "scatterpolargl"
           }
          ],
          "scatterternary": [
           {
            "marker": {
             "colorbar": {
              "outlinewidth": 0,
              "ticks": ""
             }
            },
            "type": "scatterternary"
           }
          ],
          "surface": [
           {
            "colorbar": {
             "outlinewidth": 0,
             "ticks": ""
            },
            "colorscale": [
             [
              0,
              "#0d0887"
             ],
             [
              0.1111111111111111,
              "#46039f"
             ],
             [
              0.2222222222222222,
              "#7201a8"
             ],
             [
              0.3333333333333333,
              "#9c179e"
             ],
             [
              0.4444444444444444,
              "#bd3786"
             ],
             [
              0.5555555555555556,
              "#d8576b"
             ],
             [
              0.6666666666666666,
              "#ed7953"
             ],
             [
              0.7777777777777778,
              "#fb9f3a"
             ],
             [
              0.8888888888888888,
              "#fdca26"
             ],
             [
              1,
              "#f0f921"
             ]
            ],
            "type": "surface"
           }
          ],
          "table": [
           {
            "cells": {
             "fill": {
              "color": "#EBF0F8"
             },
             "line": {
              "color": "white"
             }
            },
            "header": {
             "fill": {
              "color": "#C8D4E3"
             },
             "line": {
              "color": "white"
             }
            },
            "type": "table"
           }
          ]
         },
         "layout": {
          "annotationdefaults": {
           "arrowcolor": "#2a3f5f",
           "arrowhead": 0,
           "arrowwidth": 1
          },
          "coloraxis": {
           "colorbar": {
            "outlinewidth": 0,
            "ticks": ""
           }
          },
          "colorscale": {
           "diverging": [
            [
             0,
             "#8e0152"
            ],
            [
             0.1,
             "#c51b7d"
            ],
            [
             0.2,
             "#de77ae"
            ],
            [
             0.3,
             "#f1b6da"
            ],
            [
             0.4,
             "#fde0ef"
            ],
            [
             0.5,
             "#f7f7f7"
            ],
            [
             0.6,
             "#e6f5d0"
            ],
            [
             0.7,
             "#b8e186"
            ],
            [
             0.8,
             "#7fbc41"
            ],
            [
             0.9,
             "#4d9221"
            ],
            [
             1,
             "#276419"
            ]
           ],
           "sequential": [
            [
             0,
             "#0d0887"
            ],
            [
             0.1111111111111111,
             "#46039f"
            ],
            [
             0.2222222222222222,
             "#7201a8"
            ],
            [
             0.3333333333333333,
             "#9c179e"
            ],
            [
             0.4444444444444444,
             "#bd3786"
            ],
            [
             0.5555555555555556,
             "#d8576b"
            ],
            [
             0.6666666666666666,
             "#ed7953"
            ],
            [
             0.7777777777777778,
             "#fb9f3a"
            ],
            [
             0.8888888888888888,
             "#fdca26"
            ],
            [
             1,
             "#f0f921"
            ]
           ],
           "sequentialminus": [
            [
             0,
             "#0d0887"
            ],
            [
             0.1111111111111111,
             "#46039f"
            ],
            [
             0.2222222222222222,
             "#7201a8"
            ],
            [
             0.3333333333333333,
             "#9c179e"
            ],
            [
             0.4444444444444444,
             "#bd3786"
            ],
            [
             0.5555555555555556,
             "#d8576b"
            ],
            [
             0.6666666666666666,
             "#ed7953"
            ],
            [
             0.7777777777777778,
             "#fb9f3a"
            ],
            [
             0.8888888888888888,
             "#fdca26"
            ],
            [
             1,
             "#f0f921"
            ]
           ]
          },
          "colorway": [
           "#636efa",
           "#EF553B",
           "#00cc96",
           "#ab63fa",
           "#FFA15A",
           "#19d3f3",
           "#FF6692",
           "#B6E880",
           "#FF97FF",
           "#FECB52"
          ],
          "font": {
           "color": "#2a3f5f"
          },
          "geo": {
           "bgcolor": "white",
           "lakecolor": "white",
           "landcolor": "#E5ECF6",
           "showlakes": true,
           "showland": true,
           "subunitcolor": "white"
          },
          "hoverlabel": {
           "align": "left"
          },
          "hovermode": "closest",
          "mapbox": {
           "style": "light"
          },
          "paper_bgcolor": "white",
          "plot_bgcolor": "#E5ECF6",
          "polar": {
           "angularaxis": {
            "gridcolor": "white",
            "linecolor": "white",
            "ticks": ""
           },
           "bgcolor": "#E5ECF6",
           "radialaxis": {
            "gridcolor": "white",
            "linecolor": "white",
            "ticks": ""
           }
          },
          "scene": {
           "xaxis": {
            "backgroundcolor": "#E5ECF6",
            "gridcolor": "white",
            "gridwidth": 2,
            "linecolor": "white",
            "showbackground": true,
            "ticks": "",
            "zerolinecolor": "white"
           },
           "yaxis": {
            "backgroundcolor": "#E5ECF6",
            "gridcolor": "white",
            "gridwidth": 2,
            "linecolor": "white",
            "showbackground": true,
            "ticks": "",
            "zerolinecolor": "white"
           },
           "zaxis": {
            "backgroundcolor": "#E5ECF6",
            "gridcolor": "white",
            "gridwidth": 2,
            "linecolor": "white",
            "showbackground": true,
            "ticks": "",
            "zerolinecolor": "white"
           }
          },
          "shapedefaults": {
           "line": {
            "color": "#2a3f5f"
           }
          },
          "ternary": {
           "aaxis": {
            "gridcolor": "white",
            "linecolor": "white",
            "ticks": ""
           },
           "baxis": {
            "gridcolor": "white",
            "linecolor": "white",
            "ticks": ""
           },
           "bgcolor": "#E5ECF6",
           "caxis": {
            "gridcolor": "white",
            "linecolor": "white",
            "ticks": ""
           }
          },
          "title": {
           "x": 0.05
          },
          "xaxis": {
           "automargin": true,
           "gridcolor": "white",
           "linecolor": "white",
           "ticks": "",
           "title": {
            "standoff": 15
           },
           "zerolinecolor": "white",
           "zerolinewidth": 2
          },
          "yaxis": {
           "automargin": true,
           "gridcolor": "white",
           "linecolor": "white",
           "ticks": "",
           "title": {
            "standoff": 15
           },
           "zerolinecolor": "white",
           "zerolinewidth": 2
          }
         }
        },
        "xaxis": {
         "anchor": "y",
         "categoryarray": [
          "A173",
          "A174",
          "A172",
          "A171"
         ],
         "categoryorder": "array",
         "domain": [
          0,
          1
         ],
         "title": {
          "text": "Job"
         }
        },
        "yaxis": {
         "anchor": "x",
         "domain": [
          0,
          1
         ],
         "title": {
          "text": "count"
         }
        }
       }
      },
      "text/html": [
       "<div>\n",
       "        \n",
       "        \n",
       "            <div id=\"f91e52a4-96be-4530-8586-cc25095a5101\" class=\"plotly-graph-div\" style=\"height:525px; width:100%;\"></div>\n",
       "            <script type=\"text/javascript\">\n",
       "                require([\"plotly\"], function(Plotly) {\n",
       "                    window.PLOTLYENV=window.PLOTLYENV || {};\n",
       "                    \n",
       "                if (document.getElementById(\"f91e52a4-96be-4530-8586-cc25095a5101\")) {\n",
       "                    Plotly.newPlot(\n",
       "                        'f91e52a4-96be-4530-8586-cc25095a5101',\n",
       "                        [{\"alignmentgroup\": \"True\", \"hovertemplate\": \"Job=%{x}<br>count=%{y}<extra></extra>\", \"legendgroup\": \"A173\", \"marker\": {\"color\": \"#636efa\"}, \"name\": \"A173\", \"offsetgroup\": \"A173\", \"orientation\": \"v\", \"showlegend\": true, \"textposition\": \"auto\", \"type\": \"bar\", \"x\": [\"A173\", \"A173\", \"A173\", \"A173\", \"A173\", \"A173\", \"A173\", \"A173\", \"A173\", \"A173\", \"A173\", \"A173\", \"A173\", \"A173\", \"A173\", \"A173\", \"A173\", \"A173\", \"A173\", \"A173\", \"A173\", \"A173\", \"A173\", \"A173\", \"A173\", \"A173\", \"A173\", \"A173\", \"A173\", \"A173\", \"A173\", \"A173\", \"A173\", \"A173\", \"A173\", \"A173\", \"A173\", \"A173\", \"A173\", \"A173\", \"A173\", \"A173\", \"A173\", \"A173\", \"A173\", \"A173\", \"A173\", \"A173\", \"A173\", \"A173\", \"A173\", \"A173\", \"A173\", \"A173\", \"A173\", \"A173\", \"A173\", \"A173\", \"A173\", \"A173\", \"A173\", \"A173\", \"A173\", \"A173\", \"A173\", \"A173\", \"A173\", \"A173\", \"A173\", \"A173\", \"A173\", \"A173\", \"A173\", \"A173\", \"A173\", \"A173\", \"A173\", \"A173\", \"A173\", \"A173\", \"A173\", \"A173\", \"A173\", \"A173\", \"A173\", \"A173\", \"A173\", \"A173\", \"A173\", \"A173\", \"A173\", \"A173\", \"A173\", \"A173\", \"A173\", \"A173\", \"A173\", \"A173\", \"A173\", \"A173\", \"A173\", \"A173\", \"A173\", \"A173\", \"A173\", \"A173\", \"A173\", \"A173\", \"A173\", \"A173\", \"A173\", \"A173\", \"A173\", \"A173\", \"A173\", \"A173\", \"A173\", \"A173\", \"A173\", \"A173\", \"A173\", \"A173\", \"A173\", \"A173\", \"A173\", \"A173\", \"A173\", \"A173\", \"A173\", \"A173\", \"A173\", \"A173\", \"A173\", \"A173\", \"A173\", \"A173\", \"A173\", \"A173\", \"A173\", \"A173\", \"A173\", \"A173\", \"A173\", \"A173\", \"A173\", \"A173\", \"A173\", \"A173\", \"A173\", \"A173\", \"A173\", \"A173\", \"A173\", \"A173\", \"A173\", \"A173\", \"A173\", \"A173\", \"A173\", \"A173\", \"A173\", \"A173\", \"A173\", \"A173\", \"A173\", \"A173\", \"A173\", \"A173\", \"A173\", \"A173\", \"A173\", \"A173\", \"A173\", \"A173\", \"A173\", \"A173\", \"A173\", \"A173\", \"A173\", \"A173\", \"A173\", \"A173\", \"A173\", \"A173\", \"A173\", \"A173\"], \"xaxis\": \"x\", \"y\": [1, 1, 1, 1, 1, 1, 1, 1, 1, 1, 1, 1, 1, 1, 1, 1, 1, 1, 1, 1, 1, 1, 1, 1, 1, 1, 1, 1, 1, 1, 1, 1, 1, 1, 1, 1, 1, 1, 1, 1, 1, 1, 1, 1, 1, 1, 1, 1, 1, 1, 1, 1, 1, 1, 1, 1, 1, 1, 1, 1, 1, 1, 1, 1, 1, 1, 1, 1, 1, 1, 1, 1, 1, 1, 1, 1, 1, 1, 1, 1, 1, 1, 1, 1, 1, 1, 1, 1, 1, 1, 1, 1, 1, 1, 1, 1, 1, 1, 1, 1, 1, 1, 1, 1, 1, 1, 1, 1, 1, 1, 1, 1, 1, 1, 1, 1, 1, 1, 1, 1, 1, 1, 1, 1, 1, 1, 1, 1, 1, 1, 1, 1, 1, 1, 1, 1, 1, 1, 1, 1, 1, 1, 1, 1, 1, 1, 1, 1, 1, 1, 1, 1, 1, 1, 1, 1, 1, 1, 1, 1, 1, 1, 1, 1, 1, 1, 1, 1, 1, 1, 1, 1, 1, 1, 1, 1, 1, 1, 1, 1, 1, 1, 1, 1, 1, 1], \"yaxis\": \"y\"}, {\"alignmentgroup\": \"True\", \"hovertemplate\": \"Job=%{x}<br>count=%{y}<extra></extra>\", \"legendgroup\": \"A174\", \"marker\": {\"color\": \"#EF553B\"}, \"name\": \"A174\", \"offsetgroup\": \"A174\", \"orientation\": \"v\", \"showlegend\": true, \"textposition\": \"auto\", \"type\": \"bar\", \"x\": [\"A174\", \"A174\", \"A174\", \"A174\", \"A174\", \"A174\", \"A174\", \"A174\", \"A174\", \"A174\", \"A174\", \"A174\", \"A174\", \"A174\", \"A174\", \"A174\", \"A174\", \"A174\", \"A174\", \"A174\", \"A174\", \"A174\", \"A174\", \"A174\", \"A174\", \"A174\", \"A174\", \"A174\", \"A174\", \"A174\", \"A174\", \"A174\", \"A174\", \"A174\", \"A174\", \"A174\", \"A174\", \"A174\", \"A174\", \"A174\", \"A174\", \"A174\", \"A174\", \"A174\", \"A174\", \"A174\", \"A174\", \"A174\", \"A174\", \"A174\", \"A174\"], \"xaxis\": \"x\", \"y\": [1, 1, 1, 1, 1, 1, 1, 1, 1, 1, 1, 1, 1, 1, 1, 1, 1, 1, 1, 1, 1, 1, 1, 1, 1, 1, 1, 1, 1, 1, 1, 1, 1, 1, 1, 1, 1, 1, 1, 1, 1, 1, 1, 1, 1, 1, 1, 1, 1, 1, 1], \"yaxis\": \"y\"}, {\"alignmentgroup\": \"True\", \"hovertemplate\": \"Job=%{x}<br>count=%{y}<extra></extra>\", \"legendgroup\": \"A172\", \"marker\": {\"color\": \"#00cc96\"}, \"name\": \"A172\", \"offsetgroup\": \"A172\", \"orientation\": \"v\", \"showlegend\": true, \"textposition\": \"auto\", \"type\": \"bar\", \"x\": [\"A172\", \"A172\", \"A172\", \"A172\", \"A172\", \"A172\", \"A172\", \"A172\", \"A172\", \"A172\", \"A172\", \"A172\", \"A172\", \"A172\", \"A172\", \"A172\", \"A172\", \"A172\", \"A172\", \"A172\", \"A172\", \"A172\", \"A172\", \"A172\", \"A172\", \"A172\", \"A172\", \"A172\", \"A172\", \"A172\", \"A172\", \"A172\", \"A172\", \"A172\", \"A172\", \"A172\", \"A172\", \"A172\", \"A172\", \"A172\", \"A172\", \"A172\", \"A172\", \"A172\", \"A172\", \"A172\", \"A172\", \"A172\", \"A172\", \"A172\", \"A172\", \"A172\", \"A172\", \"A172\", \"A172\", \"A172\"], \"xaxis\": \"x\", \"y\": [1, 1, 1, 1, 1, 1, 1, 1, 1, 1, 1, 1, 1, 1, 1, 1, 1, 1, 1, 1, 1, 1, 1, 1, 1, 1, 1, 1, 1, 1, 1, 1, 1, 1, 1, 1, 1, 1, 1, 1, 1, 1, 1, 1, 1, 1, 1, 1, 1, 1, 1, 1, 1, 1, 1, 1], \"yaxis\": \"y\"}, {\"alignmentgroup\": \"True\", \"hovertemplate\": \"Job=%{x}<br>count=%{y}<extra></extra>\", \"legendgroup\": \"A171\", \"marker\": {\"color\": \"#ab63fa\"}, \"name\": \"A171\", \"offsetgroup\": \"A171\", \"orientation\": \"v\", \"showlegend\": true, \"textposition\": \"auto\", \"type\": \"bar\", \"x\": [\"A171\", \"A171\", \"A171\", \"A171\", \"A171\", \"A171\", \"A171\"], \"xaxis\": \"x\", \"y\": [1, 1, 1, 1, 1, 1, 1], \"yaxis\": \"y\"}],\n",
       "                        {\"barmode\": \"relative\", \"legend\": {\"title\": {\"text\": \"Job\"}, \"tracegroupgap\": 0}, \"margin\": {\"t\": 60}, \"template\": {\"data\": {\"bar\": [{\"error_x\": {\"color\": \"#2a3f5f\"}, \"error_y\": {\"color\": \"#2a3f5f\"}, \"marker\": {\"line\": {\"color\": \"#E5ECF6\", \"width\": 0.5}}, \"type\": \"bar\"}], \"barpolar\": [{\"marker\": {\"line\": {\"color\": \"#E5ECF6\", \"width\": 0.5}}, \"type\": \"barpolar\"}], \"carpet\": [{\"aaxis\": {\"endlinecolor\": \"#2a3f5f\", \"gridcolor\": \"white\", \"linecolor\": \"white\", \"minorgridcolor\": \"white\", \"startlinecolor\": \"#2a3f5f\"}, \"baxis\": {\"endlinecolor\": \"#2a3f5f\", \"gridcolor\": \"white\", \"linecolor\": \"white\", \"minorgridcolor\": \"white\", \"startlinecolor\": \"#2a3f5f\"}, \"type\": \"carpet\"}], \"choropleth\": [{\"colorbar\": {\"outlinewidth\": 0, \"ticks\": \"\"}, \"type\": \"choropleth\"}], \"contour\": [{\"colorbar\": {\"outlinewidth\": 0, \"ticks\": \"\"}, \"colorscale\": [[0.0, \"#0d0887\"], [0.1111111111111111, \"#46039f\"], [0.2222222222222222, \"#7201a8\"], [0.3333333333333333, \"#9c179e\"], [0.4444444444444444, \"#bd3786\"], [0.5555555555555556, \"#d8576b\"], [0.6666666666666666, \"#ed7953\"], [0.7777777777777778, \"#fb9f3a\"], [0.8888888888888888, \"#fdca26\"], [1.0, \"#f0f921\"]], \"type\": \"contour\"}], \"contourcarpet\": [{\"colorbar\": {\"outlinewidth\": 0, \"ticks\": \"\"}, \"type\": \"contourcarpet\"}], \"heatmap\": [{\"colorbar\": {\"outlinewidth\": 0, \"ticks\": \"\"}, \"colorscale\": [[0.0, \"#0d0887\"], [0.1111111111111111, \"#46039f\"], [0.2222222222222222, \"#7201a8\"], [0.3333333333333333, \"#9c179e\"], [0.4444444444444444, \"#bd3786\"], [0.5555555555555556, \"#d8576b\"], [0.6666666666666666, \"#ed7953\"], [0.7777777777777778, \"#fb9f3a\"], [0.8888888888888888, \"#fdca26\"], [1.0, \"#f0f921\"]], \"type\": \"heatmap\"}], \"heatmapgl\": [{\"colorbar\": {\"outlinewidth\": 0, \"ticks\": \"\"}, \"colorscale\": [[0.0, \"#0d0887\"], [0.1111111111111111, \"#46039f\"], [0.2222222222222222, \"#7201a8\"], [0.3333333333333333, \"#9c179e\"], [0.4444444444444444, \"#bd3786\"], [0.5555555555555556, \"#d8576b\"], [0.6666666666666666, \"#ed7953\"], [0.7777777777777778, \"#fb9f3a\"], [0.8888888888888888, \"#fdca26\"], [1.0, \"#f0f921\"]], \"type\": \"heatmapgl\"}], \"histogram\": [{\"marker\": {\"colorbar\": {\"outlinewidth\": 0, \"ticks\": \"\"}}, \"type\": \"histogram\"}], \"histogram2d\": [{\"colorbar\": {\"outlinewidth\": 0, \"ticks\": \"\"}, \"colorscale\": [[0.0, \"#0d0887\"], [0.1111111111111111, \"#46039f\"], [0.2222222222222222, \"#7201a8\"], [0.3333333333333333, \"#9c179e\"], [0.4444444444444444, \"#bd3786\"], [0.5555555555555556, \"#d8576b\"], [0.6666666666666666, \"#ed7953\"], [0.7777777777777778, \"#fb9f3a\"], [0.8888888888888888, \"#fdca26\"], [1.0, \"#f0f921\"]], \"type\": \"histogram2d\"}], \"histogram2dcontour\": [{\"colorbar\": {\"outlinewidth\": 0, \"ticks\": \"\"}, \"colorscale\": [[0.0, \"#0d0887\"], [0.1111111111111111, \"#46039f\"], [0.2222222222222222, \"#7201a8\"], [0.3333333333333333, \"#9c179e\"], [0.4444444444444444, \"#bd3786\"], [0.5555555555555556, \"#d8576b\"], [0.6666666666666666, \"#ed7953\"], [0.7777777777777778, \"#fb9f3a\"], [0.8888888888888888, \"#fdca26\"], [1.0, \"#f0f921\"]], \"type\": \"histogram2dcontour\"}], \"mesh3d\": [{\"colorbar\": {\"outlinewidth\": 0, \"ticks\": \"\"}, \"type\": \"mesh3d\"}], \"parcoords\": [{\"line\": {\"colorbar\": {\"outlinewidth\": 0, \"ticks\": \"\"}}, \"type\": \"parcoords\"}], \"pie\": [{\"automargin\": true, \"type\": \"pie\"}], \"scatter\": [{\"marker\": {\"colorbar\": {\"outlinewidth\": 0, \"ticks\": \"\"}}, \"type\": \"scatter\"}], \"scatter3d\": [{\"line\": {\"colorbar\": {\"outlinewidth\": 0, \"ticks\": \"\"}}, \"marker\": {\"colorbar\": {\"outlinewidth\": 0, \"ticks\": \"\"}}, \"type\": \"scatter3d\"}], \"scattercarpet\": [{\"marker\": {\"colorbar\": {\"outlinewidth\": 0, \"ticks\": \"\"}}, \"type\": \"scattercarpet\"}], \"scattergeo\": [{\"marker\": {\"colorbar\": {\"outlinewidth\": 0, \"ticks\": \"\"}}, \"type\": \"scattergeo\"}], \"scattergl\": [{\"marker\": {\"colorbar\": {\"outlinewidth\": 0, \"ticks\": \"\"}}, \"type\": \"scattergl\"}], \"scattermapbox\": [{\"marker\": {\"colorbar\": {\"outlinewidth\": 0, \"ticks\": \"\"}}, \"type\": \"scattermapbox\"}], \"scatterpolar\": [{\"marker\": {\"colorbar\": {\"outlinewidth\": 0, \"ticks\": \"\"}}, \"type\": \"scatterpolar\"}], \"scatterpolargl\": [{\"marker\": {\"colorbar\": {\"outlinewidth\": 0, \"ticks\": \"\"}}, \"type\": \"scatterpolargl\"}], \"scatterternary\": [{\"marker\": {\"colorbar\": {\"outlinewidth\": 0, \"ticks\": \"\"}}, \"type\": \"scatterternary\"}], \"surface\": [{\"colorbar\": {\"outlinewidth\": 0, \"ticks\": \"\"}, \"colorscale\": [[0.0, \"#0d0887\"], [0.1111111111111111, \"#46039f\"], [0.2222222222222222, \"#7201a8\"], [0.3333333333333333, \"#9c179e\"], [0.4444444444444444, \"#bd3786\"], [0.5555555555555556, \"#d8576b\"], [0.6666666666666666, \"#ed7953\"], [0.7777777777777778, \"#fb9f3a\"], [0.8888888888888888, \"#fdca26\"], [1.0, \"#f0f921\"]], \"type\": \"surface\"}], \"table\": [{\"cells\": {\"fill\": {\"color\": \"#EBF0F8\"}, \"line\": {\"color\": \"white\"}}, \"header\": {\"fill\": {\"color\": \"#C8D4E3\"}, \"line\": {\"color\": \"white\"}}, \"type\": \"table\"}]}, \"layout\": {\"annotationdefaults\": {\"arrowcolor\": \"#2a3f5f\", \"arrowhead\": 0, \"arrowwidth\": 1}, \"coloraxis\": {\"colorbar\": {\"outlinewidth\": 0, \"ticks\": \"\"}}, \"colorscale\": {\"diverging\": [[0, \"#8e0152\"], [0.1, \"#c51b7d\"], [0.2, \"#de77ae\"], [0.3, \"#f1b6da\"], [0.4, \"#fde0ef\"], [0.5, \"#f7f7f7\"], [0.6, \"#e6f5d0\"], [0.7, \"#b8e186\"], [0.8, \"#7fbc41\"], [0.9, \"#4d9221\"], [1, \"#276419\"]], \"sequential\": [[0.0, \"#0d0887\"], [0.1111111111111111, \"#46039f\"], [0.2222222222222222, \"#7201a8\"], [0.3333333333333333, \"#9c179e\"], [0.4444444444444444, \"#bd3786\"], [0.5555555555555556, \"#d8576b\"], [0.6666666666666666, \"#ed7953\"], [0.7777777777777778, \"#fb9f3a\"], [0.8888888888888888, \"#fdca26\"], [1.0, \"#f0f921\"]], \"sequentialminus\": [[0.0, \"#0d0887\"], [0.1111111111111111, \"#46039f\"], [0.2222222222222222, \"#7201a8\"], [0.3333333333333333, \"#9c179e\"], [0.4444444444444444, \"#bd3786\"], [0.5555555555555556, \"#d8576b\"], [0.6666666666666666, \"#ed7953\"], [0.7777777777777778, \"#fb9f3a\"], [0.8888888888888888, \"#fdca26\"], [1.0, \"#f0f921\"]]}, \"colorway\": [\"#636efa\", \"#EF553B\", \"#00cc96\", \"#ab63fa\", \"#FFA15A\", \"#19d3f3\", \"#FF6692\", \"#B6E880\", \"#FF97FF\", \"#FECB52\"], \"font\": {\"color\": \"#2a3f5f\"}, \"geo\": {\"bgcolor\": \"white\", \"lakecolor\": \"white\", \"landcolor\": \"#E5ECF6\", \"showlakes\": true, \"showland\": true, \"subunitcolor\": \"white\"}, \"hoverlabel\": {\"align\": \"left\"}, \"hovermode\": \"closest\", \"mapbox\": {\"style\": \"light\"}, \"paper_bgcolor\": \"white\", \"plot_bgcolor\": \"#E5ECF6\", \"polar\": {\"angularaxis\": {\"gridcolor\": \"white\", \"linecolor\": \"white\", \"ticks\": \"\"}, \"bgcolor\": \"#E5ECF6\", \"radialaxis\": {\"gridcolor\": \"white\", \"linecolor\": \"white\", \"ticks\": \"\"}}, \"scene\": {\"xaxis\": {\"backgroundcolor\": \"#E5ECF6\", \"gridcolor\": \"white\", \"gridwidth\": 2, \"linecolor\": \"white\", \"showbackground\": true, \"ticks\": \"\", \"zerolinecolor\": \"white\"}, \"yaxis\": {\"backgroundcolor\": \"#E5ECF6\", \"gridcolor\": \"white\", \"gridwidth\": 2, \"linecolor\": \"white\", \"showbackground\": true, \"ticks\": \"\", \"zerolinecolor\": \"white\"}, \"zaxis\": {\"backgroundcolor\": \"#E5ECF6\", \"gridcolor\": \"white\", \"gridwidth\": 2, \"linecolor\": \"white\", \"showbackground\": true, \"ticks\": \"\", \"zerolinecolor\": \"white\"}}, \"shapedefaults\": {\"line\": {\"color\": \"#2a3f5f\"}}, \"ternary\": {\"aaxis\": {\"gridcolor\": \"white\", \"linecolor\": \"white\", \"ticks\": \"\"}, \"baxis\": {\"gridcolor\": \"white\", \"linecolor\": \"white\", \"ticks\": \"\"}, \"bgcolor\": \"#E5ECF6\", \"caxis\": {\"gridcolor\": \"white\", \"linecolor\": \"white\", \"ticks\": \"\"}}, \"title\": {\"x\": 0.05}, \"xaxis\": {\"automargin\": true, \"gridcolor\": \"white\", \"linecolor\": \"white\", \"ticks\": \"\", \"title\": {\"standoff\": 15}, \"zerolinecolor\": \"white\", \"zerolinewidth\": 2}, \"yaxis\": {\"automargin\": true, \"gridcolor\": \"white\", \"linecolor\": \"white\", \"ticks\": \"\", \"title\": {\"standoff\": 15}, \"zerolinecolor\": \"white\", \"zerolinewidth\": 2}}}, \"xaxis\": {\"anchor\": \"y\", \"categoryarray\": [\"A173\", \"A174\", \"A172\", \"A171\"], \"categoryorder\": \"array\", \"domain\": [0.0, 1.0], \"title\": {\"text\": \"Job\"}}, \"yaxis\": {\"anchor\": \"x\", \"domain\": [0.0, 1.0], \"title\": {\"text\": \"count\"}}},\n",
       "                        {\"responsive\": true}\n",
       "                    ).then(function(){\n",
       "                            \n",
       "var gd = document.getElementById('f91e52a4-96be-4530-8586-cc25095a5101');\n",
       "var x = new MutationObserver(function (mutations, observer) {{\n",
       "        var display = window.getComputedStyle(gd).display;\n",
       "        if (!display || display === 'none') {{\n",
       "            console.log([gd, 'removed!']);\n",
       "            Plotly.purge(gd);\n",
       "            observer.disconnect();\n",
       "        }}\n",
       "}});\n",
       "\n",
       "// Listen for the removal of the full notebook cells\n",
       "var notebookContainer = gd.closest('#notebook-container');\n",
       "if (notebookContainer) {{\n",
       "    x.observe(notebookContainer, {childList: true});\n",
       "}}\n",
       "\n",
       "// Listen for the clearing of the current output cell\n",
       "var outputEl = gd.closest('.output');\n",
       "if (outputEl) {{\n",
       "    x.observe(outputEl, {childList: true});\n",
       "}}\n",
       "\n",
       "                        })\n",
       "                };\n",
       "                });\n",
       "            </script>\n",
       "        </div>"
      ]
     },
     "metadata": {},
     "output_type": "display_data"
    }
   ],
   "source": [
    "PX.bar(data_frame = german_2, x = \"Job\", color = \"Job\")"
   ]
  },
  {
   "cell_type": "code",
   "execution_count": 18,
   "metadata": {},
   "outputs": [
    {
     "data": {
      "application/vnd.plotly.v1+json": {
       "config": {
        "plotlyServerURL": "https://plot.ly"
       },
       "data": [
        {
         "alignmentgroup": "True",
         "bingroup": "x",
         "hovertemplate": "Class=1<br>Job=%{x}<br>count=%{y}<extra></extra>",
         "legendgroup": "1",
         "marker": {
          "color": "#636efa"
         },
         "name": "1",
         "offsetgroup": "1",
         "orientation": "v",
         "showlegend": true,
         "type": "histogram",
         "x": [
          "A173",
          "A172",
          "A173",
          "A172",
          "A173",
          "A174",
          "A172",
          "A173",
          "A173",
          "A173",
          "A173",
          "A173",
          "A173",
          "A173",
          "A172",
          "A173",
          "A173",
          "A172",
          "A172",
          "A173",
          "A173",
          "A173",
          "A173",
          "A173",
          "A172",
          "A174",
          "A173",
          "A173",
          "A173",
          "A174",
          "A173",
          "A172",
          "A173",
          "A174",
          "A173",
          "A171",
          "A172",
          "A173",
          "A172",
          "A174",
          "A173",
          "A173",
          "A172",
          "A173",
          "A174",
          "A173",
          "A173",
          "A173",
          "A173",
          "A173",
          "A173",
          "A173",
          "A173",
          "A172",
          "A174",
          "A172",
          "A174",
          "A173",
          "A172",
          "A173",
          "A173",
          "A172",
          "A172",
          "A172",
          "A174",
          "A173",
          "A174",
          "A173",
          "A173",
          "A173",
          "A173",
          "A173",
          "A173",
          "A173",
          "A174",
          "A172",
          "A173",
          "A173",
          "A173",
          "A173",
          "A173",
          "A173",
          "A173",
          "A173",
          "A173",
          "A172",
          "A173",
          "A173",
          "A173",
          "A174",
          "A174",
          "A172",
          "A173",
          "A173",
          "A172",
          "A174",
          "A173",
          "A172",
          "A173",
          "A173",
          "A173",
          "A173",
          "A173",
          "A172",
          "A171",
          "A174",
          "A174",
          "A173",
          "A173",
          "A173",
          "A173",
          "A173",
          "A173",
          "A173",
          "A173",
          "A173",
          "A173",
          "A174",
          "A173",
          "A172",
          "A173",
          "A172",
          "A173",
          "A173",
          "A173",
          "A174",
          "A173",
          "A173",
          "A173",
          "A173",
          "A173",
          "A173",
          "A173",
          "A173",
          "A174",
          "A173",
          "A173",
          "A173",
          "A171",
          "A173",
          "A173",
          "A173",
          "A173",
          "A173",
          "A172",
          "A173",
          "A172",
          "A174",
          "A173",
          "A173",
          "A172",
          "A173",
          "A173",
          "A172",
          "A173",
          "A172",
          "A173",
          "A173",
          "A172",
          "A173",
          "A172",
          "A173",
          "A173",
          "A173",
          "A173",
          "A173",
          "A173",
          "A172",
          "A173",
          "A172",
          "A172",
          "A173",
          "A173",
          "A173",
          "A173",
          "A172",
          "A173",
          "A173",
          "A173",
          "A173",
          "A172",
          "A172",
          "A173",
          "A173",
          "A172",
          "A172",
          "A173",
          "A172",
          "A173",
          "A173",
          "A174",
          "A172",
          "A172",
          "A173",
          "A173",
          "A173",
          "A173",
          "A173",
          "A174",
          "A173",
          "A173",
          "A172",
          "A174",
          "A173",
          "A173",
          "A172",
          "A173",
          "A173",
          "A172",
          "A173",
          "A174",
          "A173",
          "A173",
          "A174",
          "A173",
          "A174",
          "A173",
          "A172",
          "A173",
          "A173",
          "A171",
          "A173",
          "A173",
          "A172",
          "A172",
          "A171",
          "A173",
          "A173",
          "A172",
          "A172",
          "A172",
          "A173",
          "A172",
          "A174",
          "A173",
          "A173",
          "A172",
          "A173",
          "A173",
          "A173",
          "A173",
          "A174",
          "A172",
          "A173",
          "A172",
          "A173",
          "A172",
          "A173",
          "A174",
          "A172",
          "A172",
          "A173",
          "A171",
          "A172",
          "A173",
          "A174",
          "A173",
          "A173",
          "A173",
          "A173",
          "A174",
          "A173",
          "A173",
          "A173",
          "A173",
          "A173",
          "A173",
          "A173",
          "A173",
          "A173",
          "A174",
          "A173",
          "A173",
          "A172",
          "A173",
          "A173",
          "A173",
          "A172",
          "A173",
          "A173",
          "A174",
          "A173",
          "A173",
          "A174",
          "A172",
          "A174",
          "A173",
          "A174",
          "A173",
          "A174",
          "A173",
          "A172",
          "A173",
          "A173",
          "A172",
          "A173",
          "A173",
          "A173",
          "A174",
          "A173",
          "A174",
          "A172",
          "A173",
          "A173",
          "A174",
          "A173",
          "A173",
          "A172",
          "A174",
          "A173",
          "A173",
          "A173",
          "A173",
          "A172",
          "A174",
          "A173",
          "A173",
          "A172",
          "A173",
          "A171",
          "A174",
          "A173",
          "A173",
          "A172",
          "A173",
          "A174",
          "A174",
          "A173",
          "A173",
          "A174",
          "A174",
          "A173",
          "A173",
          "A173",
          "A173",
          "A173",
          "A174",
          "A173",
          "A173",
          "A173",
          "A173",
          "A173",
          "A172",
          "A174",
          "A173",
          "A173",
          "A172",
          "A173",
          "A172",
          "A173",
          "A173",
          "A173",
          "A173",
          "A173",
          "A173",
          "A172",
          "A173",
          "A173",
          "A173",
          "A173",
          "A172",
          "A173",
          "A172",
          "A173",
          "A173",
          "A173",
          "A173",
          "A173",
          "A174",
          "A174",
          "A173",
          "A173",
          "A173",
          "A173",
          "A172",
          "A173",
          "A173",
          "A173",
          "A173",
          "A172",
          "A173",
          "A173",
          "A172",
          "A172",
          "A173",
          "A173",
          "A173",
          "A173",
          "A174",
          "A173",
          "A172",
          "A173",
          "A172",
          "A173",
          "A173",
          "A173",
          "A173",
          "A172",
          "A173",
          "A174",
          "A173",
          "A173",
          "A174",
          "A173",
          "A173",
          "A173",
          "A173",
          "A174",
          "A172",
          "A172",
          "A173",
          "A173",
          "A173",
          "A172",
          "A172",
          "A173",
          "A174",
          "A173",
          "A172",
          "A172",
          "A173",
          "A172",
          "A173",
          "A173",
          "A173",
          "A173",
          "A174",
          "A173",
          "A173",
          "A173",
          "A173",
          "A174",
          "A174",
          "A173",
          "A172",
          "A173",
          "A173",
          "A173",
          "A173",
          "A173",
          "A172",
          "A173",
          "A173",
          "A173",
          "A173",
          "A173",
          "A173",
          "A172",
          "A173",
          "A174",
          "A173",
          "A174",
          "A173",
          "A173",
          "A173",
          "A173",
          "A173",
          "A173",
          "A173",
          "A174",
          "A172",
          "A174",
          "A173",
          "A173",
          "A173",
          "A172",
          "A173",
          "A174",
          "A173",
          "A174",
          "A173",
          "A172",
          "A173",
          "A173",
          "A173",
          "A173",
          "A173",
          "A172",
          "A173",
          "A173",
          "A173",
          "A173",
          "A173",
          "A173",
          "A172",
          "A173",
          "A172",
          "A173",
          "A173",
          "A173",
          "A171",
          "A173",
          "A174",
          "A173",
          "A173",
          "A173",
          "A173",
          "A173",
          "A172",
          "A174",
          "A174",
          "A172",
          "A173",
          "A173",
          "A174",
          "A173",
          "A173",
          "A172",
          "A172",
          "A172",
          "A173",
          "A173",
          "A172",
          "A173",
          "A173",
          "A171",
          "A172",
          "A174",
          "A173",
          "A172",
          "A173",
          "A173",
          "A174",
          "A172",
          "A173",
          "A173",
          "A173",
          "A173",
          "A172",
          "A173",
          "A171",
          "A173",
          "A173",
          "A172",
          "A173",
          "A172",
          "A173",
          "A173",
          "A172",
          "A173",
          "A174",
          "A173",
          "A171",
          "A173",
          "A173",
          "A174",
          "A173",
          "A173",
          "A172",
          "A174",
          "A172",
          "A173",
          "A173",
          "A174",
          "A173",
          "A173",
          "A173",
          "A173",
          "A172",
          "A173",
          "A171",
          "A173",
          "A172",
          "A173",
          "A173",
          "A171",
          "A172",
          "A173",
          "A174",
          "A173",
          "A172",
          "A173",
          "A173",
          "A173",
          "A174",
          "A173",
          "A173",
          "A172",
          "A174",
          "A173",
          "A173",
          "A173",
          "A173",
          "A173",
          "A172",
          "A173",
          "A173",
          "A172",
          "A173",
          "A173",
          "A173",
          "A173",
          "A173",
          "A173",
          "A173",
          "A173",
          "A173",
          "A173",
          "A173",
          "A173",
          "A173",
          "A172",
          "A173",
          "A173",
          "A173",
          "A173",
          "A173",
          "A173",
          "A173",
          "A173",
          "A173",
          "A172",
          "A173",
          "A174",
          "A173",
          "A173",
          "A174",
          "A173",
          "A173",
          "A171",
          "A173",
          "A174",
          "A173",
          "A174",
          "A173",
          "A172",
          "A173",
          "A173",
          "A174",
          "A174",
          "A173",
          "A172",
          "A173",
          "A173",
          "A173",
          "A174",
          "A174",
          "A172",
          "A173",
          "A172",
          "A172",
          "A173",
          "A173",
          "A173",
          "A173",
          "A173",
          "A174",
          "A173",
          "A173",
          "A173",
          "A172",
          "A172",
          "A173",
          "A173",
          "A173",
          "A174",
          "A174",
          "A174",
          "A172",
          "A173",
          "A172",
          "A173",
          "A173",
          "A174",
          "A171",
          "A173",
          "A174",
          "A172",
          "A172",
          "A173",
          "A173",
          "A173",
          "A173",
          "A172",
          "A173",
          "A174",
          "A173",
          "A172",
          "A173",
          "A172",
          "A173",
          "A172",
          "A173",
          "A173",
          "A174",
          "A172",
          "A173",
          "A173",
          "A173",
          "A174",
          "A172",
          "A172",
          "A172",
          "A172",
          "A174",
          "A173",
          "A172",
          "A174",
          "A173",
          "A173"
         ],
         "xaxis": "x",
         "yaxis": "y"
        },
        {
         "alignmentgroup": "True",
         "bingroup": "x",
         "hovertemplate": "Class=2<br>Job=%{x}<br>count=%{y}<extra></extra>",
         "legendgroup": "2",
         "marker": {
          "color": "#EF553B"
         },
         "name": "2",
         "offsetgroup": "2",
         "orientation": "v",
         "showlegend": true,
         "type": "histogram",
         "x": [
          "A173",
          "A173",
          "A174",
          "A173",
          "A173",
          "A172",
          "A172",
          "A174",
          "A173",
          "A172",
          "A173",
          "A172",
          "A173",
          "A174",
          "A172",
          "A174",
          "A173",
          "A173",
          "A174",
          "A173",
          "A173",
          "A173",
          "A173",
          "A172",
          "A173",
          "A174",
          "A174",
          "A173",
          "A174",
          "A173",
          "A173",
          "A173",
          "A173",
          "A173",
          "A173",
          "A172",
          "A173",
          "A173",
          "A173",
          "A173",
          "A173",
          "A174",
          "A173",
          "A174",
          "A173",
          "A174",
          "A172",
          "A173",
          "A174",
          "A173",
          "A174",
          "A172",
          "A173",
          "A173",
          "A174",
          "A173",
          "A174",
          "A173",
          "A173",
          "A174",
          "A173",
          "A174",
          "A173",
          "A173",
          "A174",
          "A171",
          "A172",
          "A173",
          "A173",
          "A173",
          "A173",
          "A173",
          "A173",
          "A174",
          "A173",
          "A172",
          "A173",
          "A173",
          "A174",
          "A173",
          "A173",
          "A172",
          "A173",
          "A172",
          "A173",
          "A172",
          "A173",
          "A174",
          "A173",
          "A173",
          "A174",
          "A172",
          "A173",
          "A174",
          "A173",
          "A173",
          "A173",
          "A173",
          "A172",
          "A174",
          "A173",
          "A171",
          "A173",
          "A174",
          "A173",
          "A174",
          "A174",
          "A173",
          "A173",
          "A173",
          "A173",
          "A174",
          "A173",
          "A172",
          "A173",
          "A173",
          "A171",
          "A174",
          "A173",
          "A171",
          "A172",
          "A174",
          "A173",
          "A173",
          "A173",
          "A173",
          "A172",
          "A173",
          "A173",
          "A172",
          "A173",
          "A173",
          "A174",
          "A174",
          "A173",
          "A174",
          "A173",
          "A173",
          "A173",
          "A172",
          "A174",
          "A173",
          "A173",
          "A173",
          "A173",
          "A173",
          "A173",
          "A173",
          "A174",
          "A173",
          "A173",
          "A172",
          "A173",
          "A172",
          "A173",
          "A173",
          "A173",
          "A173",
          "A173",
          "A172",
          "A172",
          "A173",
          "A173",
          "A173",
          "A172",
          "A173",
          "A173",
          "A172",
          "A173",
          "A172",
          "A173",
          "A172",
          "A174",
          "A172",
          "A173",
          "A172",
          "A173",
          "A173",
          "A172",
          "A174",
          "A173",
          "A173",
          "A172",
          "A173",
          "A173",
          "A173",
          "A173",
          "A173",
          "A173",
          "A173",
          "A173",
          "A172",
          "A173",
          "A171",
          "A174",
          "A173",
          "A173",
          "A173",
          "A172",
          "A172",
          "A173",
          "A174",
          "A172",
          "A173",
          "A173",
          "A172",
          "A173",
          "A172",
          "A173",
          "A173",
          "A173",
          "A173",
          "A174",
          "A174",
          "A173",
          "A172",
          "A173",
          "A173",
          "A173",
          "A172",
          "A174",
          "A172",
          "A172",
          "A172",
          "A173",
          "A173",
          "A173",
          "A173",
          "A173",
          "A174",
          "A172",
          "A174",
          "A173",
          "A173",
          "A172",
          "A173",
          "A173",
          "A173",
          "A173",
          "A173",
          "A171",
          "A173",
          "A173",
          "A173",
          "A173",
          "A173",
          "A173",
          "A173",
          "A173",
          "A173",
          "A173",
          "A172",
          "A173",
          "A173",
          "A173",
          "A173",
          "A172",
          "A173",
          "A172",
          "A173",
          "A173",
          "A173",
          "A172",
          "A174",
          "A173",
          "A173",
          "A173",
          "A173",
          "A173",
          "A172",
          "A173",
          "A174",
          "A174",
          "A173",
          "A174",
          "A173",
          "A173",
          "A173",
          "A173",
          "A173",
          "A174",
          "A172",
          "A173",
          "A173",
          "A172",
          "A173",
          "A173",
          "A173",
          "A174",
          "A172",
          "A173",
          "A172",
          "A171",
          "A173",
          "A172",
          "A173",
          "A173",
          "A174",
          "A173",
          "A173"
         ],
         "xaxis": "x",
         "yaxis": "y"
        }
       ],
       "layout": {
        "barmode": "group",
        "legend": {
         "title": {
          "text": "Class"
         },
         "tracegroupgap": 0
        },
        "template": {
         "data": {
          "bar": [
           {
            "error_x": {
             "color": "#2a3f5f"
            },
            "error_y": {
             "color": "#2a3f5f"
            },
            "marker": {
             "line": {
              "color": "#E5ECF6",
              "width": 0.5
             }
            },
            "type": "bar"
           }
          ],
          "barpolar": [
           {
            "marker": {
             "line": {
              "color": "#E5ECF6",
              "width": 0.5
             }
            },
            "type": "barpolar"
           }
          ],
          "carpet": [
           {
            "aaxis": {
             "endlinecolor": "#2a3f5f",
             "gridcolor": "white",
             "linecolor": "white",
             "minorgridcolor": "white",
             "startlinecolor": "#2a3f5f"
            },
            "baxis": {
             "endlinecolor": "#2a3f5f",
             "gridcolor": "white",
             "linecolor": "white",
             "minorgridcolor": "white",
             "startlinecolor": "#2a3f5f"
            },
            "type": "carpet"
           }
          ],
          "choropleth": [
           {
            "colorbar": {
             "outlinewidth": 0,
             "ticks": ""
            },
            "type": "choropleth"
           }
          ],
          "contour": [
           {
            "colorbar": {
             "outlinewidth": 0,
             "ticks": ""
            },
            "colorscale": [
             [
              0,
              "#0d0887"
             ],
             [
              0.1111111111111111,
              "#46039f"
             ],
             [
              0.2222222222222222,
              "#7201a8"
             ],
             [
              0.3333333333333333,
              "#9c179e"
             ],
             [
              0.4444444444444444,
              "#bd3786"
             ],
             [
              0.5555555555555556,
              "#d8576b"
             ],
             [
              0.6666666666666666,
              "#ed7953"
             ],
             [
              0.7777777777777778,
              "#fb9f3a"
             ],
             [
              0.8888888888888888,
              "#fdca26"
             ],
             [
              1,
              "#f0f921"
             ]
            ],
            "type": "contour"
           }
          ],
          "contourcarpet": [
           {
            "colorbar": {
             "outlinewidth": 0,
             "ticks": ""
            },
            "type": "contourcarpet"
           }
          ],
          "heatmap": [
           {
            "colorbar": {
             "outlinewidth": 0,
             "ticks": ""
            },
            "colorscale": [
             [
              0,
              "#0d0887"
             ],
             [
              0.1111111111111111,
              "#46039f"
             ],
             [
              0.2222222222222222,
              "#7201a8"
             ],
             [
              0.3333333333333333,
              "#9c179e"
             ],
             [
              0.4444444444444444,
              "#bd3786"
             ],
             [
              0.5555555555555556,
              "#d8576b"
             ],
             [
              0.6666666666666666,
              "#ed7953"
             ],
             [
              0.7777777777777778,
              "#fb9f3a"
             ],
             [
              0.8888888888888888,
              "#fdca26"
             ],
             [
              1,
              "#f0f921"
             ]
            ],
            "type": "heatmap"
           }
          ],
          "heatmapgl": [
           {
            "colorbar": {
             "outlinewidth": 0,
             "ticks": ""
            },
            "colorscale": [
             [
              0,
              "#0d0887"
             ],
             [
              0.1111111111111111,
              "#46039f"
             ],
             [
              0.2222222222222222,
              "#7201a8"
             ],
             [
              0.3333333333333333,
              "#9c179e"
             ],
             [
              0.4444444444444444,
              "#bd3786"
             ],
             [
              0.5555555555555556,
              "#d8576b"
             ],
             [
              0.6666666666666666,
              "#ed7953"
             ],
             [
              0.7777777777777778,
              "#fb9f3a"
             ],
             [
              0.8888888888888888,
              "#fdca26"
             ],
             [
              1,
              "#f0f921"
             ]
            ],
            "type": "heatmapgl"
           }
          ],
          "histogram": [
           {
            "marker": {
             "colorbar": {
              "outlinewidth": 0,
              "ticks": ""
             }
            },
            "type": "histogram"
           }
          ],
          "histogram2d": [
           {
            "colorbar": {
             "outlinewidth": 0,
             "ticks": ""
            },
            "colorscale": [
             [
              0,
              "#0d0887"
             ],
             [
              0.1111111111111111,
              "#46039f"
             ],
             [
              0.2222222222222222,
              "#7201a8"
             ],
             [
              0.3333333333333333,
              "#9c179e"
             ],
             [
              0.4444444444444444,
              "#bd3786"
             ],
             [
              0.5555555555555556,
              "#d8576b"
             ],
             [
              0.6666666666666666,
              "#ed7953"
             ],
             [
              0.7777777777777778,
              "#fb9f3a"
             ],
             [
              0.8888888888888888,
              "#fdca26"
             ],
             [
              1,
              "#f0f921"
             ]
            ],
            "type": "histogram2d"
           }
          ],
          "histogram2dcontour": [
           {
            "colorbar": {
             "outlinewidth": 0,
             "ticks": ""
            },
            "colorscale": [
             [
              0,
              "#0d0887"
             ],
             [
              0.1111111111111111,
              "#46039f"
             ],
             [
              0.2222222222222222,
              "#7201a8"
             ],
             [
              0.3333333333333333,
              "#9c179e"
             ],
             [
              0.4444444444444444,
              "#bd3786"
             ],
             [
              0.5555555555555556,
              "#d8576b"
             ],
             [
              0.6666666666666666,
              "#ed7953"
             ],
             [
              0.7777777777777778,
              "#fb9f3a"
             ],
             [
              0.8888888888888888,
              "#fdca26"
             ],
             [
              1,
              "#f0f921"
             ]
            ],
            "type": "histogram2dcontour"
           }
          ],
          "mesh3d": [
           {
            "colorbar": {
             "outlinewidth": 0,
             "ticks": ""
            },
            "type": "mesh3d"
           }
          ],
          "parcoords": [
           {
            "line": {
             "colorbar": {
              "outlinewidth": 0,
              "ticks": ""
             }
            },
            "type": "parcoords"
           }
          ],
          "pie": [
           {
            "automargin": true,
            "type": "pie"
           }
          ],
          "scatter": [
           {
            "marker": {
             "colorbar": {
              "outlinewidth": 0,
              "ticks": ""
             }
            },
            "type": "scatter"
           }
          ],
          "scatter3d": [
           {
            "line": {
             "colorbar": {
              "outlinewidth": 0,
              "ticks": ""
             }
            },
            "marker": {
             "colorbar": {
              "outlinewidth": 0,
              "ticks": ""
             }
            },
            "type": "scatter3d"
           }
          ],
          "scattercarpet": [
           {
            "marker": {
             "colorbar": {
              "outlinewidth": 0,
              "ticks": ""
             }
            },
            "type": "scattercarpet"
           }
          ],
          "scattergeo": [
           {
            "marker": {
             "colorbar": {
              "outlinewidth": 0,
              "ticks": ""
             }
            },
            "type": "scattergeo"
           }
          ],
          "scattergl": [
           {
            "marker": {
             "colorbar": {
              "outlinewidth": 0,
              "ticks": ""
             }
            },
            "type": "scattergl"
           }
          ],
          "scattermapbox": [
           {
            "marker": {
             "colorbar": {
              "outlinewidth": 0,
              "ticks": ""
             }
            },
            "type": "scattermapbox"
           }
          ],
          "scatterpolar": [
           {
            "marker": {
             "colorbar": {
              "outlinewidth": 0,
              "ticks": ""
             }
            },
            "type": "scatterpolar"
           }
          ],
          "scatterpolargl": [
           {
            "marker": {
             "colorbar": {
              "outlinewidth": 0,
              "ticks": ""
             }
            },
            "type": "scatterpolargl"
           }
          ],
          "scatterternary": [
           {
            "marker": {
             "colorbar": {
              "outlinewidth": 0,
              "ticks": ""
             }
            },
            "type": "scatterternary"
           }
          ],
          "surface": [
           {
            "colorbar": {
             "outlinewidth": 0,
             "ticks": ""
            },
            "colorscale": [
             [
              0,
              "#0d0887"
             ],
             [
              0.1111111111111111,
              "#46039f"
             ],
             [
              0.2222222222222222,
              "#7201a8"
             ],
             [
              0.3333333333333333,
              "#9c179e"
             ],
             [
              0.4444444444444444,
              "#bd3786"
             ],
             [
              0.5555555555555556,
              "#d8576b"
             ],
             [
              0.6666666666666666,
              "#ed7953"
             ],
             [
              0.7777777777777778,
              "#fb9f3a"
             ],
             [
              0.8888888888888888,
              "#fdca26"
             ],
             [
              1,
              "#f0f921"
             ]
            ],
            "type": "surface"
           }
          ],
          "table": [
           {
            "cells": {
             "fill": {
              "color": "#EBF0F8"
             },
             "line": {
              "color": "white"
             }
            },
            "header": {
             "fill": {
              "color": "#C8D4E3"
             },
             "line": {
              "color": "white"
             }
            },
            "type": "table"
           }
          ]
         },
         "layout": {
          "annotationdefaults": {
           "arrowcolor": "#2a3f5f",
           "arrowhead": 0,
           "arrowwidth": 1
          },
          "coloraxis": {
           "colorbar": {
            "outlinewidth": 0,
            "ticks": ""
           }
          },
          "colorscale": {
           "diverging": [
            [
             0,
             "#8e0152"
            ],
            [
             0.1,
             "#c51b7d"
            ],
            [
             0.2,
             "#de77ae"
            ],
            [
             0.3,
             "#f1b6da"
            ],
            [
             0.4,
             "#fde0ef"
            ],
            [
             0.5,
             "#f7f7f7"
            ],
            [
             0.6,
             "#e6f5d0"
            ],
            [
             0.7,
             "#b8e186"
            ],
            [
             0.8,
             "#7fbc41"
            ],
            [
             0.9,
             "#4d9221"
            ],
            [
             1,
             "#276419"
            ]
           ],
           "sequential": [
            [
             0,
             "#0d0887"
            ],
            [
             0.1111111111111111,
             "#46039f"
            ],
            [
             0.2222222222222222,
             "#7201a8"
            ],
            [
             0.3333333333333333,
             "#9c179e"
            ],
            [
             0.4444444444444444,
             "#bd3786"
            ],
            [
             0.5555555555555556,
             "#d8576b"
            ],
            [
             0.6666666666666666,
             "#ed7953"
            ],
            [
             0.7777777777777778,
             "#fb9f3a"
            ],
            [
             0.8888888888888888,
             "#fdca26"
            ],
            [
             1,
             "#f0f921"
            ]
           ],
           "sequentialminus": [
            [
             0,
             "#0d0887"
            ],
            [
             0.1111111111111111,
             "#46039f"
            ],
            [
             0.2222222222222222,
             "#7201a8"
            ],
            [
             0.3333333333333333,
             "#9c179e"
            ],
            [
             0.4444444444444444,
             "#bd3786"
            ],
            [
             0.5555555555555556,
             "#d8576b"
            ],
            [
             0.6666666666666666,
             "#ed7953"
            ],
            [
             0.7777777777777778,
             "#fb9f3a"
            ],
            [
             0.8888888888888888,
             "#fdca26"
            ],
            [
             1,
             "#f0f921"
            ]
           ]
          },
          "colorway": [
           "#636efa",
           "#EF553B",
           "#00cc96",
           "#ab63fa",
           "#FFA15A",
           "#19d3f3",
           "#FF6692",
           "#B6E880",
           "#FF97FF",
           "#FECB52"
          ],
          "font": {
           "color": "#2a3f5f"
          },
          "geo": {
           "bgcolor": "white",
           "lakecolor": "white",
           "landcolor": "#E5ECF6",
           "showlakes": true,
           "showland": true,
           "subunitcolor": "white"
          },
          "hoverlabel": {
           "align": "left"
          },
          "hovermode": "closest",
          "mapbox": {
           "style": "light"
          },
          "paper_bgcolor": "white",
          "plot_bgcolor": "#E5ECF6",
          "polar": {
           "angularaxis": {
            "gridcolor": "white",
            "linecolor": "white",
            "ticks": ""
           },
           "bgcolor": "#E5ECF6",
           "radialaxis": {
            "gridcolor": "white",
            "linecolor": "white",
            "ticks": ""
           }
          },
          "scene": {
           "xaxis": {
            "backgroundcolor": "#E5ECF6",
            "gridcolor": "white",
            "gridwidth": 2,
            "linecolor": "white",
            "showbackground": true,
            "ticks": "",
            "zerolinecolor": "white"
           },
           "yaxis": {
            "backgroundcolor": "#E5ECF6",
            "gridcolor": "white",
            "gridwidth": 2,
            "linecolor": "white",
            "showbackground": true,
            "ticks": "",
            "zerolinecolor": "white"
           },
           "zaxis": {
            "backgroundcolor": "#E5ECF6",
            "gridcolor": "white",
            "gridwidth": 2,
            "linecolor": "white",
            "showbackground": true,
            "ticks": "",
            "zerolinecolor": "white"
           }
          },
          "shapedefaults": {
           "line": {
            "color": "#2a3f5f"
           }
          },
          "ternary": {
           "aaxis": {
            "gridcolor": "white",
            "linecolor": "white",
            "ticks": ""
           },
           "baxis": {
            "gridcolor": "white",
            "linecolor": "white",
            "ticks": ""
           },
           "bgcolor": "#E5ECF6",
           "caxis": {
            "gridcolor": "white",
            "linecolor": "white",
            "ticks": ""
           }
          },
          "title": {
           "x": 0.05
          },
          "xaxis": {
           "automargin": true,
           "gridcolor": "white",
           "linecolor": "white",
           "ticks": "",
           "title": {
            "standoff": 15
           },
           "zerolinecolor": "white",
           "zerolinewidth": 2
          },
          "yaxis": {
           "automargin": true,
           "gridcolor": "white",
           "linecolor": "white",
           "ticks": "",
           "title": {
            "standoff": 15
           },
           "zerolinecolor": "white",
           "zerolinewidth": 2
          }
         }
        },
        "title": {
         "text": "Répartition des clients bénéficiaires ou non d'un crédit en fonction des Job"
        },
        "xaxis": {
         "anchor": "y",
         "domain": [
          0,
          1
         ],
         "title": {
          "text": "Job"
         }
        },
        "yaxis": {
         "anchor": "x",
         "domain": [
          0,
          1
         ],
         "title": {
          "text": "count"
         }
        }
       }
      },
      "text/html": [
       "<div>\n",
       "        \n",
       "        \n",
       "            <div id=\"06a14136-218f-435b-97b4-6c0e5f8880ca\" class=\"plotly-graph-div\" style=\"height:525px; width:100%;\"></div>\n",
       "            <script type=\"text/javascript\">\n",
       "                require([\"plotly\"], function(Plotly) {\n",
       "                    window.PLOTLYENV=window.PLOTLYENV || {};\n",
       "                    \n",
       "                if (document.getElementById(\"06a14136-218f-435b-97b4-6c0e5f8880ca\")) {\n",
       "                    Plotly.newPlot(\n",
       "                        '06a14136-218f-435b-97b4-6c0e5f8880ca',\n",
       "                        [{\"alignmentgroup\": \"True\", \"bingroup\": \"x\", \"hovertemplate\": \"Class=1<br>Job=%{x}<br>count=%{y}<extra></extra>\", \"legendgroup\": \"1\", \"marker\": {\"color\": \"#636efa\"}, \"name\": \"1\", \"offsetgroup\": \"1\", \"orientation\": \"v\", \"showlegend\": true, \"type\": \"histogram\", \"x\": [\"A173\", \"A172\", \"A173\", \"A172\", \"A173\", \"A174\", \"A172\", \"A173\", \"A173\", \"A173\", \"A173\", \"A173\", \"A173\", \"A173\", \"A172\", \"A173\", \"A173\", \"A172\", \"A172\", \"A173\", \"A173\", \"A173\", \"A173\", \"A173\", \"A172\", \"A174\", \"A173\", \"A173\", \"A173\", \"A174\", \"A173\", \"A172\", \"A173\", \"A174\", \"A173\", \"A171\", \"A172\", \"A173\", \"A172\", \"A174\", \"A173\", \"A173\", \"A172\", \"A173\", \"A174\", \"A173\", \"A173\", \"A173\", \"A173\", \"A173\", \"A173\", \"A173\", \"A173\", \"A172\", \"A174\", \"A172\", \"A174\", \"A173\", \"A172\", \"A173\", \"A173\", \"A172\", \"A172\", \"A172\", \"A174\", \"A173\", \"A174\", \"A173\", \"A173\", \"A173\", \"A173\", \"A173\", \"A173\", \"A173\", \"A174\", \"A172\", \"A173\", \"A173\", \"A173\", \"A173\", \"A173\", \"A173\", \"A173\", \"A173\", \"A173\", \"A172\", \"A173\", \"A173\", \"A173\", \"A174\", \"A174\", \"A172\", \"A173\", \"A173\", \"A172\", \"A174\", \"A173\", \"A172\", \"A173\", \"A173\", \"A173\", \"A173\", \"A173\", \"A172\", \"A171\", \"A174\", \"A174\", \"A173\", \"A173\", \"A173\", \"A173\", \"A173\", \"A173\", \"A173\", \"A173\", \"A173\", \"A173\", \"A174\", \"A173\", \"A172\", \"A173\", \"A172\", \"A173\", \"A173\", \"A173\", \"A174\", \"A173\", \"A173\", \"A173\", \"A173\", \"A173\", \"A173\", \"A173\", \"A173\", \"A174\", \"A173\", \"A173\", \"A173\", \"A171\", \"A173\", \"A173\", \"A173\", \"A173\", \"A173\", \"A172\", \"A173\", \"A172\", \"A174\", \"A173\", \"A173\", \"A172\", \"A173\", \"A173\", \"A172\", \"A173\", \"A172\", \"A173\", \"A173\", \"A172\", \"A173\", \"A172\", \"A173\", \"A173\", \"A173\", \"A173\", \"A173\", \"A173\", \"A172\", \"A173\", \"A172\", \"A172\", \"A173\", \"A173\", \"A173\", \"A173\", \"A172\", \"A173\", \"A173\", \"A173\", \"A173\", \"A172\", \"A172\", \"A173\", \"A173\", \"A172\", \"A172\", \"A173\", \"A172\", \"A173\", \"A173\", \"A174\", \"A172\", \"A172\", \"A173\", \"A173\", \"A173\", \"A173\", \"A173\", \"A174\", \"A173\", \"A173\", \"A172\", \"A174\", \"A173\", \"A173\", \"A172\", \"A173\", \"A173\", \"A172\", \"A173\", \"A174\", \"A173\", \"A173\", \"A174\", \"A173\", \"A174\", \"A173\", \"A172\", \"A173\", \"A173\", \"A171\", \"A173\", \"A173\", \"A172\", \"A172\", \"A171\", \"A173\", \"A173\", \"A172\", \"A172\", \"A172\", \"A173\", \"A172\", \"A174\", \"A173\", \"A173\", \"A172\", \"A173\", \"A173\", \"A173\", \"A173\", \"A174\", \"A172\", \"A173\", \"A172\", \"A173\", \"A172\", \"A173\", \"A174\", \"A172\", \"A172\", \"A173\", \"A171\", \"A172\", \"A173\", \"A174\", \"A173\", \"A173\", \"A173\", \"A173\", \"A174\", \"A173\", \"A173\", \"A173\", \"A173\", \"A173\", \"A173\", \"A173\", \"A173\", \"A173\", \"A174\", \"A173\", \"A173\", \"A172\", \"A173\", \"A173\", \"A173\", \"A172\", \"A173\", \"A173\", \"A174\", \"A173\", \"A173\", \"A174\", \"A172\", \"A174\", \"A173\", \"A174\", \"A173\", \"A174\", \"A173\", \"A172\", \"A173\", \"A173\", \"A172\", \"A173\", \"A173\", \"A173\", \"A174\", \"A173\", \"A174\", \"A172\", \"A173\", \"A173\", \"A174\", \"A173\", \"A173\", \"A172\", \"A174\", \"A173\", \"A173\", \"A173\", \"A173\", \"A172\", \"A174\", \"A173\", \"A173\", \"A172\", \"A173\", \"A171\", \"A174\", \"A173\", \"A173\", \"A172\", \"A173\", \"A174\", \"A174\", \"A173\", \"A173\", \"A174\", \"A174\", \"A173\", \"A173\", \"A173\", \"A173\", \"A173\", \"A174\", \"A173\", \"A173\", \"A173\", \"A173\", \"A173\", \"A172\", \"A174\", \"A173\", \"A173\", \"A172\", \"A173\", \"A172\", \"A173\", \"A173\", \"A173\", \"A173\", \"A173\", \"A173\", \"A172\", \"A173\", \"A173\", \"A173\", \"A173\", \"A172\", \"A173\", \"A172\", \"A173\", \"A173\", \"A173\", \"A173\", \"A173\", \"A174\", \"A174\", \"A173\", \"A173\", \"A173\", \"A173\", \"A172\", \"A173\", \"A173\", \"A173\", \"A173\", \"A172\", \"A173\", \"A173\", \"A172\", \"A172\", \"A173\", \"A173\", \"A173\", \"A173\", \"A174\", \"A173\", \"A172\", \"A173\", \"A172\", \"A173\", \"A173\", \"A173\", \"A173\", \"A172\", \"A173\", \"A174\", \"A173\", \"A173\", \"A174\", \"A173\", \"A173\", \"A173\", \"A173\", \"A174\", \"A172\", \"A172\", \"A173\", \"A173\", \"A173\", \"A172\", \"A172\", \"A173\", \"A174\", \"A173\", \"A172\", \"A172\", \"A173\", \"A172\", \"A173\", \"A173\", \"A173\", \"A173\", \"A174\", \"A173\", \"A173\", \"A173\", \"A173\", \"A174\", \"A174\", \"A173\", \"A172\", \"A173\", \"A173\", \"A173\", \"A173\", \"A173\", \"A172\", \"A173\", \"A173\", \"A173\", \"A173\", \"A173\", \"A173\", \"A172\", \"A173\", \"A174\", \"A173\", \"A174\", \"A173\", \"A173\", \"A173\", \"A173\", \"A173\", \"A173\", \"A173\", \"A174\", \"A172\", \"A174\", \"A173\", \"A173\", \"A173\", \"A172\", \"A173\", \"A174\", \"A173\", \"A174\", \"A173\", \"A172\", \"A173\", \"A173\", \"A173\", \"A173\", \"A173\", \"A172\", \"A173\", \"A173\", \"A173\", \"A173\", \"A173\", \"A173\", \"A172\", \"A173\", \"A172\", \"A173\", \"A173\", \"A173\", \"A171\", \"A173\", \"A174\", \"A173\", \"A173\", \"A173\", \"A173\", \"A173\", \"A172\", \"A174\", \"A174\", \"A172\", \"A173\", \"A173\", \"A174\", \"A173\", \"A173\", \"A172\", \"A172\", \"A172\", \"A173\", \"A173\", \"A172\", \"A173\", \"A173\", \"A171\", \"A172\", \"A174\", \"A173\", \"A172\", \"A173\", \"A173\", \"A174\", \"A172\", \"A173\", \"A173\", \"A173\", \"A173\", \"A172\", \"A173\", \"A171\", \"A173\", \"A173\", \"A172\", \"A173\", \"A172\", \"A173\", \"A173\", \"A172\", \"A173\", \"A174\", \"A173\", \"A171\", \"A173\", \"A173\", \"A174\", \"A173\", \"A173\", \"A172\", \"A174\", \"A172\", \"A173\", \"A173\", \"A174\", \"A173\", \"A173\", \"A173\", \"A173\", \"A172\", \"A173\", \"A171\", \"A173\", \"A172\", \"A173\", \"A173\", \"A171\", \"A172\", \"A173\", \"A174\", \"A173\", \"A172\", \"A173\", \"A173\", \"A173\", \"A174\", \"A173\", \"A173\", \"A172\", \"A174\", \"A173\", \"A173\", \"A173\", \"A173\", \"A173\", \"A172\", \"A173\", \"A173\", \"A172\", \"A173\", \"A173\", \"A173\", \"A173\", \"A173\", \"A173\", \"A173\", \"A173\", \"A173\", \"A173\", \"A173\", \"A173\", \"A173\", \"A172\", \"A173\", \"A173\", \"A173\", \"A173\", \"A173\", \"A173\", \"A173\", \"A173\", \"A173\", \"A172\", \"A173\", \"A174\", \"A173\", \"A173\", \"A174\", \"A173\", \"A173\", \"A171\", \"A173\", \"A174\", \"A173\", \"A174\", \"A173\", \"A172\", \"A173\", \"A173\", \"A174\", \"A174\", \"A173\", \"A172\", \"A173\", \"A173\", \"A173\", \"A174\", \"A174\", \"A172\", \"A173\", \"A172\", \"A172\", \"A173\", \"A173\", \"A173\", \"A173\", \"A173\", \"A174\", \"A173\", \"A173\", \"A173\", \"A172\", \"A172\", \"A173\", \"A173\", \"A173\", \"A174\", \"A174\", \"A174\", \"A172\", \"A173\", \"A172\", \"A173\", \"A173\", \"A174\", \"A171\", \"A173\", \"A174\", \"A172\", \"A172\", \"A173\", \"A173\", \"A173\", \"A173\", \"A172\", \"A173\", \"A174\", \"A173\", \"A172\", \"A173\", \"A172\", \"A173\", \"A172\", \"A173\", \"A173\", \"A174\", \"A172\", \"A173\", \"A173\", \"A173\", \"A174\", \"A172\", \"A172\", \"A172\", \"A172\", \"A174\", \"A173\", \"A172\", \"A174\", \"A173\", \"A173\"], \"xaxis\": \"x\", \"yaxis\": \"y\"}, {\"alignmentgroup\": \"True\", \"bingroup\": \"x\", \"hovertemplate\": \"Class=2<br>Job=%{x}<br>count=%{y}<extra></extra>\", \"legendgroup\": \"2\", \"marker\": {\"color\": \"#EF553B\"}, \"name\": \"2\", \"offsetgroup\": \"2\", \"orientation\": \"v\", \"showlegend\": true, \"type\": \"histogram\", \"x\": [\"A173\", \"A173\", \"A174\", \"A173\", \"A173\", \"A172\", \"A172\", \"A174\", \"A173\", \"A172\", \"A173\", \"A172\", \"A173\", \"A174\", \"A172\", \"A174\", \"A173\", \"A173\", \"A174\", \"A173\", \"A173\", \"A173\", \"A173\", \"A172\", \"A173\", \"A174\", \"A174\", \"A173\", \"A174\", \"A173\", \"A173\", \"A173\", \"A173\", \"A173\", \"A173\", \"A172\", \"A173\", \"A173\", \"A173\", \"A173\", \"A173\", \"A174\", \"A173\", \"A174\", \"A173\", \"A174\", \"A172\", \"A173\", \"A174\", \"A173\", \"A174\", \"A172\", \"A173\", \"A173\", \"A174\", \"A173\", \"A174\", \"A173\", \"A173\", \"A174\", \"A173\", \"A174\", \"A173\", \"A173\", \"A174\", \"A171\", \"A172\", \"A173\", \"A173\", \"A173\", \"A173\", \"A173\", \"A173\", \"A174\", \"A173\", \"A172\", \"A173\", \"A173\", \"A174\", \"A173\", \"A173\", \"A172\", \"A173\", \"A172\", \"A173\", \"A172\", \"A173\", \"A174\", \"A173\", \"A173\", \"A174\", \"A172\", \"A173\", \"A174\", \"A173\", \"A173\", \"A173\", \"A173\", \"A172\", \"A174\", \"A173\", \"A171\", \"A173\", \"A174\", \"A173\", \"A174\", \"A174\", \"A173\", \"A173\", \"A173\", \"A173\", \"A174\", \"A173\", \"A172\", \"A173\", \"A173\", \"A171\", \"A174\", \"A173\", \"A171\", \"A172\", \"A174\", \"A173\", \"A173\", \"A173\", \"A173\", \"A172\", \"A173\", \"A173\", \"A172\", \"A173\", \"A173\", \"A174\", \"A174\", \"A173\", \"A174\", \"A173\", \"A173\", \"A173\", \"A172\", \"A174\", \"A173\", \"A173\", \"A173\", \"A173\", \"A173\", \"A173\", \"A173\", \"A174\", \"A173\", \"A173\", \"A172\", \"A173\", \"A172\", \"A173\", \"A173\", \"A173\", \"A173\", \"A173\", \"A172\", \"A172\", \"A173\", \"A173\", \"A173\", \"A172\", \"A173\", \"A173\", \"A172\", \"A173\", \"A172\", \"A173\", \"A172\", \"A174\", \"A172\", \"A173\", \"A172\", \"A173\", \"A173\", \"A172\", \"A174\", \"A173\", \"A173\", \"A172\", \"A173\", \"A173\", \"A173\", \"A173\", \"A173\", \"A173\", \"A173\", \"A173\", \"A172\", \"A173\", \"A171\", \"A174\", \"A173\", \"A173\", \"A173\", \"A172\", \"A172\", \"A173\", \"A174\", \"A172\", \"A173\", \"A173\", \"A172\", \"A173\", \"A172\", \"A173\", \"A173\", \"A173\", \"A173\", \"A174\", \"A174\", \"A173\", \"A172\", \"A173\", \"A173\", \"A173\", \"A172\", \"A174\", \"A172\", \"A172\", \"A172\", \"A173\", \"A173\", \"A173\", \"A173\", \"A173\", \"A174\", \"A172\", \"A174\", \"A173\", \"A173\", \"A172\", \"A173\", \"A173\", \"A173\", \"A173\", \"A173\", \"A171\", \"A173\", \"A173\", \"A173\", \"A173\", \"A173\", \"A173\", \"A173\", \"A173\", \"A173\", \"A173\", \"A172\", \"A173\", \"A173\", \"A173\", \"A173\", \"A172\", \"A173\", \"A172\", \"A173\", \"A173\", \"A173\", \"A172\", \"A174\", \"A173\", \"A173\", \"A173\", \"A173\", \"A173\", \"A172\", \"A173\", \"A174\", \"A174\", \"A173\", \"A174\", \"A173\", \"A173\", \"A173\", \"A173\", \"A173\", \"A174\", \"A172\", \"A173\", \"A173\", \"A172\", \"A173\", \"A173\", \"A173\", \"A174\", \"A172\", \"A173\", \"A172\", \"A171\", \"A173\", \"A172\", \"A173\", \"A173\", \"A174\", \"A173\", \"A173\"], \"xaxis\": \"x\", \"yaxis\": \"y\"}],\n",
       "                        {\"barmode\": \"group\", \"legend\": {\"title\": {\"text\": \"Class\"}, \"tracegroupgap\": 0}, \"template\": {\"data\": {\"bar\": [{\"error_x\": {\"color\": \"#2a3f5f\"}, \"error_y\": {\"color\": \"#2a3f5f\"}, \"marker\": {\"line\": {\"color\": \"#E5ECF6\", \"width\": 0.5}}, \"type\": \"bar\"}], \"barpolar\": [{\"marker\": {\"line\": {\"color\": \"#E5ECF6\", \"width\": 0.5}}, \"type\": \"barpolar\"}], \"carpet\": [{\"aaxis\": {\"endlinecolor\": \"#2a3f5f\", \"gridcolor\": \"white\", \"linecolor\": \"white\", \"minorgridcolor\": \"white\", \"startlinecolor\": \"#2a3f5f\"}, \"baxis\": {\"endlinecolor\": \"#2a3f5f\", \"gridcolor\": \"white\", \"linecolor\": \"white\", \"minorgridcolor\": \"white\", \"startlinecolor\": \"#2a3f5f\"}, \"type\": \"carpet\"}], \"choropleth\": [{\"colorbar\": {\"outlinewidth\": 0, \"ticks\": \"\"}, \"type\": \"choropleth\"}], \"contour\": [{\"colorbar\": {\"outlinewidth\": 0, \"ticks\": \"\"}, \"colorscale\": [[0.0, \"#0d0887\"], [0.1111111111111111, \"#46039f\"], [0.2222222222222222, \"#7201a8\"], [0.3333333333333333, \"#9c179e\"], [0.4444444444444444, \"#bd3786\"], [0.5555555555555556, \"#d8576b\"], [0.6666666666666666, \"#ed7953\"], [0.7777777777777778, \"#fb9f3a\"], [0.8888888888888888, \"#fdca26\"], [1.0, \"#f0f921\"]], \"type\": \"contour\"}], \"contourcarpet\": [{\"colorbar\": {\"outlinewidth\": 0, \"ticks\": \"\"}, \"type\": \"contourcarpet\"}], \"heatmap\": [{\"colorbar\": {\"outlinewidth\": 0, \"ticks\": \"\"}, \"colorscale\": [[0.0, \"#0d0887\"], [0.1111111111111111, \"#46039f\"], [0.2222222222222222, \"#7201a8\"], [0.3333333333333333, \"#9c179e\"], [0.4444444444444444, \"#bd3786\"], [0.5555555555555556, \"#d8576b\"], [0.6666666666666666, \"#ed7953\"], [0.7777777777777778, \"#fb9f3a\"], [0.8888888888888888, \"#fdca26\"], [1.0, \"#f0f921\"]], \"type\": \"heatmap\"}], \"heatmapgl\": [{\"colorbar\": {\"outlinewidth\": 0, \"ticks\": \"\"}, \"colorscale\": [[0.0, \"#0d0887\"], [0.1111111111111111, \"#46039f\"], [0.2222222222222222, \"#7201a8\"], [0.3333333333333333, \"#9c179e\"], [0.4444444444444444, \"#bd3786\"], [0.5555555555555556, \"#d8576b\"], [0.6666666666666666, \"#ed7953\"], [0.7777777777777778, \"#fb9f3a\"], [0.8888888888888888, \"#fdca26\"], [1.0, \"#f0f921\"]], \"type\": \"heatmapgl\"}], \"histogram\": [{\"marker\": {\"colorbar\": {\"outlinewidth\": 0, \"ticks\": \"\"}}, \"type\": \"histogram\"}], \"histogram2d\": [{\"colorbar\": {\"outlinewidth\": 0, \"ticks\": \"\"}, \"colorscale\": [[0.0, \"#0d0887\"], [0.1111111111111111, \"#46039f\"], [0.2222222222222222, \"#7201a8\"], [0.3333333333333333, \"#9c179e\"], [0.4444444444444444, \"#bd3786\"], [0.5555555555555556, \"#d8576b\"], [0.6666666666666666, \"#ed7953\"], [0.7777777777777778, \"#fb9f3a\"], [0.8888888888888888, \"#fdca26\"], [1.0, \"#f0f921\"]], \"type\": \"histogram2d\"}], \"histogram2dcontour\": [{\"colorbar\": {\"outlinewidth\": 0, \"ticks\": \"\"}, \"colorscale\": [[0.0, \"#0d0887\"], [0.1111111111111111, \"#46039f\"], [0.2222222222222222, \"#7201a8\"], [0.3333333333333333, \"#9c179e\"], [0.4444444444444444, \"#bd3786\"], [0.5555555555555556, \"#d8576b\"], [0.6666666666666666, \"#ed7953\"], [0.7777777777777778, \"#fb9f3a\"], [0.8888888888888888, \"#fdca26\"], [1.0, \"#f0f921\"]], \"type\": \"histogram2dcontour\"}], \"mesh3d\": [{\"colorbar\": {\"outlinewidth\": 0, \"ticks\": \"\"}, \"type\": \"mesh3d\"}], \"parcoords\": [{\"line\": {\"colorbar\": {\"outlinewidth\": 0, \"ticks\": \"\"}}, \"type\": \"parcoords\"}], \"pie\": [{\"automargin\": true, \"type\": \"pie\"}], \"scatter\": [{\"marker\": {\"colorbar\": {\"outlinewidth\": 0, \"ticks\": \"\"}}, \"type\": \"scatter\"}], \"scatter3d\": [{\"line\": {\"colorbar\": {\"outlinewidth\": 0, \"ticks\": \"\"}}, \"marker\": {\"colorbar\": {\"outlinewidth\": 0, \"ticks\": \"\"}}, \"type\": \"scatter3d\"}], \"scattercarpet\": [{\"marker\": {\"colorbar\": {\"outlinewidth\": 0, \"ticks\": \"\"}}, \"type\": \"scattercarpet\"}], \"scattergeo\": [{\"marker\": {\"colorbar\": {\"outlinewidth\": 0, \"ticks\": \"\"}}, \"type\": \"scattergeo\"}], \"scattergl\": [{\"marker\": {\"colorbar\": {\"outlinewidth\": 0, \"ticks\": \"\"}}, \"type\": \"scattergl\"}], \"scattermapbox\": [{\"marker\": {\"colorbar\": {\"outlinewidth\": 0, \"ticks\": \"\"}}, \"type\": \"scattermapbox\"}], \"scatterpolar\": [{\"marker\": {\"colorbar\": {\"outlinewidth\": 0, \"ticks\": \"\"}}, \"type\": \"scatterpolar\"}], \"scatterpolargl\": [{\"marker\": {\"colorbar\": {\"outlinewidth\": 0, \"ticks\": \"\"}}, \"type\": \"scatterpolargl\"}], \"scatterternary\": [{\"marker\": {\"colorbar\": {\"outlinewidth\": 0, \"ticks\": \"\"}}, \"type\": \"scatterternary\"}], \"surface\": [{\"colorbar\": {\"outlinewidth\": 0, \"ticks\": \"\"}, \"colorscale\": [[0.0, \"#0d0887\"], [0.1111111111111111, \"#46039f\"], [0.2222222222222222, \"#7201a8\"], [0.3333333333333333, \"#9c179e\"], [0.4444444444444444, \"#bd3786\"], [0.5555555555555556, \"#d8576b\"], [0.6666666666666666, \"#ed7953\"], [0.7777777777777778, \"#fb9f3a\"], [0.8888888888888888, \"#fdca26\"], [1.0, \"#f0f921\"]], \"type\": \"surface\"}], \"table\": [{\"cells\": {\"fill\": {\"color\": \"#EBF0F8\"}, \"line\": {\"color\": \"white\"}}, \"header\": {\"fill\": {\"color\": \"#C8D4E3\"}, \"line\": {\"color\": \"white\"}}, \"type\": \"table\"}]}, \"layout\": {\"annotationdefaults\": {\"arrowcolor\": \"#2a3f5f\", \"arrowhead\": 0, \"arrowwidth\": 1}, \"coloraxis\": {\"colorbar\": {\"outlinewidth\": 0, \"ticks\": \"\"}}, \"colorscale\": {\"diverging\": [[0, \"#8e0152\"], [0.1, \"#c51b7d\"], [0.2, \"#de77ae\"], [0.3, \"#f1b6da\"], [0.4, \"#fde0ef\"], [0.5, \"#f7f7f7\"], [0.6, \"#e6f5d0\"], [0.7, \"#b8e186\"], [0.8, \"#7fbc41\"], [0.9, \"#4d9221\"], [1, \"#276419\"]], \"sequential\": [[0.0, \"#0d0887\"], [0.1111111111111111, \"#46039f\"], [0.2222222222222222, \"#7201a8\"], [0.3333333333333333, \"#9c179e\"], [0.4444444444444444, \"#bd3786\"], [0.5555555555555556, \"#d8576b\"], [0.6666666666666666, \"#ed7953\"], [0.7777777777777778, \"#fb9f3a\"], [0.8888888888888888, \"#fdca26\"], [1.0, \"#f0f921\"]], \"sequentialminus\": [[0.0, \"#0d0887\"], [0.1111111111111111, \"#46039f\"], [0.2222222222222222, \"#7201a8\"], [0.3333333333333333, \"#9c179e\"], [0.4444444444444444, \"#bd3786\"], [0.5555555555555556, \"#d8576b\"], [0.6666666666666666, \"#ed7953\"], [0.7777777777777778, \"#fb9f3a\"], [0.8888888888888888, \"#fdca26\"], [1.0, \"#f0f921\"]]}, \"colorway\": [\"#636efa\", \"#EF553B\", \"#00cc96\", \"#ab63fa\", \"#FFA15A\", \"#19d3f3\", \"#FF6692\", \"#B6E880\", \"#FF97FF\", \"#FECB52\"], \"font\": {\"color\": \"#2a3f5f\"}, \"geo\": {\"bgcolor\": \"white\", \"lakecolor\": \"white\", \"landcolor\": \"#E5ECF6\", \"showlakes\": true, \"showland\": true, \"subunitcolor\": \"white\"}, \"hoverlabel\": {\"align\": \"left\"}, \"hovermode\": \"closest\", \"mapbox\": {\"style\": \"light\"}, \"paper_bgcolor\": \"white\", \"plot_bgcolor\": \"#E5ECF6\", \"polar\": {\"angularaxis\": {\"gridcolor\": \"white\", \"linecolor\": \"white\", \"ticks\": \"\"}, \"bgcolor\": \"#E5ECF6\", \"radialaxis\": {\"gridcolor\": \"white\", \"linecolor\": \"white\", \"ticks\": \"\"}}, \"scene\": {\"xaxis\": {\"backgroundcolor\": \"#E5ECF6\", \"gridcolor\": \"white\", \"gridwidth\": 2, \"linecolor\": \"white\", \"showbackground\": true, \"ticks\": \"\", \"zerolinecolor\": \"white\"}, \"yaxis\": {\"backgroundcolor\": \"#E5ECF6\", \"gridcolor\": \"white\", \"gridwidth\": 2, \"linecolor\": \"white\", \"showbackground\": true, \"ticks\": \"\", \"zerolinecolor\": \"white\"}, \"zaxis\": {\"backgroundcolor\": \"#E5ECF6\", \"gridcolor\": \"white\", \"gridwidth\": 2, \"linecolor\": \"white\", \"showbackground\": true, \"ticks\": \"\", \"zerolinecolor\": \"white\"}}, \"shapedefaults\": {\"line\": {\"color\": \"#2a3f5f\"}}, \"ternary\": {\"aaxis\": {\"gridcolor\": \"white\", \"linecolor\": \"white\", \"ticks\": \"\"}, \"baxis\": {\"gridcolor\": \"white\", \"linecolor\": \"white\", \"ticks\": \"\"}, \"bgcolor\": \"#E5ECF6\", \"caxis\": {\"gridcolor\": \"white\", \"linecolor\": \"white\", \"ticks\": \"\"}}, \"title\": {\"x\": 0.05}, \"xaxis\": {\"automargin\": true, \"gridcolor\": \"white\", \"linecolor\": \"white\", \"ticks\": \"\", \"title\": {\"standoff\": 15}, \"zerolinecolor\": \"white\", \"zerolinewidth\": 2}, \"yaxis\": {\"automargin\": true, \"gridcolor\": \"white\", \"linecolor\": \"white\", \"ticks\": \"\", \"title\": {\"standoff\": 15}, \"zerolinecolor\": \"white\", \"zerolinewidth\": 2}}}, \"title\": {\"text\": \"R\\u00e9partition des clients b\\u00e9n\\u00e9ficiaires ou non d'un cr\\u00e9dit en fonction des Job\"}, \"xaxis\": {\"anchor\": \"y\", \"domain\": [0.0, 1.0], \"title\": {\"text\": \"Job\"}}, \"yaxis\": {\"anchor\": \"x\", \"domain\": [0.0, 1.0], \"title\": {\"text\": \"count\"}}},\n",
       "                        {\"responsive\": true}\n",
       "                    ).then(function(){\n",
       "                            \n",
       "var gd = document.getElementById('06a14136-218f-435b-97b4-6c0e5f8880ca');\n",
       "var x = new MutationObserver(function (mutations, observer) {{\n",
       "        var display = window.getComputedStyle(gd).display;\n",
       "        if (!display || display === 'none') {{\n",
       "            console.log([gd, 'removed!']);\n",
       "            Plotly.purge(gd);\n",
       "            observer.disconnect();\n",
       "        }}\n",
       "}});\n",
       "\n",
       "// Listen for the removal of the full notebook cells\n",
       "var notebookContainer = gd.closest('#notebook-container');\n",
       "if (notebookContainer) {{\n",
       "    x.observe(notebookContainer, {childList: true});\n",
       "}}\n",
       "\n",
       "// Listen for the clearing of the current output cell\n",
       "var outputEl = gd.closest('.output');\n",
       "if (outputEl) {{\n",
       "    x.observe(outputEl, {childList: true});\n",
       "}}\n",
       "\n",
       "                        })\n",
       "                };\n",
       "                });\n",
       "            </script>\n",
       "        </div>"
      ]
     },
     "metadata": {},
     "output_type": "display_data"
    }
   ],
   "source": [
    "PX.histogram (data_frame = german\n",
    "             , x = \"Job\" \n",
    "             , color = 'Class'\n",
    "             , barmode = 'group' \n",
    "             , labels = {'count': 'Nombre de clients'} \n",
    "             , title = \"Répartition des clients bénéficiaires ou non d'un crédit en fonction des Job\" \n",
    "             , template = 'plotly' \n",
    "            )"
   ]
  },
  {
   "cell_type": "markdown",
   "metadata": {},
   "source": [
    "Selon la tendance, on pourrait penser que ceux à qui on a attribué un crédit sont à majorité des personnes \"Employé qualifié/fonctionnaire\"(à peu près 45% de personnes). Ceci montre que  les employé qualifié/fonctionnaire sont plus préféré par rapport aux autres statuts d'employé à l'attribution d'un prêt.Le statut d'employé des clients à un influence sur l'obtention de prêt."
   ]
  },
  {
   "cell_type": "code",
   "execution_count": 23,
   "metadata": {},
   "outputs": [
    {
     "data": {
      "application/vnd.plotly.v1+json": {
       "config": {
        "plotlyServerURL": "https://plot.ly"
       },
       "data": [
        {
         "alignmentgroup": "True",
         "bingroup": "x",
         "hovertemplate": "Class=1<br>PersonalStatus=%{x}<br>count=%{y}<extra></extra>",
         "legendgroup": "1",
         "marker": {
          "color": "#636efa"
         },
         "name": "1",
         "offsetgroup": "1",
         "orientation": "v",
         "showlegend": true,
         "type": "histogram",
         "x": [
          "A93",
          "A93",
          "A93",
          "A93",
          "A93",
          "A93",
          "A91",
          "A92",
          "A92",
          "A93",
          "A93",
          "A93",
          "A93",
          "A93",
          "A93",
          "A93",
          "A94",
          "A93",
          "A94",
          "A92",
          "A93",
          "A94",
          "A93",
          "A93",
          "A93",
          "A92",
          "A93",
          "A93",
          "A93",
          "A93",
          "A91",
          "A93",
          "A94",
          "A92",
          "A93",
          "A92",
          "A93",
          "A92",
          "A93",
          "A93",
          "A93",
          "A93",
          "A93",
          "A92",
          "A92",
          "A94",
          "A93",
          "A92",
          "A93",
          "A92",
          "A94",
          "A92",
          "A92",
          "A93",
          "A93",
          "A92",
          "A93",
          "A93",
          "A93",
          "A94",
          "A93",
          "A92",
          "A92",
          "A93",
          "A92",
          "A92",
          "A93",
          "A93",
          "A93",
          "A93",
          "A93",
          "A92",
          "A93",
          "A93",
          "A93",
          "A94",
          "A93",
          "A92",
          "A93",
          "A94",
          "A93",
          "A92",
          "A94",
          "A91",
          "A92",
          "A93",
          "A94",
          "A93",
          "A92",
          "A91",
          "A92",
          "A93",
          "A93",
          "A93",
          "A94",
          "A93",
          "A92",
          "A93",
          "A93",
          "A92",
          "A92",
          "A93",
          "A93",
          "A92",
          "A94",
          "A92",
          "A93",
          "A92",
          "A93",
          "A92",
          "A92",
          "A93",
          "A93",
          "A93",
          "A93",
          "A93",
          "A92",
          "A93",
          "A93",
          "A94",
          "A93",
          "A93",
          "A93",
          "A92",
          "A93",
          "A93",
          "A93",
          "A93",
          "A92",
          "A92",
          "A92",
          "A93",
          "A91",
          "A93",
          "A93",
          "A93",
          "A93",
          "A93",
          "A93",
          "A92",
          "A94",
          "A92",
          "A93",
          "A93",
          "A94",
          "A93",
          "A93",
          "A93",
          "A93",
          "A93",
          "A94",
          "A93",
          "A93",
          "A92",
          "A93",
          "A92",
          "A93",
          "A93",
          "A91",
          "A92",
          "A94",
          "A92",
          "A93",
          "A93",
          "A93",
          "A93",
          "A93",
          "A93",
          "A93",
          "A94",
          "A93",
          "A92",
          "A93",
          "A93",
          "A92",
          "A92",
          "A93",
          "A93",
          "A93",
          "A93",
          "A92",
          "A92",
          "A93",
          "A93",
          "A93",
          "A93",
          "A92",
          "A92",
          "A93",
          "A92",
          "A93",
          "A92",
          "A93",
          "A93",
          "A92",
          "A93",
          "A93",
          "A92",
          "A93",
          "A93",
          "A92",
          "A91",
          "A93",
          "A93",
          "A93",
          "A93",
          "A93",
          "A91",
          "A92",
          "A93",
          "A93",
          "A92",
          "A94",
          "A92",
          "A93",
          "A91",
          "A92",
          "A93",
          "A93",
          "A93",
          "A92",
          "A93",
          "A91",
          "A92",
          "A94",
          "A93",
          "A93",
          "A92",
          "A93",
          "A93",
          "A92",
          "A93",
          "A92",
          "A93",
          "A93",
          "A92",
          "A93",
          "A93",
          "A92",
          "A93",
          "A93",
          "A93",
          "A92",
          "A93",
          "A91",
          "A92",
          "A92",
          "A94",
          "A93",
          "A93",
          "A92",
          "A93",
          "A92",
          "A93",
          "A92",
          "A93",
          "A93",
          "A93",
          "A94",
          "A93",
          "A93",
          "A92",
          "A94",
          "A93",
          "A93",
          "A92",
          "A92",
          "A93",
          "A93",
          "A92",
          "A93",
          "A94",
          "A93",
          "A92",
          "A93",
          "A92",
          "A93",
          "A93",
          "A92",
          "A92",
          "A93",
          "A93",
          "A92",
          "A94",
          "A92",
          "A93",
          "A92",
          "A93",
          "A93",
          "A92",
          "A94",
          "A92",
          "A94",
          "A94",
          "A93",
          "A93",
          "A93",
          "A94",
          "A91",
          "A92",
          "A93",
          "A93",
          "A93",
          "A92",
          "A92",
          "A92",
          "A93",
          "A93",
          "A93",
          "A94",
          "A93",
          "A93",
          "A93",
          "A93",
          "A93",
          "A91",
          "A93",
          "A94",
          "A92",
          "A93",
          "A93",
          "A92",
          "A93",
          "A92",
          "A93",
          "A92",
          "A93",
          "A92",
          "A93",
          "A93",
          "A92",
          "A93",
          "A92",
          "A93",
          "A93",
          "A93",
          "A92",
          "A93",
          "A93",
          "A93",
          "A93",
          "A92",
          "A93",
          "A93",
          "A93",
          "A93",
          "A93",
          "A93",
          "A92",
          "A93",
          "A92",
          "A92",
          "A93",
          "A93",
          "A92",
          "A93",
          "A93",
          "A93",
          "A92",
          "A93",
          "A93",
          "A93",
          "A94",
          "A91",
          "A93",
          "A91",
          "A93",
          "A94",
          "A93",
          "A93",
          "A93",
          "A94",
          "A93",
          "A92",
          "A93",
          "A93",
          "A93",
          "A93",
          "A92",
          "A92",
          "A93",
          "A92",
          "A93",
          "A93",
          "A93",
          "A94",
          "A94",
          "A93",
          "A92",
          "A92",
          "A92",
          "A93",
          "A93",
          "A92",
          "A93",
          "A93",
          "A92",
          "A93",
          "A93",
          "A92",
          "A93",
          "A92",
          "A93",
          "A92",
          "A93",
          "A93",
          "A93",
          "A92",
          "A92",
          "A93",
          "A92",
          "A92",
          "A92",
          "A94",
          "A93",
          "A92",
          "A92",
          "A93",
          "A93",
          "A92",
          "A92",
          "A92",
          "A93",
          "A92",
          "A92",
          "A93",
          "A93",
          "A93",
          "A93",
          "A92",
          "A92",
          "A93",
          "A93",
          "A93",
          "A91",
          "A93",
          "A92",
          "A93",
          "A93",
          "A93",
          "A93",
          "A92",
          "A93",
          "A93",
          "A92",
          "A93",
          "A92",
          "A93",
          "A94",
          "A94",
          "A91",
          "A93",
          "A93",
          "A93",
          "A93",
          "A92",
          "A93",
          "A94",
          "A93",
          "A93",
          "A92",
          "A93",
          "A93",
          "A92",
          "A93",
          "A93",
          "A93",
          "A93",
          "A94",
          "A92",
          "A93",
          "A93",
          "A92",
          "A92",
          "A93",
          "A94",
          "A94",
          "A93",
          "A93",
          "A93",
          "A93",
          "A93",
          "A93",
          "A91",
          "A92",
          "A93",
          "A93",
          "A93",
          "A93",
          "A93",
          "A92",
          "A93",
          "A93",
          "A92",
          "A93",
          "A92",
          "A92",
          "A92",
          "A93",
          "A93",
          "A93",
          "A93",
          "A93",
          "A93",
          "A93",
          "A93",
          "A94",
          "A92",
          "A92",
          "A94",
          "A91",
          "A93",
          "A92",
          "A92",
          "A92",
          "A92",
          "A93",
          "A93",
          "A93",
          "A93",
          "A93",
          "A93",
          "A93",
          "A93",
          "A92",
          "A93",
          "A93",
          "A92",
          "A92",
          "A92",
          "A93",
          "A93",
          "A92",
          "A93",
          "A94",
          "A94",
          "A92",
          "A93",
          "A93",
          "A92",
          "A93",
          "A93",
          "A93",
          "A93",
          "A92",
          "A93",
          "A92",
          "A93",
          "A93",
          "A91",
          "A93",
          "A93",
          "A93",
          "A93",
          "A94",
          "A91",
          "A93",
          "A92",
          "A92",
          "A94",
          "A93",
          "A93",
          "A92",
          "A92",
          "A93",
          "A92",
          "A94",
          "A93",
          "A93",
          "A94",
          "A94",
          "A92",
          "A91",
          "A92",
          "A91",
          "A94",
          "A94",
          "A93",
          "A91",
          "A94",
          "A93",
          "A93",
          "A92",
          "A92",
          "A92",
          "A93",
          "A94",
          "A93",
          "A93",
          "A93",
          "A93",
          "A94",
          "A93",
          "A93",
          "A93",
          "A93",
          "A94",
          "A92",
          "A93",
          "A93",
          "A93",
          "A93",
          "A92",
          "A92",
          "A93",
          "A93",
          "A92",
          "A92",
          "A93",
          "A93",
          "A92",
          "A93",
          "A92",
          "A93",
          "A93",
          "A93",
          "A93",
          "A91",
          "A93",
          "A92",
          "A93",
          "A93",
          "A93",
          "A93",
          "A93",
          "A93",
          "A93",
          "A93",
          "A93",
          "A92",
          "A92",
          "A92",
          "A91",
          "A93",
          "A94",
          "A93",
          "A93",
          "A93",
          "A94",
          "A92",
          "A92",
          "A92",
          "A92",
          "A91",
          "A93",
          "A92",
          "A93",
          "A93",
          "A92",
          "A93",
          "A93",
          "A93",
          "A93",
          "A93",
          "A92",
          "A94",
          "A93",
          "A93",
          "A93",
          "A93",
          "A93",
          "A92",
          "A92",
          "A93",
          "A94",
          "A92",
          "A92",
          "A93",
          "A93",
          "A93",
          "A94",
          "A91",
          "A93",
          "A94",
          "A92",
          "A92",
          "A94",
          "A93",
          "A93",
          "A93",
          "A92",
          "A92",
          "A92",
          "A93",
          "A92",
          "A93",
          "A92",
          "A91",
          "A92",
          "A93",
          "A93",
          "A93",
          "A93",
          "A94",
          "A93",
          "A93",
          "A92",
          "A91",
          "A93",
          "A93"
         ],
         "xaxis": "x",
         "yaxis": "y"
        },
        {
         "alignmentgroup": "True",
         "bingroup": "x",
         "hovertemplate": "Class=2<br>PersonalStatus=%{x}<br>count=%{y}<extra></extra>",
         "legendgroup": "2",
         "marker": {
          "color": "#EF553B"
         },
         "name": "2",
         "offsetgroup": "2",
         "orientation": "v",
         "showlegend": true,
         "type": "histogram",
         "x": [
          "A92",
          "A93",
          "A94",
          "A92",
          "A92",
          "A93",
          "A92",
          "A92",
          "A93",
          "A93",
          "A93",
          "A92",
          "A93",
          "A93",
          "A92",
          "A93",
          "A93",
          "A93",
          "A93",
          "A93",
          "A92",
          "A93",
          "A93",
          "A92",
          "A93",
          "A93",
          "A93",
          "A92",
          "A92",
          "A92",
          "A92",
          "A92",
          "A93",
          "A92",
          "A93",
          "A93",
          "A93",
          "A92",
          "A92",
          "A91",
          "A93",
          "A92",
          "A93",
          "A92",
          "A91",
          "A91",
          "A93",
          "A93",
          "A92",
          "A94",
          "A93",
          "A93",
          "A93",
          "A93",
          "A92",
          "A92",
          "A91",
          "A94",
          "A93",
          "A93",
          "A93",
          "A93",
          "A93",
          "A93",
          "A93",
          "A93",
          "A91",
          "A92",
          "A93",
          "A92",
          "A92",
          "A91",
          "A93",
          "A91",
          "A93",
          "A91",
          "A92",
          "A94",
          "A94",
          "A92",
          "A92",
          "A93",
          "A93",
          "A94",
          "A92",
          "A94",
          "A93",
          "A94",
          "A91",
          "A92",
          "A92",
          "A92",
          "A93",
          "A91",
          "A92",
          "A93",
          "A92",
          "A93",
          "A93",
          "A93",
          "A92",
          "A93",
          "A93",
          "A92",
          "A92",
          "A93",
          "A92",
          "A91",
          "A93",
          "A94",
          "A94",
          "A93",
          "A92",
          "A93",
          "A92",
          "A92",
          "A92",
          "A93",
          "A94",
          "A92",
          "A93",
          "A92",
          "A92",
          "A94",
          "A93",
          "A93",
          "A92",
          "A94",
          "A92",
          "A93",
          "A94",
          "A92",
          "A93",
          "A92",
          "A94",
          "A93",
          "A92",
          "A93",
          "A92",
          "A93",
          "A93",
          "A93",
          "A92",
          "A92",
          "A93",
          "A91",
          "A92",
          "A91",
          "A93",
          "A94",
          "A93",
          "A93",
          "A93",
          "A92",
          "A94",
          "A93",
          "A92",
          "A92",
          "A93",
          "A93",
          "A93",
          "A93",
          "A91",
          "A92",
          "A92",
          "A91",
          "A93",
          "A93",
          "A92",
          "A94",
          "A93",
          "A92",
          "A93",
          "A92",
          "A92",
          "A93",
          "A93",
          "A92",
          "A92",
          "A92",
          "A92",
          "A92",
          "A92",
          "A92",
          "A92",
          "A93",
          "A91",
          "A93",
          "A93",
          "A93",
          "A92",
          "A92",
          "A93",
          "A92",
          "A93",
          "A93",
          "A92",
          "A93",
          "A93",
          "A93",
          "A93",
          "A93",
          "A93",
          "A94",
          "A93",
          "A93",
          "A94",
          "A92",
          "A93",
          "A93",
          "A92",
          "A92",
          "A93",
          "A93",
          "A92",
          "A92",
          "A92",
          "A92",
          "A92",
          "A93",
          "A92",
          "A92",
          "A92",
          "A92",
          "A93",
          "A92",
          "A93",
          "A93",
          "A92",
          "A93",
          "A91",
          "A92",
          "A92",
          "A93",
          "A92",
          "A93",
          "A93",
          "A92",
          "A93",
          "A93",
          "A92",
          "A93",
          "A93",
          "A93",
          "A94",
          "A93",
          "A92",
          "A93",
          "A93",
          "A92",
          "A93",
          "A92",
          "A93",
          "A93",
          "A92",
          "A93",
          "A93",
          "A94",
          "A93",
          "A92",
          "A94",
          "A92",
          "A93",
          "A93",
          "A91",
          "A92",
          "A93",
          "A93",
          "A93",
          "A92",
          "A93",
          "A92",
          "A93",
          "A91",
          "A93",
          "A92",
          "A91",
          "A93",
          "A93",
          "A92",
          "A93",
          "A92",
          "A93",
          "A93",
          "A94",
          "A93",
          "A93",
          "A92",
          "A92",
          "A93",
          "A93",
          "A93",
          "A92",
          "A93",
          "A93",
          "A94",
          "A93",
          "A93",
          "A93",
          "A93"
         ],
         "xaxis": "x",
         "yaxis": "y"
        }
       ],
       "layout": {
        "barmode": "group",
        "legend": {
         "title": {
          "text": "Class"
         },
         "tracegroupgap": 0
        },
        "template": {
         "data": {
          "bar": [
           {
            "error_x": {
             "color": "#2a3f5f"
            },
            "error_y": {
             "color": "#2a3f5f"
            },
            "marker": {
             "line": {
              "color": "#E5ECF6",
              "width": 0.5
             }
            },
            "type": "bar"
           }
          ],
          "barpolar": [
           {
            "marker": {
             "line": {
              "color": "#E5ECF6",
              "width": 0.5
             }
            },
            "type": "barpolar"
           }
          ],
          "carpet": [
           {
            "aaxis": {
             "endlinecolor": "#2a3f5f",
             "gridcolor": "white",
             "linecolor": "white",
             "minorgridcolor": "white",
             "startlinecolor": "#2a3f5f"
            },
            "baxis": {
             "endlinecolor": "#2a3f5f",
             "gridcolor": "white",
             "linecolor": "white",
             "minorgridcolor": "white",
             "startlinecolor": "#2a3f5f"
            },
            "type": "carpet"
           }
          ],
          "choropleth": [
           {
            "colorbar": {
             "outlinewidth": 0,
             "ticks": ""
            },
            "type": "choropleth"
           }
          ],
          "contour": [
           {
            "colorbar": {
             "outlinewidth": 0,
             "ticks": ""
            },
            "colorscale": [
             [
              0,
              "#0d0887"
             ],
             [
              0.1111111111111111,
              "#46039f"
             ],
             [
              0.2222222222222222,
              "#7201a8"
             ],
             [
              0.3333333333333333,
              "#9c179e"
             ],
             [
              0.4444444444444444,
              "#bd3786"
             ],
             [
              0.5555555555555556,
              "#d8576b"
             ],
             [
              0.6666666666666666,
              "#ed7953"
             ],
             [
              0.7777777777777778,
              "#fb9f3a"
             ],
             [
              0.8888888888888888,
              "#fdca26"
             ],
             [
              1,
              "#f0f921"
             ]
            ],
            "type": "contour"
           }
          ],
          "contourcarpet": [
           {
            "colorbar": {
             "outlinewidth": 0,
             "ticks": ""
            },
            "type": "contourcarpet"
           }
          ],
          "heatmap": [
           {
            "colorbar": {
             "outlinewidth": 0,
             "ticks": ""
            },
            "colorscale": [
             [
              0,
              "#0d0887"
             ],
             [
              0.1111111111111111,
              "#46039f"
             ],
             [
              0.2222222222222222,
              "#7201a8"
             ],
             [
              0.3333333333333333,
              "#9c179e"
             ],
             [
              0.4444444444444444,
              "#bd3786"
             ],
             [
              0.5555555555555556,
              "#d8576b"
             ],
             [
              0.6666666666666666,
              "#ed7953"
             ],
             [
              0.7777777777777778,
              "#fb9f3a"
             ],
             [
              0.8888888888888888,
              "#fdca26"
             ],
             [
              1,
              "#f0f921"
             ]
            ],
            "type": "heatmap"
           }
          ],
          "heatmapgl": [
           {
            "colorbar": {
             "outlinewidth": 0,
             "ticks": ""
            },
            "colorscale": [
             [
              0,
              "#0d0887"
             ],
             [
              0.1111111111111111,
              "#46039f"
             ],
             [
              0.2222222222222222,
              "#7201a8"
             ],
             [
              0.3333333333333333,
              "#9c179e"
             ],
             [
              0.4444444444444444,
              "#bd3786"
             ],
             [
              0.5555555555555556,
              "#d8576b"
             ],
             [
              0.6666666666666666,
              "#ed7953"
             ],
             [
              0.7777777777777778,
              "#fb9f3a"
             ],
             [
              0.8888888888888888,
              "#fdca26"
             ],
             [
              1,
              "#f0f921"
             ]
            ],
            "type": "heatmapgl"
           }
          ],
          "histogram": [
           {
            "marker": {
             "colorbar": {
              "outlinewidth": 0,
              "ticks": ""
             }
            },
            "type": "histogram"
           }
          ],
          "histogram2d": [
           {
            "colorbar": {
             "outlinewidth": 0,
             "ticks": ""
            },
            "colorscale": [
             [
              0,
              "#0d0887"
             ],
             [
              0.1111111111111111,
              "#46039f"
             ],
             [
              0.2222222222222222,
              "#7201a8"
             ],
             [
              0.3333333333333333,
              "#9c179e"
             ],
             [
              0.4444444444444444,
              "#bd3786"
             ],
             [
              0.5555555555555556,
              "#d8576b"
             ],
             [
              0.6666666666666666,
              "#ed7953"
             ],
             [
              0.7777777777777778,
              "#fb9f3a"
             ],
             [
              0.8888888888888888,
              "#fdca26"
             ],
             [
              1,
              "#f0f921"
             ]
            ],
            "type": "histogram2d"
           }
          ],
          "histogram2dcontour": [
           {
            "colorbar": {
             "outlinewidth": 0,
             "ticks": ""
            },
            "colorscale": [
             [
              0,
              "#0d0887"
             ],
             [
              0.1111111111111111,
              "#46039f"
             ],
             [
              0.2222222222222222,
              "#7201a8"
             ],
             [
              0.3333333333333333,
              "#9c179e"
             ],
             [
              0.4444444444444444,
              "#bd3786"
             ],
             [
              0.5555555555555556,
              "#d8576b"
             ],
             [
              0.6666666666666666,
              "#ed7953"
             ],
             [
              0.7777777777777778,
              "#fb9f3a"
             ],
             [
              0.8888888888888888,
              "#fdca26"
             ],
             [
              1,
              "#f0f921"
             ]
            ],
            "type": "histogram2dcontour"
           }
          ],
          "mesh3d": [
           {
            "colorbar": {
             "outlinewidth": 0,
             "ticks": ""
            },
            "type": "mesh3d"
           }
          ],
          "parcoords": [
           {
            "line": {
             "colorbar": {
              "outlinewidth": 0,
              "ticks": ""
             }
            },
            "type": "parcoords"
           }
          ],
          "pie": [
           {
            "automargin": true,
            "type": "pie"
           }
          ],
          "scatter": [
           {
            "marker": {
             "colorbar": {
              "outlinewidth": 0,
              "ticks": ""
             }
            },
            "type": "scatter"
           }
          ],
          "scatter3d": [
           {
            "line": {
             "colorbar": {
              "outlinewidth": 0,
              "ticks": ""
             }
            },
            "marker": {
             "colorbar": {
              "outlinewidth": 0,
              "ticks": ""
             }
            },
            "type": "scatter3d"
           }
          ],
          "scattercarpet": [
           {
            "marker": {
             "colorbar": {
              "outlinewidth": 0,
              "ticks": ""
             }
            },
            "type": "scattercarpet"
           }
          ],
          "scattergeo": [
           {
            "marker": {
             "colorbar": {
              "outlinewidth": 0,
              "ticks": ""
             }
            },
            "type": "scattergeo"
           }
          ],
          "scattergl": [
           {
            "marker": {
             "colorbar": {
              "outlinewidth": 0,
              "ticks": ""
             }
            },
            "type": "scattergl"
           }
          ],
          "scattermapbox": [
           {
            "marker": {
             "colorbar": {
              "outlinewidth": 0,
              "ticks": ""
             }
            },
            "type": "scattermapbox"
           }
          ],
          "scatterpolar": [
           {
            "marker": {
             "colorbar": {
              "outlinewidth": 0,
              "ticks": ""
             }
            },
            "type": "scatterpolar"
           }
          ],
          "scatterpolargl": [
           {
            "marker": {
             "colorbar": {
              "outlinewidth": 0,
              "ticks": ""
             }
            },
            "type": "scatterpolargl"
           }
          ],
          "scatterternary": [
           {
            "marker": {
             "colorbar": {
              "outlinewidth": 0,
              "ticks": ""
             }
            },
            "type": "scatterternary"
           }
          ],
          "surface": [
           {
            "colorbar": {
             "outlinewidth": 0,
             "ticks": ""
            },
            "colorscale": [
             [
              0,
              "#0d0887"
             ],
             [
              0.1111111111111111,
              "#46039f"
             ],
             [
              0.2222222222222222,
              "#7201a8"
             ],
             [
              0.3333333333333333,
              "#9c179e"
             ],
             [
              0.4444444444444444,
              "#bd3786"
             ],
             [
              0.5555555555555556,
              "#d8576b"
             ],
             [
              0.6666666666666666,
              "#ed7953"
             ],
             [
              0.7777777777777778,
              "#fb9f3a"
             ],
             [
              0.8888888888888888,
              "#fdca26"
             ],
             [
              1,
              "#f0f921"
             ]
            ],
            "type": "surface"
           }
          ],
          "table": [
           {
            "cells": {
             "fill": {
              "color": "#EBF0F8"
             },
             "line": {
              "color": "white"
             }
            },
            "header": {
             "fill": {
              "color": "#C8D4E3"
             },
             "line": {
              "color": "white"
             }
            },
            "type": "table"
           }
          ]
         },
         "layout": {
          "annotationdefaults": {
           "arrowcolor": "#2a3f5f",
           "arrowhead": 0,
           "arrowwidth": 1
          },
          "coloraxis": {
           "colorbar": {
            "outlinewidth": 0,
            "ticks": ""
           }
          },
          "colorscale": {
           "diverging": [
            [
             0,
             "#8e0152"
            ],
            [
             0.1,
             "#c51b7d"
            ],
            [
             0.2,
             "#de77ae"
            ],
            [
             0.3,
             "#f1b6da"
            ],
            [
             0.4,
             "#fde0ef"
            ],
            [
             0.5,
             "#f7f7f7"
            ],
            [
             0.6,
             "#e6f5d0"
            ],
            [
             0.7,
             "#b8e186"
            ],
            [
             0.8,
             "#7fbc41"
            ],
            [
             0.9,
             "#4d9221"
            ],
            [
             1,
             "#276419"
            ]
           ],
           "sequential": [
            [
             0,
             "#0d0887"
            ],
            [
             0.1111111111111111,
             "#46039f"
            ],
            [
             0.2222222222222222,
             "#7201a8"
            ],
            [
             0.3333333333333333,
             "#9c179e"
            ],
            [
             0.4444444444444444,
             "#bd3786"
            ],
            [
             0.5555555555555556,
             "#d8576b"
            ],
            [
             0.6666666666666666,
             "#ed7953"
            ],
            [
             0.7777777777777778,
             "#fb9f3a"
            ],
            [
             0.8888888888888888,
             "#fdca26"
            ],
            [
             1,
             "#f0f921"
            ]
           ],
           "sequentialminus": [
            [
             0,
             "#0d0887"
            ],
            [
             0.1111111111111111,
             "#46039f"
            ],
            [
             0.2222222222222222,
             "#7201a8"
            ],
            [
             0.3333333333333333,
             "#9c179e"
            ],
            [
             0.4444444444444444,
             "#bd3786"
            ],
            [
             0.5555555555555556,
             "#d8576b"
            ],
            [
             0.6666666666666666,
             "#ed7953"
            ],
            [
             0.7777777777777778,
             "#fb9f3a"
            ],
            [
             0.8888888888888888,
             "#fdca26"
            ],
            [
             1,
             "#f0f921"
            ]
           ]
          },
          "colorway": [
           "#636efa",
           "#EF553B",
           "#00cc96",
           "#ab63fa",
           "#FFA15A",
           "#19d3f3",
           "#FF6692",
           "#B6E880",
           "#FF97FF",
           "#FECB52"
          ],
          "font": {
           "color": "#2a3f5f"
          },
          "geo": {
           "bgcolor": "white",
           "lakecolor": "white",
           "landcolor": "#E5ECF6",
           "showlakes": true,
           "showland": true,
           "subunitcolor": "white"
          },
          "hoverlabel": {
           "align": "left"
          },
          "hovermode": "closest",
          "mapbox": {
           "style": "light"
          },
          "paper_bgcolor": "white",
          "plot_bgcolor": "#E5ECF6",
          "polar": {
           "angularaxis": {
            "gridcolor": "white",
            "linecolor": "white",
            "ticks": ""
           },
           "bgcolor": "#E5ECF6",
           "radialaxis": {
            "gridcolor": "white",
            "linecolor": "white",
            "ticks": ""
           }
          },
          "scene": {
           "xaxis": {
            "backgroundcolor": "#E5ECF6",
            "gridcolor": "white",
            "gridwidth": 2,
            "linecolor": "white",
            "showbackground": true,
            "ticks": "",
            "zerolinecolor": "white"
           },
           "yaxis": {
            "backgroundcolor": "#E5ECF6",
            "gridcolor": "white",
            "gridwidth": 2,
            "linecolor": "white",
            "showbackground": true,
            "ticks": "",
            "zerolinecolor": "white"
           },
           "zaxis": {
            "backgroundcolor": "#E5ECF6",
            "gridcolor": "white",
            "gridwidth": 2,
            "linecolor": "white",
            "showbackground": true,
            "ticks": "",
            "zerolinecolor": "white"
           }
          },
          "shapedefaults": {
           "line": {
            "color": "#2a3f5f"
           }
          },
          "ternary": {
           "aaxis": {
            "gridcolor": "white",
            "linecolor": "white",
            "ticks": ""
           },
           "baxis": {
            "gridcolor": "white",
            "linecolor": "white",
            "ticks": ""
           },
           "bgcolor": "#E5ECF6",
           "caxis": {
            "gridcolor": "white",
            "linecolor": "white",
            "ticks": ""
           }
          },
          "title": {
           "x": 0.05
          },
          "xaxis": {
           "automargin": true,
           "gridcolor": "white",
           "linecolor": "white",
           "ticks": "",
           "title": {
            "standoff": 15
           },
           "zerolinecolor": "white",
           "zerolinewidth": 2
          },
          "yaxis": {
           "automargin": true,
           "gridcolor": "white",
           "linecolor": "white",
           "ticks": "",
           "title": {
            "standoff": 15
           },
           "zerolinecolor": "white",
           "zerolinewidth": 2
          }
         }
        },
        "title": {
         "text": "Répartition des clients en fonction de leur statut matrimonial"
        },
        "xaxis": {
         "anchor": "y",
         "domain": [
          0,
          1
         ],
         "title": {
          "text": "PersonalStatus"
         }
        },
        "yaxis": {
         "anchor": "x",
         "domain": [
          0,
          1
         ],
         "title": {
          "text": "count"
         }
        }
       }
      },
      "text/html": [
       "<div>\n",
       "        \n",
       "        \n",
       "            <div id=\"7423d5b6-4cb7-4361-97c4-903ca55a9c98\" class=\"plotly-graph-div\" style=\"height:525px; width:100%;\"></div>\n",
       "            <script type=\"text/javascript\">\n",
       "                require([\"plotly\"], function(Plotly) {\n",
       "                    window.PLOTLYENV=window.PLOTLYENV || {};\n",
       "                    \n",
       "                if (document.getElementById(\"7423d5b6-4cb7-4361-97c4-903ca55a9c98\")) {\n",
       "                    Plotly.newPlot(\n",
       "                        '7423d5b6-4cb7-4361-97c4-903ca55a9c98',\n",
       "                        [{\"alignmentgroup\": \"True\", \"bingroup\": \"x\", \"hovertemplate\": \"Class=1<br>PersonalStatus=%{x}<br>count=%{y}<extra></extra>\", \"legendgroup\": \"1\", \"marker\": {\"color\": \"#636efa\"}, \"name\": \"1\", \"offsetgroup\": \"1\", \"orientation\": \"v\", \"showlegend\": true, \"type\": \"histogram\", \"x\": [\"A93\", \"A93\", \"A93\", \"A93\", \"A93\", \"A93\", \"A91\", \"A92\", \"A92\", \"A93\", \"A93\", \"A93\", \"A93\", \"A93\", \"A93\", \"A93\", \"A94\", \"A93\", \"A94\", \"A92\", \"A93\", \"A94\", \"A93\", \"A93\", \"A93\", \"A92\", \"A93\", \"A93\", \"A93\", \"A93\", \"A91\", \"A93\", \"A94\", \"A92\", \"A93\", \"A92\", \"A93\", \"A92\", \"A93\", \"A93\", \"A93\", \"A93\", \"A93\", \"A92\", \"A92\", \"A94\", \"A93\", \"A92\", \"A93\", \"A92\", \"A94\", \"A92\", \"A92\", \"A93\", \"A93\", \"A92\", \"A93\", \"A93\", \"A93\", \"A94\", \"A93\", \"A92\", \"A92\", \"A93\", \"A92\", \"A92\", \"A93\", \"A93\", \"A93\", \"A93\", \"A93\", \"A92\", \"A93\", \"A93\", \"A93\", \"A94\", \"A93\", \"A92\", \"A93\", \"A94\", \"A93\", \"A92\", \"A94\", \"A91\", \"A92\", \"A93\", \"A94\", \"A93\", \"A92\", \"A91\", \"A92\", \"A93\", \"A93\", \"A93\", \"A94\", \"A93\", \"A92\", \"A93\", \"A93\", \"A92\", \"A92\", \"A93\", \"A93\", \"A92\", \"A94\", \"A92\", \"A93\", \"A92\", \"A93\", \"A92\", \"A92\", \"A93\", \"A93\", \"A93\", \"A93\", \"A93\", \"A92\", \"A93\", \"A93\", \"A94\", \"A93\", \"A93\", \"A93\", \"A92\", \"A93\", \"A93\", \"A93\", \"A93\", \"A92\", \"A92\", \"A92\", \"A93\", \"A91\", \"A93\", \"A93\", \"A93\", \"A93\", \"A93\", \"A93\", \"A92\", \"A94\", \"A92\", \"A93\", \"A93\", \"A94\", \"A93\", \"A93\", \"A93\", \"A93\", \"A93\", \"A94\", \"A93\", \"A93\", \"A92\", \"A93\", \"A92\", \"A93\", \"A93\", \"A91\", \"A92\", \"A94\", \"A92\", \"A93\", \"A93\", \"A93\", \"A93\", \"A93\", \"A93\", \"A93\", \"A94\", \"A93\", \"A92\", \"A93\", \"A93\", \"A92\", \"A92\", \"A93\", \"A93\", \"A93\", \"A93\", \"A92\", \"A92\", \"A93\", \"A93\", \"A93\", \"A93\", \"A92\", \"A92\", \"A93\", \"A92\", \"A93\", \"A92\", \"A93\", \"A93\", \"A92\", \"A93\", \"A93\", \"A92\", \"A93\", \"A93\", \"A92\", \"A91\", \"A93\", \"A93\", \"A93\", \"A93\", \"A93\", \"A91\", \"A92\", \"A93\", \"A93\", \"A92\", \"A94\", \"A92\", \"A93\", \"A91\", \"A92\", \"A93\", \"A93\", \"A93\", \"A92\", \"A93\", \"A91\", \"A92\", \"A94\", \"A93\", \"A93\", \"A92\", \"A93\", \"A93\", \"A92\", \"A93\", \"A92\", \"A93\", \"A93\", \"A92\", \"A93\", \"A93\", \"A92\", \"A93\", \"A93\", \"A93\", \"A92\", \"A93\", \"A91\", \"A92\", \"A92\", \"A94\", \"A93\", \"A93\", \"A92\", \"A93\", \"A92\", \"A93\", \"A92\", \"A93\", \"A93\", \"A93\", \"A94\", \"A93\", \"A93\", \"A92\", \"A94\", \"A93\", \"A93\", \"A92\", \"A92\", \"A93\", \"A93\", \"A92\", \"A93\", \"A94\", \"A93\", \"A92\", \"A93\", \"A92\", \"A93\", \"A93\", \"A92\", \"A92\", \"A93\", \"A93\", \"A92\", \"A94\", \"A92\", \"A93\", \"A92\", \"A93\", \"A93\", \"A92\", \"A94\", \"A92\", \"A94\", \"A94\", \"A93\", \"A93\", \"A93\", \"A94\", \"A91\", \"A92\", \"A93\", \"A93\", \"A93\", \"A92\", \"A92\", \"A92\", \"A93\", \"A93\", \"A93\", \"A94\", \"A93\", \"A93\", \"A93\", \"A93\", \"A93\", \"A91\", \"A93\", \"A94\", \"A92\", \"A93\", \"A93\", \"A92\", \"A93\", \"A92\", \"A93\", \"A92\", \"A93\", \"A92\", \"A93\", \"A93\", \"A92\", \"A93\", \"A92\", \"A93\", \"A93\", \"A93\", \"A92\", \"A93\", \"A93\", \"A93\", \"A93\", \"A92\", \"A93\", \"A93\", \"A93\", \"A93\", \"A93\", \"A93\", \"A92\", \"A93\", \"A92\", \"A92\", \"A93\", \"A93\", \"A92\", \"A93\", \"A93\", \"A93\", \"A92\", \"A93\", \"A93\", \"A93\", \"A94\", \"A91\", \"A93\", \"A91\", \"A93\", \"A94\", \"A93\", \"A93\", \"A93\", \"A94\", \"A93\", \"A92\", \"A93\", \"A93\", \"A93\", \"A93\", \"A92\", \"A92\", \"A93\", \"A92\", \"A93\", \"A93\", \"A93\", \"A94\", \"A94\", \"A93\", \"A92\", \"A92\", \"A92\", \"A93\", \"A93\", \"A92\", \"A93\", \"A93\", \"A92\", \"A93\", \"A93\", \"A92\", \"A93\", \"A92\", \"A93\", \"A92\", \"A93\", \"A93\", \"A93\", \"A92\", \"A92\", \"A93\", \"A92\", \"A92\", \"A92\", \"A94\", \"A93\", \"A92\", \"A92\", \"A93\", \"A93\", \"A92\", \"A92\", \"A92\", \"A93\", \"A92\", \"A92\", \"A93\", \"A93\", \"A93\", \"A93\", \"A92\", \"A92\", \"A93\", \"A93\", \"A93\", \"A91\", \"A93\", \"A92\", \"A93\", \"A93\", \"A93\", \"A93\", \"A92\", \"A93\", \"A93\", \"A92\", \"A93\", \"A92\", \"A93\", \"A94\", \"A94\", \"A91\", \"A93\", \"A93\", \"A93\", \"A93\", \"A92\", \"A93\", \"A94\", \"A93\", \"A93\", \"A92\", \"A93\", \"A93\", \"A92\", \"A93\", \"A93\", \"A93\", \"A93\", \"A94\", \"A92\", \"A93\", \"A93\", \"A92\", \"A92\", \"A93\", \"A94\", \"A94\", \"A93\", \"A93\", \"A93\", \"A93\", \"A93\", \"A93\", \"A91\", \"A92\", \"A93\", \"A93\", \"A93\", \"A93\", \"A93\", \"A92\", \"A93\", \"A93\", \"A92\", \"A93\", \"A92\", \"A92\", \"A92\", \"A93\", \"A93\", \"A93\", \"A93\", \"A93\", \"A93\", \"A93\", \"A93\", \"A94\", \"A92\", \"A92\", \"A94\", \"A91\", \"A93\", \"A92\", \"A92\", \"A92\", \"A92\", \"A93\", \"A93\", \"A93\", \"A93\", \"A93\", \"A93\", \"A93\", \"A93\", \"A92\", \"A93\", \"A93\", \"A92\", \"A92\", \"A92\", \"A93\", \"A93\", \"A92\", \"A93\", \"A94\", \"A94\", \"A92\", \"A93\", \"A93\", \"A92\", \"A93\", \"A93\", \"A93\", \"A93\", \"A92\", \"A93\", \"A92\", \"A93\", \"A93\", \"A91\", \"A93\", \"A93\", \"A93\", \"A93\", \"A94\", \"A91\", \"A93\", \"A92\", \"A92\", \"A94\", \"A93\", \"A93\", \"A92\", \"A92\", \"A93\", \"A92\", \"A94\", \"A93\", \"A93\", \"A94\", \"A94\", \"A92\", \"A91\", \"A92\", \"A91\", \"A94\", \"A94\", \"A93\", \"A91\", \"A94\", \"A93\", \"A93\", \"A92\", \"A92\", \"A92\", \"A93\", \"A94\", \"A93\", \"A93\", \"A93\", \"A93\", \"A94\", \"A93\", \"A93\", \"A93\", \"A93\", \"A94\", \"A92\", \"A93\", \"A93\", \"A93\", \"A93\", \"A92\", \"A92\", \"A93\", \"A93\", \"A92\", \"A92\", \"A93\", \"A93\", \"A92\", \"A93\", \"A92\", \"A93\", \"A93\", \"A93\", \"A93\", \"A91\", \"A93\", \"A92\", \"A93\", \"A93\", \"A93\", \"A93\", \"A93\", \"A93\", \"A93\", \"A93\", \"A93\", \"A92\", \"A92\", \"A92\", \"A91\", \"A93\", \"A94\", \"A93\", \"A93\", \"A93\", \"A94\", \"A92\", \"A92\", \"A92\", \"A92\", \"A91\", \"A93\", \"A92\", \"A93\", \"A93\", \"A92\", \"A93\", \"A93\", \"A93\", \"A93\", \"A93\", \"A92\", \"A94\", \"A93\", \"A93\", \"A93\", \"A93\", \"A93\", \"A92\", \"A92\", \"A93\", \"A94\", \"A92\", \"A92\", \"A93\", \"A93\", \"A93\", \"A94\", \"A91\", \"A93\", \"A94\", \"A92\", \"A92\", \"A94\", \"A93\", \"A93\", \"A93\", \"A92\", \"A92\", \"A92\", \"A93\", \"A92\", \"A93\", \"A92\", \"A91\", \"A92\", \"A93\", \"A93\", \"A93\", \"A93\", \"A94\", \"A93\", \"A93\", \"A92\", \"A91\", \"A93\", \"A93\"], \"xaxis\": \"x\", \"yaxis\": \"y\"}, {\"alignmentgroup\": \"True\", \"bingroup\": \"x\", \"hovertemplate\": \"Class=2<br>PersonalStatus=%{x}<br>count=%{y}<extra></extra>\", \"legendgroup\": \"2\", \"marker\": {\"color\": \"#EF553B\"}, \"name\": \"2\", \"offsetgroup\": \"2\", \"orientation\": \"v\", \"showlegend\": true, \"type\": \"histogram\", \"x\": [\"A92\", \"A93\", \"A94\", \"A92\", \"A92\", \"A93\", \"A92\", \"A92\", \"A93\", \"A93\", \"A93\", \"A92\", \"A93\", \"A93\", \"A92\", \"A93\", \"A93\", \"A93\", \"A93\", \"A93\", \"A92\", \"A93\", \"A93\", \"A92\", \"A93\", \"A93\", \"A93\", \"A92\", \"A92\", \"A92\", \"A92\", \"A92\", \"A93\", \"A92\", \"A93\", \"A93\", \"A93\", \"A92\", \"A92\", \"A91\", \"A93\", \"A92\", \"A93\", \"A92\", \"A91\", \"A91\", \"A93\", \"A93\", \"A92\", \"A94\", \"A93\", \"A93\", \"A93\", \"A93\", \"A92\", \"A92\", \"A91\", \"A94\", \"A93\", \"A93\", \"A93\", \"A93\", \"A93\", \"A93\", \"A93\", \"A93\", \"A91\", \"A92\", \"A93\", \"A92\", \"A92\", \"A91\", \"A93\", \"A91\", \"A93\", \"A91\", \"A92\", \"A94\", \"A94\", \"A92\", \"A92\", \"A93\", \"A93\", \"A94\", \"A92\", \"A94\", \"A93\", \"A94\", \"A91\", \"A92\", \"A92\", \"A92\", \"A93\", \"A91\", \"A92\", \"A93\", \"A92\", \"A93\", \"A93\", \"A93\", \"A92\", \"A93\", \"A93\", \"A92\", \"A92\", \"A93\", \"A92\", \"A91\", \"A93\", \"A94\", \"A94\", \"A93\", \"A92\", \"A93\", \"A92\", \"A92\", \"A92\", \"A93\", \"A94\", \"A92\", \"A93\", \"A92\", \"A92\", \"A94\", \"A93\", \"A93\", \"A92\", \"A94\", \"A92\", \"A93\", \"A94\", \"A92\", \"A93\", \"A92\", \"A94\", \"A93\", \"A92\", \"A93\", \"A92\", \"A93\", \"A93\", \"A93\", \"A92\", \"A92\", \"A93\", \"A91\", \"A92\", \"A91\", \"A93\", \"A94\", \"A93\", \"A93\", \"A93\", \"A92\", \"A94\", \"A93\", \"A92\", \"A92\", \"A93\", \"A93\", \"A93\", \"A93\", \"A91\", \"A92\", \"A92\", \"A91\", \"A93\", \"A93\", \"A92\", \"A94\", \"A93\", \"A92\", \"A93\", \"A92\", \"A92\", \"A93\", \"A93\", \"A92\", \"A92\", \"A92\", \"A92\", \"A92\", \"A92\", \"A92\", \"A92\", \"A93\", \"A91\", \"A93\", \"A93\", \"A93\", \"A92\", \"A92\", \"A93\", \"A92\", \"A93\", \"A93\", \"A92\", \"A93\", \"A93\", \"A93\", \"A93\", \"A93\", \"A93\", \"A94\", \"A93\", \"A93\", \"A94\", \"A92\", \"A93\", \"A93\", \"A92\", \"A92\", \"A93\", \"A93\", \"A92\", \"A92\", \"A92\", \"A92\", \"A92\", \"A93\", \"A92\", \"A92\", \"A92\", \"A92\", \"A93\", \"A92\", \"A93\", \"A93\", \"A92\", \"A93\", \"A91\", \"A92\", \"A92\", \"A93\", \"A92\", \"A93\", \"A93\", \"A92\", \"A93\", \"A93\", \"A92\", \"A93\", \"A93\", \"A93\", \"A94\", \"A93\", \"A92\", \"A93\", \"A93\", \"A92\", \"A93\", \"A92\", \"A93\", \"A93\", \"A92\", \"A93\", \"A93\", \"A94\", \"A93\", \"A92\", \"A94\", \"A92\", \"A93\", \"A93\", \"A91\", \"A92\", \"A93\", \"A93\", \"A93\", \"A92\", \"A93\", \"A92\", \"A93\", \"A91\", \"A93\", \"A92\", \"A91\", \"A93\", \"A93\", \"A92\", \"A93\", \"A92\", \"A93\", \"A93\", \"A94\", \"A93\", \"A93\", \"A92\", \"A92\", \"A93\", \"A93\", \"A93\", \"A92\", \"A93\", \"A93\", \"A94\", \"A93\", \"A93\", \"A93\", \"A93\"], \"xaxis\": \"x\", \"yaxis\": \"y\"}],\n",
       "                        {\"barmode\": \"group\", \"legend\": {\"title\": {\"text\": \"Class\"}, \"tracegroupgap\": 0}, \"template\": {\"data\": {\"bar\": [{\"error_x\": {\"color\": \"#2a3f5f\"}, \"error_y\": {\"color\": \"#2a3f5f\"}, \"marker\": {\"line\": {\"color\": \"#E5ECF6\", \"width\": 0.5}}, \"type\": \"bar\"}], \"barpolar\": [{\"marker\": {\"line\": {\"color\": \"#E5ECF6\", \"width\": 0.5}}, \"type\": \"barpolar\"}], \"carpet\": [{\"aaxis\": {\"endlinecolor\": \"#2a3f5f\", \"gridcolor\": \"white\", \"linecolor\": \"white\", \"minorgridcolor\": \"white\", \"startlinecolor\": \"#2a3f5f\"}, \"baxis\": {\"endlinecolor\": \"#2a3f5f\", \"gridcolor\": \"white\", \"linecolor\": \"white\", \"minorgridcolor\": \"white\", \"startlinecolor\": \"#2a3f5f\"}, \"type\": \"carpet\"}], \"choropleth\": [{\"colorbar\": {\"outlinewidth\": 0, \"ticks\": \"\"}, \"type\": \"choropleth\"}], \"contour\": [{\"colorbar\": {\"outlinewidth\": 0, \"ticks\": \"\"}, \"colorscale\": [[0.0, \"#0d0887\"], [0.1111111111111111, \"#46039f\"], [0.2222222222222222, \"#7201a8\"], [0.3333333333333333, \"#9c179e\"], [0.4444444444444444, \"#bd3786\"], [0.5555555555555556, \"#d8576b\"], [0.6666666666666666, \"#ed7953\"], [0.7777777777777778, \"#fb9f3a\"], [0.8888888888888888, \"#fdca26\"], [1.0, \"#f0f921\"]], \"type\": \"contour\"}], \"contourcarpet\": [{\"colorbar\": {\"outlinewidth\": 0, \"ticks\": \"\"}, \"type\": \"contourcarpet\"}], \"heatmap\": [{\"colorbar\": {\"outlinewidth\": 0, \"ticks\": \"\"}, \"colorscale\": [[0.0, \"#0d0887\"], [0.1111111111111111, \"#46039f\"], [0.2222222222222222, \"#7201a8\"], [0.3333333333333333, \"#9c179e\"], [0.4444444444444444, \"#bd3786\"], [0.5555555555555556, \"#d8576b\"], [0.6666666666666666, \"#ed7953\"], [0.7777777777777778, \"#fb9f3a\"], [0.8888888888888888, \"#fdca26\"], [1.0, \"#f0f921\"]], \"type\": \"heatmap\"}], \"heatmapgl\": [{\"colorbar\": {\"outlinewidth\": 0, \"ticks\": \"\"}, \"colorscale\": [[0.0, \"#0d0887\"], [0.1111111111111111, \"#46039f\"], [0.2222222222222222, \"#7201a8\"], [0.3333333333333333, \"#9c179e\"], [0.4444444444444444, \"#bd3786\"], [0.5555555555555556, \"#d8576b\"], [0.6666666666666666, \"#ed7953\"], [0.7777777777777778, \"#fb9f3a\"], [0.8888888888888888, \"#fdca26\"], [1.0, \"#f0f921\"]], \"type\": \"heatmapgl\"}], \"histogram\": [{\"marker\": {\"colorbar\": {\"outlinewidth\": 0, \"ticks\": \"\"}}, \"type\": \"histogram\"}], \"histogram2d\": [{\"colorbar\": {\"outlinewidth\": 0, \"ticks\": \"\"}, \"colorscale\": [[0.0, \"#0d0887\"], [0.1111111111111111, \"#46039f\"], [0.2222222222222222, \"#7201a8\"], [0.3333333333333333, \"#9c179e\"], [0.4444444444444444, \"#bd3786\"], [0.5555555555555556, \"#d8576b\"], [0.6666666666666666, \"#ed7953\"], [0.7777777777777778, \"#fb9f3a\"], [0.8888888888888888, \"#fdca26\"], [1.0, \"#f0f921\"]], \"type\": \"histogram2d\"}], \"histogram2dcontour\": [{\"colorbar\": {\"outlinewidth\": 0, \"ticks\": \"\"}, \"colorscale\": [[0.0, \"#0d0887\"], [0.1111111111111111, \"#46039f\"], [0.2222222222222222, \"#7201a8\"], [0.3333333333333333, \"#9c179e\"], [0.4444444444444444, \"#bd3786\"], [0.5555555555555556, \"#d8576b\"], [0.6666666666666666, \"#ed7953\"], [0.7777777777777778, \"#fb9f3a\"], [0.8888888888888888, \"#fdca26\"], [1.0, \"#f0f921\"]], \"type\": \"histogram2dcontour\"}], \"mesh3d\": [{\"colorbar\": {\"outlinewidth\": 0, \"ticks\": \"\"}, \"type\": \"mesh3d\"}], \"parcoords\": [{\"line\": {\"colorbar\": {\"outlinewidth\": 0, \"ticks\": \"\"}}, \"type\": \"parcoords\"}], \"pie\": [{\"automargin\": true, \"type\": \"pie\"}], \"scatter\": [{\"marker\": {\"colorbar\": {\"outlinewidth\": 0, \"ticks\": \"\"}}, \"type\": \"scatter\"}], \"scatter3d\": [{\"line\": {\"colorbar\": {\"outlinewidth\": 0, \"ticks\": \"\"}}, \"marker\": {\"colorbar\": {\"outlinewidth\": 0, \"ticks\": \"\"}}, \"type\": \"scatter3d\"}], \"scattercarpet\": [{\"marker\": {\"colorbar\": {\"outlinewidth\": 0, \"ticks\": \"\"}}, \"type\": \"scattercarpet\"}], \"scattergeo\": [{\"marker\": {\"colorbar\": {\"outlinewidth\": 0, \"ticks\": \"\"}}, \"type\": \"scattergeo\"}], \"scattergl\": [{\"marker\": {\"colorbar\": {\"outlinewidth\": 0, \"ticks\": \"\"}}, \"type\": \"scattergl\"}], \"scattermapbox\": [{\"marker\": {\"colorbar\": {\"outlinewidth\": 0, \"ticks\": \"\"}}, \"type\": \"scattermapbox\"}], \"scatterpolar\": [{\"marker\": {\"colorbar\": {\"outlinewidth\": 0, \"ticks\": \"\"}}, \"type\": \"scatterpolar\"}], \"scatterpolargl\": [{\"marker\": {\"colorbar\": {\"outlinewidth\": 0, \"ticks\": \"\"}}, \"type\": \"scatterpolargl\"}], \"scatterternary\": [{\"marker\": {\"colorbar\": {\"outlinewidth\": 0, \"ticks\": \"\"}}, \"type\": \"scatterternary\"}], \"surface\": [{\"colorbar\": {\"outlinewidth\": 0, \"ticks\": \"\"}, \"colorscale\": [[0.0, \"#0d0887\"], [0.1111111111111111, \"#46039f\"], [0.2222222222222222, \"#7201a8\"], [0.3333333333333333, \"#9c179e\"], [0.4444444444444444, \"#bd3786\"], [0.5555555555555556, \"#d8576b\"], [0.6666666666666666, \"#ed7953\"], [0.7777777777777778, \"#fb9f3a\"], [0.8888888888888888, \"#fdca26\"], [1.0, \"#f0f921\"]], \"type\": \"surface\"}], \"table\": [{\"cells\": {\"fill\": {\"color\": \"#EBF0F8\"}, \"line\": {\"color\": \"white\"}}, \"header\": {\"fill\": {\"color\": \"#C8D4E3\"}, \"line\": {\"color\": \"white\"}}, \"type\": \"table\"}]}, \"layout\": {\"annotationdefaults\": {\"arrowcolor\": \"#2a3f5f\", \"arrowhead\": 0, \"arrowwidth\": 1}, \"coloraxis\": {\"colorbar\": {\"outlinewidth\": 0, \"ticks\": \"\"}}, \"colorscale\": {\"diverging\": [[0, \"#8e0152\"], [0.1, \"#c51b7d\"], [0.2, \"#de77ae\"], [0.3, \"#f1b6da\"], [0.4, \"#fde0ef\"], [0.5, \"#f7f7f7\"], [0.6, \"#e6f5d0\"], [0.7, \"#b8e186\"], [0.8, \"#7fbc41\"], [0.9, \"#4d9221\"], [1, \"#276419\"]], \"sequential\": [[0.0, \"#0d0887\"], [0.1111111111111111, \"#46039f\"], [0.2222222222222222, \"#7201a8\"], [0.3333333333333333, \"#9c179e\"], [0.4444444444444444, \"#bd3786\"], [0.5555555555555556, \"#d8576b\"], [0.6666666666666666, \"#ed7953\"], [0.7777777777777778, \"#fb9f3a\"], [0.8888888888888888, \"#fdca26\"], [1.0, \"#f0f921\"]], \"sequentialminus\": [[0.0, \"#0d0887\"], [0.1111111111111111, \"#46039f\"], [0.2222222222222222, \"#7201a8\"], [0.3333333333333333, \"#9c179e\"], [0.4444444444444444, \"#bd3786\"], [0.5555555555555556, \"#d8576b\"], [0.6666666666666666, \"#ed7953\"], [0.7777777777777778, \"#fb9f3a\"], [0.8888888888888888, \"#fdca26\"], [1.0, \"#f0f921\"]]}, \"colorway\": [\"#636efa\", \"#EF553B\", \"#00cc96\", \"#ab63fa\", \"#FFA15A\", \"#19d3f3\", \"#FF6692\", \"#B6E880\", \"#FF97FF\", \"#FECB52\"], \"font\": {\"color\": \"#2a3f5f\"}, \"geo\": {\"bgcolor\": \"white\", \"lakecolor\": \"white\", \"landcolor\": \"#E5ECF6\", \"showlakes\": true, \"showland\": true, \"subunitcolor\": \"white\"}, \"hoverlabel\": {\"align\": \"left\"}, \"hovermode\": \"closest\", \"mapbox\": {\"style\": \"light\"}, \"paper_bgcolor\": \"white\", \"plot_bgcolor\": \"#E5ECF6\", \"polar\": {\"angularaxis\": {\"gridcolor\": \"white\", \"linecolor\": \"white\", \"ticks\": \"\"}, \"bgcolor\": \"#E5ECF6\", \"radialaxis\": {\"gridcolor\": \"white\", \"linecolor\": \"white\", \"ticks\": \"\"}}, \"scene\": {\"xaxis\": {\"backgroundcolor\": \"#E5ECF6\", \"gridcolor\": \"white\", \"gridwidth\": 2, \"linecolor\": \"white\", \"showbackground\": true, \"ticks\": \"\", \"zerolinecolor\": \"white\"}, \"yaxis\": {\"backgroundcolor\": \"#E5ECF6\", \"gridcolor\": \"white\", \"gridwidth\": 2, \"linecolor\": \"white\", \"showbackground\": true, \"ticks\": \"\", \"zerolinecolor\": \"white\"}, \"zaxis\": {\"backgroundcolor\": \"#E5ECF6\", \"gridcolor\": \"white\", \"gridwidth\": 2, \"linecolor\": \"white\", \"showbackground\": true, \"ticks\": \"\", \"zerolinecolor\": \"white\"}}, \"shapedefaults\": {\"line\": {\"color\": \"#2a3f5f\"}}, \"ternary\": {\"aaxis\": {\"gridcolor\": \"white\", \"linecolor\": \"white\", \"ticks\": \"\"}, \"baxis\": {\"gridcolor\": \"white\", \"linecolor\": \"white\", \"ticks\": \"\"}, \"bgcolor\": \"#E5ECF6\", \"caxis\": {\"gridcolor\": \"white\", \"linecolor\": \"white\", \"ticks\": \"\"}}, \"title\": {\"x\": 0.05}, \"xaxis\": {\"automargin\": true, \"gridcolor\": \"white\", \"linecolor\": \"white\", \"ticks\": \"\", \"title\": {\"standoff\": 15}, \"zerolinecolor\": \"white\", \"zerolinewidth\": 2}, \"yaxis\": {\"automargin\": true, \"gridcolor\": \"white\", \"linecolor\": \"white\", \"ticks\": \"\", \"title\": {\"standoff\": 15}, \"zerolinecolor\": \"white\", \"zerolinewidth\": 2}}}, \"title\": {\"text\": \"R\\u00e9partition des clients en fonction de leur statut matrimonial\"}, \"xaxis\": {\"anchor\": \"y\", \"domain\": [0.0, 1.0], \"title\": {\"text\": \"PersonalStatus\"}}, \"yaxis\": {\"anchor\": \"x\", \"domain\": [0.0, 1.0], \"title\": {\"text\": \"count\"}}},\n",
       "                        {\"responsive\": true}\n",
       "                    ).then(function(){\n",
       "                            \n",
       "var gd = document.getElementById('7423d5b6-4cb7-4361-97c4-903ca55a9c98');\n",
       "var x = new MutationObserver(function (mutations, observer) {{\n",
       "        var display = window.getComputedStyle(gd).display;\n",
       "        if (!display || display === 'none') {{\n",
       "            console.log([gd, 'removed!']);\n",
       "            Plotly.purge(gd);\n",
       "            observer.disconnect();\n",
       "        }}\n",
       "}});\n",
       "\n",
       "// Listen for the removal of the full notebook cells\n",
       "var notebookContainer = gd.closest('#notebook-container');\n",
       "if (notebookContainer) {{\n",
       "    x.observe(notebookContainer, {childList: true});\n",
       "}}\n",
       "\n",
       "// Listen for the clearing of the current output cell\n",
       "var outputEl = gd.closest('.output');\n",
       "if (outputEl) {{\n",
       "    x.observe(outputEl, {childList: true});\n",
       "}}\n",
       "\n",
       "                        })\n",
       "                };\n",
       "                });\n",
       "            </script>\n",
       "        </div>"
      ]
     },
     "metadata": {},
     "output_type": "display_data"
    }
   ],
   "source": [
    "PX.histogram (data_frame = german\n",
    "             , x = \"PersonalStatus\" \n",
    "             , color = 'Class'\n",
    "             , barmode = 'group' \n",
    "             , labels = {'count': 'Nombre de clients'} \n",
    "             , title = \"Répartition des clients en fonction de leur statut matrimonial\" \n",
    "             , template = 'plotly' \n",
    "            )"
   ]
  },
  {
   "cell_type": "markdown",
   "metadata": {},
   "source": [
    "Cette analyse nous informe que près de 40% des personnes apte à un crédit sont des hommes célibataire et près 20% sont des femmes divorcé/marié.\n",
    "on peut voir égalément que les hommes sont en majorité favorable à un prêt par rapport aux femmes."
   ]
  },
  {
   "cell_type": "markdown",
   "metadata": {},
   "source": []
  },
  {
   "cell_type": "code",
   "execution_count": 22,
   "metadata": {},
   "outputs": [
    {
     "data": {
      "application/vnd.plotly.v1+json": {
       "config": {
        "plotlyServerURL": "https://plot.ly"
       },
       "data": [
        {
         "alignmentgroup": "True",
         "bingroup": "x",
         "hovertemplate": "Class=1<br>CreditHistory=%{x}<br>count=%{y}<extra></extra>",
         "legendgroup": "1",
         "marker": {
          "color": "#636efa"
         },
         "name": "1",
         "offsetgroup": "1",
         "orientation": "v",
         "showlegend": true,
         "type": "histogram",
         "x": [
          "A34",
          "A34",
          "A32",
          "A32",
          "A32",
          "A32",
          "A32",
          "A32",
          "A32",
          "A34",
          "A30",
          "A32",
          "A34",
          "A32",
          "A34",
          "A34",
          "A34",
          "A32",
          "A30",
          "A31",
          "A32",
          "A32",
          "A32",
          "A32",
          "A34",
          "A32",
          "A34",
          "A32",
          "A32",
          "A32",
          "A32",
          "A33",
          "A34",
          "A34",
          "A32",
          "A32",
          "A34",
          "A32",
          "A33",
          "A33",
          "A32",
          "A32",
          "A31",
          "A34",
          "A32",
          "A32",
          "A34",
          "A32",
          "A32",
          "A32",
          "A32",
          "A32",
          "A32",
          "A34",
          "A34",
          "A34",
          "A34",
          "A33",
          "A30",
          "A32",
          "A32",
          "A32",
          "A32",
          "A32",
          "A34",
          "A34",
          "A32",
          "A34",
          "A34",
          "A34",
          "A32",
          "A34",
          "A32",
          "A34",
          "A33",
          "A32",
          "A32",
          "A33",
          "A34",
          "A32",
          "A32",
          "A32",
          "A32",
          "A33",
          "A32",
          "A32",
          "A32",
          "A34",
          "A34",
          "A34",
          "A34",
          "A32",
          "A34",
          "A34",
          "A32",
          "A34",
          "A32",
          "A32",
          "A32",
          "A32",
          "A34",
          "A33",
          "A34",
          "A32",
          "A32",
          "A32",
          "A32",
          "A34",
          "A31",
          "A34",
          "A34",
          "A34",
          "A34",
          "A32",
          "A32",
          "A32",
          "A34",
          "A33",
          "A34",
          "A31",
          "A32",
          "A34",
          "A34",
          "A34",
          "A32",
          "A32",
          "A32",
          "A32",
          "A32",
          "A32",
          "A32",
          "A32",
          "A32",
          "A34",
          "A32",
          "A34",
          "A34",
          "A34",
          "A34",
          "A30",
          "A32",
          "A34",
          "A32",
          "A34",
          "A32",
          "A33",
          "A34",
          "A34",
          "A34",
          "A34",
          "A32",
          "A32",
          "A34",
          "A32",
          "A34",
          "A34",
          "A30",
          "A32",
          "A32",
          "A32",
          "A32",
          "A32",
          "A32",
          "A33",
          "A32",
          "A30",
          "A32",
          "A32",
          "A32",
          "A32",
          "A34",
          "A34",
          "A32",
          "A32",
          "A34",
          "A31",
          "A32",
          "A34",
          "A30",
          "A32",
          "A34",
          "A32",
          "A33",
          "A32",
          "A33",
          "A34",
          "A32",
          "A34",
          "A32",
          "A32",
          "A34",
          "A34",
          "A34",
          "A34",
          "A32",
          "A32",
          "A32",
          "A34",
          "A31",
          "A32",
          "A34",
          "A32",
          "A32",
          "A34",
          "A32",
          "A31",
          "A34",
          "A34",
          "A32",
          "A32",
          "A33",
          "A32",
          "A32",
          "A34",
          "A34",
          "A34",
          "A32",
          "A32",
          "A32",
          "A34",
          "A32",
          "A34",
          "A32",
          "A32",
          "A32",
          "A32",
          "A32",
          "A32",
          "A32",
          "A32",
          "A32",
          "A34",
          "A33",
          "A32",
          "A32",
          "A34",
          "A34",
          "A34",
          "A32",
          "A32",
          "A32",
          "A34",
          "A32",
          "A32",
          "A32",
          "A34",
          "A32",
          "A32",
          "A32",
          "A32",
          "A34",
          "A34",
          "A32",
          "A33",
          "A32",
          "A34",
          "A32",
          "A34",
          "A32",
          "A32",
          "A32",
          "A33",
          "A32",
          "A32",
          "A34",
          "A32",
          "A32",
          "A32",
          "A34",
          "A34",
          "A34",
          "A33",
          "A33",
          "A34",
          "A32",
          "A32",
          "A32",
          "A33",
          "A34",
          "A32",
          "A34",
          "A34",
          "A32",
          "A32",
          "A32",
          "A32",
          "A34",
          "A34",
          "A33",
          "A32",
          "A34",
          "A34",
          "A32",
          "A34",
          "A33",
          "A33",
          "A34",
          "A32",
          "A32",
          "A32",
          "A34",
          "A32",
          "A34",
          "A33",
          "A32",
          "A32",
          "A32",
          "A34",
          "A33",
          "A32",
          "A34",
          "A34",
          "A32",
          "A32",
          "A34",
          "A34",
          "A32",
          "A32",
          "A34",
          "A34",
          "A32",
          "A32",
          "A33",
          "A34",
          "A32",
          "A32",
          "A34",
          "A32",
          "A30",
          "A32",
          "A32",
          "A34",
          "A32",
          "A32",
          "A32",
          "A32",
          "A32",
          "A32",
          "A32",
          "A32",
          "A33",
          "A33",
          "A33",
          "A32",
          "A32",
          "A32",
          "A32",
          "A34",
          "A34",
          "A32",
          "A32",
          "A33",
          "A34",
          "A32",
          "A32",
          "A32",
          "A32",
          "A34",
          "A34",
          "A32",
          "A34",
          "A34",
          "A32",
          "A34",
          "A32",
          "A32",
          "A34",
          "A32",
          "A32",
          "A32",
          "A32",
          "A33",
          "A32",
          "A34",
          "A34",
          "A32",
          "A34",
          "A34",
          "A32",
          "A32",
          "A32",
          "A34",
          "A34",
          "A32",
          "A32",
          "A33",
          "A32",
          "A32",
          "A32",
          "A34",
          "A32",
          "A33",
          "A34",
          "A34",
          "A32",
          "A34",
          "A34",
          "A31",
          "A34",
          "A32",
          "A32",
          "A33",
          "A33",
          "A33",
          "A34",
          "A32",
          "A34",
          "A32",
          "A32",
          "A32",
          "A34",
          "A32",
          "A34",
          "A32",
          "A34",
          "A32",
          "A32",
          "A34",
          "A32",
          "A34",
          "A33",
          "A32",
          "A33",
          "A32",
          "A32",
          "A31",
          "A34",
          "A32",
          "A32",
          "A32",
          "A31",
          "A30",
          "A33",
          "A34",
          "A32",
          "A34",
          "A32",
          "A32",
          "A32",
          "A34",
          "A32",
          "A32",
          "A32",
          "A32",
          "A32",
          "A33",
          "A32",
          "A32",
          "A34",
          "A34",
          "A30",
          "A32",
          "A34",
          "A32",
          "A32",
          "A30",
          "A34",
          "A32",
          "A32",
          "A33",
          "A34",
          "A34",
          "A31",
          "A31",
          "A34",
          "A34",
          "A32",
          "A32",
          "A34",
          "A34",
          "A34",
          "A32",
          "A32",
          "A32",
          "A32",
          "A33",
          "A34",
          "A33",
          "A32",
          "A34",
          "A33",
          "A32",
          "A32",
          "A34",
          "A32",
          "A32",
          "A34",
          "A32",
          "A32",
          "A32",
          "A34",
          "A34",
          "A32",
          "A32",
          "A33",
          "A32",
          "A32",
          "A32",
          "A32",
          "A34",
          "A32",
          "A34",
          "A34",
          "A34",
          "A32",
          "A34",
          "A30",
          "A32",
          "A34",
          "A34",
          "A34",
          "A33",
          "A32",
          "A32",
          "A34",
          "A31",
          "A32",
          "A34",
          "A31",
          "A31",
          "A32",
          "A31",
          "A34",
          "A34",
          "A32",
          "A32",
          "A32",
          "A32",
          "A32",
          "A34",
          "A34",
          "A32",
          "A34",
          "A32",
          "A34",
          "A32",
          "A32",
          "A34",
          "A34",
          "A32",
          "A34",
          "A34",
          "A34",
          "A34",
          "A32",
          "A34",
          "A32",
          "A34",
          "A30",
          "A32",
          "A32",
          "A32",
          "A34",
          "A32",
          "A34",
          "A32",
          "A32",
          "A32",
          "A34",
          "A33",
          "A32",
          "A34",
          "A34",
          "A34",
          "A34",
          "A32",
          "A32",
          "A34",
          "A31",
          "A32",
          "A32",
          "A33",
          "A32",
          "A34",
          "A32",
          "A32",
          "A32",
          "A34",
          "A34",
          "A34",
          "A33",
          "A33",
          "A32",
          "A32",
          "A32",
          "A34",
          "A34",
          "A33",
          "A31",
          "A32",
          "A32",
          "A32",
          "A32",
          "A34",
          "A34",
          "A33",
          "A32",
          "A32",
          "A34",
          "A32",
          "A34",
          "A34",
          "A32",
          "A32",
          "A34",
          "A32",
          "A32",
          "A33",
          "A34",
          "A34",
          "A32",
          "A32",
          "A34",
          "A31",
          "A32",
          "A34",
          "A32",
          "A32",
          "A34",
          "A34",
          "A34",
          "A34",
          "A31",
          "A34",
          "A34",
          "A34",
          "A34",
          "A34",
          "A33",
          "A32",
          "A34",
          "A32",
          "A34",
          "A34",
          "A32",
          "A32",
          "A32",
          "A32",
          "A32",
          "A33",
          "A32",
          "A33",
          "A32",
          "A32",
          "A32",
          "A34",
          "A33",
          "A32",
          "A34",
          "A32",
          "A33",
          "A32",
          "A34",
          "A34",
          "A32",
          "A32",
          "A34",
          "A32",
          "A32",
          "A32",
          "A34",
          "A32",
          "A30",
          "A32",
          "A34",
          "A32",
          "A34",
          "A34",
          "A34",
          "A32",
          "A34",
          "A33",
          "A32",
          "A32",
          "A32",
          "A32",
          "A32",
          "A34",
          "A32",
          "A32",
          "A34",
          "A32",
          "A32",
          "A33",
          "A32",
          "A34",
          "A34",
          "A30",
          "A32",
          "A32",
          "A34",
          "A34",
          "A31",
          "A32",
          "A32",
          "A32",
          "A32",
          "A32",
          "A32",
          "A34"
         ],
         "xaxis": "x",
         "yaxis": "y"
        },
        {
         "alignmentgroup": "True",
         "bingroup": "x",
         "hovertemplate": "Class=2<br>CreditHistory=%{x}<br>count=%{y}<extra></extra>",
         "legendgroup": "2",
         "marker": {
          "color": "#EF553B"
         },
         "name": "2",
         "offsetgroup": "2",
         "orientation": "v",
         "showlegend": true,
         "type": "histogram",
         "x": [
          "A32",
          "A33",
          "A34",
          "A32",
          "A32",
          "A34",
          "A32",
          "A32",
          "A33",
          "A34",
          "A32",
          "A34",
          "A33",
          "A32",
          "A34",
          "A30",
          "A30",
          "A32",
          "A32",
          "A32",
          "A32",
          "A32",
          "A30",
          "A34",
          "A30",
          "A34",
          "A31",
          "A34",
          "A32",
          "A34",
          "A32",
          "A32",
          "A32",
          "A34",
          "A33",
          "A32",
          "A32",
          "A32",
          "A32",
          "A34",
          "A30",
          "A33",
          "A33",
          "A31",
          "A33",
          "A33",
          "A31",
          "A34",
          "A31",
          "A32",
          "A32",
          "A30",
          "A32",
          "A32",
          "A34",
          "A32",
          "A33",
          "A32",
          "A30",
          "A33",
          "A32",
          "A32",
          "A32",
          "A32",
          "A32",
          "A32",
          "A32",
          "A32",
          "A30",
          "A32",
          "A32",
          "A31",
          "A32",
          "A32",
          "A32",
          "A32",
          "A32",
          "A33",
          "A32",
          "A32",
          "A30",
          "A34",
          "A34",
          "A32",
          "A32",
          "A32",
          "A31",
          "A34",
          "A32",
          "A34",
          "A32",
          "A34",
          "A30",
          "A34",
          "A32",
          "A34",
          "A32",
          "A30",
          "A32",
          "A33",
          "A32",
          "A32",
          "A32",
          "A31",
          "A31",
          "A32",
          "A32",
          "A32",
          "A33",
          "A32",
          "A34",
          "A34",
          "A32",
          "A32",
          "A32",
          "A32",
          "A34",
          "A32",
          "A32",
          "A31",
          "A32",
          "A34",
          "A32",
          "A33",
          "A32",
          "A32",
          "A33",
          "A32",
          "A32",
          "A32",
          "A34",
          "A30",
          "A33",
          "A30",
          "A32",
          "A32",
          "A32",
          "A34",
          "A32",
          "A32",
          "A31",
          "A32",
          "A34",
          "A32",
          "A30",
          "A32",
          "A32",
          "A34",
          "A32",
          "A32",
          "A32",
          "A32",
          "A33",
          "A31",
          "A32",
          "A32",
          "A30",
          "A30",
          "A31",
          "A34",
          "A31",
          "A32",
          "A32",
          "A32",
          "A32",
          "A34",
          "A34",
          "A32",
          "A32",
          "A32",
          "A34",
          "A32",
          "A31",
          "A31",
          "A32",
          "A30",
          "A34",
          "A32",
          "A31",
          "A32",
          "A32",
          "A32",
          "A32",
          "A33",
          "A32",
          "A34",
          "A32",
          "A32",
          "A31",
          "A31",
          "A32",
          "A32",
          "A33",
          "A32",
          "A32",
          "A33",
          "A32",
          "A32",
          "A32",
          "A32",
          "A32",
          "A33",
          "A32",
          "A32",
          "A34",
          "A33",
          "A32",
          "A32",
          "A34",
          "A32",
          "A30",
          "A31",
          "A32",
          "A30",
          "A31",
          "A32",
          "A32",
          "A32",
          "A31",
          "A32",
          "A32",
          "A30",
          "A32",
          "A32",
          "A33",
          "A32",
          "A34",
          "A34",
          "A34",
          "A34",
          "A32",
          "A34",
          "A32",
          "A34",
          "A32",
          "A33",
          "A34",
          "A32",
          "A32",
          "A32",
          "A30",
          "A34",
          "A32",
          "A32",
          "A32",
          "A32",
          "A34",
          "A30",
          "A32",
          "A32",
          "A30",
          "A32",
          "A30",
          "A32",
          "A32",
          "A32",
          "A32",
          "A34",
          "A31",
          "A32",
          "A33",
          "A32",
          "A32",
          "A32",
          "A32",
          "A32",
          "A32",
          "A32",
          "A34",
          "A34",
          "A31",
          "A30",
          "A32",
          "A32",
          "A32",
          "A32",
          "A31",
          "A31",
          "A32",
          "A32",
          "A33",
          "A32",
          "A32",
          "A31",
          "A32",
          "A32",
          "A33",
          "A32",
          "A32",
          "A32",
          "A32",
          "A34",
          "A31",
          "A32",
          "A33",
          "A31",
          "A34",
          "A32",
          "A32",
          "A32"
         ],
         "xaxis": "x",
         "yaxis": "y"
        }
       ],
       "layout": {
        "barmode": "group",
        "legend": {
         "title": {
          "text": "Class"
         },
         "tracegroupgap": 0
        },
        "template": {
         "data": {
          "bar": [
           {
            "error_x": {
             "color": "#2a3f5f"
            },
            "error_y": {
             "color": "#2a3f5f"
            },
            "marker": {
             "line": {
              "color": "#E5ECF6",
              "width": 0.5
             }
            },
            "type": "bar"
           }
          ],
          "barpolar": [
           {
            "marker": {
             "line": {
              "color": "#E5ECF6",
              "width": 0.5
             }
            },
            "type": "barpolar"
           }
          ],
          "carpet": [
           {
            "aaxis": {
             "endlinecolor": "#2a3f5f",
             "gridcolor": "white",
             "linecolor": "white",
             "minorgridcolor": "white",
             "startlinecolor": "#2a3f5f"
            },
            "baxis": {
             "endlinecolor": "#2a3f5f",
             "gridcolor": "white",
             "linecolor": "white",
             "minorgridcolor": "white",
             "startlinecolor": "#2a3f5f"
            },
            "type": "carpet"
           }
          ],
          "choropleth": [
           {
            "colorbar": {
             "outlinewidth": 0,
             "ticks": ""
            },
            "type": "choropleth"
           }
          ],
          "contour": [
           {
            "colorbar": {
             "outlinewidth": 0,
             "ticks": ""
            },
            "colorscale": [
             [
              0,
              "#0d0887"
             ],
             [
              0.1111111111111111,
              "#46039f"
             ],
             [
              0.2222222222222222,
              "#7201a8"
             ],
             [
              0.3333333333333333,
              "#9c179e"
             ],
             [
              0.4444444444444444,
              "#bd3786"
             ],
             [
              0.5555555555555556,
              "#d8576b"
             ],
             [
              0.6666666666666666,
              "#ed7953"
             ],
             [
              0.7777777777777778,
              "#fb9f3a"
             ],
             [
              0.8888888888888888,
              "#fdca26"
             ],
             [
              1,
              "#f0f921"
             ]
            ],
            "type": "contour"
           }
          ],
          "contourcarpet": [
           {
            "colorbar": {
             "outlinewidth": 0,
             "ticks": ""
            },
            "type": "contourcarpet"
           }
          ],
          "heatmap": [
           {
            "colorbar": {
             "outlinewidth": 0,
             "ticks": ""
            },
            "colorscale": [
             [
              0,
              "#0d0887"
             ],
             [
              0.1111111111111111,
              "#46039f"
             ],
             [
              0.2222222222222222,
              "#7201a8"
             ],
             [
              0.3333333333333333,
              "#9c179e"
             ],
             [
              0.4444444444444444,
              "#bd3786"
             ],
             [
              0.5555555555555556,
              "#d8576b"
             ],
             [
              0.6666666666666666,
              "#ed7953"
             ],
             [
              0.7777777777777778,
              "#fb9f3a"
             ],
             [
              0.8888888888888888,
              "#fdca26"
             ],
             [
              1,
              "#f0f921"
             ]
            ],
            "type": "heatmap"
           }
          ],
          "heatmapgl": [
           {
            "colorbar": {
             "outlinewidth": 0,
             "ticks": ""
            },
            "colorscale": [
             [
              0,
              "#0d0887"
             ],
             [
              0.1111111111111111,
              "#46039f"
             ],
             [
              0.2222222222222222,
              "#7201a8"
             ],
             [
              0.3333333333333333,
              "#9c179e"
             ],
             [
              0.4444444444444444,
              "#bd3786"
             ],
             [
              0.5555555555555556,
              "#d8576b"
             ],
             [
              0.6666666666666666,
              "#ed7953"
             ],
             [
              0.7777777777777778,
              "#fb9f3a"
             ],
             [
              0.8888888888888888,
              "#fdca26"
             ],
             [
              1,
              "#f0f921"
             ]
            ],
            "type": "heatmapgl"
           }
          ],
          "histogram": [
           {
            "marker": {
             "colorbar": {
              "outlinewidth": 0,
              "ticks": ""
             }
            },
            "type": "histogram"
           }
          ],
          "histogram2d": [
           {
            "colorbar": {
             "outlinewidth": 0,
             "ticks": ""
            },
            "colorscale": [
             [
              0,
              "#0d0887"
             ],
             [
              0.1111111111111111,
              "#46039f"
             ],
             [
              0.2222222222222222,
              "#7201a8"
             ],
             [
              0.3333333333333333,
              "#9c179e"
             ],
             [
              0.4444444444444444,
              "#bd3786"
             ],
             [
              0.5555555555555556,
              "#d8576b"
             ],
             [
              0.6666666666666666,
              "#ed7953"
             ],
             [
              0.7777777777777778,
              "#fb9f3a"
             ],
             [
              0.8888888888888888,
              "#fdca26"
             ],
             [
              1,
              "#f0f921"
             ]
            ],
            "type": "histogram2d"
           }
          ],
          "histogram2dcontour": [
           {
            "colorbar": {
             "outlinewidth": 0,
             "ticks": ""
            },
            "colorscale": [
             [
              0,
              "#0d0887"
             ],
             [
              0.1111111111111111,
              "#46039f"
             ],
             [
              0.2222222222222222,
              "#7201a8"
             ],
             [
              0.3333333333333333,
              "#9c179e"
             ],
             [
              0.4444444444444444,
              "#bd3786"
             ],
             [
              0.5555555555555556,
              "#d8576b"
             ],
             [
              0.6666666666666666,
              "#ed7953"
             ],
             [
              0.7777777777777778,
              "#fb9f3a"
             ],
             [
              0.8888888888888888,
              "#fdca26"
             ],
             [
              1,
              "#f0f921"
             ]
            ],
            "type": "histogram2dcontour"
           }
          ],
          "mesh3d": [
           {
            "colorbar": {
             "outlinewidth": 0,
             "ticks": ""
            },
            "type": "mesh3d"
           }
          ],
          "parcoords": [
           {
            "line": {
             "colorbar": {
              "outlinewidth": 0,
              "ticks": ""
             }
            },
            "type": "parcoords"
           }
          ],
          "pie": [
           {
            "automargin": true,
            "type": "pie"
           }
          ],
          "scatter": [
           {
            "marker": {
             "colorbar": {
              "outlinewidth": 0,
              "ticks": ""
             }
            },
            "type": "scatter"
           }
          ],
          "scatter3d": [
           {
            "line": {
             "colorbar": {
              "outlinewidth": 0,
              "ticks": ""
             }
            },
            "marker": {
             "colorbar": {
              "outlinewidth": 0,
              "ticks": ""
             }
            },
            "type": "scatter3d"
           }
          ],
          "scattercarpet": [
           {
            "marker": {
             "colorbar": {
              "outlinewidth": 0,
              "ticks": ""
             }
            },
            "type": "scattercarpet"
           }
          ],
          "scattergeo": [
           {
            "marker": {
             "colorbar": {
              "outlinewidth": 0,
              "ticks": ""
             }
            },
            "type": "scattergeo"
           }
          ],
          "scattergl": [
           {
            "marker": {
             "colorbar": {
              "outlinewidth": 0,
              "ticks": ""
             }
            },
            "type": "scattergl"
           }
          ],
          "scattermapbox": [
           {
            "marker": {
             "colorbar": {
              "outlinewidth": 0,
              "ticks": ""
             }
            },
            "type": "scattermapbox"
           }
          ],
          "scatterpolar": [
           {
            "marker": {
             "colorbar": {
              "outlinewidth": 0,
              "ticks": ""
             }
            },
            "type": "scatterpolar"
           }
          ],
          "scatterpolargl": [
           {
            "marker": {
             "colorbar": {
              "outlinewidth": 0,
              "ticks": ""
             }
            },
            "type": "scatterpolargl"
           }
          ],
          "scatterternary": [
           {
            "marker": {
             "colorbar": {
              "outlinewidth": 0,
              "ticks": ""
             }
            },
            "type": "scatterternary"
           }
          ],
          "surface": [
           {
            "colorbar": {
             "outlinewidth": 0,
             "ticks": ""
            },
            "colorscale": [
             [
              0,
              "#0d0887"
             ],
             [
              0.1111111111111111,
              "#46039f"
             ],
             [
              0.2222222222222222,
              "#7201a8"
             ],
             [
              0.3333333333333333,
              "#9c179e"
             ],
             [
              0.4444444444444444,
              "#bd3786"
             ],
             [
              0.5555555555555556,
              "#d8576b"
             ],
             [
              0.6666666666666666,
              "#ed7953"
             ],
             [
              0.7777777777777778,
              "#fb9f3a"
             ],
             [
              0.8888888888888888,
              "#fdca26"
             ],
             [
              1,
              "#f0f921"
             ]
            ],
            "type": "surface"
           }
          ],
          "table": [
           {
            "cells": {
             "fill": {
              "color": "#EBF0F8"
             },
             "line": {
              "color": "white"
             }
            },
            "header": {
             "fill": {
              "color": "#C8D4E3"
             },
             "line": {
              "color": "white"
             }
            },
            "type": "table"
           }
          ]
         },
         "layout": {
          "annotationdefaults": {
           "arrowcolor": "#2a3f5f",
           "arrowhead": 0,
           "arrowwidth": 1
          },
          "coloraxis": {
           "colorbar": {
            "outlinewidth": 0,
            "ticks": ""
           }
          },
          "colorscale": {
           "diverging": [
            [
             0,
             "#8e0152"
            ],
            [
             0.1,
             "#c51b7d"
            ],
            [
             0.2,
             "#de77ae"
            ],
            [
             0.3,
             "#f1b6da"
            ],
            [
             0.4,
             "#fde0ef"
            ],
            [
             0.5,
             "#f7f7f7"
            ],
            [
             0.6,
             "#e6f5d0"
            ],
            [
             0.7,
             "#b8e186"
            ],
            [
             0.8,
             "#7fbc41"
            ],
            [
             0.9,
             "#4d9221"
            ],
            [
             1,
             "#276419"
            ]
           ],
           "sequential": [
            [
             0,
             "#0d0887"
            ],
            [
             0.1111111111111111,
             "#46039f"
            ],
            [
             0.2222222222222222,
             "#7201a8"
            ],
            [
             0.3333333333333333,
             "#9c179e"
            ],
            [
             0.4444444444444444,
             "#bd3786"
            ],
            [
             0.5555555555555556,
             "#d8576b"
            ],
            [
             0.6666666666666666,
             "#ed7953"
            ],
            [
             0.7777777777777778,
             "#fb9f3a"
            ],
            [
             0.8888888888888888,
             "#fdca26"
            ],
            [
             1,
             "#f0f921"
            ]
           ],
           "sequentialminus": [
            [
             0,
             "#0d0887"
            ],
            [
             0.1111111111111111,
             "#46039f"
            ],
            [
             0.2222222222222222,
             "#7201a8"
            ],
            [
             0.3333333333333333,
             "#9c179e"
            ],
            [
             0.4444444444444444,
             "#bd3786"
            ],
            [
             0.5555555555555556,
             "#d8576b"
            ],
            [
             0.6666666666666666,
             "#ed7953"
            ],
            [
             0.7777777777777778,
             "#fb9f3a"
            ],
            [
             0.8888888888888888,
             "#fdca26"
            ],
            [
             1,
             "#f0f921"
            ]
           ]
          },
          "colorway": [
           "#636efa",
           "#EF553B",
           "#00cc96",
           "#ab63fa",
           "#FFA15A",
           "#19d3f3",
           "#FF6692",
           "#B6E880",
           "#FF97FF",
           "#FECB52"
          ],
          "font": {
           "color": "#2a3f5f"
          },
          "geo": {
           "bgcolor": "white",
           "lakecolor": "white",
           "landcolor": "#E5ECF6",
           "showlakes": true,
           "showland": true,
           "subunitcolor": "white"
          },
          "hoverlabel": {
           "align": "left"
          },
          "hovermode": "closest",
          "mapbox": {
           "style": "light"
          },
          "paper_bgcolor": "white",
          "plot_bgcolor": "#E5ECF6",
          "polar": {
           "angularaxis": {
            "gridcolor": "white",
            "linecolor": "white",
            "ticks": ""
           },
           "bgcolor": "#E5ECF6",
           "radialaxis": {
            "gridcolor": "white",
            "linecolor": "white",
            "ticks": ""
           }
          },
          "scene": {
           "xaxis": {
            "backgroundcolor": "#E5ECF6",
            "gridcolor": "white",
            "gridwidth": 2,
            "linecolor": "white",
            "showbackground": true,
            "ticks": "",
            "zerolinecolor": "white"
           },
           "yaxis": {
            "backgroundcolor": "#E5ECF6",
            "gridcolor": "white",
            "gridwidth": 2,
            "linecolor": "white",
            "showbackground": true,
            "ticks": "",
            "zerolinecolor": "white"
           },
           "zaxis": {
            "backgroundcolor": "#E5ECF6",
            "gridcolor": "white",
            "gridwidth": 2,
            "linecolor": "white",
            "showbackground": true,
            "ticks": "",
            "zerolinecolor": "white"
           }
          },
          "shapedefaults": {
           "line": {
            "color": "#2a3f5f"
           }
          },
          "ternary": {
           "aaxis": {
            "gridcolor": "white",
            "linecolor": "white",
            "ticks": ""
           },
           "baxis": {
            "gridcolor": "white",
            "linecolor": "white",
            "ticks": ""
           },
           "bgcolor": "#E5ECF6",
           "caxis": {
            "gridcolor": "white",
            "linecolor": "white",
            "ticks": ""
           }
          },
          "title": {
           "x": 0.05
          },
          "xaxis": {
           "automargin": true,
           "gridcolor": "white",
           "linecolor": "white",
           "ticks": "",
           "title": {
            "standoff": 15
           },
           "zerolinecolor": "white",
           "zerolinewidth": 2
          },
          "yaxis": {
           "automargin": true,
           "gridcolor": "white",
           "linecolor": "white",
           "ticks": "",
           "title": {
            "standoff": 15
           },
           "zerolinecolor": "white",
           "zerolinewidth": 2
          }
         }
        },
        "title": {
         "text": "Répartition des clients en fonction de leur antécédent"
        },
        "xaxis": {
         "anchor": "y",
         "domain": [
          0,
          1
         ],
         "title": {
          "text": "CreditHistory"
         }
        },
        "yaxis": {
         "anchor": "x",
         "domain": [
          0,
          1
         ],
         "title": {
          "text": "count"
         }
        }
       }
      },
      "text/html": [
       "<div>\n",
       "        \n",
       "        \n",
       "            <div id=\"48274dbc-5cf9-406f-8c19-3e78803fa6eb\" class=\"plotly-graph-div\" style=\"height:525px; width:100%;\"></div>\n",
       "            <script type=\"text/javascript\">\n",
       "                require([\"plotly\"], function(Plotly) {\n",
       "                    window.PLOTLYENV=window.PLOTLYENV || {};\n",
       "                    \n",
       "                if (document.getElementById(\"48274dbc-5cf9-406f-8c19-3e78803fa6eb\")) {\n",
       "                    Plotly.newPlot(\n",
       "                        '48274dbc-5cf9-406f-8c19-3e78803fa6eb',\n",
       "                        [{\"alignmentgroup\": \"True\", \"bingroup\": \"x\", \"hovertemplate\": \"Class=1<br>CreditHistory=%{x}<br>count=%{y}<extra></extra>\", \"legendgroup\": \"1\", \"marker\": {\"color\": \"#636efa\"}, \"name\": \"1\", \"offsetgroup\": \"1\", \"orientation\": \"v\", \"showlegend\": true, \"type\": \"histogram\", \"x\": [\"A34\", \"A34\", \"A32\", \"A32\", \"A32\", \"A32\", \"A32\", \"A32\", \"A32\", \"A34\", \"A30\", \"A32\", \"A34\", \"A32\", \"A34\", \"A34\", \"A34\", \"A32\", \"A30\", \"A31\", \"A32\", \"A32\", \"A32\", \"A32\", \"A34\", \"A32\", \"A34\", \"A32\", \"A32\", \"A32\", \"A32\", \"A33\", \"A34\", \"A34\", \"A32\", \"A32\", \"A34\", \"A32\", \"A33\", \"A33\", \"A32\", \"A32\", \"A31\", \"A34\", \"A32\", \"A32\", \"A34\", \"A32\", \"A32\", \"A32\", \"A32\", \"A32\", \"A32\", \"A34\", \"A34\", \"A34\", \"A34\", \"A33\", \"A30\", \"A32\", \"A32\", \"A32\", \"A32\", \"A32\", \"A34\", \"A34\", \"A32\", \"A34\", \"A34\", \"A34\", \"A32\", \"A34\", \"A32\", \"A34\", \"A33\", \"A32\", \"A32\", \"A33\", \"A34\", \"A32\", \"A32\", \"A32\", \"A32\", \"A33\", \"A32\", \"A32\", \"A32\", \"A34\", \"A34\", \"A34\", \"A34\", \"A32\", \"A34\", \"A34\", \"A32\", \"A34\", \"A32\", \"A32\", \"A32\", \"A32\", \"A34\", \"A33\", \"A34\", \"A32\", \"A32\", \"A32\", \"A32\", \"A34\", \"A31\", \"A34\", \"A34\", \"A34\", \"A34\", \"A32\", \"A32\", \"A32\", \"A34\", \"A33\", \"A34\", \"A31\", \"A32\", \"A34\", \"A34\", \"A34\", \"A32\", \"A32\", \"A32\", \"A32\", \"A32\", \"A32\", \"A32\", \"A32\", \"A32\", \"A34\", \"A32\", \"A34\", \"A34\", \"A34\", \"A34\", \"A30\", \"A32\", \"A34\", \"A32\", \"A34\", \"A32\", \"A33\", \"A34\", \"A34\", \"A34\", \"A34\", \"A32\", \"A32\", \"A34\", \"A32\", \"A34\", \"A34\", \"A30\", \"A32\", \"A32\", \"A32\", \"A32\", \"A32\", \"A32\", \"A33\", \"A32\", \"A30\", \"A32\", \"A32\", \"A32\", \"A32\", \"A34\", \"A34\", \"A32\", \"A32\", \"A34\", \"A31\", \"A32\", \"A34\", \"A30\", \"A32\", \"A34\", \"A32\", \"A33\", \"A32\", \"A33\", \"A34\", \"A32\", \"A34\", \"A32\", \"A32\", \"A34\", \"A34\", \"A34\", \"A34\", \"A32\", \"A32\", \"A32\", \"A34\", \"A31\", \"A32\", \"A34\", \"A32\", \"A32\", \"A34\", \"A32\", \"A31\", \"A34\", \"A34\", \"A32\", \"A32\", \"A33\", \"A32\", \"A32\", \"A34\", \"A34\", \"A34\", \"A32\", \"A32\", \"A32\", \"A34\", \"A32\", \"A34\", \"A32\", \"A32\", \"A32\", \"A32\", \"A32\", \"A32\", \"A32\", \"A32\", \"A32\", \"A34\", \"A33\", \"A32\", \"A32\", \"A34\", \"A34\", \"A34\", \"A32\", \"A32\", \"A32\", \"A34\", \"A32\", \"A32\", \"A32\", \"A34\", \"A32\", \"A32\", \"A32\", \"A32\", \"A34\", \"A34\", \"A32\", \"A33\", \"A32\", \"A34\", \"A32\", \"A34\", \"A32\", \"A32\", \"A32\", \"A33\", \"A32\", \"A32\", \"A34\", \"A32\", \"A32\", \"A32\", \"A34\", \"A34\", \"A34\", \"A33\", \"A33\", \"A34\", \"A32\", \"A32\", \"A32\", \"A33\", \"A34\", \"A32\", \"A34\", \"A34\", \"A32\", \"A32\", \"A32\", \"A32\", \"A34\", \"A34\", \"A33\", \"A32\", \"A34\", \"A34\", \"A32\", \"A34\", \"A33\", \"A33\", \"A34\", \"A32\", \"A32\", \"A32\", \"A34\", \"A32\", \"A34\", \"A33\", \"A32\", \"A32\", \"A32\", \"A34\", \"A33\", \"A32\", \"A34\", \"A34\", \"A32\", \"A32\", \"A34\", \"A34\", \"A32\", \"A32\", \"A34\", \"A34\", \"A32\", \"A32\", \"A33\", \"A34\", \"A32\", \"A32\", \"A34\", \"A32\", \"A30\", \"A32\", \"A32\", \"A34\", \"A32\", \"A32\", \"A32\", \"A32\", \"A32\", \"A32\", \"A32\", \"A32\", \"A33\", \"A33\", \"A33\", \"A32\", \"A32\", \"A32\", \"A32\", \"A34\", \"A34\", \"A32\", \"A32\", \"A33\", \"A34\", \"A32\", \"A32\", \"A32\", \"A32\", \"A34\", \"A34\", \"A32\", \"A34\", \"A34\", \"A32\", \"A34\", \"A32\", \"A32\", \"A34\", \"A32\", \"A32\", \"A32\", \"A32\", \"A33\", \"A32\", \"A34\", \"A34\", \"A32\", \"A34\", \"A34\", \"A32\", \"A32\", \"A32\", \"A34\", \"A34\", \"A32\", \"A32\", \"A33\", \"A32\", \"A32\", \"A32\", \"A34\", \"A32\", \"A33\", \"A34\", \"A34\", \"A32\", \"A34\", \"A34\", \"A31\", \"A34\", \"A32\", \"A32\", \"A33\", \"A33\", \"A33\", \"A34\", \"A32\", \"A34\", \"A32\", \"A32\", \"A32\", \"A34\", \"A32\", \"A34\", \"A32\", \"A34\", \"A32\", \"A32\", \"A34\", \"A32\", \"A34\", \"A33\", \"A32\", \"A33\", \"A32\", \"A32\", \"A31\", \"A34\", \"A32\", \"A32\", \"A32\", \"A31\", \"A30\", \"A33\", \"A34\", \"A32\", \"A34\", \"A32\", \"A32\", \"A32\", \"A34\", \"A32\", \"A32\", \"A32\", \"A32\", \"A32\", \"A33\", \"A32\", \"A32\", \"A34\", \"A34\", \"A30\", \"A32\", \"A34\", \"A32\", \"A32\", \"A30\", \"A34\", \"A32\", \"A32\", \"A33\", \"A34\", \"A34\", \"A31\", \"A31\", \"A34\", \"A34\", \"A32\", \"A32\", \"A34\", \"A34\", \"A34\", \"A32\", \"A32\", \"A32\", \"A32\", \"A33\", \"A34\", \"A33\", \"A32\", \"A34\", \"A33\", \"A32\", \"A32\", \"A34\", \"A32\", \"A32\", \"A34\", \"A32\", \"A32\", \"A32\", \"A34\", \"A34\", \"A32\", \"A32\", \"A33\", \"A32\", \"A32\", \"A32\", \"A32\", \"A34\", \"A32\", \"A34\", \"A34\", \"A34\", \"A32\", \"A34\", \"A30\", \"A32\", \"A34\", \"A34\", \"A34\", \"A33\", \"A32\", \"A32\", \"A34\", \"A31\", \"A32\", \"A34\", \"A31\", \"A31\", \"A32\", \"A31\", \"A34\", \"A34\", \"A32\", \"A32\", \"A32\", \"A32\", \"A32\", \"A34\", \"A34\", \"A32\", \"A34\", \"A32\", \"A34\", \"A32\", \"A32\", \"A34\", \"A34\", \"A32\", \"A34\", \"A34\", \"A34\", \"A34\", \"A32\", \"A34\", \"A32\", \"A34\", \"A30\", \"A32\", \"A32\", \"A32\", \"A34\", \"A32\", \"A34\", \"A32\", \"A32\", \"A32\", \"A34\", \"A33\", \"A32\", \"A34\", \"A34\", \"A34\", \"A34\", \"A32\", \"A32\", \"A34\", \"A31\", \"A32\", \"A32\", \"A33\", \"A32\", \"A34\", \"A32\", \"A32\", \"A32\", \"A34\", \"A34\", \"A34\", \"A33\", \"A33\", \"A32\", \"A32\", \"A32\", \"A34\", \"A34\", \"A33\", \"A31\", \"A32\", \"A32\", \"A32\", \"A32\", \"A34\", \"A34\", \"A33\", \"A32\", \"A32\", \"A34\", \"A32\", \"A34\", \"A34\", \"A32\", \"A32\", \"A34\", \"A32\", \"A32\", \"A33\", \"A34\", \"A34\", \"A32\", \"A32\", \"A34\", \"A31\", \"A32\", \"A34\", \"A32\", \"A32\", \"A34\", \"A34\", \"A34\", \"A34\", \"A31\", \"A34\", \"A34\", \"A34\", \"A34\", \"A34\", \"A33\", \"A32\", \"A34\", \"A32\", \"A34\", \"A34\", \"A32\", \"A32\", \"A32\", \"A32\", \"A32\", \"A33\", \"A32\", \"A33\", \"A32\", \"A32\", \"A32\", \"A34\", \"A33\", \"A32\", \"A34\", \"A32\", \"A33\", \"A32\", \"A34\", \"A34\", \"A32\", \"A32\", \"A34\", \"A32\", \"A32\", \"A32\", \"A34\", \"A32\", \"A30\", \"A32\", \"A34\", \"A32\", \"A34\", \"A34\", \"A34\", \"A32\", \"A34\", \"A33\", \"A32\", \"A32\", \"A32\", \"A32\", \"A32\", \"A34\", \"A32\", \"A32\", \"A34\", \"A32\", \"A32\", \"A33\", \"A32\", \"A34\", \"A34\", \"A30\", \"A32\", \"A32\", \"A34\", \"A34\", \"A31\", \"A32\", \"A32\", \"A32\", \"A32\", \"A32\", \"A32\", \"A34\"], \"xaxis\": \"x\", \"yaxis\": \"y\"}, {\"alignmentgroup\": \"True\", \"bingroup\": \"x\", \"hovertemplate\": \"Class=2<br>CreditHistory=%{x}<br>count=%{y}<extra></extra>\", \"legendgroup\": \"2\", \"marker\": {\"color\": \"#EF553B\"}, \"name\": \"2\", \"offsetgroup\": \"2\", \"orientation\": \"v\", \"showlegend\": true, \"type\": \"histogram\", \"x\": [\"A32\", \"A33\", \"A34\", \"A32\", \"A32\", \"A34\", \"A32\", \"A32\", \"A33\", \"A34\", \"A32\", \"A34\", \"A33\", \"A32\", \"A34\", \"A30\", \"A30\", \"A32\", \"A32\", \"A32\", \"A32\", \"A32\", \"A30\", \"A34\", \"A30\", \"A34\", \"A31\", \"A34\", \"A32\", \"A34\", \"A32\", \"A32\", \"A32\", \"A34\", \"A33\", \"A32\", \"A32\", \"A32\", \"A32\", \"A34\", \"A30\", \"A33\", \"A33\", \"A31\", \"A33\", \"A33\", \"A31\", \"A34\", \"A31\", \"A32\", \"A32\", \"A30\", \"A32\", \"A32\", \"A34\", \"A32\", \"A33\", \"A32\", \"A30\", \"A33\", \"A32\", \"A32\", \"A32\", \"A32\", \"A32\", \"A32\", \"A32\", \"A32\", \"A30\", \"A32\", \"A32\", \"A31\", \"A32\", \"A32\", \"A32\", \"A32\", \"A32\", \"A33\", \"A32\", \"A32\", \"A30\", \"A34\", \"A34\", \"A32\", \"A32\", \"A32\", \"A31\", \"A34\", \"A32\", \"A34\", \"A32\", \"A34\", \"A30\", \"A34\", \"A32\", \"A34\", \"A32\", \"A30\", \"A32\", \"A33\", \"A32\", \"A32\", \"A32\", \"A31\", \"A31\", \"A32\", \"A32\", \"A32\", \"A33\", \"A32\", \"A34\", \"A34\", \"A32\", \"A32\", \"A32\", \"A32\", \"A34\", \"A32\", \"A32\", \"A31\", \"A32\", \"A34\", \"A32\", \"A33\", \"A32\", \"A32\", \"A33\", \"A32\", \"A32\", \"A32\", \"A34\", \"A30\", \"A33\", \"A30\", \"A32\", \"A32\", \"A32\", \"A34\", \"A32\", \"A32\", \"A31\", \"A32\", \"A34\", \"A32\", \"A30\", \"A32\", \"A32\", \"A34\", \"A32\", \"A32\", \"A32\", \"A32\", \"A33\", \"A31\", \"A32\", \"A32\", \"A30\", \"A30\", \"A31\", \"A34\", \"A31\", \"A32\", \"A32\", \"A32\", \"A32\", \"A34\", \"A34\", \"A32\", \"A32\", \"A32\", \"A34\", \"A32\", \"A31\", \"A31\", \"A32\", \"A30\", \"A34\", \"A32\", \"A31\", \"A32\", \"A32\", \"A32\", \"A32\", \"A33\", \"A32\", \"A34\", \"A32\", \"A32\", \"A31\", \"A31\", \"A32\", \"A32\", \"A33\", \"A32\", \"A32\", \"A33\", \"A32\", \"A32\", \"A32\", \"A32\", \"A32\", \"A33\", \"A32\", \"A32\", \"A34\", \"A33\", \"A32\", \"A32\", \"A34\", \"A32\", \"A30\", \"A31\", \"A32\", \"A30\", \"A31\", \"A32\", \"A32\", \"A32\", \"A31\", \"A32\", \"A32\", \"A30\", \"A32\", \"A32\", \"A33\", \"A32\", \"A34\", \"A34\", \"A34\", \"A34\", \"A32\", \"A34\", \"A32\", \"A34\", \"A32\", \"A33\", \"A34\", \"A32\", \"A32\", \"A32\", \"A30\", \"A34\", \"A32\", \"A32\", \"A32\", \"A32\", \"A34\", \"A30\", \"A32\", \"A32\", \"A30\", \"A32\", \"A30\", \"A32\", \"A32\", \"A32\", \"A32\", \"A34\", \"A31\", \"A32\", \"A33\", \"A32\", \"A32\", \"A32\", \"A32\", \"A32\", \"A32\", \"A32\", \"A34\", \"A34\", \"A31\", \"A30\", \"A32\", \"A32\", \"A32\", \"A32\", \"A31\", \"A31\", \"A32\", \"A32\", \"A33\", \"A32\", \"A32\", \"A31\", \"A32\", \"A32\", \"A33\", \"A32\", \"A32\", \"A32\", \"A32\", \"A34\", \"A31\", \"A32\", \"A33\", \"A31\", \"A34\", \"A32\", \"A32\", \"A32\"], \"xaxis\": \"x\", \"yaxis\": \"y\"}],\n",
       "                        {\"barmode\": \"group\", \"legend\": {\"title\": {\"text\": \"Class\"}, \"tracegroupgap\": 0}, \"template\": {\"data\": {\"bar\": [{\"error_x\": {\"color\": \"#2a3f5f\"}, \"error_y\": {\"color\": \"#2a3f5f\"}, \"marker\": {\"line\": {\"color\": \"#E5ECF6\", \"width\": 0.5}}, \"type\": \"bar\"}], \"barpolar\": [{\"marker\": {\"line\": {\"color\": \"#E5ECF6\", \"width\": 0.5}}, \"type\": \"barpolar\"}], \"carpet\": [{\"aaxis\": {\"endlinecolor\": \"#2a3f5f\", \"gridcolor\": \"white\", \"linecolor\": \"white\", \"minorgridcolor\": \"white\", \"startlinecolor\": \"#2a3f5f\"}, \"baxis\": {\"endlinecolor\": \"#2a3f5f\", \"gridcolor\": \"white\", \"linecolor\": \"white\", \"minorgridcolor\": \"white\", \"startlinecolor\": \"#2a3f5f\"}, \"type\": \"carpet\"}], \"choropleth\": [{\"colorbar\": {\"outlinewidth\": 0, \"ticks\": \"\"}, \"type\": \"choropleth\"}], \"contour\": [{\"colorbar\": {\"outlinewidth\": 0, \"ticks\": \"\"}, \"colorscale\": [[0.0, \"#0d0887\"], [0.1111111111111111, \"#46039f\"], [0.2222222222222222, \"#7201a8\"], [0.3333333333333333, \"#9c179e\"], [0.4444444444444444, \"#bd3786\"], [0.5555555555555556, \"#d8576b\"], [0.6666666666666666, \"#ed7953\"], [0.7777777777777778, \"#fb9f3a\"], [0.8888888888888888, \"#fdca26\"], [1.0, \"#f0f921\"]], \"type\": \"contour\"}], \"contourcarpet\": [{\"colorbar\": {\"outlinewidth\": 0, \"ticks\": \"\"}, \"type\": \"contourcarpet\"}], \"heatmap\": [{\"colorbar\": {\"outlinewidth\": 0, \"ticks\": \"\"}, \"colorscale\": [[0.0, \"#0d0887\"], [0.1111111111111111, \"#46039f\"], [0.2222222222222222, \"#7201a8\"], [0.3333333333333333, \"#9c179e\"], [0.4444444444444444, \"#bd3786\"], [0.5555555555555556, \"#d8576b\"], [0.6666666666666666, \"#ed7953\"], [0.7777777777777778, \"#fb9f3a\"], [0.8888888888888888, \"#fdca26\"], [1.0, \"#f0f921\"]], \"type\": \"heatmap\"}], \"heatmapgl\": [{\"colorbar\": {\"outlinewidth\": 0, \"ticks\": \"\"}, \"colorscale\": [[0.0, \"#0d0887\"], [0.1111111111111111, \"#46039f\"], [0.2222222222222222, \"#7201a8\"], [0.3333333333333333, \"#9c179e\"], [0.4444444444444444, \"#bd3786\"], [0.5555555555555556, \"#d8576b\"], [0.6666666666666666, \"#ed7953\"], [0.7777777777777778, \"#fb9f3a\"], [0.8888888888888888, \"#fdca26\"], [1.0, \"#f0f921\"]], \"type\": \"heatmapgl\"}], \"histogram\": [{\"marker\": {\"colorbar\": {\"outlinewidth\": 0, \"ticks\": \"\"}}, \"type\": \"histogram\"}], \"histogram2d\": [{\"colorbar\": {\"outlinewidth\": 0, \"ticks\": \"\"}, \"colorscale\": [[0.0, \"#0d0887\"], [0.1111111111111111, \"#46039f\"], [0.2222222222222222, \"#7201a8\"], [0.3333333333333333, \"#9c179e\"], [0.4444444444444444, \"#bd3786\"], [0.5555555555555556, \"#d8576b\"], [0.6666666666666666, \"#ed7953\"], [0.7777777777777778, \"#fb9f3a\"], [0.8888888888888888, \"#fdca26\"], [1.0, \"#f0f921\"]], \"type\": \"histogram2d\"}], \"histogram2dcontour\": [{\"colorbar\": {\"outlinewidth\": 0, \"ticks\": \"\"}, \"colorscale\": [[0.0, \"#0d0887\"], [0.1111111111111111, \"#46039f\"], [0.2222222222222222, \"#7201a8\"], [0.3333333333333333, \"#9c179e\"], [0.4444444444444444, \"#bd3786\"], [0.5555555555555556, \"#d8576b\"], [0.6666666666666666, \"#ed7953\"], [0.7777777777777778, \"#fb9f3a\"], [0.8888888888888888, \"#fdca26\"], [1.0, \"#f0f921\"]], \"type\": \"histogram2dcontour\"}], \"mesh3d\": [{\"colorbar\": {\"outlinewidth\": 0, \"ticks\": \"\"}, \"type\": \"mesh3d\"}], \"parcoords\": [{\"line\": {\"colorbar\": {\"outlinewidth\": 0, \"ticks\": \"\"}}, \"type\": \"parcoords\"}], \"pie\": [{\"automargin\": true, \"type\": \"pie\"}], \"scatter\": [{\"marker\": {\"colorbar\": {\"outlinewidth\": 0, \"ticks\": \"\"}}, \"type\": \"scatter\"}], \"scatter3d\": [{\"line\": {\"colorbar\": {\"outlinewidth\": 0, \"ticks\": \"\"}}, \"marker\": {\"colorbar\": {\"outlinewidth\": 0, \"ticks\": \"\"}}, \"type\": \"scatter3d\"}], \"scattercarpet\": [{\"marker\": {\"colorbar\": {\"outlinewidth\": 0, \"ticks\": \"\"}}, \"type\": \"scattercarpet\"}], \"scattergeo\": [{\"marker\": {\"colorbar\": {\"outlinewidth\": 0, \"ticks\": \"\"}}, \"type\": \"scattergeo\"}], \"scattergl\": [{\"marker\": {\"colorbar\": {\"outlinewidth\": 0, \"ticks\": \"\"}}, \"type\": \"scattergl\"}], \"scattermapbox\": [{\"marker\": {\"colorbar\": {\"outlinewidth\": 0, \"ticks\": \"\"}}, \"type\": \"scattermapbox\"}], \"scatterpolar\": [{\"marker\": {\"colorbar\": {\"outlinewidth\": 0, \"ticks\": \"\"}}, \"type\": \"scatterpolar\"}], \"scatterpolargl\": [{\"marker\": {\"colorbar\": {\"outlinewidth\": 0, \"ticks\": \"\"}}, \"type\": \"scatterpolargl\"}], \"scatterternary\": [{\"marker\": {\"colorbar\": {\"outlinewidth\": 0, \"ticks\": \"\"}}, \"type\": \"scatterternary\"}], \"surface\": [{\"colorbar\": {\"outlinewidth\": 0, \"ticks\": \"\"}, \"colorscale\": [[0.0, \"#0d0887\"], [0.1111111111111111, \"#46039f\"], [0.2222222222222222, \"#7201a8\"], [0.3333333333333333, \"#9c179e\"], [0.4444444444444444, \"#bd3786\"], [0.5555555555555556, \"#d8576b\"], [0.6666666666666666, \"#ed7953\"], [0.7777777777777778, \"#fb9f3a\"], [0.8888888888888888, \"#fdca26\"], [1.0, \"#f0f921\"]], \"type\": \"surface\"}], \"table\": [{\"cells\": {\"fill\": {\"color\": \"#EBF0F8\"}, \"line\": {\"color\": \"white\"}}, \"header\": {\"fill\": {\"color\": \"#C8D4E3\"}, \"line\": {\"color\": \"white\"}}, \"type\": \"table\"}]}, \"layout\": {\"annotationdefaults\": {\"arrowcolor\": \"#2a3f5f\", \"arrowhead\": 0, \"arrowwidth\": 1}, \"coloraxis\": {\"colorbar\": {\"outlinewidth\": 0, \"ticks\": \"\"}}, \"colorscale\": {\"diverging\": [[0, \"#8e0152\"], [0.1, \"#c51b7d\"], [0.2, \"#de77ae\"], [0.3, \"#f1b6da\"], [0.4, \"#fde0ef\"], [0.5, \"#f7f7f7\"], [0.6, \"#e6f5d0\"], [0.7, \"#b8e186\"], [0.8, \"#7fbc41\"], [0.9, \"#4d9221\"], [1, \"#276419\"]], \"sequential\": [[0.0, \"#0d0887\"], [0.1111111111111111, \"#46039f\"], [0.2222222222222222, \"#7201a8\"], [0.3333333333333333, \"#9c179e\"], [0.4444444444444444, \"#bd3786\"], [0.5555555555555556, \"#d8576b\"], [0.6666666666666666, \"#ed7953\"], [0.7777777777777778, \"#fb9f3a\"], [0.8888888888888888, \"#fdca26\"], [1.0, \"#f0f921\"]], \"sequentialminus\": [[0.0, \"#0d0887\"], [0.1111111111111111, \"#46039f\"], [0.2222222222222222, \"#7201a8\"], [0.3333333333333333, \"#9c179e\"], [0.4444444444444444, \"#bd3786\"], [0.5555555555555556, \"#d8576b\"], [0.6666666666666666, \"#ed7953\"], [0.7777777777777778, \"#fb9f3a\"], [0.8888888888888888, \"#fdca26\"], [1.0, \"#f0f921\"]]}, \"colorway\": [\"#636efa\", \"#EF553B\", \"#00cc96\", \"#ab63fa\", \"#FFA15A\", \"#19d3f3\", \"#FF6692\", \"#B6E880\", \"#FF97FF\", \"#FECB52\"], \"font\": {\"color\": \"#2a3f5f\"}, \"geo\": {\"bgcolor\": \"white\", \"lakecolor\": \"white\", \"landcolor\": \"#E5ECF6\", \"showlakes\": true, \"showland\": true, \"subunitcolor\": \"white\"}, \"hoverlabel\": {\"align\": \"left\"}, \"hovermode\": \"closest\", \"mapbox\": {\"style\": \"light\"}, \"paper_bgcolor\": \"white\", \"plot_bgcolor\": \"#E5ECF6\", \"polar\": {\"angularaxis\": {\"gridcolor\": \"white\", \"linecolor\": \"white\", \"ticks\": \"\"}, \"bgcolor\": \"#E5ECF6\", \"radialaxis\": {\"gridcolor\": \"white\", \"linecolor\": \"white\", \"ticks\": \"\"}}, \"scene\": {\"xaxis\": {\"backgroundcolor\": \"#E5ECF6\", \"gridcolor\": \"white\", \"gridwidth\": 2, \"linecolor\": \"white\", \"showbackground\": true, \"ticks\": \"\", \"zerolinecolor\": \"white\"}, \"yaxis\": {\"backgroundcolor\": \"#E5ECF6\", \"gridcolor\": \"white\", \"gridwidth\": 2, \"linecolor\": \"white\", \"showbackground\": true, \"ticks\": \"\", \"zerolinecolor\": \"white\"}, \"zaxis\": {\"backgroundcolor\": \"#E5ECF6\", \"gridcolor\": \"white\", \"gridwidth\": 2, \"linecolor\": \"white\", \"showbackground\": true, \"ticks\": \"\", \"zerolinecolor\": \"white\"}}, \"shapedefaults\": {\"line\": {\"color\": \"#2a3f5f\"}}, \"ternary\": {\"aaxis\": {\"gridcolor\": \"white\", \"linecolor\": \"white\", \"ticks\": \"\"}, \"baxis\": {\"gridcolor\": \"white\", \"linecolor\": \"white\", \"ticks\": \"\"}, \"bgcolor\": \"#E5ECF6\", \"caxis\": {\"gridcolor\": \"white\", \"linecolor\": \"white\", \"ticks\": \"\"}}, \"title\": {\"x\": 0.05}, \"xaxis\": {\"automargin\": true, \"gridcolor\": \"white\", \"linecolor\": \"white\", \"ticks\": \"\", \"title\": {\"standoff\": 15}, \"zerolinecolor\": \"white\", \"zerolinewidth\": 2}, \"yaxis\": {\"automargin\": true, \"gridcolor\": \"white\", \"linecolor\": \"white\", \"ticks\": \"\", \"title\": {\"standoff\": 15}, \"zerolinecolor\": \"white\", \"zerolinewidth\": 2}}}, \"title\": {\"text\": \"R\\u00e9partition des clients en fonction de leur ant\\u00e9c\\u00e9dent\"}, \"xaxis\": {\"anchor\": \"y\", \"domain\": [0.0, 1.0], \"title\": {\"text\": \"CreditHistory\"}}, \"yaxis\": {\"anchor\": \"x\", \"domain\": [0.0, 1.0], \"title\": {\"text\": \"count\"}}},\n",
       "                        {\"responsive\": true}\n",
       "                    ).then(function(){\n",
       "                            \n",
       "var gd = document.getElementById('48274dbc-5cf9-406f-8c19-3e78803fa6eb');\n",
       "var x = new MutationObserver(function (mutations, observer) {{\n",
       "        var display = window.getComputedStyle(gd).display;\n",
       "        if (!display || display === 'none') {{\n",
       "            console.log([gd, 'removed!']);\n",
       "            Plotly.purge(gd);\n",
       "            observer.disconnect();\n",
       "        }}\n",
       "}});\n",
       "\n",
       "// Listen for the removal of the full notebook cells\n",
       "var notebookContainer = gd.closest('#notebook-container');\n",
       "if (notebookContainer) {{\n",
       "    x.observe(notebookContainer, {childList: true});\n",
       "}}\n",
       "\n",
       "// Listen for the clearing of the current output cell\n",
       "var outputEl = gd.closest('.output');\n",
       "if (outputEl) {{\n",
       "    x.observe(outputEl, {childList: true});\n",
       "}}\n",
       "\n",
       "                        })\n",
       "                };\n",
       "                });\n",
       "            </script>\n",
       "        </div>"
      ]
     },
     "metadata": {},
     "output_type": "display_data"
    }
   ],
   "source": [
    "PX.histogram (data_frame = german\n",
    "             , x = \"CreditHistory\" \n",
    "             , color = 'Class'\n",
    "             , barmode = 'group' \n",
    "             , labels = {'count': 'Nombre de clients'} \n",
    "             , title = \"Répartition des clients en fonction de leur antécédent\" \n",
    "             , template = 'plotly' \n",
    "            )"
   ]
  },
  {
   "cell_type": "markdown",
   "metadata": {},
   "source": [
    "Cette analyse nous apprends que les personnes les plus appreciés à l'attribution de crédit sont ceux ayant un antécédent positif(crédit existant remboursé).'historique des crédits à une  influence sur l'obtention du crédit aux personnes."
   ]
  }
 ],
 "metadata": {
  "kernelspec": {
   "display_name": "Python 3",
   "language": "python",
   "name": "python3"
  },
  "language_info": {
   "codemirror_mode": {
    "name": "ipython",
    "version": 3
   },
   "file_extension": ".py",
   "mimetype": "text/x-python",
   "name": "python",
   "nbconvert_exporter": "python",
   "pygments_lexer": "ipython3",
   "version": "3.7.6"
  }
 },
 "nbformat": 4,
 "nbformat_minor": 4
}
